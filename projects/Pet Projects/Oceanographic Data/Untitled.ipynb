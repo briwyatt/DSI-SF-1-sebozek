{
 "cells": [
  {
   "cell_type": "code",
   "execution_count": 20,
   "metadata": {
    "collapsed": true
   },
   "outputs": [],
   "source": [
    "import pandas as pd\n",
    "import matplotlib as plt\n",
    "import seaborn as sns"
   ]
  },
  {
   "cell_type": "code",
   "execution_count": 21,
   "metadata": {
    "collapsed": true
   },
   "outputs": [],
   "source": [
    "#   Discrete samples of 13C fixation rates \n",
    "#   CMORE/BLOOMER \n",
    "#   Ocean Microbial Ecology Laboratory \n",
    "#   Ricardo Letelier\n",
    "#\n",
    "#   original file: White_KM0715_Summary.xls \n",
    "#   originally ingested into BCO-DMO: September 28, 2009 \n",
    "#   updated : Feb 11 2011 (ancillary columns added - data not changed) \n",
    "#   date updated: December 7, 2011 (format change only - data values unchanged)  "
   ]
  },
  {
   "cell_type": "code",
   "execution_count": 22,
   "metadata": {
    "collapsed": false
   },
   "outputs": [
    {
     "data": {
      "text/html": [
       "<div>\n",
       "<table border=\"1\" class=\"dataframe\">\n",
       "  <thead>\n",
       "    <tr style=\"text-align: right;\">\n",
       "      <th></th>\n",
       "      <th>date</th>\n",
       "      <th>lat</th>\n",
       "      <th>lon</th>\n",
       "      <th>sta</th>\n",
       "      <th>depth</th>\n",
       "      <th>C_fix</th>\n",
       "      <th>C_fix_stderr</th>\n",
       "      <th>C_fix_lt_10um</th>\n",
       "      <th>C_fix_lt_10um_stderr</th>\n",
       "      <th>C_fix_gt_10um</th>\n",
       "      <th>activity_and_comments</th>\n",
       "    </tr>\n",
       "  </thead>\n",
       "  <tbody>\n",
       "    <tr>\n",
       "      <th>0</th>\n",
       "      <td>20070812</td>\n",
       "      <td>23.841</td>\n",
       "      <td>-159.239</td>\n",
       "      <td>5</td>\n",
       "      <td>5</td>\n",
       "      <td>27.67</td>\n",
       "      <td>2.20</td>\n",
       "      <td>24.82</td>\n",
       "      <td>21.95</td>\n",
       "      <td>2.85</td>\n",
       "      <td>-9999.0</td>\n",
       "    </tr>\n",
       "    <tr>\n",
       "      <th>1</th>\n",
       "      <td>20070812</td>\n",
       "      <td>23.841</td>\n",
       "      <td>-159.239</td>\n",
       "      <td>5</td>\n",
       "      <td>25</td>\n",
       "      <td>39.64</td>\n",
       "      <td>26.18</td>\n",
       "      <td>38.88</td>\n",
       "      <td>9.16</td>\n",
       "      <td>0.76</td>\n",
       "      <td>-9999.0</td>\n",
       "    </tr>\n",
       "  </tbody>\n",
       "</table>\n",
       "</div>"
      ],
      "text/plain": [
       "       date     lat      lon  sta  depth  C_fix  C_fix_stderr  C_fix_lt_10um  \\\n",
       "0  20070812  23.841 -159.239    5      5  27.67          2.20          24.82   \n",
       "1  20070812  23.841 -159.239    5     25  39.64         26.18          38.88   \n",
       "\n",
       "   C_fix_lt_10um_stderr  C_fix_gt_10um activity_and_comments  \n",
       "0                 21.95           2.85               -9999.0  \n",
       "1                  9.16           0.76               -9999.0  "
      ]
     },
     "execution_count": 22,
     "metadata": {},
     "output_type": "execute_result"
    }
   ],
   "source": [
    "c13_fix = pd.read_csv('13C.txt')\n",
    "\n",
    "c13_fix.head(2)"
   ]
  },
  {
   "cell_type": "code",
   "execution_count": 23,
   "metadata": {
    "collapsed": false
   },
   "outputs": [],
   "source": [
    "c13_fix['date'] = pd.to_datetime(c13_fix['date'], format='%Y%m%d') # Set time to datetime"
   ]
  },
  {
   "cell_type": "code",
   "execution_count": 24,
   "metadata": {
    "collapsed": false
   },
   "outputs": [
    {
     "data": {
      "text/html": [
       "<div>\n",
       "<table border=\"1\" class=\"dataframe\">\n",
       "  <thead>\n",
       "    <tr style=\"text-align: right;\">\n",
       "      <th></th>\n",
       "      <th>date</th>\n",
       "      <th>lat</th>\n",
       "      <th>lon</th>\n",
       "      <th>sta</th>\n",
       "      <th>depth</th>\n",
       "      <th>C_fix</th>\n",
       "      <th>C_fix_stderr</th>\n",
       "      <th>C_fix_lt_10um</th>\n",
       "      <th>C_fix_lt_10um_stderr</th>\n",
       "      <th>C_fix_gt_10um</th>\n",
       "      <th>activity_and_comments</th>\n",
       "    </tr>\n",
       "  </thead>\n",
       "  <tbody>\n",
       "    <tr>\n",
       "      <th>0</th>\n",
       "      <td>2007-08-12</td>\n",
       "      <td>23.841</td>\n",
       "      <td>-159.239</td>\n",
       "      <td>5</td>\n",
       "      <td>5</td>\n",
       "      <td>27.67</td>\n",
       "      <td>2.20</td>\n",
       "      <td>24.82</td>\n",
       "      <td>21.95</td>\n",
       "      <td>2.85</td>\n",
       "      <td>-9999.0</td>\n",
       "    </tr>\n",
       "    <tr>\n",
       "      <th>1</th>\n",
       "      <td>2007-08-12</td>\n",
       "      <td>23.841</td>\n",
       "      <td>-159.239</td>\n",
       "      <td>5</td>\n",
       "      <td>25</td>\n",
       "      <td>39.64</td>\n",
       "      <td>26.18</td>\n",
       "      <td>38.88</td>\n",
       "      <td>9.16</td>\n",
       "      <td>0.76</td>\n",
       "      <td>-9999.0</td>\n",
       "    </tr>\n",
       "  </tbody>\n",
       "</table>\n",
       "</div>"
      ],
      "text/plain": [
       "        date     lat      lon  sta  depth  C_fix  C_fix_stderr  C_fix_lt_10um  \\\n",
       "0 2007-08-12  23.841 -159.239    5      5  27.67          2.20          24.82   \n",
       "1 2007-08-12  23.841 -159.239    5     25  39.64         26.18          38.88   \n",
       "\n",
       "   C_fix_lt_10um_stderr  C_fix_gt_10um activity_and_comments  \n",
       "0                 21.95           2.85               -9999.0  \n",
       "1                  9.16           0.76               -9999.0  "
      ]
     },
     "execution_count": 24,
     "metadata": {},
     "output_type": "execute_result"
    }
   ],
   "source": [
    "c13_fix.head(2)"
   ]
  },
  {
   "cell_type": "code",
   "execution_count": null,
   "metadata": {
    "collapsed": true
   },
   "outputs": [],
   "source": [
    "sns."
   ]
  },
  {
   "cell_type": "code",
   "execution_count": null,
   "metadata": {
    "collapsed": true
   },
   "outputs": [],
   "source": []
  }
 ],
 "metadata": {
  "kernelspec": {
   "display_name": "Python 2",
   "language": "python",
   "name": "python2"
  },
  "language_info": {
   "codemirror_mode": {
    "name": "ipython",
    "version": 2
   },
   "file_extension": ".py",
   "mimetype": "text/x-python",
   "name": "python",
   "nbconvert_exporter": "python",
   "pygments_lexer": "ipython2",
   "version": "2.7.11"
  }
 },
 "nbformat": 4,
 "nbformat_minor": 0
}
