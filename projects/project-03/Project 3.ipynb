{
 "cells": [
  {
   "cell_type": "markdown",
   "metadata": {},
   "source": [
    "# Project 3\n",
    "\n",
    "Contents\n",
    "\n",
    "1. [Problem Statement](#ProblemStatement)\n",
    "2. [Exploratory Data Analysis](#EDA)  \n",
    "    2.1 [Data Dictionary](#DataDict)  \n",
    "    2.2 [Correlation Heatmap](#coormap)  \n",
    "    2.3 [Quartile Range](#QRange)  \n",
    "    2.4 [Counties](#counties)\n",
    "3. [Modeling](#modeling)  \n",
    "    3.1 [sklearn Regression](#sklearnreg)\n",
    "4. [Conclusion](#Conc)  \n",
    "    4.1 [KNN](#KNN)"
   ]
  },
  {
   "cell_type": "markdown",
   "metadata": {},
   "source": [
    "## Import Packages"
   ]
  },
  {
   "cell_type": "code",
   "execution_count": 1,
   "metadata": {
    "collapsed": false
   },
   "outputs": [],
   "source": [
    "# Import Packages\n",
    "\n",
    "# Functional Libraries\n",
    "import numpy as np\n",
    "import pandas as pd\n",
    "import re\n",
    "import patsy\n",
    "\n",
    "# Plotting Libraries\n",
    "import matplotlib.pyplot as plt\n",
    "import seaborn as sns\n",
    "\n",
    "\n",
    "# Math Libraries\n",
    "import statsmodels.api as sm\n",
    "import statsmodels.formula.api as smf\n",
    "\n",
    "\n",
    "# Modeling Libraries\n",
    "from sklearn.linear_model import LinearRegression, Ridge, Lasso\n",
    "from sklearn.cross_validation import train_test_split\n",
    "from sklearn.neighbors import KNeighborsClassifier\n",
    "\n",
    "%matplotlib inline"
   ]
  },
  {
   "cell_type": "code",
   "execution_count": 2,
   "metadata": {
    "collapsed": false
   },
   "outputs": [
    {
     "name": "stderr",
     "output_type": "stream",
     "text": [
      "/Users/sebozek/anaconda/lib/python2.7/site-packages/IPython/core/interactiveshell.py:2723: DtypeWarning: Columns (3) have mixed types. Specify dtype option on import or set low_memory=False.\n",
      "  interactivity=interactivity, compiler=compiler, result=result)\n"
     ]
    }
   ],
   "source": [
    "liquor = pd.read_csv('../../../Iowa_Liquor_Sales_reduced.csv') # Read in CSV"
   ]
  },
  {
   "cell_type": "code",
   "execution_count": 3,
   "metadata": {
    "collapsed": false
   },
   "outputs": [
    {
     "data": {
      "text/plain": [
       "(2709552, 18)"
      ]
     },
     "execution_count": 3,
     "metadata": {},
     "output_type": "execute_result"
    }
   ],
   "source": [
    "liquor.shape                                                   # Determine shape of the matrix"
   ]
  },
  {
   "cell_type": "markdown",
   "metadata": {},
   "source": [
    "## Exploratory Analysis\n",
    "<a id='EDA'></a>\n",
    "\n",
    "*Look to clean up data, and run initial tests, determine problem statement.*"
   ]
  },
  {
   "cell_type": "code",
   "execution_count": 4,
   "metadata": {
    "collapsed": false
   },
   "outputs": [],
   "source": [
    "columns = liquor.columns.values      # Pull columns"
   ]
  },
  {
   "cell_type": "code",
   "execution_count": 5,
   "metadata": {
    "collapsed": false
   },
   "outputs": [],
   "source": [
    "new_cols = []                        # Create new list for assignment\n",
    "for column in columns:\n",
    "    col = re.sub('\\s+', '_', column) # Replace spaces with Underscores\n",
    "    col = re.sub('[()]','',col)      # Replace paren with emptyspace\n",
    "    new_cols.append(col)             # Add to columns list"
   ]
  },
  {
   "cell_type": "code",
   "execution_count": 6,
   "metadata": {
    "collapsed": false
   },
   "outputs": [],
   "source": [
    "liquor.columns = new_cols            # Assign Current Columns to New Name"
   ]
  },
  {
   "cell_type": "code",
   "execution_count": 7,
   "metadata": {
    "collapsed": false
   },
   "outputs": [
    {
     "data": {
      "text/html": [
       "<div>\n",
       "<table border=\"1\" class=\"dataframe\">\n",
       "  <thead>\n",
       "    <tr style=\"text-align: right;\">\n",
       "      <th></th>\n",
       "      <th>Date</th>\n",
       "      <th>Store_Number</th>\n",
       "      <th>City</th>\n",
       "      <th>Zip_Code</th>\n",
       "      <th>County_Number</th>\n",
       "      <th>County</th>\n",
       "      <th>Category</th>\n",
       "      <th>Category_Name</th>\n",
       "      <th>Vendor_Number</th>\n",
       "      <th>Item_Number</th>\n",
       "      <th>Item_Description</th>\n",
       "      <th>Bottle_Volume_ml</th>\n",
       "      <th>State_Bottle_Cost</th>\n",
       "      <th>State_Bottle_Retail</th>\n",
       "      <th>Bottles_Sold</th>\n",
       "      <th>Sale_Dollars</th>\n",
       "      <th>Volume_Sold_Liters</th>\n",
       "      <th>Volume_Sold_Gallons</th>\n",
       "    </tr>\n",
       "  </thead>\n",
       "  <tbody>\n",
       "    <tr>\n",
       "      <th>0</th>\n",
       "      <td>03/31/2016</td>\n",
       "      <td>5029</td>\n",
       "      <td>DAVENPORT</td>\n",
       "      <td>52806</td>\n",
       "      <td>82.0</td>\n",
       "      <td>Scott</td>\n",
       "      <td>1022100.0</td>\n",
       "      <td>TEQUILA</td>\n",
       "      <td>370</td>\n",
       "      <td>87152</td>\n",
       "      <td>Avion Silver</td>\n",
       "      <td>375</td>\n",
       "      <td>$9.99</td>\n",
       "      <td>$14.99</td>\n",
       "      <td>12</td>\n",
       "      <td>$179.88</td>\n",
       "      <td>4.5</td>\n",
       "      <td>1.19</td>\n",
       "    </tr>\n",
       "    <tr>\n",
       "      <th>1</th>\n",
       "      <td>03/31/2016</td>\n",
       "      <td>5029</td>\n",
       "      <td>DAVENPORT</td>\n",
       "      <td>52806</td>\n",
       "      <td>82.0</td>\n",
       "      <td>Scott</td>\n",
       "      <td>1022100.0</td>\n",
       "      <td>TEQUILA</td>\n",
       "      <td>395</td>\n",
       "      <td>89197</td>\n",
       "      <td>Jose Cuervo Especial Reposado Tequila</td>\n",
       "      <td>1000</td>\n",
       "      <td>$12.50</td>\n",
       "      <td>$18.75</td>\n",
       "      <td>2</td>\n",
       "      <td>$37.50</td>\n",
       "      <td>2.0</td>\n",
       "      <td>0.53</td>\n",
       "    </tr>\n",
       "    <tr>\n",
       "      <th>2</th>\n",
       "      <td>03/31/2016</td>\n",
       "      <td>4959</td>\n",
       "      <td>CEDAR FALLS</td>\n",
       "      <td>50613</td>\n",
       "      <td>7.0</td>\n",
       "      <td>Black Hawk</td>\n",
       "      <td>1071100.0</td>\n",
       "      <td>AMERICAN COCKTAILS</td>\n",
       "      <td>380</td>\n",
       "      <td>63959</td>\n",
       "      <td>Uv Blue Raspberry Lemonade Pet</td>\n",
       "      <td>1750</td>\n",
       "      <td>$5.97</td>\n",
       "      <td>$8.96</td>\n",
       "      <td>6</td>\n",
       "      <td>$53.76</td>\n",
       "      <td>10.5</td>\n",
       "      <td>2.77</td>\n",
       "    </tr>\n",
       "    <tr>\n",
       "      <th>3</th>\n",
       "      <td>03/31/2016</td>\n",
       "      <td>2190</td>\n",
       "      <td>DES MOINES</td>\n",
       "      <td>50314</td>\n",
       "      <td>77.0</td>\n",
       "      <td>Polk</td>\n",
       "      <td>1031200.0</td>\n",
       "      <td>VODKA FLAVORED</td>\n",
       "      <td>205</td>\n",
       "      <td>40597</td>\n",
       "      <td>New Amsterdam Red Berry</td>\n",
       "      <td>200</td>\n",
       "      <td>$2.24</td>\n",
       "      <td>$3.36</td>\n",
       "      <td>48</td>\n",
       "      <td>$161.28</td>\n",
       "      <td>9.6</td>\n",
       "      <td>2.54</td>\n",
       "    </tr>\n",
       "    <tr>\n",
       "      <th>4</th>\n",
       "      <td>03/31/2016</td>\n",
       "      <td>5240</td>\n",
       "      <td>WEST BRANCH</td>\n",
       "      <td>52358</td>\n",
       "      <td>NaN</td>\n",
       "      <td>NaN</td>\n",
       "      <td>1081200.0</td>\n",
       "      <td>CREAM LIQUEURS</td>\n",
       "      <td>305</td>\n",
       "      <td>73055</td>\n",
       "      <td>Rumchata</td>\n",
       "      <td>750</td>\n",
       "      <td>$12.50</td>\n",
       "      <td>$18.75</td>\n",
       "      <td>6</td>\n",
       "      <td>$112.50</td>\n",
       "      <td>4.5</td>\n",
       "      <td>1.19</td>\n",
       "    </tr>\n",
       "  </tbody>\n",
       "</table>\n",
       "</div>"
      ],
      "text/plain": [
       "         Date  Store_Number         City Zip_Code  County_Number      County  \\\n",
       "0  03/31/2016          5029    DAVENPORT    52806           82.0       Scott   \n",
       "1  03/31/2016          5029    DAVENPORT    52806           82.0       Scott   \n",
       "2  03/31/2016          4959  CEDAR FALLS    50613            7.0  Black Hawk   \n",
       "3  03/31/2016          2190   DES MOINES    50314           77.0        Polk   \n",
       "4  03/31/2016          5240  WEST BRANCH    52358            NaN         NaN   \n",
       "\n",
       "    Category       Category_Name  Vendor_Number  Item_Number  \\\n",
       "0  1022100.0             TEQUILA            370        87152   \n",
       "1  1022100.0             TEQUILA            395        89197   \n",
       "2  1071100.0  AMERICAN COCKTAILS            380        63959   \n",
       "3  1031200.0      VODKA FLAVORED            205        40597   \n",
       "4  1081200.0      CREAM LIQUEURS            305        73055   \n",
       "\n",
       "                        Item_Description  Bottle_Volume_ml State_Bottle_Cost  \\\n",
       "0                           Avion Silver               375             $9.99   \n",
       "1  Jose Cuervo Especial Reposado Tequila              1000            $12.50   \n",
       "2         Uv Blue Raspberry Lemonade Pet              1750             $5.97   \n",
       "3                New Amsterdam Red Berry               200             $2.24   \n",
       "4                               Rumchata               750            $12.50   \n",
       "\n",
       "  State_Bottle_Retail  Bottles_Sold Sale_Dollars  Volume_Sold_Liters  \\\n",
       "0              $14.99            12      $179.88                 4.5   \n",
       "1              $18.75             2       $37.50                 2.0   \n",
       "2               $8.96             6       $53.76                10.5   \n",
       "3               $3.36            48      $161.28                 9.6   \n",
       "4              $18.75             6      $112.50                 4.5   \n",
       "\n",
       "   Volume_Sold_Gallons  \n",
       "0                 1.19  \n",
       "1                 0.53  \n",
       "2                 2.77  \n",
       "3                 2.54  \n",
       "4                 1.19  "
      ]
     },
     "execution_count": 7,
     "metadata": {},
     "output_type": "execute_result"
    }
   ],
   "source": [
    "liquor.head()                        # Look at head of the dataframe"
   ]
  },
  {
   "cell_type": "code",
   "execution_count": 8,
   "metadata": {
    "collapsed": false
   },
   "outputs": [],
   "source": [
    "dollar_columns = ['State_Bottle_Cost',      # Pull cols with dollar values\n",
    "                  'State_Bottle_Retail', \n",
    "                  'Sale_Dollars']\n",
    "\n",
    "liquor[dollar_columns] = \\\n",
    "liquor[dollar_columns].replace(             # Replace:\n",
    "    '[\\$,]',                                # Dollar signs with:\n",
    "    \"\",regex=True                           # Empty Space and\n",
    ").astype(float)                             # Assign to float"
   ]
  },
  {
   "cell_type": "markdown",
   "metadata": {},
   "source": [
    "<a id='ProblemStatement'></a>\n",
    "### Problem Statement\n",
    "\n",
    "Which counties are the top ten in terms of retail sales to consumers (not wholesalers) over the course of a year? How do trend of each of these high performing counties compare? Which counties would likely benefit from additional investment, whether coming in the form of introducing new stores or advertisement?\n",
    "\n",
    "Approach:\n",
    "\n",
    "* Determine the top ten performing stores\n",
    "* Determine their cumulative sales as a function of profit over time\n",
    "* Plot each of the counties sales per month/day over the course of the year\n",
    "    * Perform regression on this pattern\n",
    "    * Compare coefficients of this regression to other coefficients of the counties themselves"
   ]
  },
  {
   "cell_type": "code",
   "execution_count": 9,
   "metadata": {
    "collapsed": false
   },
   "outputs": [
    {
     "data": {
      "text/plain": [
       "Date                    object\n",
       "Store_Number             int64\n",
       "City                    object\n",
       "Zip_Code                object\n",
       "County_Number          float64\n",
       "County                  object\n",
       "Category               float64\n",
       "Category_Name           object\n",
       "Vendor_Number            int64\n",
       "Item_Number              int64\n",
       "Item_Description        object\n",
       "Bottle_Volume_ml         int64\n",
       "State_Bottle_Cost      float64\n",
       "State_Bottle_Retail    float64\n",
       "Bottles_Sold             int64\n",
       "Sale_Dollars           float64\n",
       "Volume_Sold_Liters     float64\n",
       "Volume_Sold_Gallons    float64\n",
       "dtype: object"
      ]
     },
     "execution_count": 9,
     "metadata": {},
     "output_type": "execute_result"
    }
   ],
   "source": [
    "liquor.dtypes # assess conversion"
   ]
  },
  {
   "cell_type": "markdown",
   "metadata": {},
   "source": [
    "*Will be focusing on a County level of sales to determine what counties are worth focusing on. Because of that will be creating new dataframe that contains truncated list. \n",
    "Need to also turn date into a datetime object*"
   ]
  },
  {
   "cell_type": "markdown",
   "metadata": {},
   "source": [
    "# Data Dictionary\n",
    "\n",
    "|Name|Description|Variable Type|\n",
    "|--|--|--|\n",
    "|Date|Date The Transaction Took Place|Ordinal|\n",
    "|Store_Number|Unique Numerical ID for Liquor Stores in Iowa|Ordinal|\n",
    "|City|City Where Store is Based|Categorical|\n",
    "|Zip_Code|Zip Code of Store Location|Ordinal|\n",
    "|County_Number|The County's Number as Assigned by the State of Iowa|Ordinal|\n",
    "|County|County Name|Categorical|\n",
    "|Category|Unique Numerical ID for Category of Sale|Ordinal|\n",
    "|Category_Name|Category of Alcohol Sold|Categorical|\n",
    "|Vendor_Number|Unique Numerical ID assigned to Vendor|Ordinal|\n",
    "|Item_Number|Unique Numerical ID of the Item Sold|Ordinal|\n",
    "|Item_Description|Description of the Item Sold|Categorical\n",
    "|Bottle_Volume_ml|Volume of the Bottle Sold|Interval|\n",
    "|State_Bottle_Cost|Cost of Bottle|Interval|\n",
    "|State_Bottle_Retail|Cost of Bottle at Retail|Interval|\n",
    "|Bottles_Sold|Number of Bottles Sold in Transaction|Ordinal|\n",
    "|Sale_Dollars|Total Price of Sale in Dollars|Interval|\n",
    "|Volume_Sold_Liters|Volume of Alcohol Sold in Liters|Interval|\n",
    "|Volume_Sold_Gallons|Volume of Alcohol Sold in Gallons|Interval|\n"
   ]
  },
  {
   "cell_type": "code",
   "execution_count": 10,
   "metadata": {
    "collapsed": true
   },
   "outputs": [],
   "source": [
    "liquor['Date'] = pd.to_datetime(liquor['Date'], format='%m/%d/%Y')# Convert to DateTime"
   ]
  },
  {
   "cell_type": "code",
   "execution_count": 11,
   "metadata": {
    "collapsed": false
   },
   "outputs": [],
   "source": [
    "liquor = liquor[['Date',                                          # Sale dates to split into 2015/2016\n",
    "                 'County_Number', 'Store_Number',                 # County  & Store identifiers\n",
    "                 'State_Bottle_Cost', 'State_Bottle_Retail',      # Costs of bottles sold\n",
    "                 'Bottles_Sold', 'Volume_Sold_Liters',            # Measures of how much was sold\n",
    "                 'Sale_Dollars'                                   # Amount of total sales\n",
    "                ]]"
   ]
  },
  {
   "cell_type": "code",
   "execution_count": 12,
   "metadata": {
    "collapsed": false
   },
   "outputs": [
    {
     "data": {
      "text/html": [
       "<div>\n",
       "<table border=\"1\" class=\"dataframe\">\n",
       "  <thead>\n",
       "    <tr style=\"text-align: right;\">\n",
       "      <th></th>\n",
       "      <th>Date</th>\n",
       "      <th>County_Number</th>\n",
       "      <th>Store_Number</th>\n",
       "      <th>State_Bottle_Cost</th>\n",
       "      <th>State_Bottle_Retail</th>\n",
       "      <th>Bottles_Sold</th>\n",
       "      <th>Volume_Sold_Liters</th>\n",
       "      <th>Sale_Dollars</th>\n",
       "    </tr>\n",
       "  </thead>\n",
       "  <tbody>\n",
       "    <tr>\n",
       "      <th>0</th>\n",
       "      <td>2016-03-31</td>\n",
       "      <td>82.0</td>\n",
       "      <td>5029</td>\n",
       "      <td>9.99</td>\n",
       "      <td>14.99</td>\n",
       "      <td>12</td>\n",
       "      <td>4.5</td>\n",
       "      <td>179.88</td>\n",
       "    </tr>\n",
       "    <tr>\n",
       "      <th>1</th>\n",
       "      <td>2016-03-31</td>\n",
       "      <td>82.0</td>\n",
       "      <td>5029</td>\n",
       "      <td>12.50</td>\n",
       "      <td>18.75</td>\n",
       "      <td>2</td>\n",
       "      <td>2.0</td>\n",
       "      <td>37.50</td>\n",
       "    </tr>\n",
       "    <tr>\n",
       "      <th>2</th>\n",
       "      <td>2016-03-31</td>\n",
       "      <td>7.0</td>\n",
       "      <td>4959</td>\n",
       "      <td>5.97</td>\n",
       "      <td>8.96</td>\n",
       "      <td>6</td>\n",
       "      <td>10.5</td>\n",
       "      <td>53.76</td>\n",
       "    </tr>\n",
       "    <tr>\n",
       "      <th>3</th>\n",
       "      <td>2016-03-31</td>\n",
       "      <td>77.0</td>\n",
       "      <td>2190</td>\n",
       "      <td>2.24</td>\n",
       "      <td>3.36</td>\n",
       "      <td>48</td>\n",
       "      <td>9.6</td>\n",
       "      <td>161.28</td>\n",
       "    </tr>\n",
       "    <tr>\n",
       "      <th>4</th>\n",
       "      <td>2016-03-31</td>\n",
       "      <td>NaN</td>\n",
       "      <td>5240</td>\n",
       "      <td>12.50</td>\n",
       "      <td>18.75</td>\n",
       "      <td>6</td>\n",
       "      <td>4.5</td>\n",
       "      <td>112.50</td>\n",
       "    </tr>\n",
       "  </tbody>\n",
       "</table>\n",
       "</div>"
      ],
      "text/plain": [
       "        Date  County_Number  Store_Number  State_Bottle_Cost  \\\n",
       "0 2016-03-31           82.0          5029               9.99   \n",
       "1 2016-03-31           82.0          5029              12.50   \n",
       "2 2016-03-31            7.0          4959               5.97   \n",
       "3 2016-03-31           77.0          2190               2.24   \n",
       "4 2016-03-31            NaN          5240              12.50   \n",
       "\n",
       "   State_Bottle_Retail  Bottles_Sold  Volume_Sold_Liters  Sale_Dollars  \n",
       "0                14.99            12                 4.5        179.88  \n",
       "1                18.75             2                 2.0         37.50  \n",
       "2                 8.96             6                10.5         53.76  \n",
       "3                 3.36            48                 9.6        161.28  \n",
       "4                18.75             6                 4.5        112.50  "
      ]
     },
     "execution_count": 12,
     "metadata": {},
     "output_type": "execute_result"
    }
   ],
   "source": [
    "liquor.head()"
   ]
  },
  {
   "cell_type": "markdown",
   "metadata": {},
   "source": [
    "<h2 align=\"center\">Cleaned Data Dict</h2>\n",
    "<a id='DataDict'></a>\n",
    "\n",
    "|Name|Description|Variable Type|\n",
    "|--|--|--|\n",
    "|Date|Date The Transaction Took Place|Ordinal|\n",
    "|County_Number|The County's Number as Assigned by the State of Iowa|Ordinal|\n",
    "|County|County Name|Categorical|\n",
    "|State_Bottle_Cost|Cost of Bottle|Interval|\n",
    "|State_Bottle_Retail|Cost of Bottle at Retail|Interval|\n",
    "|Bottles_Sold|Number of Bottles Sold in Transaction|Ordinal|\n",
    "|Sale_Dollars|Total Price of Sale in Dollars|Interval|\n",
    "|Volume_Sold_Liters|Volume of Alcohol Sold in Liters|Interval|"
   ]
  },
  {
   "cell_type": "code",
   "execution_count": 13,
   "metadata": {
    "collapsed": false
   },
   "outputs": [],
   "source": [
    "liquor = liquor.dropna(axis=0, how='any') # Drop any row that contains a NaN value"
   ]
  },
  {
   "cell_type": "code",
   "execution_count": 21,
   "metadata": {
    "collapsed": false
   },
   "outputs": [],
   "source": [
    "# Create a Year column fo separating into 2015 and 2016\n",
    "\n",
    "liquor['Year'] = liquor['Date'].map(lambda x: x.year)"
   ]
  },
  {
   "cell_type": "code",
   "execution_count": 26,
   "metadata": {
    "collapsed": false
   },
   "outputs": [],
   "source": [
    "sale_Dollars = liquor[['County_Number','Sale_Dollars','State_Bottle_Cost','State_Bottle_Retail', 'Volume_Sold_Liters']]"
   ]
  },
  {
   "cell_type": "markdown",
   "metadata": {},
   "source": [
    "<a id='coormap'></a>"
   ]
  },
  {
   "cell_type": "code",
   "execution_count": 27,
   "metadata": {
    "collapsed": false
   },
   "outputs": [
    {
     "data": {
      "text/plain": [
       "<matplotlib.axes._subplots.AxesSubplot at 0x12f24e9d0>"
      ]
     },
     "execution_count": 27,
     "metadata": {},
     "output_type": "execute_result"
    },
    {
     "data": {
      "image/png": "[encoded data removed]",
      "text/plain": [
       "<matplotlib.figure.Figure at 0x11a5c7d90>"
      ]
     },
     "metadata": {},
     "output_type": "display_data"
    }
   ],
   "source": [
    "sns.heatmap(sale_Dollars.corr()) # Create heat map of the variable"
   ]
  },
  {
   "cell_type": "markdown",
   "metadata": {},
   "source": [
    "*From the above heatmap there appears to be a strong correlation between the volume sold, the sale in dollars, and the retail cost  of the bottle, all of which were expected.*"
   ]
  },
  {
   "cell_type": "markdown",
   "metadata": {},
   "source": [
    "<a id='QRange'></a>\n",
    "*Want to look at the sales data to determine what the spread of the values are and then determine which range to use to isolate only sales that were done to general consumers.*"
   ]
  },
  {
   "cell_type": "code",
   "execution_count": 29,
   "metadata": {
    "collapsed": false
   },
   "outputs": [
    {
     "data": {
      "text/plain": [
       "count    2.698639e+06\n",
       "mean     1.291850e+02\n",
       "std      4.000251e+02\n",
       "min      1.340000e+00\n",
       "25%      3.048000e+01\n",
       "50%      7.056000e+01\n",
       "75%      1.350000e+02\n",
       "max      1.063260e+05\n",
       "Name: Sale_Dollars, dtype: float64"
      ]
     },
     "execution_count": 29,
     "metadata": {},
     "output_type": "execute_result"
    }
   ],
   "source": [
    "liquor['Sale_Dollars'].describe() # Q3 - Q1 : 135 - 30.48"
   ]
  },
  {
   "cell_type": "markdown",
   "metadata": {},
   "source": [
    "*Before isolation of the interquartile range will want to look at the sum of the total sales below Q1, above Q3, and inbetween those two values*"
   ]
  },
  {
   "cell_type": "code",
   "execution_count": 30,
   "metadata": {
    "collapsed": false
   },
   "outputs": [
    {
     "name": "stdout",
     "output_type": "stream",
     "text": [
      "Below First Quartile 12066319.94\n",
      "Interquartile 100000009.87\n",
      "Above Third Quartile 236557388.82\n"
     ]
    }
   ],
   "source": [
    "print \"Below First Quartile\", liquor['Sale_Dollars'][liquor['Sale_Dollars'] <= 30.48].sum()\n",
    "print \"Interquartile\", liquor['Sale_Dollars'][(liquor['Sale_Dollars'] > 30.48) & (liquor['Sale_Dollars'] < 135.00)].sum()\n",
    "print \"Above Third Quartile\", liquor['Sale_Dollars'][liquor['Sale_Dollars'] >= 135.00].sum()"
   ]
  },
  {
   "cell_type": "code",
   "execution_count": 31,
   "metadata": {
    "collapsed": true
   },
   "outputs": [],
   "source": [
    "liquor = liquor[(liquor['Sale_Dollars'] > 30.48) & (liquor['Sale_Dollars'] < 135.00)]"
   ]
  },
  {
   "cell_type": "code",
   "execution_count": 32,
   "metadata": {
    "collapsed": false
   },
   "outputs": [],
   "source": [
    "liquor['Purchase_Margins'] =  liquor['Sale_Dollars'] - (liquor['State_Bottle_Cost'] * liquor['Bottles_Sold'])     # Find cost of bottles"
   ]
  },
  {
   "cell_type": "code",
   "execution_count": 33,
   "metadata": {
    "collapsed": true
   },
   "outputs": [],
   "source": [
    "# Create DataFrames for 2015 and 2016\n",
    "\n",
    "liquor2015 = liquor[liquor['Year'] == 2015]\n",
    "\n",
    "liquor2016 = liquor[liquor['Year'] == 2016 ]"
   ]
  },
  {
   "cell_type": "code",
   "execution_count": 34,
   "metadata": {
    "collapsed": false
   },
   "outputs": [
    {
     "name": "stderr",
     "output_type": "stream",
     "text": [
      "/Users/sebozek/anaconda/lib/python2.7/site-packages/ipykernel/__main__.py:1: FutureWarning: sort(columns=....) is deprecated, use sort_values(by=.....)\n",
      "  if __name__ == '__main__':\n"
     ]
    }
   ],
   "source": [
    "liquor2015 = liquor2015.sort(['Sale_Dollars'], ascending = False) # Order by Total Sales for 2015, descending"
   ]
  },
  {
   "cell_type": "code",
   "execution_count": 35,
   "metadata": {
    "collapsed": false
   },
   "outputs": [
    {
     "name": "stderr",
     "output_type": "stream",
     "text": [
      "/Users/sebozek/anaconda/lib/python2.7/site-packages/ipykernel/__main__.py:2: FutureWarning: sort(columns=....) is deprecated, use sort_values(by=.....)\n",
      "  from ipykernel import kernelapp as app\n"
     ]
    }
   ],
   "source": [
    "l15 = liquor2015[['Sale_Dollars', 'County_Number']].groupby('County_Number').sum() # Create sums by county\n",
    "l15 = l15.sort('Sale_Dollars', axis=0, ascending=False).head(10)\n",
    "counties = l15.index # Create list of top ten counties"
   ]
  },
  {
   "cell_type": "markdown",
   "metadata": {},
   "source": [
    "<a id='counties'></a>\n",
    "From above the top ten performing counties were: [77.0, 57.0, 82.0, 7.0, 52.0, 85.0, 78.0, 97.0, 31.0, 17.0]"
   ]
  },
  {
   "cell_type": "code",
   "execution_count": 36,
   "metadata": {
    "collapsed": false
   },
   "outputs": [],
   "source": [
    "tten = liquor2015[liquor2015['County_Number'].isin(counties)] # Create new datafrme of top ten counties"
   ]
  },
  {
   "cell_type": "code",
   "execution_count": 37,
   "metadata": {
    "collapsed": false
   },
   "outputs": [
    {
     "data": {
      "text/html": [
       "<div>\n",
       "<table border=\"1\" class=\"dataframe\">\n",
       "  <thead>\n",
       "    <tr style=\"text-align: right;\">\n",
       "      <th></th>\n",
       "      <th>County_Number</th>\n",
       "      <th>Store_Number</th>\n",
       "      <th>State_Bottle_Cost</th>\n",
       "      <th>State_Bottle_Retail</th>\n",
       "      <th>Bottles_Sold</th>\n",
       "      <th>Volume_Sold_Liters</th>\n",
       "      <th>Sale_Dollars</th>\n",
       "      <th>Year</th>\n",
       "      <th>Purchase_Margins</th>\n",
       "    </tr>\n",
       "  </thead>\n",
       "  <tbody>\n",
       "    <tr>\n",
       "      <th>count</th>\n",
       "      <td>629085.000000</td>\n",
       "      <td>629085.000000</td>\n",
       "      <td>629085.000000</td>\n",
       "      <td>629085.000000</td>\n",
       "      <td>629085.000000</td>\n",
       "      <td>629085.000000</td>\n",
       "      <td>629085.000000</td>\n",
       "      <td>629085.0</td>\n",
       "      <td>629085.000000</td>\n",
       "    </tr>\n",
       "    <tr>\n",
       "      <th>mean</th>\n",
       "      <td>62.294343</td>\n",
       "      <td>3551.736856</td>\n",
       "      <td>9.374543</td>\n",
       "      <td>14.082877</td>\n",
       "      <td>8.344937</td>\n",
       "      <td>6.665969</td>\n",
       "      <td>75.555324</td>\n",
       "      <td>2015.0</td>\n",
       "      <td>25.278887</td>\n",
       "    </tr>\n",
       "    <tr>\n",
       "      <th>std</th>\n",
       "      <td>25.655160</td>\n",
       "      <td>974.053896</td>\n",
       "      <td>6.737475</td>\n",
       "      <td>10.105985</td>\n",
       "      <td>7.707111</td>\n",
       "      <td>4.278269</td>\n",
       "      <td>29.127334</td>\n",
       "      <td>0.0</td>\n",
       "      <td>9.762934</td>\n",
       "    </tr>\n",
       "    <tr>\n",
       "      <th>min</th>\n",
       "      <td>7.000000</td>\n",
       "      <td>2106.000000</td>\n",
       "      <td>0.890000</td>\n",
       "      <td>1.340000</td>\n",
       "      <td>1.000000</td>\n",
       "      <td>0.000000</td>\n",
       "      <td>30.490000</td>\n",
       "      <td>2015.0</td>\n",
       "      <td>0.000000</td>\n",
       "    </tr>\n",
       "    <tr>\n",
       "      <th>25%</th>\n",
       "      <td>52.000000</td>\n",
       "      <td>2603.000000</td>\n",
       "      <td>5.230000</td>\n",
       "      <td>7.850000</td>\n",
       "      <td>3.000000</td>\n",
       "      <td>2.250000</td>\n",
       "      <td>51.930000</td>\n",
       "      <td>2015.0</td>\n",
       "      <td>17.320000</td>\n",
       "    </tr>\n",
       "    <tr>\n",
       "      <th>50%</th>\n",
       "      <td>77.000000</td>\n",
       "      <td>3670.000000</td>\n",
       "      <td>7.470000</td>\n",
       "      <td>11.210000</td>\n",
       "      <td>6.000000</td>\n",
       "      <td>9.000000</td>\n",
       "      <td>70.560000</td>\n",
       "      <td>2015.0</td>\n",
       "      <td>23.520000</td>\n",
       "    </tr>\n",
       "    <tr>\n",
       "      <th>75%</th>\n",
       "      <td>78.000000</td>\n",
       "      <td>4461.000000</td>\n",
       "      <td>11.490000</td>\n",
       "      <td>17.240000</td>\n",
       "      <td>12.000000</td>\n",
       "      <td>10.500000</td>\n",
       "      <td>98.640000</td>\n",
       "      <td>2015.0</td>\n",
       "      <td>33.000000</td>\n",
       "    </tr>\n",
       "    <tr>\n",
       "      <th>max</th>\n",
       "      <td>97.000000</td>\n",
       "      <td>9002.000000</td>\n",
       "      <td>84.500000</td>\n",
       "      <td>126.750000</td>\n",
       "      <td>96.000000</td>\n",
       "      <td>48.000000</td>\n",
       "      <td>134.980000</td>\n",
       "      <td>2015.0</td>\n",
       "      <td>55.500000</td>\n",
       "    </tr>\n",
       "  </tbody>\n",
       "</table>\n",
       "</div>"
      ],
      "text/plain": [
       "       County_Number   Store_Number  State_Bottle_Cost  State_Bottle_Retail  \\\n",
       "count  629085.000000  629085.000000      629085.000000        629085.000000   \n",
       "mean       62.294343    3551.736856           9.374543            14.082877   \n",
       "std        25.655160     974.053896           6.737475            10.105985   \n",
       "min         7.000000    2106.000000           0.890000             1.340000   \n",
       "25%        52.000000    2603.000000           5.230000             7.850000   \n",
       "50%        77.000000    3670.000000           7.470000            11.210000   \n",
       "75%        78.000000    4461.000000          11.490000            17.240000   \n",
       "max        97.000000    9002.000000          84.500000           126.750000   \n",
       "\n",
       "        Bottles_Sold  Volume_Sold_Liters   Sale_Dollars      Year  \\\n",
       "count  629085.000000       629085.000000  629085.000000  629085.0   \n",
       "mean        8.344937            6.665969      75.555324    2015.0   \n",
       "std         7.707111            4.278269      29.127334       0.0   \n",
       "min         1.000000            0.000000      30.490000    2015.0   \n",
       "25%         3.000000            2.250000      51.930000    2015.0   \n",
       "50%         6.000000            9.000000      70.560000    2015.0   \n",
       "75%        12.000000           10.500000      98.640000    2015.0   \n",
       "max        96.000000           48.000000     134.980000    2015.0   \n",
       "\n",
       "       Purchase_Margins  \n",
       "count     629085.000000  \n",
       "mean          25.278887  \n",
       "std            9.762934  \n",
       "min            0.000000  \n",
       "25%           17.320000  \n",
       "50%           23.520000  \n",
       "75%           33.000000  \n",
       "max           55.500000  "
      ]
     },
     "execution_count": 37,
     "metadata": {},
     "output_type": "execute_result"
    }
   ],
   "source": [
    "tten.describe()"
   ]
  },
  {
   "cell_type": "code",
   "execution_count": 38,
   "metadata": {
    "collapsed": false
   },
   "outputs": [],
   "source": [
    "tten16 = liquor2016[liquor2016['County_Number'].isin(counties)]"
   ]
  },
  {
   "cell_type": "code",
   "execution_count": 39,
   "metadata": {
    "collapsed": false
   },
   "outputs": [
    {
     "name": "stderr",
     "output_type": "stream",
     "text": [
      "/Users/sebozek/anaconda/lib/python2.7/site-packages/ipykernel/__main__.py:3: SettingWithCopyWarning: \n",
      "A value is trying to be set on a copy of a slice from a DataFrame.\n",
      "Try using .loc[row_indexer,col_indexer] = value instead\n",
      "\n",
      "See the caveats in the documentation: http://pandas.pydata.org/pandas-docs/stable/indexing.html#indexing-view-versus-copy\n",
      "  app.launch_new_instance()\n"
     ]
    }
   ],
   "source": [
    "NY2015= pd.Timestamp('2015-01-01')\n",
    "\n",
    "tten['Days'] = tten['Date'].apply(lambda x: (x - NY2015).days) # Find the differences in days since the start of the year"
   ]
  },
  {
   "cell_type": "code",
   "execution_count": 40,
   "metadata": {
    "collapsed": false
   },
   "outputs": [
    {
     "data": {
      "text/html": [
       "<div>\n",
       "<table border=\"1\" class=\"dataframe\">\n",
       "  <thead>\n",
       "    <tr style=\"text-align: right;\">\n",
       "      <th></th>\n",
       "      <th>Date</th>\n",
       "      <th>County_Number</th>\n",
       "      <th>Store_Number</th>\n",
       "      <th>State_Bottle_Cost</th>\n",
       "      <th>State_Bottle_Retail</th>\n",
       "      <th>Bottles_Sold</th>\n",
       "      <th>Volume_Sold_Liters</th>\n",
       "      <th>Sale_Dollars</th>\n",
       "      <th>Year</th>\n",
       "      <th>Purchase_Margins</th>\n",
       "      <th>Days</th>\n",
       "    </tr>\n",
       "  </thead>\n",
       "  <tbody>\n",
       "    <tr>\n",
       "      <th>2656381</th>\n",
       "      <td>2015-01-12</td>\n",
       "      <td>57.0</td>\n",
       "      <td>2590</td>\n",
       "      <td>44.99</td>\n",
       "      <td>67.49</td>\n",
       "      <td>2</td>\n",
       "      <td>1.5</td>\n",
       "      <td>134.98</td>\n",
       "      <td>2015</td>\n",
       "      <td>45.0</td>\n",
       "      <td>11</td>\n",
       "    </tr>\n",
       "    <tr>\n",
       "      <th>1462397</th>\n",
       "      <td>2015-08-04</td>\n",
       "      <td>7.0</td>\n",
       "      <td>2575</td>\n",
       "      <td>44.99</td>\n",
       "      <td>67.49</td>\n",
       "      <td>2</td>\n",
       "      <td>1.5</td>\n",
       "      <td>134.98</td>\n",
       "      <td>2015</td>\n",
       "      <td>45.0</td>\n",
       "      <td>215</td>\n",
       "    </tr>\n",
       "    <tr>\n",
       "      <th>570622</th>\n",
       "      <td>2015-12-26</td>\n",
       "      <td>57.0</td>\n",
       "      <td>2588</td>\n",
       "      <td>44.99</td>\n",
       "      <td>67.49</td>\n",
       "      <td>2</td>\n",
       "      <td>1.5</td>\n",
       "      <td>134.98</td>\n",
       "      <td>2015</td>\n",
       "      <td>45.0</td>\n",
       "      <td>359</td>\n",
       "    </tr>\n",
       "    <tr>\n",
       "      <th>1452417</th>\n",
       "      <td>2015-08-04</td>\n",
       "      <td>77.0</td>\n",
       "      <td>2666</td>\n",
       "      <td>44.99</td>\n",
       "      <td>67.49</td>\n",
       "      <td>2</td>\n",
       "      <td>1.5</td>\n",
       "      <td>134.98</td>\n",
       "      <td>2015</td>\n",
       "      <td>45.0</td>\n",
       "      <td>215</td>\n",
       "    </tr>\n",
       "    <tr>\n",
       "      <th>2708657</th>\n",
       "      <td>2015-01-05</td>\n",
       "      <td>77.0</td>\n",
       "      <td>2648</td>\n",
       "      <td>44.99</td>\n",
       "      <td>67.49</td>\n",
       "      <td>2</td>\n",
       "      <td>1.5</td>\n",
       "      <td>134.98</td>\n",
       "      <td>2015</td>\n",
       "      <td>45.0</td>\n",
       "      <td>4</td>\n",
       "    </tr>\n",
       "  </tbody>\n",
       "</table>\n",
       "</div>"
      ],
      "text/plain": [
       "              Date  County_Number  Store_Number  State_Bottle_Cost  \\\n",
       "2656381 2015-01-12           57.0          2590              44.99   \n",
       "1462397 2015-08-04            7.0          2575              44.99   \n",
       "570622  2015-12-26           57.0          2588              44.99   \n",
       "1452417 2015-08-04           77.0          2666              44.99   \n",
       "2708657 2015-01-05           77.0          2648              44.99   \n",
       "\n",
       "         State_Bottle_Retail  Bottles_Sold  Volume_Sold_Liters  Sale_Dollars  \\\n",
       "2656381                67.49             2                 1.5        134.98   \n",
       "1462397                67.49             2                 1.5        134.98   \n",
       "570622                 67.49             2                 1.5        134.98   \n",
       "1452417                67.49             2                 1.5        134.98   \n",
       "2708657                67.49             2                 1.5        134.98   \n",
       "\n",
       "         Year  Purchase_Margins  Days  \n",
       "2656381  2015              45.0    11  \n",
       "1462397  2015              45.0   215  \n",
       "570622   2015              45.0   359  \n",
       "1452417  2015              45.0   215  \n",
       "2708657  2015              45.0     4  "
      ]
     },
     "execution_count": 40,
     "metadata": {},
     "output_type": "execute_result"
    }
   ],
   "source": [
    "tten.head()"
   ]
  },
  {
   "cell_type": "code",
   "execution_count": 41,
   "metadata": {
    "collapsed": false
   },
   "outputs": [],
   "source": [
    "tten15 = tten[['Days',\n",
    "               'County_Number', 'Purchase_Margins', \n",
    "               'Volume_Sold_Liters', 'Bottles_Sold', 'State_Bottle_Retail']].groupby(['Days','County_Number'])"
   ]
  },
  {
   "cell_type": "code",
   "execution_count": 43,
   "metadata": {
    "collapsed": false
   },
   "outputs": [],
   "source": [
    "tten15_s = tten15['Purchase_Margins'].sum()\n",
    "tten15_s['Bottles_Sold'] = tten15['Bottles_Sold'].sum()"
   ]
  },
  {
   "cell_type": "code",
   "execution_count": 44,
   "metadata": {
    "collapsed": false
   },
   "outputs": [],
   "source": [
    "tten15_s.reset_index()\n",
    "# print type(tten15_s)\n",
    "\n",
    "\n",
    "\n",
    "c7 = pd.DataFrame(tten15_s.ix[:,7.0])\n",
    "c7.reset_index(inplace=True)\n",
    "c7['Week'] = [int(d/7) +1 for d in c7['Days']]\n",
    "\n",
    "\n",
    "c77 = pd.DataFrame(tten15_s.ix[:,77.0])\n",
    "c77.reset_index(inplace=True)\n",
    "c77['Week'] = [int(d/7) +1 for d in c77['Days']]\n",
    "\n",
    "\n",
    "c57 = pd.DataFrame(tten15_s.ix[:,57.0])\n",
    "c57.reset_index(inplace=True)\n",
    "c57['Week'] = [int(d/7) +1 for d in c57['Days']]\n",
    "\n",
    "\n",
    "c82 = pd.DataFrame(tten15_s.ix[:,82.0])\n",
    "c82.reset_index(inplace=True)\n",
    "c82['Week'] = [int(d/7) +1 for d in c82['Days']]\n",
    "\n",
    "c52 = pd.DataFrame(tten15_s.ix[:,52.0])\n",
    "c52.reset_index(inplace=True)\n",
    "c52['Week'] = [int(d/7) +1 for d in c52['Days']]\n",
    "\n",
    "\n",
    "c85 = pd.DataFrame(tten15_s.ix[:,85.0])\n",
    "c85.reset_index(inplace=True)\n",
    "c85['Week'] = [int(d/7) +1 for d in c85['Days']]\n",
    "\n",
    "\n",
    "c78 = pd.DataFrame(tten15_s.ix[:,78.0])\n",
    "c78.reset_index(inplace=True)\n",
    "c78['Week'] = [int(d/7) +1 for d in c78['Days']]\n",
    "\n",
    "c97 = pd.DataFrame(tten15_s.ix[:,97.0])\n",
    "c97.reset_index(inplace=True)\n",
    "c97['Week'] = [int(d/7) +1 for d in c97['Days']]\n",
    "\n",
    "c31 = pd.DataFrame(tten15_s.ix[:,31.0])\n",
    "c31.reset_index(inplace=True)\n",
    "c31['Week'] = [int(d/7) +1 for d in c31['Days']]\n",
    "\n",
    "c17 = pd.DataFrame(tten15_s.ix[:,17.0])\n",
    "c17.reset_index(inplace=True)\n",
    "c17['Week'] = [int(d/7) +1 for d in c17['Days']]"
   ]
  },
  {
   "cell_type": "code",
   "execution_count": 45,
   "metadata": {
    "collapsed": true
   },
   "outputs": [],
   "source": [
    "c7['Total_Margins'] = c7['Purchase_Margins'].cumsum()\n",
    "c7['County'] = 7\n",
    "\n",
    "c77['Total_Margins'] = c77['Purchase_Margins'].cumsum()\n",
    "c77['County'] = 77\n",
    "\n",
    "c57['Total_Margins'] = c57['Purchase_Margins'].cumsum()\n",
    "c57['County'] = 57\n",
    "\n",
    "c82['Total_Margins'] = c82['Purchase_Margins'].cumsum()\n",
    "c82['County'] = 82\n",
    "\n",
    "c52['Total_Margins'] = c52['Purchase_Margins'].cumsum()\n",
    "c52['County'] = 52\n",
    "\n",
    "c85['Total_Margins'] = c85['Purchase_Margins'].cumsum()\n",
    "c85['County'] = 85\n",
    "\n",
    "c78['Total_Margins'] = c78['Purchase_Margins'].cumsum()\n",
    "c78['County'] = 78\n",
    "\n",
    "c97['Total_Margins'] = c97['Purchase_Margins'].cumsum()\n",
    "c97['County'] = 97\n",
    "\n",
    "c31['Total_Margins'] = c31['Purchase_Margins'].cumsum()\n",
    "c31['County'] = 31\n",
    "\n",
    "c17['Total_Margins'] = c17['Purchase_Margins'].cumsum()\n",
    "c17['County'] = 17"
   ]
  },
  {
   "cell_type": "code",
   "execution_count": 46,
   "metadata": {
    "collapsed": false
   },
   "outputs": [],
   "source": [
    "frames = [c7,c77,c57,c82,c52,c85,c78,c97,c31,c17]\n",
    "\n",
    "sales = pd.concat(frames)"
   ]
  },
  {
   "cell_type": "code",
   "execution_count": 47,
   "metadata": {
    "collapsed": false
   },
   "outputs": [
    {
     "data": {
      "text/html": [
       "<div>\n",
       "<table border=\"1\" class=\"dataframe\">\n",
       "  <thead>\n",
       "    <tr style=\"text-align: right;\">\n",
       "      <th></th>\n",
       "      <th>Days</th>\n",
       "      <th>Purchase_Margins</th>\n",
       "      <th>Week</th>\n",
       "      <th>Total_Margins</th>\n",
       "      <th>County</th>\n",
       "    </tr>\n",
       "  </thead>\n",
       "  <tbody>\n",
       "    <tr>\n",
       "      <th>0</th>\n",
       "      <td>4</td>\n",
       "      <td>9300.07</td>\n",
       "      <td>1</td>\n",
       "      <td>9300.07</td>\n",
       "      <td>7</td>\n",
       "    </tr>\n",
       "    <tr>\n",
       "      <th>1</th>\n",
       "      <td>5</td>\n",
       "      <td>6288.99</td>\n",
       "      <td>1</td>\n",
       "      <td>15589.1</td>\n",
       "      <td>7</td>\n",
       "    </tr>\n",
       "    <tr>\n",
       "      <th>2</th>\n",
       "      <td>6</td>\n",
       "      <td>4477.2</td>\n",
       "      <td>1</td>\n",
       "      <td>20066.3</td>\n",
       "      <td>7</td>\n",
       "    </tr>\n",
       "    <tr>\n",
       "      <th>3</th>\n",
       "      <td>7</td>\n",
       "      <td>14961</td>\n",
       "      <td>2</td>\n",
       "      <td>35027.3</td>\n",
       "      <td>7</td>\n",
       "    </tr>\n",
       "    <tr>\n",
       "      <th>4</th>\n",
       "      <td>11</td>\n",
       "      <td>4476.77</td>\n",
       "      <td>2</td>\n",
       "      <td>39504</td>\n",
       "      <td>7</td>\n",
       "    </tr>\n",
       "  </tbody>\n",
       "</table>\n",
       "</div>"
      ],
      "text/plain": [
       "   Days Purchase_Margins  Week Total_Margins  County\n",
       "0     4          9300.07     1       9300.07       7\n",
       "1     5          6288.99     1       15589.1       7\n",
       "2     6           4477.2     1       20066.3       7\n",
       "3     7            14961     2       35027.3       7\n",
       "4    11          4476.77     2         39504       7"
      ]
     },
     "execution_count": 47,
     "metadata": {},
     "output_type": "execute_result"
    }
   ],
   "source": [
    "sales.head()"
   ]
  },
  {
   "cell_type": "markdown",
   "metadata": {},
   "source": [
    "# Modeling\n",
    "<a id='modeling'></a>"
   ]
  },
  {
   "cell_type": "code",
   "execution_count": 62,
   "metadata": {
    "collapsed": false
   },
   "outputs": [
    {
     "data": {
      "image/png": "[encoded data removed]",
      "text/plain": [
       "<matplotlib.figure.Figure at 0x1307b0cd0>"
      ]
     },
     "metadata": {},
     "output_type": "display_data"
    }
   ],
   "source": [
    "ax = sns.lmplot(x='Week',\n",
    "                y='Total_Margins',\n",
    "                hue='County', data=sales,\n",
    "               size=12)\n",
    "\n",
    "ax.set(xlabel=\"Week of 2015\",\n",
    "      ylabel=\"Total Profit Margin ($)\",\n",
    "      title=\"Cumulative Profits By Week\")\n",
    "plt.xlim(0,53)\n",
    "plt.ylim(0,5000000)\n",
    "plt.show()"
   ]
  },
  {
   "cell_type": "markdown",
   "metadata": {},
   "source": [
    "*Initial graph above shows that each of the stores has a relatively linear relationship with sales over time. There is some deviation away from the line but not much.*\n",
    "\n",
    "*Bright pink line shows the regression that seaborn linear model predicts to be the regression line. Will compare with the model that is predicted through sci-kit learn.*"
   ]
  },
  {
   "cell_type": "code",
   "execution_count": 65,
   "metadata": {
    "collapsed": false
   },
   "outputs": [],
   "source": [
    "# Convert to float to make sure that the data can be analyzed\n",
    "sales['Total_Margins'] = sales['Total_Margins'].map(float)"
   ]
  },
  {
   "cell_type": "code",
   "execution_count": 66,
   "metadata": {
    "collapsed": false
   },
   "outputs": [
    {
     "data": {
      "text/plain": [
       "Days                  int64\n",
       "Purchase_Margins     object\n",
       "Week                  int64\n",
       "Total_Margins       float64\n",
       "County                int64\n",
       "dtype: object"
      ]
     },
     "execution_count": 66,
     "metadata": {},
     "output_type": "execute_result"
    }
   ],
   "source": [
    "sales.dtypes"
   ]
  },
  {
   "cell_type": "markdown",
   "metadata": {},
   "source": [
    "### SciKit-Learn Regression\n",
    "<a id='sklearnreg'></a>"
   ]
  },
  {
   "cell_type": "code",
   "execution_count": 67,
   "metadata": {
    "collapsed": false
   },
   "outputs": [
    {
     "data": {
      "text/plain": [
       "((1499,), (1499,))"
      ]
     },
     "execution_count": 67,
     "metadata": {},
     "output_type": "execute_result"
    }
   ],
   "source": [
    "X = sales['Week'].values\n",
    "Y = sales['Total_Margins'].values\n",
    "\n",
    "X.shape, Y.shape"
   ]
  },
  {
   "cell_type": "code",
   "execution_count": 68,
   "metadata": {
    "collapsed": false
   },
   "outputs": [],
   "source": [
    "X_train, x_test, Y_train, y_test = train_test_split(X, Y, test_size=0.3)"
   ]
  },
  {
   "cell_type": "code",
   "execution_count": 69,
   "metadata": {
    "collapsed": false
   },
   "outputs": [
    {
     "name": "stdout",
     "output_type": "stream",
     "text": [
      "(1049,) (1049,)\n",
      "(450,) (450,)\n"
     ]
    }
   ],
   "source": [
    "print X_train.shape, Y_train.shape\n",
    "print x_test.shape, y_test.shape"
   ]
  },
  {
   "cell_type": "code",
   "execution_count": 71,
   "metadata": {
    "collapsed": false
   },
   "outputs": [
    {
     "data": {
      "text/plain": [
       "LinearRegression(copy_X=True, fit_intercept=True, n_jobs=1, normalize=False)"
      ]
     },
     "execution_count": 71,
     "metadata": {},
     "output_type": "execute_result"
    }
   ],
   "source": [
    "regr = LinearRegression()\n",
    "\n",
    "regr.fit(X_train.reshape(X_train.shape[0],1), Y_train.reshape(Y_train.shape[0],1))"
   ]
  },
  {
   "cell_type": "code",
   "execution_count": 73,
   "metadata": {
    "collapsed": false
   },
   "outputs": [
    {
     "name": "stdout",
     "output_type": "stream",
     "text": [
      " Coefficient of:  [[ 36183.46035573]]\n",
      "Score of:  0.351779789537\n"
     ]
    }
   ],
   "source": [
    "print \"Coefficient of: \", regr.coef_\n",
    "print \"Score of: \", regr.score(x_test.reshape(x_test.shape[0],1), y_test.reshape(y_test.shape[0],1))"
   ]
  },
  {
   "cell_type": "code",
   "execution_count": 75,
   "metadata": {
    "collapsed": false,
    "scrolled": true
   },
   "outputs": [
    {
     "data": {
      "image/png": "[encoded data removed]",
      "text/plain": [
       "<matplotlib.figure.Figure at 0x132453c10>"
      ]
     },
     "metadata": {},
     "output_type": "display_data"
    }
   ],
   "source": [
    "plt.figure(figsize=(15,15)) # Set large figure size\n",
    "\n",
    "plt.scatter(x_test, y_test,  color='black') # Plot Data Points \n",
    "plt.plot(x_test.reshape(x_test.shape[0],1), \n",
    "         regr.predict(x_test.reshape(x_test.shape[0],1)), \n",
    "         color='blue',\n",
    "         linewidth=3)\n",
    "\n",
    "plt.xticks()\n",
    "plt.yticks()\n",
    "\n",
    "plt.xlabel(\"Weeks\")\n",
    "plt.ylabel(\"Projected Profit ($)\")\n",
    "plt.title(\"2015 Sales in Top 10 Iowa Counties\")\n",
    "\n",
    "plt.xlim(1,53)\n",
    "plt.ylim(0,5000000)\n",
    "\n",
    "plt.show()"
   ]
  },
  {
   "cell_type": "code",
   "execution_count": 76,
   "metadata": {
    "collapsed": false
   },
   "outputs": [
    {
     "name": "stdout",
     "output_type": "stream",
     "text": [
      "For County Number: 7 Weekly Sale Increase of: [[ 28634.86260619]] Score of 0.999559649053\n",
      "For County Number: 77 Weekly Sale Increase of: [[ 93822.85222949]] Score of 0.999262026583\n",
      "For County Number: 57 Weekly Sale Increase of: [[ 45217.04631232]] Score of 0.999074763174\n",
      "For County Number: 82 Weekly Sale Increase of: [[ 31816.48500957]] Score of 0.999463835258\n",
      "For County Number: 52 Weekly Sale Increase of: [[ 26822.01719279]] Score of 0.999104046362\n",
      "For County Number: 85 Weekly Sale Increase of: [[ 16735.05160206]] Score of 0.997618450463\n",
      "For County Number: 78 Weekly Sale Increase of: [[ 16795.14954618]] Score of 0.99926142488\n",
      "For County Number: 97 Weekly Sale Increase of: [[ 16498.30439937]] Score of 0.998469771989\n",
      "For County Number: 31 Weekly Sale Increase of: [[ 15339.58578545]] Score of 0.997380326165\n",
      "For County Number: 17 Weekly Sale Increase of: [[ 12867.4775585]] Score of 0.998694497754\n"
     ]
    }
   ],
   "source": [
    "count = 0\n",
    "cdict = {}\n",
    "for df in [c7,c77,c57,c82,c52,c85,c78,c97,c31,c17]:\n",
    "    cns = [7,77,57,82,52,85,78,97,31,17]\n",
    "    X = df['Week'].values\n",
    "    Y = df['Total_Margins'].values\n",
    "    \n",
    "    X_train, x_test, Y_train, y_test = train_test_split(X, Y, test_size=0.3)\n",
    "    regr.fit(X_train.reshape(X_train.shape[0],1), Y_train.reshape(Y_train.shape[0],1))\n",
    "    \n",
    "    print \"For County Number:\", cns[count], \"Weekly Sale Increase of:\", regr.coef_, \"Score of\", regr.score(x_test.reshape(x_test.shape[0],1), y_test.reshape(y_test.shape[0],1))\n",
    "    \n",
    "    cdict[cns[count]] = regr.coef_\n",
    "    count += 1"
   ]
  },
  {
   "cell_type": "markdown",
   "metadata": {
    "collapsed": false
   },
   "source": [
    "# Conclusions <a id=\"Conc\"></a>"
   ]
  },
  {
   "cell_type": "markdown",
   "metadata": {},
   "source": [
    "The ten counties that generate the most revenue were isolated, and a model \n",
    "From above there are only two counties that greatly outpreform the others in Iowa in 2015. In order to build a more resilient model and determine if this is an appropriate way to determine which counties could benefit from an additional investment a few additional pieces of data would be helpful. These include:\n",
    "* Census data for growth of these counties\n",
    "* Liquor sales data from previous years\n",
    "* Income per capita in these counties over those respective years\n",
    "* Overhead in each of the individual counties. Employee prices, taxes, etc. \n",
    "* Census data for the counties, specifically focused on age, religion, and gender ratios.\n",
    "With the additional information from this data a more robust model could be developed."
   ]
  },
  {
   "cell_type": "markdown",
   "metadata": {},
   "source": [
    "#### KNN Aside <a id='KNN'></a>"
   ]
  },
  {
   "cell_type": "code",
   "execution_count": 77,
   "metadata": {
    "collapsed": false
   },
   "outputs": [],
   "source": [
    "cndict = {\n",
    "        7 : 28564.3,\n",
    "        17 : 12912,\n",
    "        31 : 15381.5,\n",
    "        52 : 26862.5,\n",
    "        57 : 45258.3,\n",
    "        77 : 93998.9,\n",
    "        78 : 16792.9,\n",
    "        82 : 31751.1,\n",
    "        85 : 16725.0,\n",
    "        97 : 16450.9}\n",
    "\n",
    "counties = cndict.keys()\n",
    "month_margin = cndict.values()"
   ]
  },
  {
   "cell_type": "code",
   "execution_count": 86,
   "metadata": {
    "collapsed": false
   },
   "outputs": [],
   "source": [
    "df = {'counties' : counties,\n",
    "'mo_margins' : month_margin}"
   ]
  },
  {
   "cell_type": "code",
   "execution_count": 104,
   "metadata": {
    "collapsed": false
   },
   "outputs": [
    {
     "data": {
      "text/plain": [
       "<bound method DataFrame.head of    counties  mo_margins  Strategic Investment\n",
       "0        17     12912.0                     1\n",
       "1        82     31751.1                     1\n",
       "2        52     26862.5                     1\n",
       "3        85     16725.0                     1\n",
       "4         7     28564.3                     1\n",
       "5        57     45258.3                     0\n",
       "6        97     16450.9                     1\n",
       "7        77     93998.9                     0\n",
       "8        78     16792.9                     1\n",
       "9        31     15381.5                     1>"
      ]
     },
     "execution_count": 104,
     "metadata": {},
     "output_type": "execute_result"
    }
   ],
   "source": [
    "df2= pd.DataFrame(df)\n",
    "\n",
    "df2['Strategic Investment'] = np.where(df2['mo_margins'] <= 36183.46035573, 1,0)"
   ]
  },
  {
   "cell_type": "code",
   "execution_count": 105,
   "metadata": {
    "collapsed": true
   },
   "outputs": [],
   "source": [
    "X = df2['mo_margins']\n",
    "y = df2['Strategic Investment']\n",
    "\n",
    "n_n = KNeighborsClassifier(n_neighbors=3, weights='distance')"
   ]
  },
  {
   "cell_type": "code",
   "execution_count": 107,
   "metadata": {
    "collapsed": false
   },
   "outputs": [
    {
     "name": "stderr",
     "output_type": "stream",
     "text": [
      "/Users/sebozek/anaconda/lib/python2.7/site-packages/ipykernel/__main__.py:1: DataConversionWarning: A column-vector y was passed when a 1d array was expected. Please change the shape of y to (n_samples, ), for example using ravel().\n",
      "  if __name__ == '__main__':\n"
     ]
    },
    {
     "data": {
      "text/plain": [
       "KNeighborsClassifier(algorithm='auto', leaf_size=30, metric='minkowski',\n",
       "           metric_params=None, n_jobs=1, n_neighbors=3, p=2,\n",
       "           weights='distance')"
      ]
     },
     "execution_count": 107,
     "metadata": {},
     "output_type": "execute_result"
    }
   ],
   "source": [
    "n_n.fit(X.reshape(X.shape[0],1),y.reshape(y.shape[0],1))"
   ]
  },
  {
   "cell_type": "code",
   "execution_count": 113,
   "metadata": {
    "collapsed": false
   },
   "outputs": [
    {
     "name": "stdout",
     "output_type": "stream",
     "text": [
      "[[ 0.  1.]\n",
      " [ 0.  1.]\n",
      " [ 0.  1.]\n",
      " [ 0.  1.]\n",
      " [ 0.  1.]\n",
      " [ 1.  0.]\n",
      " [ 0.  1.]\n",
      " [ 1.  0.]\n",
      " [ 0.  1.]\n",
      " [ 0.  1.]]\n"
     ]
    }
   ],
   "source": [
    "predictions = n_n.predict_proba(X.reshape(X.shape[0],1))\n",
    "\n",
    "print(predictions)"
   ]
  },
  {
   "cell_type": "markdown",
   "metadata": {},
   "source": [
    "* Create Dataframes for each of the counties by day and cumulative margins, total volume, bottles sold\n",
    "* Collapse into one dataframe\n",
    "* Perform regression on the consolidated dataframe\n",
    "* Create KNN for invest/not invest in the top ten counties based on how relative they are to the \n",
    "* List of datasets for further investigation/polishing"
   ]
  }
 ],
 "metadata": {
  "kernelspec": {
   "display_name": "Python 2",
   "language": "python",
   "name": "python2"
  },
  "language_info": {
   "codemirror_mode": {
    "name": "ipython",
    "version": 2
   },
   "file_extension": ".py",
   "mimetype": "text/x-python",
   "name": "python",
   "nbconvert_exporter": "python",
   "pygments_lexer": "ipython2",
   "version": "2.7.11"
  }
 },
 "nbformat": 4,
 "nbformat_minor": 0
}
