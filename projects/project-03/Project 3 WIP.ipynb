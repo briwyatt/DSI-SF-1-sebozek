{
 "cells": [
  {
   "cell_type": "markdown",
   "metadata": {},
   "source": [
    "## Project 3\n",
    "\n",
    "Store Analysis"
   ]
  },
  {
   "cell_type": "markdown",
   "metadata": {},
   "source": [
    "**Problem Statement**\n",
    "\n",
    "Which counties are the top ten in terms of retail sales to consumers (not wholesalers)? Since they are likely to be located in highly populated areas is their growth in volume sold and profit margin continuing to grow? Additionally which of these existing stores would be primed for additional investment, rather than the creation of a new store? Through analysis of the cumulative profits of these stores in relationship to the cost of liquor sold and the overall profit margin, a model can be created to determine which stores are performing well, which are not, and how to "
   ]
  },
  {
   "cell_type": "code",
   "execution_count": 1,
   "metadata": {
    "collapsed": false
   },
   "outputs": [],
   "source": [
    "# Import Packages\n",
    "\n",
    "# Functional Libraries\n",
    "import numpy as np\n",
    "import pandas as pd\n",
    "import re\n",
    "import patsy\n",
    "\n",
    "# Plotting Libraries\n",
    "import matplotlib.pyplot as plt\n",
    "import seaborn as sns\n",
    "\n",
    "\n",
    "# Math Libraries\n",
    "import statsmodels.api as sm\n",
    "import statsmodels.formula.api as smf\n",
    "\n",
    "\n",
    "# Modeling Libraries\n",
    "from sklearn.linear_model import LinearRegression, Ridge, Lasso\n",
    "from sklearn.cross_validation import train_test_split\n",
    "from sklearn.neighbors import KNeighborsClassifier\n",
    "\n",
    "%matplotlib inline"
   ]
  },
  {
   "cell_type": "code",
   "execution_count": 2,
   "metadata": {
    "collapsed": false
   },
   "outputs": [
    {
     "name": "stderr",
     "output_type": "stream",
     "text": [
      "/Users/sebozek/anaconda/lib/python2.7/site-packages/IPython/core/interactiveshell.py:2723: DtypeWarning: Columns (3) have mixed types. Specify dtype option on import or set low_memory=False.\n",
      "  interactivity=interactivity, compiler=compiler, result=result)\n"
     ]
    }
   ],
   "source": [
    "liquor = pd.read_csv('../../../Iowa_Liquor_Sales_reduced.csv') # Read in CSV"
   ]
  },
  {
   "cell_type": "code",
   "execution_count": 3,
   "metadata": {
    "collapsed": false
   },
   "outputs": [
    {
     "data": {
      "text/plain": [
       "(2709552, 18)"
      ]
     },
     "execution_count": 3,
     "metadata": {},
     "output_type": "execute_result"
    }
   ],
   "source": [
    "liquor.shape                                                   # Determine shape of the matrix"
   ]
  },
  {
   "cell_type": "markdown",
   "metadata": {},
   "source": [
    "## Exploratory Analysis\n",
    "\n",
    "*Look to clean up data, and run initial tests*"
   ]
  },
  {
   "cell_type": "code",
   "execution_count": 4,
   "metadata": {
    "collapsed": false
   },
   "outputs": [],
   "source": [
    "columns = liquor.columns.values      # Pull columns"
   ]
  },
  {
   "cell_type": "code",
   "execution_count": 5,
   "metadata": {
    "collapsed": false
   },
   "outputs": [],
   "source": [
    "new_cols = []                        # Create new list for assignment\n",
    "for column in columns:\n",
    "    col = re.sub('\\s+', '_', column) # Replace spaces with Underscores\n",
    "    col = re.sub('[()]','',col)      # Replace paren with emptyspace\n",
    "    new_cols.append(col)             # Add to columns list"
   ]
  },
  {
   "cell_type": "code",
   "execution_count": 6,
   "metadata": {
    "collapsed": false
   },
   "outputs": [],
   "source": [
    "liquor.columns = new_cols            # Assign Current Columns to New Name"
   ]
  },
  {
   "cell_type": "code",
   "execution_count": 7,
   "metadata": {
    "collapsed": false
   },
   "outputs": [
    {
     "data": {
      "text/html": [
       "<div>\n",
       "<table border=\"1\" class=\"dataframe\">\n",
       "  <thead>\n",
       "    <tr style=\"text-align: right;\">\n",
       "      <th></th>\n",
       "      <th>Date</th>\n",
       "      <th>Store_Number</th>\n",
       "      <th>City</th>\n",
       "      <th>Zip_Code</th>\n",
       "      <th>County_Number</th>\n",
       "      <th>County</th>\n",
       "      <th>Category</th>\n",
       "      <th>Category_Name</th>\n",
       "      <th>Vendor_Number</th>\n",
       "      <th>Item_Number</th>\n",
       "      <th>Item_Description</th>\n",
       "      <th>Bottle_Volume_ml</th>\n",
       "      <th>State_Bottle_Cost</th>\n",
       "      <th>State_Bottle_Retail</th>\n",
       "      <th>Bottles_Sold</th>\n",
       "      <th>Sale_Dollars</th>\n",
       "      <th>Volume_Sold_Liters</th>\n",
       "      <th>Volume_Sold_Gallons</th>\n",
       "    </tr>\n",
       "  </thead>\n",
       "  <tbody>\n",
       "    <tr>\n",
       "      <th>0</th>\n",
       "      <td>03/31/2016</td>\n",
       "      <td>5029</td>\n",
       "      <td>DAVENPORT</td>\n",
       "      <td>52806</td>\n",
       "      <td>82.0</td>\n",
       "      <td>Scott</td>\n",
       "      <td>1022100.0</td>\n",
       "      <td>TEQUILA</td>\n",
       "      <td>370</td>\n",
       "      <td>87152</td>\n",
       "      <td>Avion Silver</td>\n",
       "      <td>375</td>\n",
       "      <td>$9.99</td>\n",
       "      <td>$14.99</td>\n",
       "      <td>12</td>\n",
       "      <td>$179.88</td>\n",
       "      <td>4.5</td>\n",
       "      <td>1.19</td>\n",
       "    </tr>\n",
       "    <tr>\n",
       "      <th>1</th>\n",
       "      <td>03/31/2016</td>\n",
       "      <td>5029</td>\n",
       "      <td>DAVENPORT</td>\n",
       "      <td>52806</td>\n",
       "      <td>82.0</td>\n",
       "      <td>Scott</td>\n",
       "      <td>1022100.0</td>\n",
       "      <td>TEQUILA</td>\n",
       "      <td>395</td>\n",
       "      <td>89197</td>\n",
       "      <td>Jose Cuervo Especial Reposado Tequila</td>\n",
       "      <td>1000</td>\n",
       "      <td>$12.50</td>\n",
       "      <td>$18.75</td>\n",
       "      <td>2</td>\n",
       "      <td>$37.50</td>\n",
       "      <td>2.0</td>\n",
       "      <td>0.53</td>\n",
       "    </tr>\n",
       "    <tr>\n",
       "      <th>2</th>\n",
       "      <td>03/31/2016</td>\n",
       "      <td>4959</td>\n",
       "      <td>CEDAR FALLS</td>\n",
       "      <td>50613</td>\n",
       "      <td>7.0</td>\n",
       "      <td>Black Hawk</td>\n",
       "      <td>1071100.0</td>\n",
       "      <td>AMERICAN COCKTAILS</td>\n",
       "      <td>380</td>\n",
       "      <td>63959</td>\n",
       "      <td>Uv Blue Raspberry Lemonade Pet</td>\n",
       "      <td>1750</td>\n",
       "      <td>$5.97</td>\n",
       "      <td>$8.96</td>\n",
       "      <td>6</td>\n",
       "      <td>$53.76</td>\n",
       "      <td>10.5</td>\n",
       "      <td>2.77</td>\n",
       "    </tr>\n",
       "    <tr>\n",
       "      <th>3</th>\n",
       "      <td>03/31/2016</td>\n",
       "      <td>2190</td>\n",
       "      <td>DES MOINES</td>\n",
       "      <td>50314</td>\n",
       "      <td>77.0</td>\n",
       "      <td>Polk</td>\n",
       "      <td>1031200.0</td>\n",
       "      <td>VODKA FLAVORED</td>\n",
       "      <td>205</td>\n",
       "      <td>40597</td>\n",
       "      <td>New Amsterdam Red Berry</td>\n",
       "      <td>200</td>\n",
       "      <td>$2.24</td>\n",
       "      <td>$3.36</td>\n",
       "      <td>48</td>\n",
       "      <td>$161.28</td>\n",
       "      <td>9.6</td>\n",
       "      <td>2.54</td>\n",
       "    </tr>\n",
       "    <tr>\n",
       "      <th>4</th>\n",
       "      <td>03/31/2016</td>\n",
       "      <td>5240</td>\n",
       "      <td>WEST BRANCH</td>\n",
       "      <td>52358</td>\n",
       "      <td>NaN</td>\n",
       "      <td>NaN</td>\n",
       "      <td>1081200.0</td>\n",
       "      <td>CREAM LIQUEURS</td>\n",
       "      <td>305</td>\n",
       "      <td>73055</td>\n",
       "      <td>Rumchata</td>\n",
       "      <td>750</td>\n",
       "      <td>$12.50</td>\n",
       "      <td>$18.75</td>\n",
       "      <td>6</td>\n",
       "      <td>$112.50</td>\n",
       "      <td>4.5</td>\n",
       "      <td>1.19</td>\n",
       "    </tr>\n",
       "  </tbody>\n",
       "</table>\n",
       "</div>"
      ],
      "text/plain": [
       "         Date  Store_Number         City Zip_Code  County_Number      County  \\\n",
       "0  03/31/2016          5029    DAVENPORT    52806           82.0       Scott   \n",
       "1  03/31/2016          5029    DAVENPORT    52806           82.0       Scott   \n",
       "2  03/31/2016          4959  CEDAR FALLS    50613            7.0  Black Hawk   \n",
       "3  03/31/2016          2190   DES MOINES    50314           77.0        Polk   \n",
       "4  03/31/2016          5240  WEST BRANCH    52358            NaN         NaN   \n",
       "\n",
       "    Category       Category_Name  Vendor_Number  Item_Number  \\\n",
       "0  1022100.0             TEQUILA            370        87152   \n",
       "1  1022100.0             TEQUILA            395        89197   \n",
       "2  1071100.0  AMERICAN COCKTAILS            380        63959   \n",
       "3  1031200.0      VODKA FLAVORED            205        40597   \n",
       "4  1081200.0      CREAM LIQUEURS            305        73055   \n",
       "\n",
       "                        Item_Description  Bottle_Volume_ml State_Bottle_Cost  \\\n",
       "0                           Avion Silver               375             $9.99   \n",
       "1  Jose Cuervo Especial Reposado Tequila              1000            $12.50   \n",
       "2         Uv Blue Raspberry Lemonade Pet              1750             $5.97   \n",
       "3                New Amsterdam Red Berry               200             $2.24   \n",
       "4                               Rumchata               750            $12.50   \n",
       "\n",
       "  State_Bottle_Retail  Bottles_Sold Sale_Dollars  Volume_Sold_Liters  \\\n",
       "0              $14.99            12      $179.88                 4.5   \n",
       "1              $18.75             2       $37.50                 2.0   \n",
       "2               $8.96             6       $53.76                10.5   \n",
       "3               $3.36            48      $161.28                 9.6   \n",
       "4              $18.75             6      $112.50                 4.5   \n",
       "\n",
       "   Volume_Sold_Gallons  \n",
       "0                 1.19  \n",
       "1                 0.53  \n",
       "2                 2.77  \n",
       "3                 2.54  \n",
       "4                 1.19  "
      ]
     },
     "execution_count": 7,
     "metadata": {},
     "output_type": "execute_result"
    }
   ],
   "source": [
    "liquor.head()                        # Look at head of the dataframe"
   ]
  },
  {
   "cell_type": "code",
   "execution_count": 8,
   "metadata": {
    "collapsed": false
   },
   "outputs": [],
   "source": [
    "dollar_columns = ['State_Bottle_Cost',      # Pull cols with dollar values\n",
    "                  'State_Bottle_Retail', \n",
    "                  'Sale_Dollars']\n",
    "\n",
    "liquor[dollar_columns] = \\\n",
    "liquor[dollar_columns].replace(             # Replace:\n",
    "    '[\\$,]',                                # Dollar signs with:\n",
    "    \"\",regex=True                           # Empty Space and\n",
    ").astype(float)                             # Assign to float"
   ]
  },
  {
   "cell_type": "code",
   "execution_count": 9,
   "metadata": {
    "collapsed": false
   },
   "outputs": [
    {
     "data": {
      "text/plain": [
       "Date                    object\n",
       "Store_Number             int64\n",
       "City                    object\n",
       "Zip_Code                object\n",
       "County_Number          float64\n",
       "County                  object\n",
       "Category               float64\n",
       "Category_Name           object\n",
       "Vendor_Number            int64\n",
       "Item_Number              int64\n",
       "Item_Description        object\n",
       "Bottle_Volume_ml         int64\n",
       "State_Bottle_Cost      float64\n",
       "State_Bottle_Retail    float64\n",
       "Bottles_Sold             int64\n",
       "Sale_Dollars           float64\n",
       "Volume_Sold_Liters     float64\n",
       "Volume_Sold_Gallons    float64\n",
       "dtype: object"
      ]
     },
     "execution_count": 9,
     "metadata": {},
     "output_type": "execute_result"
    }
   ],
   "source": [
    "liquor.dtypes # assess conversion"
   ]
  },
  {
   "cell_type": "markdown",
   "metadata": {},
   "source": [
    "*Will be focusing on a County level of sales to determine what counties are worth focusing on. Because of that will be creating new dataframe that contains truncated list. \n",
    "Need to also turn date into a datetime object.\""
   ]
  },
  {
   "cell_type": "markdown",
   "metadata": {},
   "source": [
    "# Data Dictionary\n",
    "\n",
    "|Name|Description|Variable Type|\n",
    "|--|--|--|\n",
    "|Date|Date The Transaction Took Place|Ordinal|\n",
    "|Store_Number|Unique Numerical ID for Liquor Stores in Iowa|Ordinal|\n",
    "|City|City Where Store is Based|Categorical|\n",
    "|Zip_Code|Zip Code of Store Location|Ordinal|\n",
    "|County_Number|The County's Number as Assigned by the State of Iowa|Ordinal|\n",
    "|County|County Name|Categorical|\n",
    "|Category|Unique Numerical ID for Category of Sale|Ordinal|\n",
    "|Category_Name|Category of Alcohol Sold|Categorical|\n",
    "|Vendor_Number|Unique Numerical ID assigned to Vendor|Ordinal|\n",
    "|Item_Number|Unique Numerical ID of the Item Sold|Ordinal|\n",
    "|Item_Description|Description of the Item Sold|Categorical\n",
    "|Bottle_Volume_ml|Volume of the Bottle Sold|Interval|\n",
    "|State_Bottle_Cost|Cost of Bottle|Interval|\n",
    "|State_Bottle_Retail|Cost of Bottle at Retail|Interval|\n",
    "|Bottles_Sold|Number of Bottles Sold in Transaction|Ordinal|\n",
    "|Sale_Dollars|Total Price of Sale in Dollars|Interval|\n",
    "|Volume_Sold_Liters|Volume of Alcohol Sold in Liters|Interval|\n",
    "|Volume_Sold_Gallons|Volume of Alcohol Sold in Gallons|Interval|\n"
   ]
  },
  {
   "cell_type": "code",
   "execution_count": 10,
   "metadata": {
    "collapsed": true
   },
   "outputs": [],
   "source": [
    "liquor['Date'] = pd.to_datetime(liquor['Date'], format='%m/%d/%Y')# Convert to DateTime"
   ]
  },
  {
   "cell_type": "code",
   "execution_count": 11,
   "metadata": {
    "collapsed": false
   },
   "outputs": [],
   "source": [
    "liquor = liquor[['Date',                                          # Sale dates to split into 2015/2016\n",
    "                 'County_Number', 'Store_Number',                 # County  & Store identifiers\n",
    "                 'State_Bottle_Cost', 'State_Bottle_Retail',      # Costs of bottles sold\n",
    "                 'Bottles_Sold', 'Volume_Sold_Liters',            # Measures of how much was sold\n",
    "                 'Sale_Dollars'                                   # Amount of total sales\n",
    "                ]]"
   ]
  },
  {
   "cell_type": "code",
   "execution_count": 12,
   "metadata": {
    "collapsed": false
   },
   "outputs": [
    {
     "data": {
      "text/html": [
       "<div>\n",
       "<table border=\"1\" class=\"dataframe\">\n",
       "  <thead>\n",
       "    <tr style=\"text-align: right;\">\n",
       "      <th></th>\n",
       "      <th>Date</th>\n",
       "      <th>County_Number</th>\n",
       "      <th>Store_Number</th>\n",
       "      <th>State_Bottle_Cost</th>\n",
       "      <th>State_Bottle_Retail</th>\n",
       "      <th>Bottles_Sold</th>\n",
       "      <th>Volume_Sold_Liters</th>\n",
       "      <th>Sale_Dollars</th>\n",
       "    </tr>\n",
       "  </thead>\n",
       "  <tbody>\n",
       "    <tr>\n",
       "      <th>0</th>\n",
       "      <td>2016-03-31</td>\n",
       "      <td>82.0</td>\n",
       "      <td>5029</td>\n",
       "      <td>9.99</td>\n",
       "      <td>14.99</td>\n",
       "      <td>12</td>\n",
       "      <td>4.5</td>\n",
       "      <td>179.88</td>\n",
       "    </tr>\n",
       "    <tr>\n",
       "      <th>1</th>\n",
       "      <td>2016-03-31</td>\n",
       "      <td>82.0</td>\n",
       "      <td>5029</td>\n",
       "      <td>12.50</td>\n",
       "      <td>18.75</td>\n",
       "      <td>2</td>\n",
       "      <td>2.0</td>\n",
       "      <td>37.50</td>\n",
       "    </tr>\n",
       "    <tr>\n",
       "      <th>2</th>\n",
       "      <td>2016-03-31</td>\n",
       "      <td>7.0</td>\n",
       "      <td>4959</td>\n",
       "      <td>5.97</td>\n",
       "      <td>8.96</td>\n",
       "      <td>6</td>\n",
       "      <td>10.5</td>\n",
       "      <td>53.76</td>\n",
       "    </tr>\n",
       "    <tr>\n",
       "      <th>3</th>\n",
       "      <td>2016-03-31</td>\n",
       "      <td>77.0</td>\n",
       "      <td>2190</td>\n",
       "      <td>2.24</td>\n",
       "      <td>3.36</td>\n",
       "      <td>48</td>\n",
       "      <td>9.6</td>\n",
       "      <td>161.28</td>\n",
       "    </tr>\n",
       "    <tr>\n",
       "      <th>4</th>\n",
       "      <td>2016-03-31</td>\n",
       "      <td>NaN</td>\n",
       "      <td>5240</td>\n",
       "      <td>12.50</td>\n",
       "      <td>18.75</td>\n",
       "      <td>6</td>\n",
       "      <td>4.5</td>\n",
       "      <td>112.50</td>\n",
       "    </tr>\n",
       "  </tbody>\n",
       "</table>\n",
       "</div>"
      ],
      "text/plain": [
       "        Date  County_Number  Store_Number  State_Bottle_Cost  \\\n",
       "0 2016-03-31           82.0          5029               9.99   \n",
       "1 2016-03-31           82.0          5029              12.50   \n",
       "2 2016-03-31            7.0          4959               5.97   \n",
       "3 2016-03-31           77.0          2190               2.24   \n",
       "4 2016-03-31            NaN          5240              12.50   \n",
       "\n",
       "   State_Bottle_Retail  Bottles_Sold  Volume_Sold_Liters  Sale_Dollars  \n",
       "0                14.99            12                 4.5        179.88  \n",
       "1                18.75             2                 2.0         37.50  \n",
       "2                 8.96             6                10.5         53.76  \n",
       "3                 3.36            48                 9.6        161.28  \n",
       "4                18.75             6                 4.5        112.50  "
      ]
     },
     "execution_count": 12,
     "metadata": {},
     "output_type": "execute_result"
    }
   ],
   "source": [
    "liquor.head()"
   ]
  },
  {
   "cell_type": "markdown",
   "metadata": {},
   "source": [
    "# Modified Data Dictionary\n",
    "\n",
    "|Name|Description|Variable Type|\n",
    "|--|--|--|\n",
    "|Date|Date The Transaction Took Place|Ordinal|\n",
    "|County_Number|The County's Number as Assigned by the State of Iowa|Ordinal|\n",
    "|County|County Name|Categorical|\n",
    "|State_Bottle_Cost|Cost of Bottle|Interval|\n",
    "|State_Bottle_Retail|Cost of Bottle at Retail|Interval|\n",
    "|Bottles_Sold|Number of Bottles Sold in Transaction|Ordinal|\n",
    "|Sale_Dollars|Total Price of Sale in Dollars|Interval|\n",
    "|Volume_Sold_Liters|Volume of Alcohol Sold in Liters|Interval|"
   ]
  },
  {
   "cell_type": "code",
   "execution_count": 13,
   "metadata": {
    "collapsed": false
   },
   "outputs": [],
   "source": [
    "liquor = liquor.dropna(axis=0, how='any') # Drop any row that contains a NaN value"
   ]
  },
  {
   "cell_type": "code",
   "execution_count": 14,
   "metadata": {
    "collapsed": false
   },
   "outputs": [],
   "source": [
    "# Create a Year column fo separating into 2015 and 2016\n",
    "\n",
    "liquor['Year'] = liquor['Date'].map(lambda x: x.year)"
   ]
  },
  {
   "cell_type": "code",
   "execution_count": 15,
   "metadata": {
    "collapsed": false
   },
   "outputs": [
    {
     "data": {
      "text/html": [
       "<div>\n",
       "<table border=\"1\" class=\"dataframe\">\n",
       "  <thead>\n",
       "    <tr style=\"text-align: right;\">\n",
       "      <th></th>\n",
       "      <th>County_Number</th>\n",
       "      <th>Sale_Dollars</th>\n",
       "      <th>Date</th>\n",
       "    </tr>\n",
       "  </thead>\n",
       "  <tbody>\n",
       "    <tr>\n",
       "      <th>0</th>\n",
       "      <td>82.0</td>\n",
       "      <td>179.88</td>\n",
       "      <td>2016-03-31</td>\n",
       "    </tr>\n",
       "    <tr>\n",
       "      <th>1</th>\n",
       "      <td>82.0</td>\n",
       "      <td>37.50</td>\n",
       "      <td>2016-03-31</td>\n",
       "    </tr>\n",
       "    <tr>\n",
       "      <th>2</th>\n",
       "      <td>7.0</td>\n",
       "      <td>53.76</td>\n",
       "      <td>2016-03-31</td>\n",
       "    </tr>\n",
       "    <tr>\n",
       "      <th>3</th>\n",
       "      <td>77.0</td>\n",
       "      <td>161.28</td>\n",
       "      <td>2016-03-31</td>\n",
       "    </tr>\n",
       "    <tr>\n",
       "      <th>5</th>\n",
       "      <td>7.0</td>\n",
       "      <td>34.50</td>\n",
       "      <td>2016-03-31</td>\n",
       "    </tr>\n",
       "    <tr>\n",
       "      <th>6</th>\n",
       "      <td>7.0</td>\n",
       "      <td>52.04</td>\n",
       "      <td>2016-03-31</td>\n",
       "    </tr>\n",
       "    <tr>\n",
       "      <th>7</th>\n",
       "      <td>82.0</td>\n",
       "      <td>252.00</td>\n",
       "      <td>2016-03-31</td>\n",
       "    </tr>\n",
       "    <tr>\n",
       "      <th>8</th>\n",
       "      <td>77.0</td>\n",
       "      <td>106.50</td>\n",
       "      <td>2016-03-31</td>\n",
       "    </tr>\n",
       "    <tr>\n",
       "      <th>9</th>\n",
       "      <td>82.0</td>\n",
       "      <td>191.88</td>\n",
       "      <td>2016-03-31</td>\n",
       "    </tr>\n",
       "    <tr>\n",
       "      <th>10</th>\n",
       "      <td>82.0</td>\n",
       "      <td>486.00</td>\n",
       "      <td>2016-03-31</td>\n",
       "    </tr>\n",
       "    <tr>\n",
       "      <th>16</th>\n",
       "      <td>77.0</td>\n",
       "      <td>64.80</td>\n",
       "      <td>2016-03-31</td>\n",
       "    </tr>\n",
       "    <tr>\n",
       "      <th>23</th>\n",
       "      <td>17.0</td>\n",
       "      <td>72.12</td>\n",
       "      <td>2016-03-31</td>\n",
       "    </tr>\n",
       "    <tr>\n",
       "      <th>28</th>\n",
       "      <td>77.0</td>\n",
       "      <td>94.08</td>\n",
       "      <td>2016-03-31</td>\n",
       "    </tr>\n",
       "    <tr>\n",
       "      <th>34</th>\n",
       "      <td>77.0</td>\n",
       "      <td>100.62</td>\n",
       "      <td>2016-03-31</td>\n",
       "    </tr>\n",
       "    <tr>\n",
       "      <th>41</th>\n",
       "      <td>7.0</td>\n",
       "      <td>238.80</td>\n",
       "      <td>2016-03-31</td>\n",
       "    </tr>\n",
       "    <tr>\n",
       "      <th>42</th>\n",
       "      <td>52.0</td>\n",
       "      <td>179.94</td>\n",
       "      <td>2016-03-31</td>\n",
       "    </tr>\n",
       "    <tr>\n",
       "      <th>44</th>\n",
       "      <td>37.0</td>\n",
       "      <td>121.56</td>\n",
       "      <td>2016-03-31</td>\n",
       "    </tr>\n",
       "    <tr>\n",
       "      <th>48</th>\n",
       "      <td>52.0</td>\n",
       "      <td>31.05</td>\n",
       "      <td>2016-03-31</td>\n",
       "    </tr>\n",
       "    <tr>\n",
       "      <th>52</th>\n",
       "      <td>52.0</td>\n",
       "      <td>9.24</td>\n",
       "      <td>2016-03-31</td>\n",
       "    </tr>\n",
       "    <tr>\n",
       "      <th>53</th>\n",
       "      <td>52.0</td>\n",
       "      <td>14.40</td>\n",
       "      <td>2016-03-31</td>\n",
       "    </tr>\n",
       "    <tr>\n",
       "      <th>54</th>\n",
       "      <td>52.0</td>\n",
       "      <td>21.60</td>\n",
       "      <td>2016-03-31</td>\n",
       "    </tr>\n",
       "    <tr>\n",
       "      <th>70</th>\n",
       "      <td>98.0</td>\n",
       "      <td>67.47</td>\n",
       "      <td>2016-03-31</td>\n",
       "    </tr>\n",
       "    <tr>\n",
       "      <th>76</th>\n",
       "      <td>79.0</td>\n",
       "      <td>103.44</td>\n",
       "      <td>2016-03-31</td>\n",
       "    </tr>\n",
       "    <tr>\n",
       "      <th>79</th>\n",
       "      <td>17.0</td>\n",
       "      <td>23.92</td>\n",
       "      <td>2016-03-31</td>\n",
       "    </tr>\n",
       "    <tr>\n",
       "      <th>84</th>\n",
       "      <td>7.0</td>\n",
       "      <td>153.00</td>\n",
       "      <td>2016-03-31</td>\n",
       "    </tr>\n",
       "    <tr>\n",
       "      <th>90</th>\n",
       "      <td>17.0</td>\n",
       "      <td>30.54</td>\n",
       "      <td>2016-03-31</td>\n",
       "    </tr>\n",
       "    <tr>\n",
       "      <th>95</th>\n",
       "      <td>17.0</td>\n",
       "      <td>99.00</td>\n",
       "      <td>2016-03-31</td>\n",
       "    </tr>\n",
       "    <tr>\n",
       "      <th>96</th>\n",
       "      <td>17.0</td>\n",
       "      <td>26.10</td>\n",
       "      <td>2016-03-31</td>\n",
       "    </tr>\n",
       "    <tr>\n",
       "      <th>108</th>\n",
       "      <td>24.0</td>\n",
       "      <td>11.88</td>\n",
       "      <td>2016-03-31</td>\n",
       "    </tr>\n",
       "    <tr>\n",
       "      <th>164</th>\n",
       "      <td>95.0</td>\n",
       "      <td>211.56</td>\n",
       "      <td>2016-03-31</td>\n",
       "    </tr>\n",
       "    <tr>\n",
       "      <th>...</th>\n",
       "      <td>...</td>\n",
       "      <td>...</td>\n",
       "      <td>...</td>\n",
       "    </tr>\n",
       "    <tr>\n",
       "      <th>2697743</th>\n",
       "      <td>58.0</td>\n",
       "      <td>37.44</td>\n",
       "      <td>2015-01-05</td>\n",
       "    </tr>\n",
       "    <tr>\n",
       "      <th>2697747</th>\n",
       "      <td>12.0</td>\n",
       "      <td>72.00</td>\n",
       "      <td>2015-01-05</td>\n",
       "    </tr>\n",
       "    <tr>\n",
       "      <th>2697781</th>\n",
       "      <td>5.0</td>\n",
       "      <td>9.96</td>\n",
       "      <td>2015-01-05</td>\n",
       "    </tr>\n",
       "    <tr>\n",
       "      <th>2697808</th>\n",
       "      <td>39.0</td>\n",
       "      <td>75.00</td>\n",
       "      <td>2015-01-05</td>\n",
       "    </tr>\n",
       "    <tr>\n",
       "      <th>2697825</th>\n",
       "      <td>12.0</td>\n",
       "      <td>117.00</td>\n",
       "      <td>2015-01-05</td>\n",
       "    </tr>\n",
       "    <tr>\n",
       "      <th>2697854</th>\n",
       "      <td>5.0</td>\n",
       "      <td>13.02</td>\n",
       "      <td>2015-01-05</td>\n",
       "    </tr>\n",
       "    <tr>\n",
       "      <th>2697855</th>\n",
       "      <td>51.0</td>\n",
       "      <td>107.64</td>\n",
       "      <td>2015-01-05</td>\n",
       "    </tr>\n",
       "    <tr>\n",
       "      <th>2697919</th>\n",
       "      <td>39.0</td>\n",
       "      <td>40.80</td>\n",
       "      <td>2015-01-05</td>\n",
       "    </tr>\n",
       "    <tr>\n",
       "      <th>2697967</th>\n",
       "      <td>1.0</td>\n",
       "      <td>261.60</td>\n",
       "      <td>2015-01-05</td>\n",
       "    </tr>\n",
       "    <tr>\n",
       "      <th>2697978</th>\n",
       "      <td>17.0</td>\n",
       "      <td>85.56</td>\n",
       "      <td>2015-01-05</td>\n",
       "    </tr>\n",
       "    <tr>\n",
       "      <th>2698084</th>\n",
       "      <td>33.0</td>\n",
       "      <td>105.78</td>\n",
       "      <td>2015-01-05</td>\n",
       "    </tr>\n",
       "    <tr>\n",
       "      <th>2698128</th>\n",
       "      <td>31.0</td>\n",
       "      <td>144.00</td>\n",
       "      <td>2015-01-05</td>\n",
       "    </tr>\n",
       "    <tr>\n",
       "      <th>2698197</th>\n",
       "      <td>1.0</td>\n",
       "      <td>99.72</td>\n",
       "      <td>2015-01-05</td>\n",
       "    </tr>\n",
       "    <tr>\n",
       "      <th>2698319</th>\n",
       "      <td>16.0</td>\n",
       "      <td>11.82</td>\n",
       "      <td>2015-01-05</td>\n",
       "    </tr>\n",
       "    <tr>\n",
       "      <th>2698434</th>\n",
       "      <td>1.0</td>\n",
       "      <td>94.08</td>\n",
       "      <td>2015-01-05</td>\n",
       "    </tr>\n",
       "    <tr>\n",
       "      <th>2698452</th>\n",
       "      <td>85.0</td>\n",
       "      <td>106.56</td>\n",
       "      <td>2015-01-05</td>\n",
       "    </tr>\n",
       "    <tr>\n",
       "      <th>2698455</th>\n",
       "      <td>33.0</td>\n",
       "      <td>14.04</td>\n",
       "      <td>2015-01-05</td>\n",
       "    </tr>\n",
       "    <tr>\n",
       "      <th>2698678</th>\n",
       "      <td>85.0</td>\n",
       "      <td>64.80</td>\n",
       "      <td>2015-01-05</td>\n",
       "    </tr>\n",
       "    <tr>\n",
       "      <th>2698829</th>\n",
       "      <td>33.0</td>\n",
       "      <td>38.28</td>\n",
       "      <td>2015-01-05</td>\n",
       "    </tr>\n",
       "    <tr>\n",
       "      <th>2698951</th>\n",
       "      <td>31.0</td>\n",
       "      <td>88.92</td>\n",
       "      <td>2015-01-05</td>\n",
       "    </tr>\n",
       "    <tr>\n",
       "      <th>2699009</th>\n",
       "      <td>33.0</td>\n",
       "      <td>25.56</td>\n",
       "      <td>2015-01-05</td>\n",
       "    </tr>\n",
       "    <tr>\n",
       "      <th>2699174</th>\n",
       "      <td>17.0</td>\n",
       "      <td>121.56</td>\n",
       "      <td>2015-01-05</td>\n",
       "    </tr>\n",
       "    <tr>\n",
       "      <th>2699318</th>\n",
       "      <td>85.0</td>\n",
       "      <td>279.12</td>\n",
       "      <td>2015-01-05</td>\n",
       "    </tr>\n",
       "    <tr>\n",
       "      <th>2700543</th>\n",
       "      <td>12.0</td>\n",
       "      <td>162.00</td>\n",
       "      <td>2015-01-05</td>\n",
       "    </tr>\n",
       "    <tr>\n",
       "      <th>2700569</th>\n",
       "      <td>85.0</td>\n",
       "      <td>79.20</td>\n",
       "      <td>2015-01-05</td>\n",
       "    </tr>\n",
       "    <tr>\n",
       "      <th>2701182</th>\n",
       "      <td>12.0</td>\n",
       "      <td>67.14</td>\n",
       "      <td>2015-01-05</td>\n",
       "    </tr>\n",
       "    <tr>\n",
       "      <th>2701987</th>\n",
       "      <td>31.0</td>\n",
       "      <td>71.52</td>\n",
       "      <td>2015-01-05</td>\n",
       "    </tr>\n",
       "    <tr>\n",
       "      <th>2703519</th>\n",
       "      <td>31.0</td>\n",
       "      <td>119.40</td>\n",
       "      <td>2015-01-05</td>\n",
       "    </tr>\n",
       "    <tr>\n",
       "      <th>2703573</th>\n",
       "      <td>85.0</td>\n",
       "      <td>270.00</td>\n",
       "      <td>2015-01-05</td>\n",
       "    </tr>\n",
       "    <tr>\n",
       "      <th>2703677</th>\n",
       "      <td>17.0</td>\n",
       "      <td>333.00</td>\n",
       "      <td>2015-01-05</td>\n",
       "    </tr>\n",
       "  </tbody>\n",
       "</table>\n",
       "<p>48318 rows × 3 columns</p>\n",
       "</div>"
      ],
      "text/plain": [
       "         County_Number  Sale_Dollars       Date\n",
       "0                 82.0        179.88 2016-03-31\n",
       "1                 82.0         37.50 2016-03-31\n",
       "2                  7.0         53.76 2016-03-31\n",
       "3                 77.0        161.28 2016-03-31\n",
       "5                  7.0         34.50 2016-03-31\n",
       "6                  7.0         52.04 2016-03-31\n",
       "7                 82.0        252.00 2016-03-31\n",
       "8                 77.0        106.50 2016-03-31\n",
       "9                 82.0        191.88 2016-03-31\n",
       "10                82.0        486.00 2016-03-31\n",
       "16                77.0         64.80 2016-03-31\n",
       "23                17.0         72.12 2016-03-31\n",
       "28                77.0         94.08 2016-03-31\n",
       "34                77.0        100.62 2016-03-31\n",
       "41                 7.0        238.80 2016-03-31\n",
       "42                52.0        179.94 2016-03-31\n",
       "44                37.0        121.56 2016-03-31\n",
       "48                52.0         31.05 2016-03-31\n",
       "52                52.0          9.24 2016-03-31\n",
       "53                52.0         14.40 2016-03-31\n",
       "54                52.0         21.60 2016-03-31\n",
       "70                98.0         67.47 2016-03-31\n",
       "76                79.0        103.44 2016-03-31\n",
       "79                17.0         23.92 2016-03-31\n",
       "84                 7.0        153.00 2016-03-31\n",
       "90                17.0         30.54 2016-03-31\n",
       "95                17.0         99.00 2016-03-31\n",
       "96                17.0         26.10 2016-03-31\n",
       "108               24.0         11.88 2016-03-31\n",
       "164               95.0        211.56 2016-03-31\n",
       "...                ...           ...        ...\n",
       "2697743           58.0         37.44 2015-01-05\n",
       "2697747           12.0         72.00 2015-01-05\n",
       "2697781            5.0          9.96 2015-01-05\n",
       "2697808           39.0         75.00 2015-01-05\n",
       "2697825           12.0        117.00 2015-01-05\n",
       "2697854            5.0         13.02 2015-01-05\n",
       "2697855           51.0        107.64 2015-01-05\n",
       "2697919           39.0         40.80 2015-01-05\n",
       "2697967            1.0        261.60 2015-01-05\n",
       "2697978           17.0         85.56 2015-01-05\n",
       "2698084           33.0        105.78 2015-01-05\n",
       "2698128           31.0        144.00 2015-01-05\n",
       "2698197            1.0         99.72 2015-01-05\n",
       "2698319           16.0         11.82 2015-01-05\n",
       "2698434            1.0         94.08 2015-01-05\n",
       "2698452           85.0        106.56 2015-01-05\n",
       "2698455           33.0         14.04 2015-01-05\n",
       "2698678           85.0         64.80 2015-01-05\n",
       "2698829           33.0         38.28 2015-01-05\n",
       "2698951           31.0         88.92 2015-01-05\n",
       "2699009           33.0         25.56 2015-01-05\n",
       "2699174           17.0        121.56 2015-01-05\n",
       "2699318           85.0        279.12 2015-01-05\n",
       "2700543           12.0        162.00 2015-01-05\n",
       "2700569           85.0         79.20 2015-01-05\n",
       "2701182           12.0         67.14 2015-01-05\n",
       "2701987           31.0         71.52 2015-01-05\n",
       "2703519           31.0        119.40 2015-01-05\n",
       "2703573           85.0        270.00 2015-01-05\n",
       "2703677           17.0        333.00 2015-01-05\n",
       "\n",
       "[48318 rows x 3 columns]"
      ]
     },
     "execution_count": 15,
     "metadata": {},
     "output_type": "execute_result"
    }
   ],
   "source": [
    "sale_Dollars = liquor[['County_Number','Sale_Dollars','Date']].groupby(['Date', 'County_Number'])\n",
    "\n",
    "sale_Dollars.head()"
   ]
  },
  {
   "cell_type": "code",
   "execution_count": 16,
   "metadata": {
    "collapsed": false
   },
   "outputs": [],
   "source": [
    "# sns.heatmap(sale_Dollars.corr())"
   ]
  },
  {
   "cell_type": "markdown",
   "metadata": {},
   "source": [
    "*From the above heatmap there appears to be a strong correlation between the volume sold, the sale in dollars, and the retail cost  of the bottle, all of which were expected.*"
   ]
  },
  {
   "cell_type": "markdown",
   "metadata": {},
   "source": [
    "*Want to look at the sales data to determine what the spread of the values are and then determine which range to use to isolate only sales that were done to general consumers.*"
   ]
  },
  {
   "cell_type": "code",
   "execution_count": 17,
   "metadata": {
    "collapsed": false
   },
   "outputs": [
    {
     "data": {
      "text/plain": [
       "count    2.698639e+06\n",
       "mean     1.291850e+02\n",
       "std      4.000251e+02\n",
       "min      1.340000e+00\n",
       "25%      3.048000e+01\n",
       "50%      7.056000e+01\n",
       "75%      1.350000e+02\n",
       "max      1.063260e+05\n",
       "Name: Sale_Dollars, dtype: float64"
      ]
     },
     "execution_count": 17,
     "metadata": {},
     "output_type": "execute_result"
    }
   ],
   "source": [
    "liquor['Sale_Dollars'].describe() # Q3 - Q1 : 135 - 30.48"
   ]
  },
  {
   "cell_type": "markdown",
   "metadata": {},
   "source": [
    "*Before isolation of the interquartile range will want to look at the sum of the total sales below Q1, above Q3, and inbetween those two values*"
   ]
  },
  {
   "cell_type": "code",
   "execution_count": 18,
   "metadata": {
    "collapsed": false
   },
   "outputs": [
    {
     "name": "stdout",
     "output_type": "stream",
     "text": [
      "Below First Quartile 12066319.94\n",
      "Interquartile 100000009.87\n",
      "Above Third Quartile 236557388.82\n"
     ]
    }
   ],
   "source": [
    "print \"Below First Quartile\", liquor['Sale_Dollars'][liquor['Sale_Dollars'] <= 30.48].sum()\n",
    "print \"Interquartile\", liquor['Sale_Dollars'][(liquor['Sale_Dollars'] > 30.48) & (liquor['Sale_Dollars'] < 135.00)].sum()\n",
    "print \"Above Third Quartile\", liquor['Sale_Dollars'][liquor['Sale_Dollars'] >= 135.00].sum()"
   ]
  },
  {
   "cell_type": "code",
   "execution_count": 19,
   "metadata": {
    "collapsed": true
   },
   "outputs": [],
   "source": [
    "liquor = liquor[(liquor['Sale_Dollars'] > 30.48) & (liquor['Sale_Dollars'] < 135.00)]"
   ]
  },
  {
   "cell_type": "code",
   "execution_count": 20,
   "metadata": {
    "collapsed": false
   },
   "outputs": [],
   "source": [
    "liquor['Purchase_Margins'] =  liquor['Sale_Dollars'] - (liquor['State_Bottle_Cost'] * liquor['Bottles_Sold'])     # Find cost of bottles"
   ]
  },
  {
   "cell_type": "code",
   "execution_count": 21,
   "metadata": {
    "collapsed": false
   },
   "outputs": [
    {
     "data": {
      "text/plain": [
       "(0, 100)"
      ]
     },
     "execution_count": 21,
     "metadata": {},
     "output_type": "execute_result"
    },
    {
     "data": {
      "image/png": "[encoded data removed]",
      "text/plain": [
       "<matplotlib.figure.Figure at 0x117996650>"
      ]
     },
     "metadata": {},
     "output_type": "display_data"
    }
   ],
   "source": [
    "plt.scatter(data=liquor, x='Bottles_Sold', y= \"Purchase_Margins\")\n",
    "\n",
    "\n",
    "plt.xlabel(\"Bottles Sold\")\n",
    "plt.ylabel(\"Margins ($)\")\n",
    "plt.xlim(0, 100)\n",
    "plt.ylim(0, 100)"
   ]
  },
  {
   "cell_type": "code",
   "execution_count": 22,
   "metadata": {
    "collapsed": true
   },
   "outputs": [],
   "source": [
    "# Create DataFrames for 2015 and 2016\n",
    "\n",
    "liquor2015 = liquor[liquor['Year'] == 2015]\n",
    "\n",
    "liquor2016 = liquor[liquor['Year'] == 2016 ]"
   ]
  },
  {
   "cell_type": "code",
   "execution_count": 23,
   "metadata": {
    "collapsed": false
   },
   "outputs": [
    {
     "name": "stderr",
     "output_type": "stream",
     "text": [
      "/Users/sebozek/anaconda/lib/python2.7/site-packages/ipykernel/__main__.py:1: FutureWarning: sort(columns=....) is deprecated, use sort_values(by=.....)\n",
      "  if __name__ == '__main__':\n"
     ]
    },
    {
     "data": {
      "text/html": [
       "<div>\n",
       "<table border=\"1\" class=\"dataframe\">\n",
       "  <thead>\n",
       "    <tr style=\"text-align: right;\">\n",
       "      <th></th>\n",
       "      <th>Date</th>\n",
       "      <th>County_Number</th>\n",
       "      <th>Store_Number</th>\n",
       "      <th>State_Bottle_Cost</th>\n",
       "      <th>State_Bottle_Retail</th>\n",
       "      <th>Bottles_Sold</th>\n",
       "      <th>Volume_Sold_Liters</th>\n",
       "      <th>Sale_Dollars</th>\n",
       "      <th>Year</th>\n",
       "      <th>Purchase_Margins</th>\n",
       "    </tr>\n",
       "  </thead>\n",
       "  <tbody>\n",
       "    <tr>\n",
       "      <th>1693691</th>\n",
       "      <td>2015-06-25</td>\n",
       "      <td>50.0</td>\n",
       "      <td>4604</td>\n",
       "      <td>19.99</td>\n",
       "      <td>30.49</td>\n",
       "      <td>1</td>\n",
       "      <td>1.75</td>\n",
       "      <td>30.49</td>\n",
       "      <td>2015</td>\n",
       "      <td>10.5</td>\n",
       "    </tr>\n",
       "    <tr>\n",
       "      <th>671020</th>\n",
       "      <td>2015-12-10</td>\n",
       "      <td>77.0</td>\n",
       "      <td>4773</td>\n",
       "      <td>19.99</td>\n",
       "      <td>30.49</td>\n",
       "      <td>1</td>\n",
       "      <td>1.75</td>\n",
       "      <td>30.49</td>\n",
       "      <td>2015</td>\n",
       "      <td>10.5</td>\n",
       "    </tr>\n",
       "    <tr>\n",
       "      <th>576621</th>\n",
       "      <td>2015-12-26</td>\n",
       "      <td>22.0</td>\n",
       "      <td>3957</td>\n",
       "      <td>19.99</td>\n",
       "      <td>30.49</td>\n",
       "      <td>1</td>\n",
       "      <td>1.75</td>\n",
       "      <td>30.49</td>\n",
       "      <td>2015</td>\n",
       "      <td>10.5</td>\n",
       "    </tr>\n",
       "    <tr>\n",
       "      <th>586154</th>\n",
       "      <td>2015-12-22</td>\n",
       "      <td>97.0</td>\n",
       "      <td>3820</td>\n",
       "      <td>19.99</td>\n",
       "      <td>30.49</td>\n",
       "      <td>1</td>\n",
       "      <td>1.75</td>\n",
       "      <td>30.49</td>\n",
       "      <td>2015</td>\n",
       "      <td>10.5</td>\n",
       "    </tr>\n",
       "    <tr>\n",
       "      <th>600107</th>\n",
       "      <td>2015-12-21</td>\n",
       "      <td>52.0</td>\n",
       "      <td>3822</td>\n",
       "      <td>19.99</td>\n",
       "      <td>30.49</td>\n",
       "      <td>1</td>\n",
       "      <td>1.75</td>\n",
       "      <td>30.49</td>\n",
       "      <td>2015</td>\n",
       "      <td>10.5</td>\n",
       "    </tr>\n",
       "  </tbody>\n",
       "</table>\n",
       "</div>"
      ],
      "text/plain": [
       "              Date  County_Number  Store_Number  State_Bottle_Cost  \\\n",
       "1693691 2015-06-25           50.0          4604              19.99   \n",
       "671020  2015-12-10           77.0          4773              19.99   \n",
       "576621  2015-12-26           22.0          3957              19.99   \n",
       "586154  2015-12-22           97.0          3820              19.99   \n",
       "600107  2015-12-21           52.0          3822              19.99   \n",
       "\n",
       "         State_Bottle_Retail  Bottles_Sold  Volume_Sold_Liters  Sale_Dollars  \\\n",
       "1693691                30.49             1                1.75         30.49   \n",
       "671020                 30.49             1                1.75         30.49   \n",
       "576621                 30.49             1                1.75         30.49   \n",
       "586154                 30.49             1                1.75         30.49   \n",
       "600107                 30.49             1                1.75         30.49   \n",
       "\n",
       "         Year  Purchase_Margins  \n",
       "1693691  2015              10.5  \n",
       "671020   2015              10.5  \n",
       "576621   2015              10.5  \n",
       "586154   2015              10.5  \n",
       "600107   2015              10.5  "
      ]
     },
     "execution_count": 23,
     "metadata": {},
     "output_type": "execute_result"
    }
   ],
   "source": [
    "liquor2015 = liquor2015.sort(['Sale_Dollars'], ascending = False) # Order by Sales\n",
    "\n",
    "liquor2015.tail()"
   ]
  },
  {
   "cell_type": "code",
   "execution_count": 24,
   "metadata": {
    "collapsed": false
   },
   "outputs": [
    {
     "name": "stderr",
     "output_type": "stream",
     "text": [
      "/Users/sebozek/anaconda/lib/python2.7/site-packages/ipykernel/__main__.py:2: FutureWarning: sort(columns=....) is deprecated, use sort_values(by=.....)\n",
      "  from ipykernel import kernelapp as app\n"
     ]
    }
   ],
   "source": [
    "l15 = liquor2015[['Sale_Dollars', 'County_Number']].groupby('County_Number').sum() # Create sums by county\n",
    "l15 = l15.sort('Sale_Dollars', axis=0, ascending=False).head(10)\n",
    "counties = l15.index # Create list of top ten counties"
   ]
  },
  {
   "cell_type": "markdown",
   "metadata": {},
   "source": [
    "From above the top ten performing counties were: [77.0, 57.0, 82.0, 7.0, 52.0, 85.0, 78.0, 97.0, 31.0, 17.0]"
   ]
  },
  {
   "cell_type": "code",
   "execution_count": 25,
   "metadata": {
    "collapsed": false
   },
   "outputs": [],
   "source": [
    "tten = liquor2015[liquor2015['County_Number'].isin(counties)] # Create new datafrme of top ten counties"
   ]
  },
  {
   "cell_type": "code",
   "execution_count": 26,
   "metadata": {
    "collapsed": false
   },
   "outputs": [
    {
     "data": {
      "text/html": [
       "<div>\n",
       "<table border=\"1\" class=\"dataframe\">\n",
       "  <thead>\n",
       "    <tr style=\"text-align: right;\">\n",
       "      <th></th>\n",
       "      <th>County_Number</th>\n",
       "      <th>Store_Number</th>\n",
       "      <th>State_Bottle_Cost</th>\n",
       "      <th>State_Bottle_Retail</th>\n",
       "      <th>Bottles_Sold</th>\n",
       "      <th>Volume_Sold_Liters</th>\n",
       "      <th>Sale_Dollars</th>\n",
       "      <th>Year</th>\n",
       "      <th>Purchase_Margins</th>\n",
       "    </tr>\n",
       "  </thead>\n",
       "  <tbody>\n",
       "    <tr>\n",
       "      <th>count</th>\n",
       "      <td>629085.000000</td>\n",
       "      <td>629085.000000</td>\n",
       "      <td>629085.000000</td>\n",
       "      <td>629085.000000</td>\n",
       "      <td>629085.000000</td>\n",
       "      <td>629085.000000</td>\n",
       "      <td>629085.000000</td>\n",
       "      <td>629085.0</td>\n",
       "      <td>629085.000000</td>\n",
       "    </tr>\n",
       "    <tr>\n",
       "      <th>mean</th>\n",
       "      <td>62.294343</td>\n",
       "      <td>3551.736856</td>\n",
       "      <td>9.374543</td>\n",
       "      <td>14.082877</td>\n",
       "      <td>8.344937</td>\n",
       "      <td>6.665969</td>\n",
       "      <td>75.555324</td>\n",
       "      <td>2015.0</td>\n",
       "      <td>25.278887</td>\n",
       "    </tr>\n",
       "    <tr>\n",
       "      <th>std</th>\n",
       "      <td>25.655160</td>\n",
       "      <td>974.053896</td>\n",
       "      <td>6.737475</td>\n",
       "      <td>10.105985</td>\n",
       "      <td>7.707111</td>\n",
       "      <td>4.278269</td>\n",
       "      <td>29.127334</td>\n",
       "      <td>0.0</td>\n",
       "      <td>9.762934</td>\n",
       "    </tr>\n",
       "    <tr>\n",
       "      <th>min</th>\n",
       "      <td>7.000000</td>\n",
       "      <td>2106.000000</td>\n",
       "      <td>0.890000</td>\n",
       "      <td>1.340000</td>\n",
       "      <td>1.000000</td>\n",
       "      <td>0.000000</td>\n",
       "      <td>30.490000</td>\n",
       "      <td>2015.0</td>\n",
       "      <td>0.000000</td>\n",
       "    </tr>\n",
       "    <tr>\n",
       "      <th>25%</th>\n",
       "      <td>52.000000</td>\n",
       "      <td>2603.000000</td>\n",
       "      <td>5.230000</td>\n",
       "      <td>7.850000</td>\n",
       "      <td>3.000000</td>\n",
       "      <td>2.250000</td>\n",
       "      <td>51.930000</td>\n",
       "      <td>2015.0</td>\n",
       "      <td>17.320000</td>\n",
       "    </tr>\n",
       "    <tr>\n",
       "      <th>50%</th>\n",
       "      <td>77.000000</td>\n",
       "      <td>3670.000000</td>\n",
       "      <td>7.470000</td>\n",
       "      <td>11.210000</td>\n",
       "      <td>6.000000</td>\n",
       "      <td>9.000000</td>\n",
       "      <td>70.560000</td>\n",
       "      <td>2015.0</td>\n",
       "      <td>23.520000</td>\n",
       "    </tr>\n",
       "    <tr>\n",
       "      <th>75%</th>\n",
       "      <td>78.000000</td>\n",
       "      <td>4461.000000</td>\n",
       "      <td>11.490000</td>\n",
       "      <td>17.240000</td>\n",
       "      <td>12.000000</td>\n",
       "      <td>10.500000</td>\n",
       "      <td>98.640000</td>\n",
       "      <td>2015.0</td>\n",
       "      <td>33.000000</td>\n",
       "    </tr>\n",
       "    <tr>\n",
       "      <th>max</th>\n",
       "      <td>97.000000</td>\n",
       "      <td>9002.000000</td>\n",
       "      <td>84.500000</td>\n",
       "      <td>126.750000</td>\n",
       "      <td>96.000000</td>\n",
       "      <td>48.000000</td>\n",
       "      <td>134.980000</td>\n",
       "      <td>2015.0</td>\n",
       "      <td>55.500000</td>\n",
       "    </tr>\n",
       "  </tbody>\n",
       "</table>\n",
       "</div>"
      ],
      "text/plain": [
       "       County_Number   Store_Number  State_Bottle_Cost  State_Bottle_Retail  \\\n",
       "count  629085.000000  629085.000000      629085.000000        629085.000000   \n",
       "mean       62.294343    3551.736856           9.374543            14.082877   \n",
       "std        25.655160     974.053896           6.737475            10.105985   \n",
       "min         7.000000    2106.000000           0.890000             1.340000   \n",
       "25%        52.000000    2603.000000           5.230000             7.850000   \n",
       "50%        77.000000    3670.000000           7.470000            11.210000   \n",
       "75%        78.000000    4461.000000          11.490000            17.240000   \n",
       "max        97.000000    9002.000000          84.500000           126.750000   \n",
       "\n",
       "        Bottles_Sold  Volume_Sold_Liters   Sale_Dollars      Year  \\\n",
       "count  629085.000000       629085.000000  629085.000000  629085.0   \n",
       "mean        8.344937            6.665969      75.555324    2015.0   \n",
       "std         7.707111            4.278269      29.127334       0.0   \n",
       "min         1.000000            0.000000      30.490000    2015.0   \n",
       "25%         3.000000            2.250000      51.930000    2015.0   \n",
       "50%         6.000000            9.000000      70.560000    2015.0   \n",
       "75%        12.000000           10.500000      98.640000    2015.0   \n",
       "max        96.000000           48.000000     134.980000    2015.0   \n",
       "\n",
       "       Purchase_Margins  \n",
       "count     629085.000000  \n",
       "mean          25.278887  \n",
       "std            9.762934  \n",
       "min            0.000000  \n",
       "25%           17.320000  \n",
       "50%           23.520000  \n",
       "75%           33.000000  \n",
       "max           55.500000  "
      ]
     },
     "execution_count": 26,
     "metadata": {},
     "output_type": "execute_result"
    }
   ],
   "source": [
    "tten.describe()"
   ]
  },
  {
   "cell_type": "code",
   "execution_count": 27,
   "metadata": {
    "collapsed": false
   },
   "outputs": [],
   "source": [
    "tten16 = liquor2016[liquor2016['County_Number'].isin(counties)]"
   ]
  },
  {
   "cell_type": "code",
   "execution_count": 28,
   "metadata": {
    "collapsed": false
   },
   "outputs": [
    {
     "data": {
      "text/html": [
       "<div>\n",
       "<table border=\"1\" class=\"dataframe\">\n",
       "  <thead>\n",
       "    <tr style=\"text-align: right;\">\n",
       "      <th></th>\n",
       "      <th>Date</th>\n",
       "      <th>County_Number</th>\n",
       "      <th>Store_Number</th>\n",
       "      <th>State_Bottle_Cost</th>\n",
       "      <th>State_Bottle_Retail</th>\n",
       "      <th>Bottles_Sold</th>\n",
       "      <th>Volume_Sold_Liters</th>\n",
       "      <th>Sale_Dollars</th>\n",
       "      <th>Year</th>\n",
       "      <th>Purchase_Margins</th>\n",
       "    </tr>\n",
       "  </thead>\n",
       "  <tbody>\n",
       "    <tr>\n",
       "      <th>671022</th>\n",
       "      <td>2015-12-10</td>\n",
       "      <td>77.0</td>\n",
       "      <td>4165</td>\n",
       "      <td>19.99</td>\n",
       "      <td>30.49</td>\n",
       "      <td>1</td>\n",
       "      <td>1.75</td>\n",
       "      <td>30.49</td>\n",
       "      <td>2015</td>\n",
       "      <td>10.5</td>\n",
       "    </tr>\n",
       "    <tr>\n",
       "      <th>992303</th>\n",
       "      <td>2015-10-20</td>\n",
       "      <td>78.0</td>\n",
       "      <td>2445</td>\n",
       "      <td>19.99</td>\n",
       "      <td>30.49</td>\n",
       "      <td>1</td>\n",
       "      <td>1.75</td>\n",
       "      <td>30.49</td>\n",
       "      <td>2015</td>\n",
       "      <td>10.5</td>\n",
       "    </tr>\n",
       "    <tr>\n",
       "      <th>671020</th>\n",
       "      <td>2015-12-10</td>\n",
       "      <td>77.0</td>\n",
       "      <td>4773</td>\n",
       "      <td>19.99</td>\n",
       "      <td>30.49</td>\n",
       "      <td>1</td>\n",
       "      <td>1.75</td>\n",
       "      <td>30.49</td>\n",
       "      <td>2015</td>\n",
       "      <td>10.5</td>\n",
       "    </tr>\n",
       "    <tr>\n",
       "      <th>586154</th>\n",
       "      <td>2015-12-22</td>\n",
       "      <td>97.0</td>\n",
       "      <td>3820</td>\n",
       "      <td>19.99</td>\n",
       "      <td>30.49</td>\n",
       "      <td>1</td>\n",
       "      <td>1.75</td>\n",
       "      <td>30.49</td>\n",
       "      <td>2015</td>\n",
       "      <td>10.5</td>\n",
       "    </tr>\n",
       "    <tr>\n",
       "      <th>600107</th>\n",
       "      <td>2015-12-21</td>\n",
       "      <td>52.0</td>\n",
       "      <td>3822</td>\n",
       "      <td>19.99</td>\n",
       "      <td>30.49</td>\n",
       "      <td>1</td>\n",
       "      <td>1.75</td>\n",
       "      <td>30.49</td>\n",
       "      <td>2015</td>\n",
       "      <td>10.5</td>\n",
       "    </tr>\n",
       "  </tbody>\n",
       "</table>\n",
       "</div>"
      ],
      "text/plain": [
       "             Date  County_Number  Store_Number  State_Bottle_Cost  \\\n",
       "671022 2015-12-10           77.0          4165              19.99   \n",
       "992303 2015-10-20           78.0          2445              19.99   \n",
       "671020 2015-12-10           77.0          4773              19.99   \n",
       "586154 2015-12-22           97.0          3820              19.99   \n",
       "600107 2015-12-21           52.0          3822              19.99   \n",
       "\n",
       "        State_Bottle_Retail  Bottles_Sold  Volume_Sold_Liters  Sale_Dollars  \\\n",
       "671022                30.49             1                1.75         30.49   \n",
       "992303                30.49             1                1.75         30.49   \n",
       "671020                30.49             1                1.75         30.49   \n",
       "586154                30.49             1                1.75         30.49   \n",
       "600107                30.49             1                1.75         30.49   \n",
       "\n",
       "        Year  Purchase_Margins  \n",
       "671022  2015              10.5  \n",
       "992303  2015              10.5  \n",
       "671020  2015              10.5  \n",
       "586154  2015              10.5  \n",
       "600107  2015              10.5  "
      ]
     },
     "execution_count": 28,
     "metadata": {},
     "output_type": "execute_result"
    }
   ],
   "source": [
    "tten.tail()"
   ]
  },
  {
   "cell_type": "code",
   "execution_count": 31,
   "metadata": {
    "collapsed": false
   },
   "outputs": [
    {
     "name": "stderr",
     "output_type": "stream",
     "text": [
      "/Users/sebozek/anaconda/lib/python2.7/site-packages/ipykernel/__main__.py:3: SettingWithCopyWarning: \n",
      "A value is trying to be set on a copy of a slice from a DataFrame.\n",
      "Try using .loc[row_indexer,col_indexer] = value instead\n",
      "\n",
      "See the caveats in the documentation: http://pandas.pydata.org/pandas-docs/stable/indexing.html#indexing-view-versus-copy\n",
      "  app.launch_new_instance()\n"
     ]
    }
   ],
   "source": [
    "NY2015= pd.Timestamp('2015-01-01')\n",
    "\n",
    "tten['Days'] = tten['Date'].apply(lambda x: (x - NY2015).days) # Find the differences in days since the start of the year"
   ]
  },
  {
   "cell_type": "code",
   "execution_count": 32,
   "metadata": {
    "collapsed": false
   },
   "outputs": [
    {
     "data": {
      "text/html": [
       "<div>\n",
       "<table border=\"1\" class=\"dataframe\">\n",
       "  <thead>\n",
       "    <tr style=\"text-align: right;\">\n",
       "      <th></th>\n",
       "      <th>Date</th>\n",
       "      <th>County_Number</th>\n",
       "      <th>Store_Number</th>\n",
       "      <th>State_Bottle_Cost</th>\n",
       "      <th>State_Bottle_Retail</th>\n",
       "      <th>Bottles_Sold</th>\n",
       "      <th>Volume_Sold_Liters</th>\n",
       "      <th>Sale_Dollars</th>\n",
       "      <th>Year</th>\n",
       "      <th>Purchase_Margins</th>\n",
       "      <th>Days</th>\n",
       "    </tr>\n",
       "  </thead>\n",
       "  <tbody>\n",
       "    <tr>\n",
       "      <th>2656381</th>\n",
       "      <td>2015-01-12</td>\n",
       "      <td>57.0</td>\n",
       "      <td>2590</td>\n",
       "      <td>44.99</td>\n",
       "      <td>67.49</td>\n",
       "      <td>2</td>\n",
       "      <td>1.5</td>\n",
       "      <td>134.98</td>\n",
       "      <td>2015</td>\n",
       "      <td>45.0</td>\n",
       "      <td>11</td>\n",
       "    </tr>\n",
       "    <tr>\n",
       "      <th>1462397</th>\n",
       "      <td>2015-08-04</td>\n",
       "      <td>7.0</td>\n",
       "      <td>2575</td>\n",
       "      <td>44.99</td>\n",
       "      <td>67.49</td>\n",
       "      <td>2</td>\n",
       "      <td>1.5</td>\n",
       "      <td>134.98</td>\n",
       "      <td>2015</td>\n",
       "      <td>45.0</td>\n",
       "      <td>215</td>\n",
       "    </tr>\n",
       "    <tr>\n",
       "      <th>570622</th>\n",
       "      <td>2015-12-26</td>\n",
       "      <td>57.0</td>\n",
       "      <td>2588</td>\n",
       "      <td>44.99</td>\n",
       "      <td>67.49</td>\n",
       "      <td>2</td>\n",
       "      <td>1.5</td>\n",
       "      <td>134.98</td>\n",
       "      <td>2015</td>\n",
       "      <td>45.0</td>\n",
       "      <td>359</td>\n",
       "    </tr>\n",
       "    <tr>\n",
       "      <th>1452417</th>\n",
       "      <td>2015-08-04</td>\n",
       "      <td>77.0</td>\n",
       "      <td>2666</td>\n",
       "      <td>44.99</td>\n",
       "      <td>67.49</td>\n",
       "      <td>2</td>\n",
       "      <td>1.5</td>\n",
       "      <td>134.98</td>\n",
       "      <td>2015</td>\n",
       "      <td>45.0</td>\n",
       "      <td>215</td>\n",
       "    </tr>\n",
       "    <tr>\n",
       "      <th>2708657</th>\n",
       "      <td>2015-01-05</td>\n",
       "      <td>77.0</td>\n",
       "      <td>2648</td>\n",
       "      <td>44.99</td>\n",
       "      <td>67.49</td>\n",
       "      <td>2</td>\n",
       "      <td>1.5</td>\n",
       "      <td>134.98</td>\n",
       "      <td>2015</td>\n",
       "      <td>45.0</td>\n",
       "      <td>4</td>\n",
       "    </tr>\n",
       "  </tbody>\n",
       "</table>\n",
       "</div>"
      ],
      "text/plain": [
       "              Date  County_Number  Store_Number  State_Bottle_Cost  \\\n",
       "2656381 2015-01-12           57.0          2590              44.99   \n",
       "1462397 2015-08-04            7.0          2575              44.99   \n",
       "570622  2015-12-26           57.0          2588              44.99   \n",
       "1452417 2015-08-04           77.0          2666              44.99   \n",
       "2708657 2015-01-05           77.0          2648              44.99   \n",
       "\n",
       "         State_Bottle_Retail  Bottles_Sold  Volume_Sold_Liters  Sale_Dollars  \\\n",
       "2656381                67.49             2                 1.5        134.98   \n",
       "1462397                67.49             2                 1.5        134.98   \n",
       "570622                 67.49             2                 1.5        134.98   \n",
       "1452417                67.49             2                 1.5        134.98   \n",
       "2708657                67.49             2                 1.5        134.98   \n",
       "\n",
       "         Year  Purchase_Margins  Days  \n",
       "2656381  2015              45.0    11  \n",
       "1462397  2015              45.0   215  \n",
       "570622   2015              45.0   359  \n",
       "1452417  2015              45.0   215  \n",
       "2708657  2015              45.0     4  "
      ]
     },
     "execution_count": 32,
     "metadata": {},
     "output_type": "execute_result"
    }
   ],
   "source": [
    "tten.head()"
   ]
  },
  {
   "cell_type": "code",
   "execution_count": 69,
   "metadata": {
    "collapsed": false
   },
   "outputs": [],
   "source": [
    "tten15 = tten[['Days',\n",
    "               'County_Number','Store_Number', 'Purchase_Margins', \n",
    "               'Volume_Sold_Liters', 'Bottles_Sold', 'State_Bottle_Retail']].groupby(['Days','County_Number'])"
   ]
  },
  {
   "cell_type": "code",
   "execution_count": 68,
   "metadata": {
    "collapsed": false,
    "scrolled": true
   },
   "outputs": [
    {
     "name": "stderr",
     "output_type": "stream",
     "text": [
      "/Users/sebozek/anaconda/lib/python2.7/site-packages/ipykernel/__main__.py:1: FutureWarning: sort is deprecated, use sort_values(inplace=True) for INPLACE sorting\n",
      "  if __name__ == '__main__':\n"
     ]
    },
    {
     "ename": "ValueError",
     "evalue": "This Series is a view of some other array, to sort in-place you must create a copy",
     "output_type": "error",
     "traceback": [
      "\u001b[0;31m---------------------------------------------------------------------------\u001b[0m",
      "\u001b[0;31mValueError\u001b[0m                                Traceback (most recent call last)",
      "\u001b[0;32m<ipython-input-68-3b03d90655db>\u001b[0m in \u001b[0;36m<module>\u001b[0;34m()\u001b[0m\n\u001b[0;32m----> 1\u001b[0;31m \u001b[0mtten15\u001b[0m \u001b[0;34m=\u001b[0m \u001b[0mtten15\u001b[0m\u001b[0;34m[\u001b[0m\u001b[0;34m'Days'\u001b[0m\u001b[0;34m]\u001b[0m\u001b[0;34m.\u001b[0m\u001b[0msort\u001b[0m\u001b[0;34m(\u001b[0m\u001b[0;34m)\u001b[0m\u001b[0;34m\u001b[0m\u001b[0m\n\u001b[0m",
      "\u001b[0;32m/Users/sebozek/anaconda/lib/python2.7/site-packages/pandas/core/series.pyc\u001b[0m in \u001b[0;36msort\u001b[0;34m(self, axis, ascending, kind, na_position, inplace)\u001b[0m\n\u001b[1;32m   1808\u001b[0m \u001b[0;34m\u001b[0m\u001b[0m\n\u001b[1;32m   1809\u001b[0m         return self.sort_values(ascending=ascending, kind=kind,\n\u001b[0;32m-> 1810\u001b[0;31m                                 na_position=na_position, inplace=inplace)\n\u001b[0m\u001b[1;32m   1811\u001b[0m \u001b[0;34m\u001b[0m\u001b[0m\n\u001b[1;32m   1812\u001b[0m     def order(self, na_last=None, ascending=True, kind='quicksort',\n",
      "\u001b[0;32m/Users/sebozek/anaconda/lib/python2.7/site-packages/pandas/core/series.pyc\u001b[0m in \u001b[0;36msort_values\u001b[0;34m(self, axis, ascending, inplace, kind, na_position)\u001b[0m\n\u001b[1;32m   1707\u001b[0m         \u001b[0;31m# GH 5856/5853\u001b[0m\u001b[0;34m\u001b[0m\u001b[0;34m\u001b[0m\u001b[0m\n\u001b[1;32m   1708\u001b[0m         \u001b[0;32mif\u001b[0m \u001b[0minplace\u001b[0m \u001b[0;32mand\u001b[0m \u001b[0mself\u001b[0m\u001b[0;34m.\u001b[0m\u001b[0m_is_cached\u001b[0m\u001b[0;34m:\u001b[0m\u001b[0;34m\u001b[0m\u001b[0m\n\u001b[0;32m-> 1709\u001b[0;31m             raise ValueError(\"This Series is a view of some other array, to \"\n\u001b[0m\u001b[1;32m   1710\u001b[0m                              \"sort in-place you must create a copy\")\n\u001b[1;32m   1711\u001b[0m \u001b[0;34m\u001b[0m\u001b[0m\n",
      "\u001b[0;31mValueError\u001b[0m: This Series is a view of some other array, to sort in-place you must create a copy"
     ]
    }
   ],
   "source": [
    "tten15['Cumulative_Profit'] =  tten15[\"Purchase_Margins\"].cumsum()\n",
    "tten15['Bottles_Total'] = tten15['Bottles_Sold'].cumsum()"
   ]
  },
  {
   "cell_type": "code",
   "execution_count": null,
   "metadata": {
    "collapsed": false
   },
   "outputs": [],
   "source": [
    "tten15['Sale_Dollars'].plot()"
   ]
  },
  {
   "cell_type": "code",
   "execution_count": null,
   "metadata": {
    "collapsed": true
   },
   "outputs": [],
   "source": [
    "for county in counties:\n",
    "    X =\n",
    "    Y = "
   ]
  },
  {
   "cell_type": "code",
   "execution_count": null,
   "metadata": {
    "collapsed": true
   },
   "outputs": [],
   "source": [
    "for sums in ['Purchase_Margins', 'Cumulative_Volume']:\n",
    "    plt.scatter(data=tten15, x=tten15['Days'], y=tten15[sums])\n",
    "    plt.ylabel(sums)\n",
    "    plt.xlabel(\"Days Since New Year\")\n",
    "    plt.show()"
   ]
  },
  {
   "cell_type": "code",
   "execution_count": null,
   "metadata": {
    "collapsed": false
   },
   "outputs": [],
   "source": [
    "\n",
    "\n",
    "# X_train, X_test, y_train, y_test = train_test_split(X, y, test_size=0.33)\n",
    "\n",
    "formula = 'Volume_Sold_Liters ~ Bottles_Sold + State_Bottle_Retail + Purchase_Margins'\n",
    "\n",
    "result = smf.ols(formula=formula, data=tten15).fit()\n",
    "\n",
    "result.summary()"
   ]
  },
  {
   "cell_type": "code",
   "execution_count": null,
   "metadata": {
    "collapsed": true
   },
   "outputs": [],
   "source": [
    "# X_train, X_test, y_train, y_test = train_test_split(X, y, test_size=0.33)\n",
    "\n",
    "formula = 'Volume_Sold_Liters ~ Bottles_Sold + State_Bottle_Retail + Purchase_Margins'\n",
    "\n",
    "result = smf.ols(formula=formula, data=tten15).fit()\n",
    "\n",
    "result.summary()"
   ]
  }
 ],
 "metadata": {
  "kernelspec": {
   "display_name": "Python 2",
   "language": "python",
   "name": "python2"
  },
  "language_info": {
   "codemirror_mode": {
    "name": "ipython",
    "version": 2
   },
   "file_extension": ".py",
   "mimetype": "text/x-python",
   "name": "python",
   "nbconvert_exporter": "python",
   "pygments_lexer": "ipython2",
   "version": "2.7.11"
  }
 },
 "nbformat": 4,
 "nbformat_minor": 0
}
