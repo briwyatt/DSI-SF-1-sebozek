{
 "cells": [
  {
   "cell_type": "markdown",
   "metadata": {},
   "source": [
    "# Classification with stumbleupon data\n",
    "\n",
    "Project 4 has been changed since scraping was untenable. The project now focuses on the stumbleupon kaggle dataset. For more information on this dataset, [check out the website here](https://www.kaggle.com/c/stumbleupon).\n",
    "\n",
    "---"
   ]
  },
  {
   "cell_type": "markdown",
   "metadata": {},
   "source": [
    "# Table of Contents\n",
    "\n",
    "1. [Cleaning and EDA](#eda)\n",
    "2. [Data Dictionary](#datadict)\n",
    "3. [Regression](#reggresion)  \n",
    "    1 [StatsModel Logistic Regression](#statsmodels logreg)  \n",
    "    2 [Category Logistic Regression](#categorylr)"
   ]
  },
  {
   "cell_type": "markdown",
   "metadata": {},
   "source": [
    "## 1. Load in the dataset\n",
    "\n",
    "This is the only part completed for you.\n",
    "\n",
    "---"
   ]
  },
  {
   "cell_type": "code",
   "execution_count": 22,
   "metadata": {
    "collapsed": true
   },
   "outputs": [],
   "source": [
    "import pandas as pd\n",
    "import numpy as np\n",
    "import matplotlib.pyplot as plt\n",
    "import seaborn as sns\n",
    "\n",
    "sns.set_style('white')\n",
    "\n",
    "%matplotlib inline"
   ]
  },
  {
   "cell_type": "code",
   "execution_count": 23,
   "metadata": {
    "collapsed": false
   },
   "outputs": [
    {
     "data": {
      "text/plain": [
       "(7395, 27)"
      ]
     },
     "execution_count": 23,
     "metadata": {},
     "output_type": "execute_result"
    }
   ],
   "source": [
    "su = pd.read_csv('../dataset/evergreen.tsv', delimiter='\\t')\n",
    "su.shape"
   ]
  },
  {
   "cell_type": "markdown",
   "metadata": {},
   "source": [
    "## 2. Clean up/examine your data\n",
    "<a id=\"eda\"></a>\n",
    "\n",
    "Some of the columns may have values that need changing or that are of the wrong type. There could also be columns that aren't very useful.\n",
    "\n",
    "---"
   ]
  },
  {
   "cell_type": "code",
   "execution_count": 24,
   "metadata": {
    "collapsed": false,
    "scrolled": false
   },
   "outputs": [
    {
     "data": {
      "text/html": [
       "<div>\n",
       "<table border=\"1\" class=\"dataframe\">\n",
       "  <thead>\n",
       "    <tr style=\"text-align: right;\">\n",
       "      <th></th>\n",
       "      <th>url</th>\n",
       "      <th>urlid</th>\n",
       "      <th>boilerplate</th>\n",
       "      <th>alchemy_category</th>\n",
       "      <th>alchemy_category_score</th>\n",
       "      <th>avglinksize</th>\n",
       "      <th>commonlinkratio_1</th>\n",
       "      <th>commonlinkratio_2</th>\n",
       "      <th>commonlinkratio_3</th>\n",
       "      <th>commonlinkratio_4</th>\n",
       "      <th>...</th>\n",
       "      <th>is_news</th>\n",
       "      <th>lengthyLinkDomain</th>\n",
       "      <th>linkwordscore</th>\n",
       "      <th>news_front_page</th>\n",
       "      <th>non_markup_alphanum_characters</th>\n",
       "      <th>numberOfLinks</th>\n",
       "      <th>numwords_in_url</th>\n",
       "      <th>parametrizedLinkRatio</th>\n",
       "      <th>spelling_errors_ratio</th>\n",
       "      <th>label</th>\n",
       "    </tr>\n",
       "  </thead>\n",
       "  <tbody>\n",
       "    <tr>\n",
       "      <th>0</th>\n",
       "      <td>http://www.bloomberg.com/news/2010-12-23/ibm-p...</td>\n",
       "      <td>4042</td>\n",
       "      <td>{\"title\":\"IBM Sees Holographic Calls Air Breat...</td>\n",
       "      <td>business</td>\n",
       "      <td>0.789131</td>\n",
       "      <td>2.055556</td>\n",
       "      <td>0.676471</td>\n",
       "      <td>0.205882</td>\n",
       "      <td>0.047059</td>\n",
       "      <td>0.023529</td>\n",
       "      <td>...</td>\n",
       "      <td>1</td>\n",
       "      <td>1</td>\n",
       "      <td>24</td>\n",
       "      <td>0</td>\n",
       "      <td>5424</td>\n",
       "      <td>170</td>\n",
       "      <td>8</td>\n",
       "      <td>0.152941</td>\n",
       "      <td>0.079130</td>\n",
       "      <td>0</td>\n",
       "    </tr>\n",
       "    <tr>\n",
       "      <th>1</th>\n",
       "      <td>http://www.popsci.com/technology/article/2012-...</td>\n",
       "      <td>8471</td>\n",
       "      <td>{\"title\":\"The Fully Electronic Futuristic Star...</td>\n",
       "      <td>recreation</td>\n",
       "      <td>0.574147</td>\n",
       "      <td>3.677966</td>\n",
       "      <td>0.508021</td>\n",
       "      <td>0.288770</td>\n",
       "      <td>0.213904</td>\n",
       "      <td>0.144385</td>\n",
       "      <td>...</td>\n",
       "      <td>1</td>\n",
       "      <td>1</td>\n",
       "      <td>40</td>\n",
       "      <td>0</td>\n",
       "      <td>4973</td>\n",
       "      <td>187</td>\n",
       "      <td>9</td>\n",
       "      <td>0.181818</td>\n",
       "      <td>0.125448</td>\n",
       "      <td>1</td>\n",
       "    </tr>\n",
       "    <tr>\n",
       "      <th>2</th>\n",
       "      <td>http://www.menshealth.com/health/flu-fighting-...</td>\n",
       "      <td>1164</td>\n",
       "      <td>{\"title\":\"Fruits that Fight the Flu fruits tha...</td>\n",
       "      <td>health</td>\n",
       "      <td>0.996526</td>\n",
       "      <td>2.382883</td>\n",
       "      <td>0.562016</td>\n",
       "      <td>0.321705</td>\n",
       "      <td>0.120155</td>\n",
       "      <td>0.042636</td>\n",
       "      <td>...</td>\n",
       "      <td>1</td>\n",
       "      <td>1</td>\n",
       "      <td>55</td>\n",
       "      <td>0</td>\n",
       "      <td>2240</td>\n",
       "      <td>258</td>\n",
       "      <td>11</td>\n",
       "      <td>0.166667</td>\n",
       "      <td>0.057613</td>\n",
       "      <td>1</td>\n",
       "    </tr>\n",
       "    <tr>\n",
       "      <th>3</th>\n",
       "      <td>http://www.dumblittleman.com/2007/12/10-foolpr...</td>\n",
       "      <td>6684</td>\n",
       "      <td>{\"title\":\"10 Foolproof Tips for Better Sleep \"...</td>\n",
       "      <td>health</td>\n",
       "      <td>0.801248</td>\n",
       "      <td>1.543103</td>\n",
       "      <td>0.400000</td>\n",
       "      <td>0.100000</td>\n",
       "      <td>0.016667</td>\n",
       "      <td>0.000000</td>\n",
       "      <td>...</td>\n",
       "      <td>1</td>\n",
       "      <td>0</td>\n",
       "      <td>24</td>\n",
       "      <td>0</td>\n",
       "      <td>2737</td>\n",
       "      <td>120</td>\n",
       "      <td>5</td>\n",
       "      <td>0.041667</td>\n",
       "      <td>0.100858</td>\n",
       "      <td>1</td>\n",
       "    </tr>\n",
       "    <tr>\n",
       "      <th>4</th>\n",
       "      <td>http://bleacherreport.com/articles/1205138-the...</td>\n",
       "      <td>9006</td>\n",
       "      <td>{\"title\":\"The 50 Coolest Jerseys You Didn t Kn...</td>\n",
       "      <td>sports</td>\n",
       "      <td>0.719157</td>\n",
       "      <td>2.676471</td>\n",
       "      <td>0.500000</td>\n",
       "      <td>0.222222</td>\n",
       "      <td>0.123457</td>\n",
       "      <td>0.043210</td>\n",
       "      <td>...</td>\n",
       "      <td>1</td>\n",
       "      <td>1</td>\n",
       "      <td>14</td>\n",
       "      <td>0</td>\n",
       "      <td>12032</td>\n",
       "      <td>162</td>\n",
       "      <td>10</td>\n",
       "      <td>0.098765</td>\n",
       "      <td>0.082569</td>\n",
       "      <td>0</td>\n",
       "    </tr>\n",
       "    <tr>\n",
       "      <th>5</th>\n",
       "      <td>http://www.conveniencemedical.com/genital-herp...</td>\n",
       "      <td>7018</td>\n",
       "      <td>{\"url\":\"conveniencemedical genital herpes home...</td>\n",
       "      <td>?</td>\n",
       "      <td>?</td>\n",
       "      <td>119.000000</td>\n",
       "      <td>0.745455</td>\n",
       "      <td>0.581818</td>\n",
       "      <td>0.290909</td>\n",
       "      <td>0.018182</td>\n",
       "      <td>...</td>\n",
       "      <td>?</td>\n",
       "      <td>0</td>\n",
       "      <td>12</td>\n",
       "      <td>?</td>\n",
       "      <td>4368</td>\n",
       "      <td>55</td>\n",
       "      <td>3</td>\n",
       "      <td>0.054545</td>\n",
       "      <td>0.087356</td>\n",
       "      <td>0</td>\n",
       "    </tr>\n",
       "    <tr>\n",
       "      <th>6</th>\n",
       "      <td>http://gofashionlane.blogspot.tw/2012/06/ameri...</td>\n",
       "      <td>8685</td>\n",
       "      <td>{\"title\":\"fashion lane American Wild Child \",\"...</td>\n",
       "      <td>arts_entertainment</td>\n",
       "      <td>0.22111</td>\n",
       "      <td>0.773810</td>\n",
       "      <td>0.215054</td>\n",
       "      <td>0.053763</td>\n",
       "      <td>0.043011</td>\n",
       "      <td>0.043011</td>\n",
       "      <td>...</td>\n",
       "      <td>1</td>\n",
       "      <td>0</td>\n",
       "      <td>21</td>\n",
       "      <td>0</td>\n",
       "      <td>1287</td>\n",
       "      <td>93</td>\n",
       "      <td>3</td>\n",
       "      <td>0.548387</td>\n",
       "      <td>0.064327</td>\n",
       "      <td>1</td>\n",
       "    </tr>\n",
       "    <tr>\n",
       "      <th>7</th>\n",
       "      <td>http://www.insidershealth.com/article/racing_f...</td>\n",
       "      <td>3402</td>\n",
       "      <td>{\"url\":\"insidershealth article racing for reco...</td>\n",
       "      <td>?</td>\n",
       "      <td>?</td>\n",
       "      <td>1.883333</td>\n",
       "      <td>0.719697</td>\n",
       "      <td>0.265152</td>\n",
       "      <td>0.113636</td>\n",
       "      <td>0.015152</td>\n",
       "      <td>...</td>\n",
       "      <td>?</td>\n",
       "      <td>0</td>\n",
       "      <td>5</td>\n",
       "      <td>?</td>\n",
       "      <td>27656</td>\n",
       "      <td>132</td>\n",
       "      <td>4</td>\n",
       "      <td>0.068182</td>\n",
       "      <td>0.148551</td>\n",
       "      <td>0</td>\n",
       "    </tr>\n",
       "    <tr>\n",
       "      <th>8</th>\n",
       "      <td>http://www.valetmag.com/the-handbook/features/...</td>\n",
       "      <td>477</td>\n",
       "      <td>{\"title\":\"Valet The Handbook 31 Days 31 days\",...</td>\n",
       "      <td>?</td>\n",
       "      <td>?</td>\n",
       "      <td>0.471503</td>\n",
       "      <td>0.190722</td>\n",
       "      <td>0.036082</td>\n",
       "      <td>0.000000</td>\n",
       "      <td>0.000000</td>\n",
       "      <td>...</td>\n",
       "      <td>1</td>\n",
       "      <td>0</td>\n",
       "      <td>17</td>\n",
       "      <td>0</td>\n",
       "      <td>2471</td>\n",
       "      <td>194</td>\n",
       "      <td>7</td>\n",
       "      <td>0.644330</td>\n",
       "      <td>0.125000</td>\n",
       "      <td>1</td>\n",
       "    </tr>\n",
       "    <tr>\n",
       "      <th>9</th>\n",
       "      <td>http://www.howsweeteats.com/2010/03/24/cookies...</td>\n",
       "      <td>6731</td>\n",
       "      <td>{\"url\":\"howsweeteats 2010 03 24 cookies and cr...</td>\n",
       "      <td>?</td>\n",
       "      <td>?</td>\n",
       "      <td>2.410112</td>\n",
       "      <td>0.469325</td>\n",
       "      <td>0.101227</td>\n",
       "      <td>0.018405</td>\n",
       "      <td>0.003067</td>\n",
       "      <td>...</td>\n",
       "      <td>?</td>\n",
       "      <td>1</td>\n",
       "      <td>14</td>\n",
       "      <td>?</td>\n",
       "      <td>11459</td>\n",
       "      <td>326</td>\n",
       "      <td>4</td>\n",
       "      <td>0.236196</td>\n",
       "      <td>0.094412</td>\n",
       "      <td>1</td>\n",
       "    </tr>\n",
       "  </tbody>\n",
       "</table>\n",
       "<p>10 rows × 27 columns</p>\n",
       "</div>"
      ],
      "text/plain": [
       "                                                 url  urlid  \\\n",
       "0  http://www.bloomberg.com/news/2010-12-23/ibm-p...   4042   \n",
       "1  http://www.popsci.com/technology/article/2012-...   8471   \n",
       "2  http://www.menshealth.com/health/flu-fighting-...   1164   \n",
       "3  http://www.dumblittleman.com/2007/12/10-foolpr...   6684   \n",
       "4  http://bleacherreport.com/articles/1205138-the...   9006   \n",
       "5  http://www.conveniencemedical.com/genital-herp...   7018   \n",
       "6  http://gofashionlane.blogspot.tw/2012/06/ameri...   8685   \n",
       "7  http://www.insidershealth.com/article/racing_f...   3402   \n",
       "8  http://www.valetmag.com/the-handbook/features/...    477   \n",
       "9  http://www.howsweeteats.com/2010/03/24/cookies...   6731   \n",
       "\n",
       "                                         boilerplate    alchemy_category  \\\n",
       "0  {\"title\":\"IBM Sees Holographic Calls Air Breat...            business   \n",
       "1  {\"title\":\"The Fully Electronic Futuristic Star...          recreation   \n",
       "2  {\"title\":\"Fruits that Fight the Flu fruits tha...              health   \n",
       "3  {\"title\":\"10 Foolproof Tips for Better Sleep \"...              health   \n",
       "4  {\"title\":\"The 50 Coolest Jerseys You Didn t Kn...              sports   \n",
       "5  {\"url\":\"conveniencemedical genital herpes home...                   ?   \n",
       "6  {\"title\":\"fashion lane American Wild Child \",\"...  arts_entertainment   \n",
       "7  {\"url\":\"insidershealth article racing for reco...                   ?   \n",
       "8  {\"title\":\"Valet The Handbook 31 Days 31 days\",...                   ?   \n",
       "9  {\"url\":\"howsweeteats 2010 03 24 cookies and cr...                   ?   \n",
       "\n",
       "  alchemy_category_score  avglinksize  commonlinkratio_1  commonlinkratio_2  \\\n",
       "0               0.789131     2.055556           0.676471           0.205882   \n",
       "1               0.574147     3.677966           0.508021           0.288770   \n",
       "2               0.996526     2.382883           0.562016           0.321705   \n",
       "3               0.801248     1.543103           0.400000           0.100000   \n",
       "4               0.719157     2.676471           0.500000           0.222222   \n",
       "5                      ?   119.000000           0.745455           0.581818   \n",
       "6                0.22111     0.773810           0.215054           0.053763   \n",
       "7                      ?     1.883333           0.719697           0.265152   \n",
       "8                      ?     0.471503           0.190722           0.036082   \n",
       "9                      ?     2.410112           0.469325           0.101227   \n",
       "\n",
       "   commonlinkratio_3  commonlinkratio_4  ...    is_news  lengthyLinkDomain  \\\n",
       "0           0.047059           0.023529  ...          1                  1   \n",
       "1           0.213904           0.144385  ...          1                  1   \n",
       "2           0.120155           0.042636  ...          1                  1   \n",
       "3           0.016667           0.000000  ...          1                  0   \n",
       "4           0.123457           0.043210  ...          1                  1   \n",
       "5           0.290909           0.018182  ...          ?                  0   \n",
       "6           0.043011           0.043011  ...          1                  0   \n",
       "7           0.113636           0.015152  ...          ?                  0   \n",
       "8           0.000000           0.000000  ...          1                  0   \n",
       "9           0.018405           0.003067  ...          ?                  1   \n",
       "\n",
       "   linkwordscore  news_front_page  non_markup_alphanum_characters  \\\n",
       "0             24                0                            5424   \n",
       "1             40                0                            4973   \n",
       "2             55                0                            2240   \n",
       "3             24                0                            2737   \n",
       "4             14                0                           12032   \n",
       "5             12                ?                            4368   \n",
       "6             21                0                            1287   \n",
       "7              5                ?                           27656   \n",
       "8             17                0                            2471   \n",
       "9             14                ?                           11459   \n",
       "\n",
       "   numberOfLinks  numwords_in_url parametrizedLinkRatio  \\\n",
       "0            170                8              0.152941   \n",
       "1            187                9              0.181818   \n",
       "2            258               11              0.166667   \n",
       "3            120                5              0.041667   \n",
       "4            162               10              0.098765   \n",
       "5             55                3              0.054545   \n",
       "6             93                3              0.548387   \n",
       "7            132                4              0.068182   \n",
       "8            194                7              0.644330   \n",
       "9            326                4              0.236196   \n",
       "\n",
       "   spelling_errors_ratio  label  \n",
       "0               0.079130      0  \n",
       "1               0.125448      1  \n",
       "2               0.057613      1  \n",
       "3               0.100858      1  \n",
       "4               0.082569      0  \n",
       "5               0.087356      0  \n",
       "6               0.064327      1  \n",
       "7               0.148551      0  \n",
       "8               0.125000      1  \n",
       "9               0.094412      1  \n",
       "\n",
       "[10 rows x 27 columns]"
      ]
     },
     "execution_count": 24,
     "metadata": {},
     "output_type": "execute_result"
    }
   ],
   "source": [
    "su.head(10)"
   ]
  },
  {
   "cell_type": "code",
   "execution_count": 26,
   "metadata": {
    "collapsed": false
   },
   "outputs": [
    {
     "data": {
      "text/plain": [
       "(5053, 27)"
      ]
     },
     "execution_count": 26,
     "metadata": {},
     "output_type": "execute_result"
    }
   ],
   "source": [
    "su['alchemy_category'] = su['alchemy_category'].apply(lambda x: np.NaN if x == '?' else x)\n",
    "su.dropna(axis=0, how='any', inplace=True)\n",
    "su['alchemy_category_score'] = pd.to_numeric(su['alchemy_category_score'])\n",
    "su.shape"
   ]
  },
  {
   "cell_type": "markdown",
   "metadata": {},
   "source": [
    "## Data Dictionary\n",
    "<a id=\"datadict\"></a>\n",
    "\n",
    "|Column Name|Description|Variable Type|\n",
    "|---|---|--|\n",
    "|url|URL of the recommended website|Categorical|\n",
    "|urlid|Unique StumbleUpon ID assigned to the URL|Ordinal|\n",
    "|boilerplate|JSON file containing the text of the title and the text of the body|Categorical|\n",
    "|alchemy_category|Category of the website assigned through AlchemyAPI|Categorical|\n",
    "|alchemy_category_score|Score from 1(best) to 0(worst) of the confidence of the AlchemyAPI in assigning the category|Interval|\n",
    "|avglinksize|Mean number of words that appear in all the links present on the wepsite|Cardinal|\n",
    "|commonLinkRatio_(1-4)| The number of links sharing at least one word in common with x other links divided by total number of links|Interval|\n",
    "|compression_ratio|Ratio of compressed size of website to uncompressed size (using gzip)|Interval|\n",
    "|embed_ratio| Ratio of how many times HTML embed element appears relative to other elements|Interval|\n",
    "|frameBased|Whether or not a website is using a frameset markup(1) or a body(0)|Categorical|\n",
    "|frameTagRatio|Ratio of frames to markup|Interval|\n",
    "|hasDomainLink|Whether(1) or not(0) the website has a link to a domain|Categorical|\n",
    "|html_ratio|How many tags are present to total text span on the website|Interval|\n",
    "|image_ratio|Ratio of <img> tags to total text span on the website|Interval|\n",
    "|is_news|Whether(1) or not(0) the website is categorized as news|Categorical|\n",
    "|lengthyLinkDomain|Whether(1) or not(0) at least three links contain >30 characters|Categorical|\n",
    "|linkwordscore|Ratio of words on page to the hyperlink text|Interval|\n",
    "|news_front_page|Whether(1) or not(0) the news is considered significant 'front page'|Categorical|\n",
    "|non_markup_alphanum_characters|Total number of characters in the text of the website|Ordinal|\n",
    "|numberOfLinks|Count of how many links are present|Ordinal\n",
    "|numwords_in_url|Count of words in the URL|Ordinal|\n",
    "|parametrizedLinkRatio|Ratio of links with an event on the click or additonal parameter to all other links|Interval|\n",
    "|spelling_errors_ratio|Ratio of words classified as misspelled to all text present|Interval|\n",
    "|label| **TARGET** Whether(1) or not(0) the website is considered 'evergreen'|Categorical|\n",
    "\n",
    "* What makes evergreen news stories? Are there any?\n",
    "* Does AlchemyAPI score play into whether it is evergreen?\n",
    "* Is FrameSet or Body more likely to be evergreen?\n",
    "* Are there evergreen front page news stories? What text do they contain?"
   ]
  },
  {
   "cell_type": "code",
   "execution_count": 27,
   "metadata": {
    "collapsed": false
   },
   "outputs": [
    {
     "name": "stdout",
     "output_type": "stream",
     "text": [
      "<class 'pandas.core.frame.DataFrame'>\n",
      "Int64Index: 5053 entries, 0 to 7393\n",
      "Data columns (total 27 columns):\n",
      "url                               5053 non-null object\n",
      "urlid                             5053 non-null int64\n",
      "boilerplate                       5053 non-null object\n",
      "alchemy_category                  5053 non-null object\n",
      "alchemy_category_score            5053 non-null float64\n",
      "avglinksize                       5053 non-null float64\n",
      "commonlinkratio_1                 5053 non-null float64\n",
      "commonlinkratio_2                 5053 non-null float64\n",
      "commonlinkratio_3                 5053 non-null float64\n",
      "commonlinkratio_4                 5053 non-null float64\n",
      "compression_ratio                 5053 non-null float64\n",
      "embed_ratio                       5053 non-null float64\n",
      "framebased                        5053 non-null int64\n",
      "frameTagRatio                     5053 non-null float64\n",
      "hasDomainLink                     5053 non-null int64\n",
      "html_ratio                        5053 non-null float64\n",
      "image_ratio                       5053 non-null float64\n",
      "is_news                           5053 non-null object\n",
      "lengthyLinkDomain                 5053 non-null int64\n",
      "linkwordscore                     5053 non-null int64\n",
      "news_front_page                   5053 non-null object\n",
      "non_markup_alphanum_characters    5053 non-null int64\n",
      "numberOfLinks                     5053 non-null int64\n",
      "numwords_in_url                   5053 non-null int64\n",
      "parametrizedLinkRatio             5053 non-null float64\n",
      "spelling_errors_ratio             5053 non-null float64\n",
      "label                             5053 non-null int64\n",
      "dtypes: float64(13), int64(9), object(5)\n",
      "memory usage: 1.1+ MB\n"
     ]
    }
   ],
   "source": [
    "su.info()"
   ]
  },
  {
   "cell_type": "code",
   "execution_count": 20,
   "metadata": {
    "collapsed": false,
    "scrolled": true
   },
   "outputs": [
    {
     "data": {
      "text/plain": [
       "<seaborn.axisgrid.PairGrid at 0x11caf0290>"
      ]
     },
     "execution_count": 20,
     "metadata": {},
     "output_type": "execute_result"
    },
    {
     "data": {
      "image/png": "[encoded data removed]",
      "text/plain": [
       "<matplotlib.figure.Figure at 0x1232080d0>"
      ]
     },
     "metadata": {},
     "output_type": "display_data"
    }
   ],
   "source": [
    "sns.pairplot(su[['label','alchemy_category_score',\n",
    "   'embed_ratio', 'html_ratio', 'image_ratio', 'spelling_errors_ratio']])"
   ]
  },
  {
   "cell_type": "markdown",
   "metadata": {},
   "source": [
    "*Through looking at the description of the variables present, certain items related to the URL are likely not important to the regression at hand. Because of the nature of stumbleupon, the URL itself and associated identifiers are likely not that important*\n",
    "*Additional issue is that there are certain values that are negative in the dataframe. Using a describe can determine which sections have negative values*"
   ]
  },
  {
   "cell_type": "code",
   "execution_count": 28,
   "metadata": {
    "collapsed": false
   },
   "outputs": [
    {
     "data": {
      "text/html": [
       "<div>\n",
       "<table border=\"1\" class=\"dataframe\">\n",
       "  <thead>\n",
       "    <tr style=\"text-align: right;\">\n",
       "      <th></th>\n",
       "      <th>urlid</th>\n",
       "      <th>alchemy_category_score</th>\n",
       "      <th>avglinksize</th>\n",
       "      <th>commonlinkratio_1</th>\n",
       "      <th>commonlinkratio_2</th>\n",
       "      <th>commonlinkratio_3</th>\n",
       "      <th>commonlinkratio_4</th>\n",
       "      <th>compression_ratio</th>\n",
       "      <th>embed_ratio</th>\n",
       "      <th>framebased</th>\n",
       "      <th>...</th>\n",
       "      <th>html_ratio</th>\n",
       "      <th>image_ratio</th>\n",
       "      <th>lengthyLinkDomain</th>\n",
       "      <th>linkwordscore</th>\n",
       "      <th>non_markup_alphanum_characters</th>\n",
       "      <th>numberOfLinks</th>\n",
       "      <th>numwords_in_url</th>\n",
       "      <th>parametrizedLinkRatio</th>\n",
       "      <th>spelling_errors_ratio</th>\n",
       "      <th>label</th>\n",
       "    </tr>\n",
       "  </thead>\n",
       "  <tbody>\n",
       "    <tr>\n",
       "      <th>count</th>\n",
       "      <td>5053.000000</td>\n",
       "      <td>5053.000000</td>\n",
       "      <td>5053.000000</td>\n",
       "      <td>5053.000000</td>\n",
       "      <td>5053.000000</td>\n",
       "      <td>5053.000000</td>\n",
       "      <td>5053.000000</td>\n",
       "      <td>5053.000000</td>\n",
       "      <td>5053.000000</td>\n",
       "      <td>5053.0</td>\n",
       "      <td>...</td>\n",
       "      <td>5053.000000</td>\n",
       "      <td>5053.000000</td>\n",
       "      <td>5053.000000</td>\n",
       "      <td>5053.000000</td>\n",
       "      <td>5053.000000</td>\n",
       "      <td>5053.000000</td>\n",
       "      <td>5053.000000</td>\n",
       "      <td>5053.000000</td>\n",
       "      <td>5053.000000</td>\n",
       "      <td>5053.000000</td>\n",
       "    </tr>\n",
       "    <tr>\n",
       "      <th>mean</th>\n",
       "      <td>5312.022759</td>\n",
       "      <td>0.603334</td>\n",
       "      <td>2.941459</td>\n",
       "      <td>0.463598</td>\n",
       "      <td>0.213599</td>\n",
       "      <td>0.091537</td>\n",
       "      <td>0.049556</td>\n",
       "      <td>1.380019</td>\n",
       "      <td>-0.060236</td>\n",
       "      <td>0.0</td>\n",
       "      <td>...</td>\n",
       "      <td>0.234625</td>\n",
       "      <td>0.292137</td>\n",
       "      <td>0.672670</td>\n",
       "      <td>30.067485</td>\n",
       "      <td>5438.513556</td>\n",
       "      <td>178.760538</td>\n",
       "      <td>5.056006</td>\n",
       "      <td>0.171011</td>\n",
       "      <td>0.097238</td>\n",
       "      <td>0.518504</td>\n",
       "    </tr>\n",
       "    <tr>\n",
       "      <th>std</th>\n",
       "      <td>3061.655693</td>\n",
       "      <td>0.212864</td>\n",
       "      <td>10.136599</td>\n",
       "      <td>0.198788</td>\n",
       "      <td>0.144082</td>\n",
       "      <td>0.093382</td>\n",
       "      <td>0.071398</td>\n",
       "      <td>4.116340</td>\n",
       "      <td>0.239526</td>\n",
       "      <td>0.0</td>\n",
       "      <td>...</td>\n",
       "      <td>0.051518</td>\n",
       "      <td>1.972679</td>\n",
       "      <td>0.469285</td>\n",
       "      <td>20.099013</td>\n",
       "      <td>7027.581558</td>\n",
       "      <td>154.565086</td>\n",
       "      <td>3.267839</td>\n",
       "      <td>0.176406</td>\n",
       "      <td>0.060423</td>\n",
       "      <td>0.499707</td>\n",
       "    </tr>\n",
       "    <tr>\n",
       "      <th>min</th>\n",
       "      <td>5.000000</td>\n",
       "      <td>0.070833</td>\n",
       "      <td>0.000000</td>\n",
       "      <td>0.000000</td>\n",
       "      <td>0.000000</td>\n",
       "      <td>0.000000</td>\n",
       "      <td>0.000000</td>\n",
       "      <td>0.000000</td>\n",
       "      <td>-1.000000</td>\n",
       "      <td>0.0</td>\n",
       "      <td>...</td>\n",
       "      <td>0.070094</td>\n",
       "      <td>-1.000000</td>\n",
       "      <td>0.000000</td>\n",
       "      <td>0.000000</td>\n",
       "      <td>0.000000</td>\n",
       "      <td>1.000000</td>\n",
       "      <td>0.000000</td>\n",
       "      <td>0.000000</td>\n",
       "      <td>0.000000</td>\n",
       "      <td>0.000000</td>\n",
       "    </tr>\n",
       "    <tr>\n",
       "      <th>25%</th>\n",
       "      <td>2658.000000</td>\n",
       "      <td>0.452424</td>\n",
       "      <td>1.620690</td>\n",
       "      <td>0.343434</td>\n",
       "      <td>0.108108</td>\n",
       "      <td>0.022989</td>\n",
       "      <td>0.000000</td>\n",
       "      <td>0.440870</td>\n",
       "      <td>0.000000</td>\n",
       "      <td>0.0</td>\n",
       "      <td>...</td>\n",
       "      <td>0.202473</td>\n",
       "      <td>0.032358</td>\n",
       "      <td>0.000000</td>\n",
       "      <td>14.000000</td>\n",
       "      <td>1601.000000</td>\n",
       "      <td>82.000000</td>\n",
       "      <td>3.000000</td>\n",
       "      <td>0.044025</td>\n",
       "      <td>0.069565</td>\n",
       "      <td>0.000000</td>\n",
       "    </tr>\n",
       "    <tr>\n",
       "      <th>50%</th>\n",
       "      <td>5307.000000</td>\n",
       "      <td>0.625616</td>\n",
       "      <td>2.107692</td>\n",
       "      <td>0.476190</td>\n",
       "      <td>0.202312</td>\n",
       "      <td>0.069444</td>\n",
       "      <td>0.024453</td>\n",
       "      <td>0.479335</td>\n",
       "      <td>0.000000</td>\n",
       "      <td>0.0</td>\n",
       "      <td>...</td>\n",
       "      <td>0.230635</td>\n",
       "      <td>0.088136</td>\n",
       "      <td>1.000000</td>\n",
       "      <td>26.000000</td>\n",
       "      <td>3623.000000</td>\n",
       "      <td>141.000000</td>\n",
       "      <td>5.000000</td>\n",
       "      <td>0.116505</td>\n",
       "      <td>0.089094</td>\n",
       "      <td>1.000000</td>\n",
       "    </tr>\n",
       "    <tr>\n",
       "      <th>75%</th>\n",
       "      <td>7983.000000</td>\n",
       "      <td>0.780851</td>\n",
       "      <td>2.682927</td>\n",
       "      <td>0.607029</td>\n",
       "      <td>0.296552</td>\n",
       "      <td>0.132743</td>\n",
       "      <td>0.066667</td>\n",
       "      <td>0.547486</td>\n",
       "      <td>0.000000</td>\n",
       "      <td>0.0</td>\n",
       "      <td>...</td>\n",
       "      <td>0.260788</td>\n",
       "      <td>0.240000</td>\n",
       "      <td>1.000000</td>\n",
       "      <td>43.000000</td>\n",
       "      <td>6413.000000</td>\n",
       "      <td>228.000000</td>\n",
       "      <td>7.000000</td>\n",
       "      <td>0.237726</td>\n",
       "      <td>0.110577</td>\n",
       "      <td>1.000000</td>\n",
       "    </tr>\n",
       "    <tr>\n",
       "      <th>max</th>\n",
       "      <td>10566.000000</td>\n",
       "      <td>0.999426</td>\n",
       "      <td>363.000000</td>\n",
       "      <td>1.000000</td>\n",
       "      <td>1.000000</td>\n",
       "      <td>0.980392</td>\n",
       "      <td>0.980392</td>\n",
       "      <td>21.000000</td>\n",
       "      <td>0.214286</td>\n",
       "      <td>0.0</td>\n",
       "      <td>...</td>\n",
       "      <td>0.716883</td>\n",
       "      <td>113.333333</td>\n",
       "      <td>1.000000</td>\n",
       "      <td>100.000000</td>\n",
       "      <td>87948.000000</td>\n",
       "      <td>3283.000000</td>\n",
       "      <td>21.000000</td>\n",
       "      <td>1.000000</td>\n",
       "      <td>1.000000</td>\n",
       "      <td>1.000000</td>\n",
       "    </tr>\n",
       "  </tbody>\n",
       "</table>\n",
       "<p>8 rows × 22 columns</p>\n",
       "</div>"
      ],
      "text/plain": [
       "              urlid  alchemy_category_score  avglinksize  commonlinkratio_1  \\\n",
       "count   5053.000000             5053.000000  5053.000000        5053.000000   \n",
       "mean    5312.022759                0.603334     2.941459           0.463598   \n",
       "std     3061.655693                0.212864    10.136599           0.198788   \n",
       "min        5.000000                0.070833     0.000000           0.000000   \n",
       "25%     2658.000000                0.452424     1.620690           0.343434   \n",
       "50%     5307.000000                0.625616     2.107692           0.476190   \n",
       "75%     7983.000000                0.780851     2.682927           0.607029   \n",
       "max    10566.000000                0.999426   363.000000           1.000000   \n",
       "\n",
       "       commonlinkratio_2  commonlinkratio_3  commonlinkratio_4  \\\n",
       "count        5053.000000        5053.000000        5053.000000   \n",
       "mean            0.213599           0.091537           0.049556   \n",
       "std             0.144082           0.093382           0.071398   \n",
       "min             0.000000           0.000000           0.000000   \n",
       "25%             0.108108           0.022989           0.000000   \n",
       "50%             0.202312           0.069444           0.024453   \n",
       "75%             0.296552           0.132743           0.066667   \n",
       "max             1.000000           0.980392           0.980392   \n",
       "\n",
       "       compression_ratio  embed_ratio  framebased     ...        html_ratio  \\\n",
       "count        5053.000000  5053.000000      5053.0     ...       5053.000000   \n",
       "mean            1.380019    -0.060236         0.0     ...          0.234625   \n",
       "std             4.116340     0.239526         0.0     ...          0.051518   \n",
       "min             0.000000    -1.000000         0.0     ...          0.070094   \n",
       "25%             0.440870     0.000000         0.0     ...          0.202473   \n",
       "50%             0.479335     0.000000         0.0     ...          0.230635   \n",
       "75%             0.547486     0.000000         0.0     ...          0.260788   \n",
       "max            21.000000     0.214286         0.0     ...          0.716883   \n",
       "\n",
       "       image_ratio  lengthyLinkDomain  linkwordscore  \\\n",
       "count  5053.000000        5053.000000    5053.000000   \n",
       "mean      0.292137           0.672670      30.067485   \n",
       "std       1.972679           0.469285      20.099013   \n",
       "min      -1.000000           0.000000       0.000000   \n",
       "25%       0.032358           0.000000      14.000000   \n",
       "50%       0.088136           1.000000      26.000000   \n",
       "75%       0.240000           1.000000      43.000000   \n",
       "max     113.333333           1.000000     100.000000   \n",
       "\n",
       "       non_markup_alphanum_characters  numberOfLinks  numwords_in_url  \\\n",
       "count                     5053.000000    5053.000000      5053.000000   \n",
       "mean                      5438.513556     178.760538         5.056006   \n",
       "std                       7027.581558     154.565086         3.267839   \n",
       "min                          0.000000       1.000000         0.000000   \n",
       "25%                       1601.000000      82.000000         3.000000   \n",
       "50%                       3623.000000     141.000000         5.000000   \n",
       "75%                       6413.000000     228.000000         7.000000   \n",
       "max                      87948.000000    3283.000000        21.000000   \n",
       "\n",
       "       parametrizedLinkRatio  spelling_errors_ratio        label  \n",
       "count            5053.000000            5053.000000  5053.000000  \n",
       "mean                0.171011               0.097238     0.518504  \n",
       "std                 0.176406               0.060423     0.499707  \n",
       "min                 0.000000               0.000000     0.000000  \n",
       "25%                 0.044025               0.069565     0.000000  \n",
       "50%                 0.116505               0.089094     1.000000  \n",
       "75%                 0.237726               0.110577     1.000000  \n",
       "max                 1.000000               1.000000     1.000000  \n",
       "\n",
       "[8 rows x 22 columns]"
      ]
     },
     "execution_count": 28,
     "metadata": {},
     "output_type": "execute_result"
    }
   ],
   "source": [
    "su.describe()"
   ]
  },
  {
   "cell_type": "code",
   "execution_count": 83,
   "metadata": {
    "collapsed": false
   },
   "outputs": [
    {
     "data": {
      "text/plain": [
       "29"
      ]
     },
     "execution_count": 83,
     "metadata": {},
     "output_type": "execute_result"
    }
   ],
   "source": [
    "len(su[su['image_ratio']==0])\n"
   ]
  },
  {
   "cell_type": "markdown",
   "metadata": {},
   "source": [
    "*Certain ratios have values of -1 which is not possible. These values will be replaced by the average of their associated*"
   ]
  },
  {
   "cell_type": "code",
   "execution_count": null,
   "metadata": {
    "collapsed": true
   },
   "outputs": [],
   "source": [
    "# Get list of all categories\n",
    "\n",
    "# isolate each category\n",
    "# take mean of each category \n",
    "# ignore -1 values\n",
    "\n",
    "# "
   ]
  },
  {
   "cell_type": "markdown",
   "metadata": {},
   "source": [
    "## 3. Use statsmodels' logistic regression function to look at variable significance\n",
    "<a id=\"statsmodels logreg\"></a>\n",
    "\n",
    "The **`import statsmodels.formula.api as smf`** code below gives us access to a statsmodels api that can run logistic regressions using patsy-style formulas.\n",
    "\n",
    "Ex:\n",
    "\n",
    "```python\n",
    "formula = 'target ~ var1 + var2 + C(var3) -1'\n",
    "logreg = smf.logit(formula, data=data)\n",
    "logreg_results = logreg.fit()\n",
    "print logreg_results.summary()\n",
    "```\n",
    "\n",
    "---"
   ]
  },
  {
   "cell_type": "code",
   "execution_count": 35,
   "metadata": {
    "collapsed": false
   },
   "outputs": [],
   "source": [
    "# Import appropriate pacakges\n",
    "import statsmodels.formula.api as smf\n",
    "import patsy"
   ]
  },
  {
   "cell_type": "code",
   "execution_count": 36,
   "metadata": {
    "collapsed": false
   },
   "outputs": [],
   "source": [
    "# Create Formula\n",
    "formula = 'label ~ html_ratio + image_ratio + embed_ratio + frameTagRatio +parametrizedLinkRatio + spelling_errors_ratio + numberOfLinks - 1' # -1 used to remove the intercept"
   ]
  },
  {
   "cell_type": "code",
   "execution_count": 37,
   "metadata": {
    "collapsed": false
   },
   "outputs": [],
   "source": [
    "logr = smf.logit(formula, data=su) # Perform Logit function on provided formula"
   ]
  },
  {
   "cell_type": "code",
   "execution_count": 38,
   "metadata": {
    "collapsed": false
   },
   "outputs": [
    {
     "name": "stdout",
     "output_type": "stream",
     "text": [
      "Optimization terminated successfully.\n",
      "         Current function value: 0.668883\n",
      "         Iterations 5\n"
     ]
    }
   ],
   "source": [
    "logr_result = logr.fit()           # Fit the model"
   ]
  },
  {
   "cell_type": "code",
   "execution_count": 39,
   "metadata": {
    "collapsed": false
   },
   "outputs": [
    {
     "name": "stdout",
     "output_type": "stream",
     "text": [
      "                           Logit Regression Results                           \n",
      "==============================================================================\n",
      "Dep. Variable:                  label   No. Observations:                 5053\n",
      "Model:                          Logit   Df Residuals:                     5046\n",
      "Method:                           MLE   Df Model:                            6\n",
      "Date:                Thu, 12 May 2016   Pseudo R-squ.:                 0.03405\n",
      "Time:                        14:37:40   Log-Likelihood:                -3379.9\n",
      "converged:                       True   LL-Null:                       -3499.0\n",
      "                                        LLR p-value:                 1.302e-48\n",
      "=========================================================================================\n",
      "                            coef    std err          z      P>|z|      [95.0% Conf. Int.]\n",
      "-----------------------------------------------------------------------------------------\n",
      "html_ratio                3.3156      0.337      9.829      0.000         2.654     3.977\n",
      "image_ratio              -0.0111      0.018     -0.609      0.543        -0.047     0.025\n",
      "embed_ratio              -0.1679      0.134     -1.251      0.211        -0.431     0.095\n",
      "frameTagRatio           -10.7946      0.877    -12.310      0.000       -12.513    -9.076\n",
      "parametrizedLinkRatio     0.1455      0.164      0.888      0.375        -0.176     0.467\n",
      "spelling_errors_ratio    -2.5195      0.534     -4.720      0.000        -3.566    -1.473\n",
      "numberOfLinks             0.0006      0.000      3.020      0.003         0.000     0.001\n",
      "=========================================================================================\n"
     ]
    }
   ],
   "source": [
    "print logr_result.summary()       # Print out the summary results from the regression"
   ]
  },
  {
   "cell_type": "markdown",
   "metadata": {},
   "source": [
    "### 3.1 Run a logistic regression predicting evergreen from the numeric columns\n",
    "\n",
    "And print out the results as shown in the example above.\n",
    "\n",
    "---"
   ]
  },
  {
   "cell_type": "code",
   "execution_count": 96,
   "metadata": {
    "collapsed": true
   },
   "outputs": [],
   "source": [
    "formula = '''label ~ alchemy_category_score + avglinksize + compression_ratio + \n",
    "            embed_ratio + frameTagRatio + html_ratio + image_ratio\n",
    "            + avglinksize+ commonlinkratio_1+commonlinkratio_2+\n",
    "            commonlinkratio_3 + commonlinkratio_4'''\n"
   ]
  },
  {
   "cell_type": "code",
   "execution_count": 97,
   "metadata": {
    "collapsed": true
   },
   "outputs": [],
   "source": [
    "logreg = smf.logit(formula, data=su)"
   ]
  },
  {
   "cell_type": "code",
   "execution_count": 98,
   "metadata": {
    "collapsed": false
   },
   "outputs": [
    {
     "name": "stdout",
     "output_type": "stream",
     "text": [
      "Optimization terminated successfully.\n",
      "         Current function value: 0.664055\n",
      "         Iterations 5\n"
     ]
    }
   ],
   "source": [
    "model = logreg.fit()"
   ]
  },
  {
   "cell_type": "code",
   "execution_count": 99,
   "metadata": {
    "collapsed": false
   },
   "outputs": [
    {
     "name": "stdout",
     "output_type": "stream",
     "text": [
      "                           Logit Regression Results                           \n",
      "==============================================================================\n",
      "Dep. Variable:                  label   No. Observations:                 5053\n",
      "Model:                          Logit   Df Residuals:                     5041\n",
      "Method:                           MLE   Df Model:                           11\n",
      "Date:                Thu, 12 May 2016   Pseudo R-squ.:                 0.04102\n",
      "Time:                        16:19:31   Log-Likelihood:                -3355.5\n",
      "converged:                       True   LL-Null:                       -3499.0\n",
      "                                        LLR p-value:                 4.581e-55\n",
      "==========================================================================================\n",
      "                             coef    std err          z      P>|z|      [95.0% Conf. Int.]\n",
      "------------------------------------------------------------------------------------------\n",
      "Intercept                  0.9733      0.191      5.101      0.000         0.599     1.347\n",
      "alchemy_category_score    -0.8397      0.140     -5.995      0.000        -1.114    -0.565\n",
      "avglinksize               -0.0021      0.003     -0.715      0.475        -0.008     0.004\n",
      "compression_ratio         -0.0478      0.013     -3.581      0.000        -0.074    -0.022\n",
      "embed_ratio               -0.5365      0.225     -2.382      0.017        -0.978    -0.095\n",
      "frameTagRatio            -10.8990      0.881    -12.370      0.000       -12.626    -9.172\n",
      "html_ratio                 0.8182      0.626      1.306      0.191        -0.409     2.046\n",
      "image_ratio               -0.0295      0.020     -1.507      0.132        -0.068     0.009\n",
      "commonlinkratio_1          0.0149      0.258      0.058      0.954        -0.492     0.521\n",
      "commonlinkratio_2         -0.4772      0.453     -1.054      0.292        -1.365     0.411\n",
      "commonlinkratio_3          2.7902      0.848      3.291      0.001         1.128     4.452\n",
      "commonlinkratio_4         -1.5924      0.873     -1.824      0.068        -3.304     0.119\n",
      "==========================================================================================\n"
     ]
    }
   ],
   "source": [
    "print model.summary()"
   ]
  },
  {
   "cell_type": "markdown",
   "metadata": {},
   "source": [
    "### 3.2 Run a logistic regression predicting evergreen from the numeric columns and a categorical variable of alchemy_category\n",
    "\n",
    "And print out the results as shown in the example.\n",
    "\n",
    "---"
   ]
  },
  {
   "cell_type": "code",
   "execution_count": 70,
   "metadata": {
    "collapsed": true
   },
   "outputs": [],
   "source": [
    "formula = '''label ~ C(alchemy_category) + alchemy_category_score + avglinksize + \n",
    "compression_ratio + embed_ratio + \n",
    "frameTagRatio + html_ratio + image_ratio - 1'''"
   ]
  },
  {
   "cell_type": "code",
   "execution_count": 73,
   "metadata": {
    "collapsed": false
   },
   "outputs": [
    {
     "name": "stdout",
     "output_type": "stream",
     "text": [
      "Warning: Maximum number of iterations has been exceeded.\n",
      "         Current function value: 0.610383\n",
      "         Iterations: 35\n"
     ]
    },
    {
     "name": "stderr",
     "output_type": "stream",
     "text": [
      "/Users/sebozek/anaconda/lib/python2.7/site-packages/statsmodels/base/model.py:466: ConvergenceWarning: Maximum Likelihood optimization failed to converge. Check mle_retvals\n",
      "  \"Check mle_retvals\", ConvergenceWarning)\n"
     ]
    }
   ],
   "source": [
    "logreg = smf.logit(formula, data=su)\n",
    "model = logreg.fit()"
   ]
  },
  {
   "cell_type": "code",
   "execution_count": 74,
   "metadata": {
    "collapsed": true
   },
   "outputs": [
    {
     "name": "stdout",
     "output_type": "stream",
     "text": [
      "                           Logit Regression Results                           \n",
      "==============================================================================\n",
      "Dep. Variable:                  label   No. Observations:                 5053\n",
      "Model:                          Logit   Df Residuals:                     5033\n",
      "Method:                           MLE   Df Model:                           19\n",
      "Date:                Thu, 12 May 2016   Pseudo R-squ.:                  0.1185\n",
      "Time:                        16:02:48   Log-Likelihood:                -3084.3\n",
      "converged:                      False   LL-Null:                       -3499.0\n",
      "                                        LLR p-value:                1.151e-163\n",
      "===========================================================================================================\n",
      "                                              coef    std err          z      P>|z|      [95.0% Conf. Int.]\n",
      "-----------------------------------------------------------------------------------------------------------\n",
      "C(alchemy_category)[arts_entertainment]     0.0759      0.190      0.400      0.689        -0.296     0.448\n",
      "C(alchemy_category)[business]               1.4759      0.191      7.712      0.000         1.101     1.851\n",
      "C(alchemy_category)[computer_internet]     -0.4377      0.233     -1.877      0.061        -0.895     0.019\n",
      "C(alchemy_category)[culture_politics]       0.4147      0.204      2.034      0.042         0.015     0.814\n",
      "C(alchemy_category)[gaming]                 0.0991      0.297      0.333      0.739        -0.484     0.682\n",
      "C(alchemy_category)[health]                 0.9163      0.212      4.314      0.000         0.500     1.333\n",
      "C(alchemy_category)[law_crime]              0.4876      0.419      1.163      0.245        -0.334     1.309\n",
      "C(alchemy_category)[recreation]             1.3597      0.181      7.530      0.000         1.006     1.714\n",
      "C(alchemy_category)[religion]               0.3580      0.297      1.204      0.228        -0.225     0.941\n",
      "C(alchemy_category)[science_technology]     0.4494      0.216      2.081      0.037         0.026     0.873\n",
      "C(alchemy_category)[sports]                -0.7009      0.222     -3.152      0.002        -1.137    -0.265\n",
      "C(alchemy_category)[unknown]                0.2059      0.928      0.222      0.824        -1.613     2.025\n",
      "C(alchemy_category)[weather]              -27.8365   1.08e+06  -2.57e-05      1.000     -2.12e+06  2.12e+06\n",
      "alchemy_category_score                     -0.3670      0.154     -2.389      0.017        -0.668    -0.066\n",
      "avglinksize                                 0.0008      0.003      0.258      0.796        -0.005     0.007\n",
      "compression_ratio                          -0.0413      0.014     -2.943      0.003        -0.069    -0.014\n",
      "embed_ratio                                -0.4400      0.236     -1.866      0.062        -0.902     0.022\n",
      "frameTagRatio                             -10.5141      0.903    -11.640      0.000       -12.284    -8.744\n",
      "html_ratio                                  1.0364      0.660      1.571      0.116        -0.256     2.329\n",
      "image_ratio                                -0.0250      0.017     -1.451      0.147        -0.059     0.009\n",
      "===========================================================================================================\n"
     ]
    }
   ],
   "source": [
    "print model.summary()"
   ]
  },
  {
   "cell_type": "markdown",
   "metadata": {},
   "source": [
    "## 4. Use sklearn to cross-validate the accuracy of the model above\n",
    "\n",
    "Normalize the numeric and categorical columns of the predictor matrix.\n",
    "\n",
    "---"
   ]
  },
  {
   "cell_type": "code",
   "execution_count": 118,
   "metadata": {
    "collapsed": false
   },
   "outputs": [],
   "source": [
    "from sklearn.linear_model import LogisticRegressionCV\n",
    "\n",
    "\n",
    "not_target = [x for x in su if x not in ['label', 'is_news', 'url',\n",
    "                                         'urlid','boilerplate',\n",
    "                                        'alchemy_category', \n",
    "                                         'news_front_page', 'title']]\n",
    "su_n = su.copy()\n",
    "su_n.ix[:, not_target] = (su_n.ix[:, not_target] - su_n.ix[:, not_target].mean()) / su_n.ix[:, not_target].std()"
   ]
  },
  {
   "cell_type": "code",
   "execution_count": 142,
   "metadata": {
    "collapsed": true
   },
   "outputs": [],
   "source": [
    "logreg = LogisticRegressionCV(Cs=10, cv=7)"
   ]
  },
  {
   "cell_type": "code",
   "execution_count": 143,
   "metadata": {
    "collapsed": false
   },
   "outputs": [
    {
     "data": {
      "text/plain": [
       "LogisticRegressionCV(Cs=10, class_weight=None, cv=7, dual=False,\n",
       "           fit_intercept=True, intercept_scaling=1.0, max_iter=100,\n",
       "           multi_class='ovr', n_jobs=1, penalty='l2', random_state=None,\n",
       "           refit=True, scoring=None, solver='lbfgs', tol=0.0001, verbose=0)"
      ]
     },
     "execution_count": 143,
     "metadata": {},
     "output_type": "execute_result"
    }
   ],
   "source": [
    "Y, X = patsy.dmatrices('''label ~ C(alchemy_category) + alchemy_category_score + avglinksize + \n",
    "compression_ratio + embed_ratio + \n",
    "frameTagRatio + html_ratio + image_ratio - 1''', data=su_n)\n",
    "\n",
    "Y = np.ravel(Y) # Change Y to 1D array\n",
    "\n",
    "logreg.fit(X,Y) # fit to the logistic "
   ]
  },
  {
   "cell_type": "code",
   "execution_count": 159,
   "metadata": {
    "collapsed": false
   },
   "outputs": [
    {
     "data": {
      "text/plain": [
       "array([[ 0.55048409,  0.61549101,  0.64868603,  0.64868603,  0.65006916,\n",
       "         0.65006916,  0.65145228,  0.65145228,  0.65145228,  0.65145228],\n",
       "       [ 0.54495159,  0.64315353,  0.6846473 ,  0.69432918,  0.69156293,\n",
       "         0.69017981,  0.69017981,  0.69017981,  0.69017981,  0.69017981],\n",
       "       [ 0.5401662 ,  0.62603878,  0.68282548,  0.66204986,  0.65927978,\n",
       "         0.66066482,  0.65927978,  0.65927978,  0.65927978,  0.65927978],\n",
       "       [ 0.55124654,  0.61634349,  0.67451524,  0.67036011,  0.66481994,\n",
       "         0.66620499,  0.66620499,  0.66620499,  0.66620499,  0.66620499],\n",
       "       [ 0.56171983,  0.63106796,  0.68377254,  0.67128988,  0.67267684,\n",
       "         0.67267684,  0.67267684,  0.67128988,  0.67128988,  0.67128988],\n",
       "       [ 0.55755895,  0.63384189,  0.66158114,  0.67545076,  0.67961165,\n",
       "         0.67822469,  0.67822469,  0.67822469,  0.67822469,  0.67822469],\n",
       "       [ 0.55478502,  0.63522885,  0.64216366,  0.6629681 ,  0.66574202,\n",
       "         0.66712899,  0.66712899,  0.66712899,  0.66712899,  0.66712899]])"
      ]
     },
     "execution_count": 159,
     "metadata": {},
     "output_type": "execute_result"
    }
   ],
   "source": [
    "logreg.scores_[1]"
   ]
  },
  {
   "cell_type": "markdown",
   "metadata": {},
   "source": [
    "## 5. Gridsearch regularization parameters for logistic regression\n",
    "\n",
    "Find the best regularization type (Ridge, Lasso) across a set of regularization strengths.\n",
    "\n",
    "[NOTE: C is the inverse of the regularization strength. Lower C values are stronger regularization. Having a C higher than 1 will significantly slow down the search. I'm not particularly interested in values over 1, since this is the default regularization strength in LogisticRegression.]\n",
    "\n",
    "**After you find the best set of parameters, build a Logistic Regression with those parameters and crossvalidate the score.**\n",
    "\n",
    "[NOTE 2: to run Lasso regularization the solver should be `'liblinear'`]\n",
    "\n",
    "---"
   ]
  },
  {
   "cell_type": "code",
   "execution_count": 161,
   "metadata": {
    "collapsed": false
   },
   "outputs": [
    {
     "ename": "ValueError",
     "evalue": "Invalid parameter C for estimator LogisticRegressionCV. Check the list of available parameters with `estimator.get_params().keys()`.",
     "output_type": "error",
     "traceback": [
      "\u001b[0;31m---------------------------------------------------------------------------\u001b[0m",
      "\u001b[0;31mValueError\u001b[0m                                Traceback (most recent call last)",
      "\u001b[0;32m<ipython-input-161-6e19a7e2a1a0>\u001b[0m in \u001b[0;36m<module>\u001b[0;34m()\u001b[0m\n\u001b[1;32m      7\u001b[0m param_grid=dict(C=range_c), n_jobs =1)\n\u001b[1;32m      8\u001b[0m \u001b[0;34m\u001b[0m\u001b[0m\n\u001b[0;32m----> 9\u001b[0;31m \u001b[0mlogreg_grid\u001b[0m\u001b[0;34m.\u001b[0m\u001b[0mfit\u001b[0m\u001b[0;34m(\u001b[0m\u001b[0mX\u001b[0m\u001b[0;34m,\u001b[0m\u001b[0mY\u001b[0m\u001b[0;34m)\u001b[0m\u001b[0;34m.\u001b[0m\u001b[0mscore\u001b[0m\u001b[0;34m(\u001b[0m\u001b[0mX\u001b[0m\u001b[0;34m,\u001b[0m\u001b[0mY\u001b[0m\u001b[0;34m)\u001b[0m\u001b[0;34m\u001b[0m\u001b[0m\n\u001b[0m\u001b[1;32m     10\u001b[0m \u001b[0;34m\u001b[0m\u001b[0m\n\u001b[1;32m     11\u001b[0m \u001b[0mestimator\u001b[0m\u001b[0;34m.\u001b[0m\u001b[0mgetparams\u001b[0m\u001b[0;34m\u001b[0m\u001b[0m\n",
      "\u001b[0;32m/Users/sebozek/anaconda/lib/python2.7/site-packages/sklearn/grid_search.pyc\u001b[0m in \u001b[0;36mfit\u001b[0;34m(self, X, y)\u001b[0m\n\u001b[1;32m    802\u001b[0m \u001b[0;34m\u001b[0m\u001b[0m\n\u001b[1;32m    803\u001b[0m         \"\"\"\n\u001b[0;32m--> 804\u001b[0;31m         \u001b[0;32mreturn\u001b[0m \u001b[0mself\u001b[0m\u001b[0;34m.\u001b[0m\u001b[0m_fit\u001b[0m\u001b[0;34m(\u001b[0m\u001b[0mX\u001b[0m\u001b[0;34m,\u001b[0m \u001b[0my\u001b[0m\u001b[0;34m,\u001b[0m \u001b[0mParameterGrid\u001b[0m\u001b[0;34m(\u001b[0m\u001b[0mself\u001b[0m\u001b[0;34m.\u001b[0m\u001b[0mparam_grid\u001b[0m\u001b[0;34m)\u001b[0m\u001b[0;34m)\u001b[0m\u001b[0;34m\u001b[0m\u001b[0m\n\u001b[0m\u001b[1;32m    805\u001b[0m \u001b[0;34m\u001b[0m\u001b[0m\n\u001b[1;32m    806\u001b[0m \u001b[0;34m\u001b[0m\u001b[0m\n",
      "\u001b[0;32m/Users/sebozek/anaconda/lib/python2.7/site-packages/sklearn/grid_search.pyc\u001b[0m in \u001b[0;36m_fit\u001b[0;34m(self, X, y, parameter_iterable)\u001b[0m\n\u001b[1;32m    551\u001b[0m                                     \u001b[0mself\u001b[0m\u001b[0;34m.\u001b[0m\u001b[0mfit_params\u001b[0m\u001b[0;34m,\u001b[0m \u001b[0mreturn_parameters\u001b[0m\u001b[0;34m=\u001b[0m\u001b[0mTrue\u001b[0m\u001b[0;34m,\u001b[0m\u001b[0;34m\u001b[0m\u001b[0m\n\u001b[1;32m    552\u001b[0m                                     error_score=self.error_score)\n\u001b[0;32m--> 553\u001b[0;31m                 \u001b[0;32mfor\u001b[0m \u001b[0mparameters\u001b[0m \u001b[0;32min\u001b[0m \u001b[0mparameter_iterable\u001b[0m\u001b[0;34m\u001b[0m\u001b[0m\n\u001b[0m\u001b[1;32m    554\u001b[0m                 for train, test in cv)\n\u001b[1;32m    555\u001b[0m \u001b[0;34m\u001b[0m\u001b[0m\n",
      "\u001b[0;32m/Users/sebozek/anaconda/lib/python2.7/site-packages/sklearn/externals/joblib/parallel.pyc\u001b[0m in \u001b[0;36m__call__\u001b[0;34m(self, iterable)\u001b[0m\n\u001b[1;32m    798\u001b[0m             \u001b[0;31m# was dispatched. In particular this covers the edge\u001b[0m\u001b[0;34m\u001b[0m\u001b[0;34m\u001b[0m\u001b[0m\n\u001b[1;32m    799\u001b[0m             \u001b[0;31m# case of Parallel used with an exhausted iterator.\u001b[0m\u001b[0;34m\u001b[0m\u001b[0;34m\u001b[0m\u001b[0m\n\u001b[0;32m--> 800\u001b[0;31m             \u001b[0;32mwhile\u001b[0m \u001b[0mself\u001b[0m\u001b[0;34m.\u001b[0m\u001b[0mdispatch_one_batch\u001b[0m\u001b[0;34m(\u001b[0m\u001b[0miterator\u001b[0m\u001b[0;34m)\u001b[0m\u001b[0;34m:\u001b[0m\u001b[0;34m\u001b[0m\u001b[0m\n\u001b[0m\u001b[1;32m    801\u001b[0m                 \u001b[0mself\u001b[0m\u001b[0;34m.\u001b[0m\u001b[0m_iterating\u001b[0m \u001b[0;34m=\u001b[0m \u001b[0mTrue\u001b[0m\u001b[0;34m\u001b[0m\u001b[0m\n\u001b[1;32m    802\u001b[0m             \u001b[0;32melse\u001b[0m\u001b[0;34m:\u001b[0m\u001b[0;34m\u001b[0m\u001b[0m\n",
      "\u001b[0;32m/Users/sebozek/anaconda/lib/python2.7/site-packages/sklearn/externals/joblib/parallel.pyc\u001b[0m in \u001b[0;36mdispatch_one_batch\u001b[0;34m(self, iterator)\u001b[0m\n\u001b[1;32m    656\u001b[0m                 \u001b[0;32mreturn\u001b[0m \u001b[0mFalse\u001b[0m\u001b[0;34m\u001b[0m\u001b[0m\n\u001b[1;32m    657\u001b[0m             \u001b[0;32melse\u001b[0m\u001b[0;34m:\u001b[0m\u001b[0;34m\u001b[0m\u001b[0m\n\u001b[0;32m--> 658\u001b[0;31m                 \u001b[0mself\u001b[0m\u001b[0;34m.\u001b[0m\u001b[0m_dispatch\u001b[0m\u001b[0;34m(\u001b[0m\u001b[0mtasks\u001b[0m\u001b[0;34m)\u001b[0m\u001b[0;34m\u001b[0m\u001b[0m\n\u001b[0m\u001b[1;32m    659\u001b[0m                 \u001b[0;32mreturn\u001b[0m \u001b[0mTrue\u001b[0m\u001b[0;34m\u001b[0m\u001b[0m\n\u001b[1;32m    660\u001b[0m \u001b[0;34m\u001b[0m\u001b[0m\n",
      "\u001b[0;32m/Users/sebozek/anaconda/lib/python2.7/site-packages/sklearn/externals/joblib/parallel.pyc\u001b[0m in \u001b[0;36m_dispatch\u001b[0;34m(self, batch)\u001b[0m\n\u001b[1;32m    564\u001b[0m \u001b[0;34m\u001b[0m\u001b[0m\n\u001b[1;32m    565\u001b[0m         \u001b[0;32mif\u001b[0m \u001b[0mself\u001b[0m\u001b[0;34m.\u001b[0m\u001b[0m_pool\u001b[0m \u001b[0;32mis\u001b[0m \u001b[0mNone\u001b[0m\u001b[0;34m:\u001b[0m\u001b[0;34m\u001b[0m\u001b[0m\n\u001b[0;32m--> 566\u001b[0;31m             \u001b[0mjob\u001b[0m \u001b[0;34m=\u001b[0m \u001b[0mImmediateComputeBatch\u001b[0m\u001b[0;34m(\u001b[0m\u001b[0mbatch\u001b[0m\u001b[0;34m)\u001b[0m\u001b[0;34m\u001b[0m\u001b[0m\n\u001b[0m\u001b[1;32m    567\u001b[0m             \u001b[0mself\u001b[0m\u001b[0;34m.\u001b[0m\u001b[0m_jobs\u001b[0m\u001b[0;34m.\u001b[0m\u001b[0mappend\u001b[0m\u001b[0;34m(\u001b[0m\u001b[0mjob\u001b[0m\u001b[0;34m)\u001b[0m\u001b[0;34m\u001b[0m\u001b[0m\n\u001b[1;32m    568\u001b[0m             \u001b[0mself\u001b[0m\u001b[0;34m.\u001b[0m\u001b[0mn_dispatched_batches\u001b[0m \u001b[0;34m+=\u001b[0m \u001b[0;36m1\u001b[0m\u001b[0;34m\u001b[0m\u001b[0m\n",
      "\u001b[0;32m/Users/sebozek/anaconda/lib/python2.7/site-packages/sklearn/externals/joblib/parallel.pyc\u001b[0m in \u001b[0;36m__init__\u001b[0;34m(self, batch)\u001b[0m\n\u001b[1;32m    178\u001b[0m         \u001b[0;31m# Don't delay the application, to avoid keeping the input\u001b[0m\u001b[0;34m\u001b[0m\u001b[0;34m\u001b[0m\u001b[0m\n\u001b[1;32m    179\u001b[0m         \u001b[0;31m# arguments in memory\u001b[0m\u001b[0;34m\u001b[0m\u001b[0;34m\u001b[0m\u001b[0m\n\u001b[0;32m--> 180\u001b[0;31m         \u001b[0mself\u001b[0m\u001b[0;34m.\u001b[0m\u001b[0mresults\u001b[0m \u001b[0;34m=\u001b[0m \u001b[0mbatch\u001b[0m\u001b[0;34m(\u001b[0m\u001b[0;34m)\u001b[0m\u001b[0;34m\u001b[0m\u001b[0m\n\u001b[0m\u001b[1;32m    181\u001b[0m \u001b[0;34m\u001b[0m\u001b[0m\n\u001b[1;32m    182\u001b[0m     \u001b[0;32mdef\u001b[0m \u001b[0mget\u001b[0m\u001b[0;34m(\u001b[0m\u001b[0mself\u001b[0m\u001b[0;34m)\u001b[0m\u001b[0;34m:\u001b[0m\u001b[0;34m\u001b[0m\u001b[0m\n",
      "\u001b[0;32m/Users/sebozek/anaconda/lib/python2.7/site-packages/sklearn/externals/joblib/parallel.pyc\u001b[0m in \u001b[0;36m__call__\u001b[0;34m(self)\u001b[0m\n\u001b[1;32m     70\u001b[0m \u001b[0;34m\u001b[0m\u001b[0m\n\u001b[1;32m     71\u001b[0m     \u001b[0;32mdef\u001b[0m \u001b[0m__call__\u001b[0m\u001b[0;34m(\u001b[0m\u001b[0mself\u001b[0m\u001b[0;34m)\u001b[0m\u001b[0;34m:\u001b[0m\u001b[0;34m\u001b[0m\u001b[0m\n\u001b[0;32m---> 72\u001b[0;31m         \u001b[0;32mreturn\u001b[0m \u001b[0;34m[\u001b[0m\u001b[0mfunc\u001b[0m\u001b[0;34m(\u001b[0m\u001b[0;34m*\u001b[0m\u001b[0margs\u001b[0m\u001b[0;34m,\u001b[0m \u001b[0;34m**\u001b[0m\u001b[0mkwargs\u001b[0m\u001b[0;34m)\u001b[0m \u001b[0;32mfor\u001b[0m \u001b[0mfunc\u001b[0m\u001b[0;34m,\u001b[0m \u001b[0margs\u001b[0m\u001b[0;34m,\u001b[0m \u001b[0mkwargs\u001b[0m \u001b[0;32min\u001b[0m \u001b[0mself\u001b[0m\u001b[0;34m.\u001b[0m\u001b[0mitems\u001b[0m\u001b[0;34m]\u001b[0m\u001b[0;34m\u001b[0m\u001b[0m\n\u001b[0m\u001b[1;32m     73\u001b[0m \u001b[0;34m\u001b[0m\u001b[0m\n\u001b[1;32m     74\u001b[0m     \u001b[0;32mdef\u001b[0m \u001b[0m__len__\u001b[0m\u001b[0;34m(\u001b[0m\u001b[0mself\u001b[0m\u001b[0;34m)\u001b[0m\u001b[0;34m:\u001b[0m\u001b[0;34m\u001b[0m\u001b[0m\n",
      "\u001b[0;32m/Users/sebozek/anaconda/lib/python2.7/site-packages/sklearn/cross_validation.pyc\u001b[0m in \u001b[0;36m_fit_and_score\u001b[0;34m(estimator, X, y, scorer, train, test, verbose, parameters, fit_params, return_train_score, return_parameters, error_score)\u001b[0m\n\u001b[1;32m   1518\u001b[0m \u001b[0;34m\u001b[0m\u001b[0m\n\u001b[1;32m   1519\u001b[0m     \u001b[0;32mif\u001b[0m \u001b[0mparameters\u001b[0m \u001b[0;32mis\u001b[0m \u001b[0;32mnot\u001b[0m \u001b[0mNone\u001b[0m\u001b[0;34m:\u001b[0m\u001b[0;34m\u001b[0m\u001b[0m\n\u001b[0;32m-> 1520\u001b[0;31m         \u001b[0mestimator\u001b[0m\u001b[0;34m.\u001b[0m\u001b[0mset_params\u001b[0m\u001b[0;34m(\u001b[0m\u001b[0;34m**\u001b[0m\u001b[0mparameters\u001b[0m\u001b[0;34m)\u001b[0m\u001b[0;34m\u001b[0m\u001b[0m\n\u001b[0m\u001b[1;32m   1521\u001b[0m \u001b[0;34m\u001b[0m\u001b[0m\n\u001b[1;32m   1522\u001b[0m     \u001b[0mstart_time\u001b[0m \u001b[0;34m=\u001b[0m \u001b[0mtime\u001b[0m\u001b[0;34m.\u001b[0m\u001b[0mtime\u001b[0m\u001b[0;34m(\u001b[0m\u001b[0;34m)\u001b[0m\u001b[0;34m\u001b[0m\u001b[0m\n",
      "\u001b[0;32m/Users/sebozek/anaconda/lib/python2.7/site-packages/sklearn/base.pyc\u001b[0m in \u001b[0;36mset_params\u001b[0;34m(self, **params)\u001b[0m\n\u001b[1;32m    268\u001b[0m                                      \u001b[0;34m'Check the list of available parameters '\u001b[0m\u001b[0;34m\u001b[0m\u001b[0m\n\u001b[1;32m    269\u001b[0m                                      \u001b[0;34m'with `estimator.get_params().keys()`.'\u001b[0m \u001b[0;34m%\u001b[0m\u001b[0;34m\u001b[0m\u001b[0m\n\u001b[0;32m--> 270\u001b[0;31m                                      (key, self.__class__.__name__))\n\u001b[0m\u001b[1;32m    271\u001b[0m                 \u001b[0msetattr\u001b[0m\u001b[0;34m(\u001b[0m\u001b[0mself\u001b[0m\u001b[0;34m,\u001b[0m \u001b[0mkey\u001b[0m\u001b[0;34m,\u001b[0m \u001b[0mvalue\u001b[0m\u001b[0;34m)\u001b[0m\u001b[0;34m\u001b[0m\u001b[0m\n\u001b[1;32m    272\u001b[0m         \u001b[0;32mreturn\u001b[0m \u001b[0mself\u001b[0m\u001b[0;34m\u001b[0m\u001b[0m\n",
      "\u001b[0;31mValueError\u001b[0m: Invalid parameter C for estimator LogisticRegressionCV. Check the list of available parameters with `estimator.get_params().keys()`."
     ]
    }
   ],
   "source": [
    "from sklearn.grid_search import GridSearchCV\n",
    "\n",
    "range_c = np.logspace(0,5,20) # Create logspace\n",
    "\n",
    "lr = LogisticRegression()\n",
    "\n",
    "logreg_grid = GridSearchCV(\n",
    "estimator=logreg,\n",
    "param_grid=dict(C=range_c), n_jobs =1)\n",
    "\n",
    "logreg_grid.fit(X,Y).score(X,Y)"
   ]
  },
  {
   "cell_type": "markdown",
   "metadata": {},
   "source": [
    "## 6. Gridsearch neighbors for kNN\n",
    "\n",
    "Find the best number of neighbors with your predictors to predict the `label` target variable.\n",
    "\n",
    "Start by bulding a kNN model with a set number of neighbors, then use gridsearch to run through a series of neighbors.\n",
    "\n",
    "---"
   ]
  },
  {
   "cell_type": "code",
   "execution_count": null,
   "metadata": {
    "collapsed": true
   },
   "outputs": [],
   "source": []
  },
  {
   "cell_type": "code",
   "execution_count": null,
   "metadata": {
    "collapsed": true
   },
   "outputs": [],
   "source": []
  },
  {
   "cell_type": "markdown",
   "metadata": {},
   "source": [
    "## 7. Choose a new target from alchemy_category to predict with logistic regression\n",
    "\n",
    "**Ideally your category choice will have a small fraction of the total rows, but not TOO small!**\n",
    "\n",
    "---"
   ]
  },
  {
   "cell_type": "code",
   "execution_count": 15,
   "metadata": {
    "collapsed": false
   },
   "outputs": [
    {
     "data": {
      "text/plain": [
       "?                     2342\n",
       "recreation            1229\n",
       "arts_entertainment     941\n",
       "business               880\n",
       "health                 506\n",
       "sports                 380\n",
       "culture_politics       343\n",
       "computer_internet      296\n",
       "science_technology     289\n",
       "gaming                  76\n",
       "religion                72\n",
       "law_crime               31\n",
       "unknown                  6\n",
       "weather                  4\n",
       "Name: alchemy_category, dtype: int64"
      ]
     },
     "execution_count": 15,
     "metadata": {},
     "output_type": "execute_result"
    }
   ],
   "source": [
    "su['alchemy_category'].value_counts()"
   ]
  },
  {
   "cell_type": "markdown",
   "metadata": {},
   "source": [
    "### 7.1 Chose your target category, create the Y vector, and check the fraction of instances\n",
    "\n",
    "---"
   ]
  },
  {
   "cell_type": "markdown",
   "metadata": {},
   "source": [
    "<a id=\"categorylr\"></a>\n",
    "*One category that would be interesting to predict would be the culture_politics. This is since the category is rather small, but also has overlap with many of the other possible categories, making it slightly tricker to predict.*"
   ]
  },
  {
   "cell_type": "code",
   "execution_count": 38,
   "metadata": {
    "collapsed": false
   },
   "outputs": [],
   "source": [
    "su['is_culture'] = su['alchemy_category'].apply(lambda x: 1 if x == 'culture_politics' else 0)"
   ]
  },
  {
   "cell_type": "code",
   "execution_count": 46,
   "metadata": {
    "collapsed": false
   },
   "outputs": [
    {
     "name": "stdout",
     "output_type": "stream",
     "text": [
      "Culture and politics ratio is:  0.0678804670493\n"
     ]
    }
   ],
   "source": [
    "print \"Culture and politics ratio is: \", float(len(su[su['is_culture']==1])) / len(su)"
   ]
  },
  {
   "cell_type": "markdown",
   "metadata": {},
   "source": [
    "### 7.2 Use patsy to create an X matrix of the numeric predictors and all two-way interactions between them\n",
    "\n",
    "Ex:\n",
    "\n",
    "```python\n",
    "import patsy\n",
    "\n",
    "formula_interactions = '~ (var1 + var2 + var3)**2 -1'\n",
    "X_interactions = patsy.dmatrix(formula_interactions, data=data\n",
    "```\n",
    "\n",
    "Get the column names from the `design_info` property of the patsy X matrix.\n",
    "\n",
    "---"
   ]
  },
  {
   "cell_type": "code",
   "execution_count": null,
   "metadata": {
    "collapsed": true
   },
   "outputs": [],
   "source": []
  },
  {
   "cell_type": "markdown",
   "metadata": {},
   "source": [
    "### 7.3 Normalize the predictor matrix columns\n",
    "\n",
    "---"
   ]
  },
  {
   "cell_type": "code",
   "execution_count": null,
   "metadata": {
    "collapsed": true
   },
   "outputs": [],
   "source": []
  },
  {
   "cell_type": "markdown",
   "metadata": {},
   "source": [
    "### 7.4 Gridsearch a logistic regression to predict accuracy on your new target from the interaction predictors\n",
    "\n",
    "Include Ridge and Lasso.\n",
    "\n",
    "---"
   ]
  },
  {
   "cell_type": "code",
   "execution_count": null,
   "metadata": {
    "collapsed": true
   },
   "outputs": [],
   "source": []
  },
  {
   "cell_type": "markdown",
   "metadata": {},
   "source": [
    "### 7.5 Build a logistic regression with the optimal parameters, and look at the coefficients\n",
    "\n",
    "---"
   ]
  },
  {
   "cell_type": "code",
   "execution_count": null,
   "metadata": {
    "collapsed": true
   },
   "outputs": [],
   "source": []
  },
  {
   "cell_type": "markdown",
   "metadata": {},
   "source": [
    "### 7.6 Gridsearch parameters for a logistic regression with the same target and predictors, but score based on precision rather than accuracy\n",
    "\n",
    "Look at the documentation.\n",
    "\n",
    "---"
   ]
  },
  {
   "cell_type": "code",
   "execution_count": null,
   "metadata": {
    "collapsed": true
   },
   "outputs": [],
   "source": []
  },
  {
   "cell_type": "markdown",
   "metadata": {},
   "source": [
    "## [BONUS] 8. Build models predicting from words\n",
    "\n",
    "This is a bit of the NLP we covered in the pipeline lecture!\n",
    "\n",
    "---"
   ]
  },
  {
   "cell_type": "markdown",
   "metadata": {},
   "source": [
    "### 8.1 Choose 'body' or 'title' from the boilerplate to be the basis of your word predictors\n",
    "\n",
    "You will need to parse the json from the boilerplate field.\n",
    "\n",
    "---"
   ]
  },
  {
   "cell_type": "code",
   "execution_count": 49,
   "metadata": {
    "collapsed": false
   },
   "outputs": [
    {
     "data": {
      "text/plain": [
       "0    IBM Sees Holographic Calls Air Breathing Batte...\n",
       "1    The Fully Electronic Futuristic Starting Gun T...\n",
       "2    Fruits that Fight the Flu fruits that fight th...\n",
       "Name: title, dtype: object"
      ]
     },
     "execution_count": 49,
     "metadata": {},
     "output_type": "execute_result"
    }
   ],
   "source": [
    "import json\n",
    "\n",
    "# Select titles from the boilerplate\n",
    "su['title'] = su.boilerplate.map(lambda x: json.loads(x).get('title', ''))\n",
    "\n",
    "titles = su['title'].fillna('') # fill in blank strings\n",
    "\n",
    "# print off first few strings\n",
    "titles[0:3]"
   ]
  },
  {
   "cell_type": "markdown",
   "metadata": {},
   "source": [
    "### 8.2 Use CountVectorizer to create your predictor matrix from the string column\n",
    "\n",
    "It is up to you what range of ngrams and features, and whether or not you want the columns binary or counts.\n",
    "\n",
    "---"
   ]
  },
  {
   "cell_type": "code",
   "execution_count": 50,
   "metadata": {
    "collapsed": true
   },
   "outputs": [],
   "source": [
    "from sklearn.feature_extraction.text import CountVectorizer\n",
    "\n",
    "# Since titles are concise, want to look at the distribution of the 750 words\n",
    "\n",
    "\n",
    "\n",
    "vectorizer = CountVectorizer(max_features=750,    # Feature Word Size of 750\n",
    "                            ngram_range=(1,2),    # Set an n-gram of 2\n",
    "                            stop_words='english', # Remove stop words\n",
    "                            binary=True)          # Look to see whether or not the word is present"
   ]
  },
  {
   "cell_type": "code",
   "execution_count": 51,
   "metadata": {
    "collapsed": false
   },
   "outputs": [
    {
     "data": {
      "text/plain": [
       "CountVectorizer(analyzer=u'word', binary=True, decode_error=u'strict',\n",
       "        dtype=<type 'numpy.int64'>, encoding=u'utf-8', input=u'content',\n",
       "        lowercase=True, max_df=1.0, max_features=750, min_df=1,\n",
       "        ngram_range=(1, 2), preprocessor=None, stop_words='english',\n",
       "        strip_accents=None, token_pattern=u'(?u)\\\\b\\\\w\\\\w+\\\\b',\n",
       "        tokenizer=None, vocabulary=None)"
      ]
     },
     "execution_count": 51,
     "metadata": {},
     "output_type": "execute_result"
    }
   ],
   "source": [
    "vectorizer.fit(titles)"
   ]
  },
  {
   "cell_type": "code",
   "execution_count": 54,
   "metadata": {
    "collapsed": false
   },
   "outputs": [
    {
     "data": {
      "text/plain": [
       "matrix([[0, 0, 0, ..., 0, 0, 0],\n",
       "        [0, 0, 0, ..., 0, 0, 0],\n",
       "        [0, 0, 0, ..., 0, 0, 0],\n",
       "        ..., \n",
       "        [0, 0, 0, ..., 0, 0, 0],\n",
       "        [0, 0, 0, ..., 0, 0, 0],\n",
       "        [0, 0, 0, ..., 0, 0, 0]])"
      ]
     },
     "execution_count": 54,
     "metadata": {},
     "output_type": "execute_result"
    }
   ],
   "source": [
    "title_x = vectorizer.transform(titles)\n",
    "title_x.todense() # Creates matrix of each title and whether or not one of the 750 most popular words appear"
   ]
  },
  {
   "cell_type": "code",
   "execution_count": 64,
   "metadata": {
    "collapsed": false
   },
   "outputs": [
    {
     "name": "stdout",
     "output_type": "stream",
     "text": [
      "[ 0.78458498  0.743083    0.73715415  0.7960396   0.73861386  0.77821782\n",
      "  0.75841584  0.78811881  0.79009901  0.76237624]\n"
     ]
    }
   ],
   "source": [
    "from sklearn.linear_model import LogisticRegression\n",
    "from sklearn.cross_validation import cross_val_score\n",
    "\n",
    "model = LogisticRegression()\n",
    "Y = su['label']\n",
    "\n",
    "title_scores = cross_val_score(model, title_x, Y, cv=10)\n",
    "print title_scores\n",
    "\n",
    "model.fit(title_x, Y)\n",
    "\n",
    "coefs = model.coef_\n",
    "words = vectorizer.get_feature_names()"
   ]
  },
  {
   "cell_type": "code",
   "execution_count": 68,
   "metadata": {
    "collapsed": false
   },
   "outputs": [
    {
     "name": "stdout",
     "output_type": "stream",
     "text": [
      "bread recipe -0.342968278819\n",
      "break 0.269281619084\n",
      "break com -0.20545839053\n",
      "breakfast 0.645066276076\n",
      "breaking -0.466565888306\n",
      "breaking news -0.124356158199\n",
      "broccoli 0.762117606117\n",
      "brown 0.468058338191\n",
      "brownie 1.10926137376\n",
      "brownies 0.978112047957\n",
      "buffalo -0.00433418683425\n",
      "burger 0.705755111643\n",
      "burgers 0.29854442773\n",
      "burn -0.0115061055188\n",
      "business -0.232321427516\n",
      "butter 1.64020417522\n",
      "buttercream 0.768022119394\n",
      "buy -0.370981460175\n",
      "cajun 0.281989263339\n",
      "cake 1.79850775627\n"
     ]
    }
   ],
   "source": [
    "for word, coef in zip(words, coefs[0])[100:120]:\n",
    "    print word, coef"
   ]
  },
  {
   "cell_type": "markdown",
   "metadata": {},
   "source": [
    "### 8.3 Gridsearch a logistic regression predicting accuracy of your chosen target category from word predictor matrix\n",
    "\n",
    "---"
   ]
  },
  {
   "cell_type": "code",
   "execution_count": null,
   "metadata": {
    "collapsed": true
   },
   "outputs": [],
   "source": []
  },
  {
   "cell_type": "markdown",
   "metadata": {},
   "source": [
    "### 8.4 Do the same as above, but score the gridsearch based on precision rather than accuracy\n",
    "\n",
    "---"
   ]
  },
  {
   "cell_type": "code",
   "execution_count": null,
   "metadata": {
    "collapsed": true
   },
   "outputs": [],
   "source": []
  },
  {
   "cell_type": "markdown",
   "metadata": {},
   "source": [
    "### 8.5 Build a logistic regression with optimal precision categories\n",
    "\n",
    "Print out the top 20 or 25 word features as ranked by their coefficients.\n",
    "\n",
    "---"
   ]
  },
  {
   "cell_type": "code",
   "execution_count": null,
   "metadata": {
    "collapsed": true
   },
   "outputs": [],
   "source": []
  }
 ],
 "metadata": {
  "kernelspec": {
   "display_name": "Python 2",
   "language": "python",
   "name": "python2"
  },
  "language_info": {
   "codemirror_mode": {
    "name": "ipython",
    "version": 2
   },
   "file_extension": ".py",
   "mimetype": "text/x-python",
   "name": "python",
   "nbconvert_exporter": "python",
   "pygments_lexer": "ipython2",
   "version": "2.7.11"
  }
 },
 "nbformat": 4,
 "nbformat_minor": 0
}
