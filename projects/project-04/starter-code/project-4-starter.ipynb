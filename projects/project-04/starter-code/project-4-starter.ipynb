{
 "cells": [
  {
   "cell_type": "markdown",
   "metadata": {},
   "source": [
    "# Classification with stumbleupon data\n",
    "\n",
    "Project 4 has been changed since scraping was untenable. The project now focuses on the stumbleupon kaggle dataset. For more information on this dataset, [check out the website here](https://www.kaggle.com/c/stumbleupon).\n",
    "\n",
    "---"
   ]
  },
  {
   "cell_type": "markdown",
   "metadata": {},
   "source": [
    "# Table of Contents\n",
    "\n",
    "1. [Cleaning and EDA](#eda)  \n",
    "    1.1 [Dropping Rows](#nan)  \n",
    "    1.2 [Pairplot](#pairplot)\n",
    "2. [Data Dictionary](#datadict)\n",
    "3. [Regression](#reggresion)  \n",
    "    3.1 [StatsModel Logistic Regression](#statsmodels logreg)  \n",
    "    3.2 [Category Logistic Regression](#categorylr)  \n",
    "4. [GridSearch](#gridsearch)  \n",
    "    4.2 [LogReg with Optimal Parameters](#optparam)  \n",
    "    4.3 [Precision Focused Optimal Parameters](#gridpre)  \n",
    "5. [Bonus](#bonus)  \n",
    "    5.1 [Pipeline](#pipe)  \n",
    "    5.2 [Top 25 Title Words](#top25)  \n",
    "    \n",
    "Additionally:\n",
    "[medium](#www.medium.com/@sambozek)"
   ]
  },
  {
   "cell_type": "markdown",
   "metadata": {},
   "source": [
    "## 1. Load in the dataset\n",
    "\n",
    "This is the only part completed for you.\n",
    "\n",
    "---"
   ]
  },
  {
   "cell_type": "code",
   "execution_count": 1,
   "metadata": {
    "collapsed": true
   },
   "outputs": [],
   "source": [
    "import pandas as pd\n",
    "import numpy as np\n",
    "import matplotlib.pyplot as plt\n",
    "import seaborn as sns\n",
    "\n",
    "sns.set_style('white')\n",
    "\n",
    "%matplotlib inline"
   ]
  },
  {
   "cell_type": "code",
   "execution_count": 2,
   "metadata": {
    "collapsed": false
   },
   "outputs": [
    {
     "data": {
      "text/plain": [
       "(7395, 27)"
      ]
     },
     "execution_count": 2,
     "metadata": {},
     "output_type": "execute_result"
    }
   ],
   "source": [
    "su = pd.read_csv('../dataset/evergreen.tsv', delimiter='\\t')\n",
    "su.shape"
   ]
  },
  {
   "cell_type": "markdown",
   "metadata": {},
   "source": [
    "## 2. Clean up/examine your data\n",
    "<a id=\"eda\"></a>\n",
    "\n",
    "Some of the columns may have values that need changing or that are of the wrong type. There could also be columns that aren't very useful.\n",
    "\n",
    "---"
   ]
  },
  {
   "cell_type": "code",
   "execution_count": 3,
   "metadata": {
    "collapsed": false,
    "scrolled": false
   },
   "outputs": [
    {
     "data": {
      "text/html": [
       "<div>\n",
       "<table border=\"1\" class=\"dataframe\">\n",
       "  <thead>\n",
       "    <tr style=\"text-align: right;\">\n",
       "      <th></th>\n",
       "      <th>url</th>\n",
       "      <th>urlid</th>\n",
       "      <th>boilerplate</th>\n",
       "      <th>alchemy_category</th>\n",
       "      <th>alchemy_category_score</th>\n",
       "      <th>avglinksize</th>\n",
       "      <th>commonlinkratio_1</th>\n",
       "      <th>commonlinkratio_2</th>\n",
       "      <th>commonlinkratio_3</th>\n",
       "      <th>commonlinkratio_4</th>\n",
       "      <th>...</th>\n",
       "      <th>is_news</th>\n",
       "      <th>lengthyLinkDomain</th>\n",
       "      <th>linkwordscore</th>\n",
       "      <th>news_front_page</th>\n",
       "      <th>non_markup_alphanum_characters</th>\n",
       "      <th>numberOfLinks</th>\n",
       "      <th>numwords_in_url</th>\n",
       "      <th>parametrizedLinkRatio</th>\n",
       "      <th>spelling_errors_ratio</th>\n",
       "      <th>label</th>\n",
       "    </tr>\n",
       "  </thead>\n",
       "  <tbody>\n",
       "    <tr>\n",
       "      <th>0</th>\n",
       "      <td>http://www.bloomberg.com/news/2010-12-23/ibm-p...</td>\n",
       "      <td>4042</td>\n",
       "      <td>{\"title\":\"IBM Sees Holographic Calls Air Breat...</td>\n",
       "      <td>business</td>\n",
       "      <td>0.789131</td>\n",
       "      <td>2.055556</td>\n",
       "      <td>0.676471</td>\n",
       "      <td>0.205882</td>\n",
       "      <td>0.047059</td>\n",
       "      <td>0.023529</td>\n",
       "      <td>...</td>\n",
       "      <td>1</td>\n",
       "      <td>1</td>\n",
       "      <td>24</td>\n",
       "      <td>0</td>\n",
       "      <td>5424</td>\n",
       "      <td>170</td>\n",
       "      <td>8</td>\n",
       "      <td>0.152941</td>\n",
       "      <td>0.079130</td>\n",
       "      <td>0</td>\n",
       "    </tr>\n",
       "    <tr>\n",
       "      <th>1</th>\n",
       "      <td>http://www.popsci.com/technology/article/2012-...</td>\n",
       "      <td>8471</td>\n",
       "      <td>{\"title\":\"The Fully Electronic Futuristic Star...</td>\n",
       "      <td>recreation</td>\n",
       "      <td>0.574147</td>\n",
       "      <td>3.677966</td>\n",
       "      <td>0.508021</td>\n",
       "      <td>0.288770</td>\n",
       "      <td>0.213904</td>\n",
       "      <td>0.144385</td>\n",
       "      <td>...</td>\n",
       "      <td>1</td>\n",
       "      <td>1</td>\n",
       "      <td>40</td>\n",
       "      <td>0</td>\n",
       "      <td>4973</td>\n",
       "      <td>187</td>\n",
       "      <td>9</td>\n",
       "      <td>0.181818</td>\n",
       "      <td>0.125448</td>\n",
       "      <td>1</td>\n",
       "    </tr>\n",
       "  </tbody>\n",
       "</table>\n",
       "<p>2 rows × 27 columns</p>\n",
       "</div>"
      ],
      "text/plain": [
       "                                                 url  urlid  \\\n",
       "0  http://www.bloomberg.com/news/2010-12-23/ibm-p...   4042   \n",
       "1  http://www.popsci.com/technology/article/2012-...   8471   \n",
       "\n",
       "                                         boilerplate alchemy_category  \\\n",
       "0  {\"title\":\"IBM Sees Holographic Calls Air Breat...         business   \n",
       "1  {\"title\":\"The Fully Electronic Futuristic Star...       recreation   \n",
       "\n",
       "  alchemy_category_score  avglinksize  commonlinkratio_1  commonlinkratio_2  \\\n",
       "0               0.789131     2.055556           0.676471           0.205882   \n",
       "1               0.574147     3.677966           0.508021           0.288770   \n",
       "\n",
       "   commonlinkratio_3  commonlinkratio_4  ...    is_news  lengthyLinkDomain  \\\n",
       "0           0.047059           0.023529  ...          1                  1   \n",
       "1           0.213904           0.144385  ...          1                  1   \n",
       "\n",
       "   linkwordscore  news_front_page  non_markup_alphanum_characters  \\\n",
       "0             24                0                            5424   \n",
       "1             40                0                            4973   \n",
       "\n",
       "   numberOfLinks  numwords_in_url parametrizedLinkRatio  \\\n",
       "0            170                8              0.152941   \n",
       "1            187                9              0.181818   \n",
       "\n",
       "   spelling_errors_ratio  label  \n",
       "0               0.079130      0  \n",
       "1               0.125448      1  \n",
       "\n",
       "[2 rows x 27 columns]"
      ]
     },
     "execution_count": 3,
     "metadata": {},
     "output_type": "execute_result"
    }
   ],
   "source": [
    "su.head(2)"
   ]
  },
  {
   "cell_type": "code",
   "execution_count": 4,
   "metadata": {
    "collapsed": false,
    "scrolled": true
   },
   "outputs": [
    {
     "data": {
      "text/plain": [
       "array(['business', 'recreation', 'health', 'sports', '?',\n",
       "       'arts_entertainment', 'science_technology', 'gaming',\n",
       "       'culture_politics', 'computer_internet', 'law_crime', 'religion',\n",
       "       'weather', 'unknown'], dtype=object)"
      ]
     },
     "execution_count": 4,
     "metadata": {},
     "output_type": "execute_result"
    }
   ],
   "source": [
    "su.alchemy_category.unique()"
   ]
  },
  {
   "cell_type": "markdown",
   "metadata": {},
   "source": [
    "---\n",
    "<a id=\"nan\"></a>\n",
    "*From above two categories that are ready to be dropped are the '?' and the 'unknown' categories, with the first not having been assigned by the alchemyapi, and the other being a category that is not classified by the model, and both will be dropped since they don't have any value for modeling*\n",
    "\n",
    "---"
   ]
  },
  {
   "cell_type": "code",
   "execution_count": 5,
   "metadata": {
    "collapsed": false
   },
   "outputs": [
    {
     "data": {
      "text/plain": [
       "(5047, 27)"
      ]
     },
     "execution_count": 5,
     "metadata": {},
     "output_type": "execute_result"
    }
   ],
   "source": [
    "su['alchemy_category'] = su['alchemy_category'].apply(lambda x: np.NaN if (x == '?' or x == 'unknown') else x) # drop all \n",
    "su.dropna(axis=0, how='any', inplace=True)\n",
    "su['alchemy_category_score'] = pd.to_numeric(su['alchemy_category_score'])\n",
    "su.shape"
   ]
  },
  {
   "cell_type": "markdown",
   "metadata": {},
   "source": [
    "## Data Dictionary\n",
    "<a id=\"datadict\"></a>\n",
    "\n",
    "|Column Name|Description|Variable Type|\n",
    "|---|---|--|\n",
    "|url|URL of the recommended website|Categorical|\n",
    "|urlid|Unique StumbleUpon ID assigned to the URL|Ordinal|\n",
    "|boilerplate|JSON file containing the text of the title and the text of the body|Categorical|\n",
    "|alchemy_category|Category of the website assigned through AlchemyAPI|Categorical|\n",
    "|alchemy_category_score|Score from 1(best) to 0(worst) of the confidence of the AlchemyAPI in assigning the category|Interval|\n",
    "|avglinksize|Mean number of words that appear in all the links present on the wepsite|Cardinal|\n",
    "|commonLinkRatio_(1-4)| The number of links sharing at least one word in common with x other links divided by total number of links|Interval|\n",
    "|compression_ratio|Ratio of compressed size of website to uncompressed size (using gzip)|Interval|\n",
    "|embed_ratio| Ratio of how many times HTML embed element appears relative to other elements|Interval|\n",
    "|frameBased|Whether or not a website is using a frameset markup(1) or a body(0)|Categorical|\n",
    "|frameTagRatio|Ratio of frames to markup|Interval|\n",
    "|hasDomainLink|Whether(1) or not(0) the website has a link to a domain|Categorical|\n",
    "|html_ratio|How many tags are present to total text span on the website|Interval|\n",
    "|image_ratio|Ratio of <img> tags to total text span on the website|Interval|\n",
    "|is_news|Whether(1) or not(0) the website is categorized as news|Categorical|\n",
    "|lengthyLinkDomain|Whether(1) or not(0) at least three links contain >30 characters|Categorical|\n",
    "|linkwordscore|Ratio of words on page to the hyperlink text|Interval|\n",
    "|news_front_page|Whether(1) or not(0) the news is considered significant 'front page'|Categorical|\n",
    "|non_markup_alphanum_characters|Total number of characters in the text of the website|Ordinal|\n",
    "|numberOfLinks|Count of how many links are present|Ordinal\n",
    "|numwords_in_url|Count of words in the URL|Ordinal|\n",
    "|parametrizedLinkRatio|Ratio of links with an event on the click or additonal parameter to all other links|Interval|\n",
    "|spelling_errors_ratio|Ratio of words classified as misspelled to all text present|Interval|\n",
    "|label| **TARGET** Whether(1) or not(0) the website is considered 'evergreen'|Categorical|\n",
    "\n",
    "\n",
    "## QUESTIONS\n",
    "* What makes evergreen news stories? Are there any?\n",
    "* Does AlchemyAPI score play into whether it is evergreen?\n",
    "* Is FrameSet or Body more likely to be evergreen?\n",
    "* Are there evergreen front page news stories? What text do they contain?"
   ]
  },
  {
   "cell_type": "code",
   "execution_count": 6,
   "metadata": {
    "collapsed": false
   },
   "outputs": [
    {
     "name": "stdout",
     "output_type": "stream",
     "text": [
      "<class 'pandas.core.frame.DataFrame'>\n",
      "Int64Index: 5047 entries, 0 to 7393\n",
      "Data columns (total 27 columns):\n",
      "url                               5047 non-null object\n",
      "urlid                             5047 non-null int64\n",
      "boilerplate                       5047 non-null object\n",
      "alchemy_category                  5047 non-null object\n",
      "alchemy_category_score            5047 non-null float64\n",
      "avglinksize                       5047 non-null float64\n",
      "commonlinkratio_1                 5047 non-null float64\n",
      "commonlinkratio_2                 5047 non-null float64\n",
      "commonlinkratio_3                 5047 non-null float64\n",
      "commonlinkratio_4                 5047 non-null float64\n",
      "compression_ratio                 5047 non-null float64\n",
      "embed_ratio                       5047 non-null float64\n",
      "framebased                        5047 non-null int64\n",
      "frameTagRatio                     5047 non-null float64\n",
      "hasDomainLink                     5047 non-null int64\n",
      "html_ratio                        5047 non-null float64\n",
      "image_ratio                       5047 non-null float64\n",
      "is_news                           5047 non-null object\n",
      "lengthyLinkDomain                 5047 non-null int64\n",
      "linkwordscore                     5047 non-null int64\n",
      "news_front_page                   5047 non-null object\n",
      "non_markup_alphanum_characters    5047 non-null int64\n",
      "numberOfLinks                     5047 non-null int64\n",
      "numwords_in_url                   5047 non-null int64\n",
      "parametrizedLinkRatio             5047 non-null float64\n",
      "spelling_errors_ratio             5047 non-null float64\n",
      "label                             5047 non-null int64\n",
      "dtypes: float64(13), int64(9), object(5)\n",
      "memory usage: 1.1+ MB\n"
     ]
    }
   ],
   "source": [
    "su.info()"
   ]
  },
  {
   "cell_type": "markdown",
   "metadata": {},
   "source": [
    "<a id=\"pairplot\"></a>"
   ]
  },
  {
   "cell_type": "code",
   "execution_count": 7,
   "metadata": {
    "collapsed": false
   },
   "outputs": [
    {
     "data": {
      "text/plain": [
       "<seaborn.axisgrid.PairGrid at 0x116486a10>"
      ]
     },
     "execution_count": 7,
     "metadata": {},
     "output_type": "execute_result"
    },
    {
     "data": {
      "image/png": "[encoded data removed]",
      "text/plain": [
       "<matplotlib.figure.Figure at 0x1164a6ad0>"
      ]
     },
     "metadata": {},
     "output_type": "display_data"
    }
   ],
   "source": [
    "sns.pairplot(su[['label','alchemy_category_score',\n",
    "   'embed_ratio', 'html_ratio', 'image_ratio', 'spelling_errors_ratio']])"
   ]
  },
  {
   "cell_type": "markdown",
   "metadata": {},
   "source": [
    "*Through looking at the description of the variables present, certain items related to the URL are likely not important to the regression at hand. Because of the nature of stumbleupon, the URL itself and associated identifiers are likely not that important*\n",
    "*Additional issue is that there are certain values that are negative in the dataframe. Using a describe can determine which sections have negative values*"
   ]
  },
  {
   "cell_type": "code",
   "execution_count": 8,
   "metadata": {
    "collapsed": false
   },
   "outputs": [
    {
     "data": {
      "text/html": [
       "<div>\n",
       "<table border=\"1\" class=\"dataframe\">\n",
       "  <thead>\n",
       "    <tr style=\"text-align: right;\">\n",
       "      <th></th>\n",
       "      <th>urlid</th>\n",
       "      <th>alchemy_category_score</th>\n",
       "      <th>avglinksize</th>\n",
       "      <th>commonlinkratio_1</th>\n",
       "      <th>commonlinkratio_2</th>\n",
       "      <th>commonlinkratio_3</th>\n",
       "      <th>commonlinkratio_4</th>\n",
       "      <th>compression_ratio</th>\n",
       "      <th>embed_ratio</th>\n",
       "      <th>framebased</th>\n",
       "      <th>...</th>\n",
       "      <th>html_ratio</th>\n",
       "      <th>image_ratio</th>\n",
       "      <th>lengthyLinkDomain</th>\n",
       "      <th>linkwordscore</th>\n",
       "      <th>non_markup_alphanum_characters</th>\n",
       "      <th>numberOfLinks</th>\n",
       "      <th>numwords_in_url</th>\n",
       "      <th>parametrizedLinkRatio</th>\n",
       "      <th>spelling_errors_ratio</th>\n",
       "      <th>label</th>\n",
       "    </tr>\n",
       "  </thead>\n",
       "  <tbody>\n",
       "    <tr>\n",
       "      <th>count</th>\n",
       "      <td>5047.000000</td>\n",
       "      <td>5047.000000</td>\n",
       "      <td>5047.000000</td>\n",
       "      <td>5047.000000</td>\n",
       "      <td>5047.000000</td>\n",
       "      <td>5047.000000</td>\n",
       "      <td>5047.000000</td>\n",
       "      <td>5047.000000</td>\n",
       "      <td>5047.000000</td>\n",
       "      <td>5047.0</td>\n",
       "      <td>...</td>\n",
       "      <td>5047.000000</td>\n",
       "      <td>5047.000000</td>\n",
       "      <td>5047.000000</td>\n",
       "      <td>5047.000000</td>\n",
       "      <td>5047.000000</td>\n",
       "      <td>5047.000000</td>\n",
       "      <td>5047.000000</td>\n",
       "      <td>5047.000000</td>\n",
       "      <td>5047.000000</td>\n",
       "      <td>5047.000000</td>\n",
       "    </tr>\n",
       "    <tr>\n",
       "      <th>mean</th>\n",
       "      <td>5312.421438</td>\n",
       "      <td>0.603576</td>\n",
       "      <td>2.941677</td>\n",
       "      <td>0.463808</td>\n",
       "      <td>0.213716</td>\n",
       "      <td>0.091592</td>\n",
       "      <td>0.049572</td>\n",
       "      <td>1.378695</td>\n",
       "      <td>-0.060109</td>\n",
       "      <td>0.0</td>\n",
       "      <td>...</td>\n",
       "      <td>0.234638</td>\n",
       "      <td>0.290548</td>\n",
       "      <td>0.672875</td>\n",
       "      <td>30.031306</td>\n",
       "      <td>5443.990886</td>\n",
       "      <td>178.797107</td>\n",
       "      <td>5.059441</td>\n",
       "      <td>0.171025</td>\n",
       "      <td>0.097220</td>\n",
       "      <td>0.518724</td>\n",
       "    </tr>\n",
       "    <tr>\n",
       "      <th>std</th>\n",
       "      <td>3062.929042</td>\n",
       "      <td>0.212875</td>\n",
       "      <td>10.142588</td>\n",
       "      <td>0.198609</td>\n",
       "      <td>0.144047</td>\n",
       "      <td>0.093390</td>\n",
       "      <td>0.071395</td>\n",
       "      <td>4.116507</td>\n",
       "      <td>0.239295</td>\n",
       "      <td>0.0</td>\n",
       "      <td>...</td>\n",
       "      <td>0.051471</td>\n",
       "      <td>1.969217</td>\n",
       "      <td>0.469210</td>\n",
       "      <td>20.067331</td>\n",
       "      <td>7029.922055</td>\n",
       "      <td>154.575580</td>\n",
       "      <td>3.267447</td>\n",
       "      <td>0.176426</td>\n",
       "      <td>0.060434</td>\n",
       "      <td>0.499699</td>\n",
       "    </tr>\n",
       "    <tr>\n",
       "      <th>min</th>\n",
       "      <td>5.000000</td>\n",
       "      <td>0.070833</td>\n",
       "      <td>0.000000</td>\n",
       "      <td>0.000000</td>\n",
       "      <td>0.000000</td>\n",
       "      <td>0.000000</td>\n",
       "      <td>0.000000</td>\n",
       "      <td>0.000000</td>\n",
       "      <td>-1.000000</td>\n",
       "      <td>0.0</td>\n",
       "      <td>...</td>\n",
       "      <td>0.070094</td>\n",
       "      <td>-1.000000</td>\n",
       "      <td>0.000000</td>\n",
       "      <td>0.000000</td>\n",
       "      <td>0.000000</td>\n",
       "      <td>1.000000</td>\n",
       "      <td>0.000000</td>\n",
       "      <td>0.000000</td>\n",
       "      <td>0.000000</td>\n",
       "      <td>0.000000</td>\n",
       "    </tr>\n",
       "    <tr>\n",
       "      <th>25%</th>\n",
       "      <td>2651.500000</td>\n",
       "      <td>0.453046</td>\n",
       "      <td>1.620471</td>\n",
       "      <td>0.343750</td>\n",
       "      <td>0.108245</td>\n",
       "      <td>0.023015</td>\n",
       "      <td>0.000000</td>\n",
       "      <td>0.440828</td>\n",
       "      <td>0.000000</td>\n",
       "      <td>0.0</td>\n",
       "      <td>...</td>\n",
       "      <td>0.202506</td>\n",
       "      <td>0.032383</td>\n",
       "      <td>0.000000</td>\n",
       "      <td>14.000000</td>\n",
       "      <td>1611.500000</td>\n",
       "      <td>82.000000</td>\n",
       "      <td>3.000000</td>\n",
       "      <td>0.044071</td>\n",
       "      <td>0.069560</td>\n",
       "      <td>0.000000</td>\n",
       "    </tr>\n",
       "    <tr>\n",
       "      <th>50%</th>\n",
       "      <td>5309.000000</td>\n",
       "      <td>0.626056</td>\n",
       "      <td>2.106557</td>\n",
       "      <td>0.476190</td>\n",
       "      <td>0.202381</td>\n",
       "      <td>0.069444</td>\n",
       "      <td>0.024523</td>\n",
       "      <td>0.479209</td>\n",
       "      <td>0.000000</td>\n",
       "      <td>0.0</td>\n",
       "      <td>...</td>\n",
       "      <td>0.230641</td>\n",
       "      <td>0.088050</td>\n",
       "      <td>1.000000</td>\n",
       "      <td>26.000000</td>\n",
       "      <td>3633.000000</td>\n",
       "      <td>141.000000</td>\n",
       "      <td>5.000000</td>\n",
       "      <td>0.116505</td>\n",
       "      <td>0.089069</td>\n",
       "      <td>1.000000</td>\n",
       "    </tr>\n",
       "    <tr>\n",
       "      <th>75%</th>\n",
       "      <td>7984.000000</td>\n",
       "      <td>0.780938</td>\n",
       "      <td>2.681887</td>\n",
       "      <td>0.607086</td>\n",
       "      <td>0.296601</td>\n",
       "      <td>0.132805</td>\n",
       "      <td>0.066667</td>\n",
       "      <td>0.547089</td>\n",
       "      <td>0.000000</td>\n",
       "      <td>0.0</td>\n",
       "      <td>...</td>\n",
       "      <td>0.260774</td>\n",
       "      <td>0.239583</td>\n",
       "      <td>1.000000</td>\n",
       "      <td>43.000000</td>\n",
       "      <td>6420.500000</td>\n",
       "      <td>228.000000</td>\n",
       "      <td>7.000000</td>\n",
       "      <td>0.237648</td>\n",
       "      <td>0.110507</td>\n",
       "      <td>1.000000</td>\n",
       "    </tr>\n",
       "    <tr>\n",
       "      <th>max</th>\n",
       "      <td>10566.000000</td>\n",
       "      <td>0.999426</td>\n",
       "      <td>363.000000</td>\n",
       "      <td>1.000000</td>\n",
       "      <td>1.000000</td>\n",
       "      <td>0.980392</td>\n",
       "      <td>0.980392</td>\n",
       "      <td>21.000000</td>\n",
       "      <td>0.214286</td>\n",
       "      <td>0.0</td>\n",
       "      <td>...</td>\n",
       "      <td>0.716883</td>\n",
       "      <td>113.333333</td>\n",
       "      <td>1.000000</td>\n",
       "      <td>100.000000</td>\n",
       "      <td>87948.000000</td>\n",
       "      <td>3283.000000</td>\n",
       "      <td>21.000000</td>\n",
       "      <td>1.000000</td>\n",
       "      <td>1.000000</td>\n",
       "      <td>1.000000</td>\n",
       "    </tr>\n",
       "  </tbody>\n",
       "</table>\n",
       "<p>8 rows × 22 columns</p>\n",
       "</div>"
      ],
      "text/plain": [
       "              urlid  alchemy_category_score  avglinksize  commonlinkratio_1  \\\n",
       "count   5047.000000             5047.000000  5047.000000        5047.000000   \n",
       "mean    5312.421438                0.603576     2.941677           0.463808   \n",
       "std     3062.929042                0.212875    10.142588           0.198609   \n",
       "min        5.000000                0.070833     0.000000           0.000000   \n",
       "25%     2651.500000                0.453046     1.620471           0.343750   \n",
       "50%     5309.000000                0.626056     2.106557           0.476190   \n",
       "75%     7984.000000                0.780938     2.681887           0.607086   \n",
       "max    10566.000000                0.999426   363.000000           1.000000   \n",
       "\n",
       "       commonlinkratio_2  commonlinkratio_3  commonlinkratio_4  \\\n",
       "count        5047.000000        5047.000000        5047.000000   \n",
       "mean            0.213716           0.091592           0.049572   \n",
       "std             0.144047           0.093390           0.071395   \n",
       "min             0.000000           0.000000           0.000000   \n",
       "25%             0.108245           0.023015           0.000000   \n",
       "50%             0.202381           0.069444           0.024523   \n",
       "75%             0.296601           0.132805           0.066667   \n",
       "max             1.000000           0.980392           0.980392   \n",
       "\n",
       "       compression_ratio  embed_ratio  framebased     ...        html_ratio  \\\n",
       "count        5047.000000  5047.000000      5047.0     ...       5047.000000   \n",
       "mean            1.378695    -0.060109         0.0     ...          0.234638   \n",
       "std             4.116507     0.239295         0.0     ...          0.051471   \n",
       "min             0.000000    -1.000000         0.0     ...          0.070094   \n",
       "25%             0.440828     0.000000         0.0     ...          0.202506   \n",
       "50%             0.479209     0.000000         0.0     ...          0.230641   \n",
       "75%             0.547089     0.000000         0.0     ...          0.260774   \n",
       "max            21.000000     0.214286         0.0     ...          0.716883   \n",
       "\n",
       "       image_ratio  lengthyLinkDomain  linkwordscore  \\\n",
       "count  5047.000000        5047.000000    5047.000000   \n",
       "mean      0.290548           0.672875      30.031306   \n",
       "std       1.969217           0.469210      20.067331   \n",
       "min      -1.000000           0.000000       0.000000   \n",
       "25%       0.032383           0.000000      14.000000   \n",
       "50%       0.088050           1.000000      26.000000   \n",
       "75%       0.239583           1.000000      43.000000   \n",
       "max     113.333333           1.000000     100.000000   \n",
       "\n",
       "       non_markup_alphanum_characters  numberOfLinks  numwords_in_url  \\\n",
       "count                     5047.000000    5047.000000      5047.000000   \n",
       "mean                      5443.990886     178.797107         5.059441   \n",
       "std                       7029.922055     154.575580         3.267447   \n",
       "min                          0.000000       1.000000         0.000000   \n",
       "25%                       1611.500000      82.000000         3.000000   \n",
       "50%                       3633.000000     141.000000         5.000000   \n",
       "75%                       6420.500000     228.000000         7.000000   \n",
       "max                      87948.000000    3283.000000        21.000000   \n",
       "\n",
       "       parametrizedLinkRatio  spelling_errors_ratio        label  \n",
       "count            5047.000000            5047.000000  5047.000000  \n",
       "mean                0.171025               0.097220     0.518724  \n",
       "std                 0.176426               0.060434     0.499699  \n",
       "min                 0.000000               0.000000     0.000000  \n",
       "25%                 0.044071               0.069560     0.000000  \n",
       "50%                 0.116505               0.089069     1.000000  \n",
       "75%                 0.237648               0.110507     1.000000  \n",
       "max                 1.000000               1.000000     1.000000  \n",
       "\n",
       "[8 rows x 22 columns]"
      ]
     },
     "execution_count": 8,
     "metadata": {},
     "output_type": "execute_result"
    }
   ],
   "source": [
    "su.describe()"
   ]
  },
  {
   "cell_type": "code",
   "execution_count": 9,
   "metadata": {
    "collapsed": false
   },
   "outputs": [
    {
     "data": {
      "text/plain": [
       "29"
      ]
     },
     "execution_count": 9,
     "metadata": {},
     "output_type": "execute_result"
    }
   ],
   "source": [
    "len(su[su['image_ratio']==0])\n"
   ]
  },
  {
   "cell_type": "markdown",
   "metadata": {},
   "source": [
    "*The embed ratio have values of -1 which is not possible. In order to determine how imputation will be done, a distribution of them will be made. Since the distribution is unknown, it may be skewed which would be problematic in imputing the mean, since it would be away from the median.*"
   ]
  },
  {
   "cell_type": "code",
   "execution_count": 10,
   "metadata": {
    "collapsed": false
   },
   "outputs": [
    {
     "data": {
      "image/png": "[encoded data removed]",
      "text/plain": [
       "<matplotlib.figure.Figure at 0x11ce89950>"
      ]
     },
     "metadata": {},
     "output_type": "display_data"
    },
    {
     "data": {
      "image/png": "[encoded data removed]",
      "text/plain": [
       "<matplotlib.figure.Figure at 0x103fd4e90>"
      ]
     },
     "metadata": {},
     "output_type": "display_data"
    }
   ],
   "source": [
    "lim_su_em = su[(su['embed_ratio'] > -1) & (su['embed_ratio'] < 0.002)] \n",
    "lim_su_im = su[(su['image_ratio'] > - 1) & (su['image_ratio'] < 0.25)]\n",
    "# lim_su_em.info()\n",
    "\n",
    "sns.distplot(lim_su_em['embed_ratio'],bins=25)\n",
    "plt.xlim([0,0.002])\n",
    "plt.show()\n",
    "sns.distplot(lim_su_im['image_ratio'],bins=25)\n",
    "plt.show()"
   ]
  },
  {
   "cell_type": "markdown",
   "metadata": {},
   "source": [
    "---\n",
    "\n",
    "*Embed ratio has a very low value, and can be easily imputed from the mean that can be found when the -1 values are ignored*\n",
    "\n",
    "*Image ratio has a positive skew, and can't have the mean be used as the assignment. Since this was taken over all values, additional resolution will be obtained by looking at all of the alchemy score categories on their own (ignoring unassigned). Then seeing their individual distribution. If it is a normal distribution this means that the median or mean can be used in imputing.*\n",
    "\n",
    "---"
   ]
  },
  {
   "cell_type": "code",
   "execution_count": 11,
   "metadata": {
    "collapsed": false,
    "scrolled": false
   },
   "outputs": [
    {
     "name": "stdout",
     "output_type": "stream",
     "text": [
      "business\n"
     ]
    },
    {
     "data": {
      "image/png": "[encoded data removed]",
      "text/plain": [
       "<matplotlib.figure.Figure at 0x11c572d10>"
      ]
     },
     "metadata": {},
     "output_type": "display_data"
    },
    {
     "name": "stdout",
     "output_type": "stream",
     "text": [
      "recreation\n"
     ]
    },
    {
     "data": {
      "image/png": "[encoded data removed]",
      "text/plain": [
       "<matplotlib.figure.Figure at 0x11ccbb610>"
      ]
     },
     "metadata": {},
     "output_type": "display_data"
    },
    {
     "name": "stdout",
     "output_type": "stream",
     "text": [
      "health\n"
     ]
    },
    {
     "data": {
      "image/png": "[encoded data removed]",
      "text/plain": [
       "<matplotlib.figure.Figure at 0x11d405050>"
      ]
     },
     "metadata": {},
     "output_type": "display_data"
    },
    {
     "name": "stdout",
     "output_type": "stream",
     "text": [
      "sports\n"
     ]
    },
    {
     "data": {
      "image/png": "[encoded data removed]",
      "text/plain": [
       "<matplotlib.figure.Figure at 0x11da27510>"
      ]
     },
     "metadata": {},
     "output_type": "display_data"
    },
    {
     "name": "stdout",
     "output_type": "stream",
     "text": [
      "arts_entertainment\n"
     ]
    },
    {
     "data": {
      "image/png": "[encoded data removed]",
      "text/plain": [
       "<matplotlib.figure.Figure at 0x11dbc7190>"
      ]
     },
     "metadata": {},
     "output_type": "display_data"
    },
    {
     "name": "stdout",
     "output_type": "stream",
     "text": [
      "science_technology\n"
     ]
    },
    {
     "data": {
      "image/png": "[encoded data removed]",
      "text/plain": [
       "<matplotlib.figure.Figure at 0x11dd63110>"
      ]
     },
     "metadata": {},
     "output_type": "display_data"
    },
    {
     "name": "stdout",
     "output_type": "stream",
     "text": [
      "gaming\n"
     ]
    },
    {
     "data": {
      "image/png": "[encoded data removed]",
      "text/plain": [
       "<matplotlib.figure.Figure at 0x11de47e90>"
      ]
     },
     "metadata": {},
     "output_type": "display_data"
    },
    {
     "name": "stdout",
     "output_type": "stream",
     "text": [
      "culture_politics\n"
     ]
    },
    {
     "data": {
      "image/png": "[encoded data removed]",
      "text/plain": [
       "<matplotlib.figure.Figure at 0x11dfe1f50>"
      ]
     },
     "metadata": {},
     "output_type": "display_data"
    },
    {
     "name": "stdout",
     "output_type": "stream",
     "text": [
      "computer_internet\n"
     ]
    },
    {
     "data": {
      "image/png": "[encoded data removed]",
      "text/plain": [
       "<matplotlib.figure.Figure at 0x11ec09bd0>"
      ]
     },
     "metadata": {},
     "output_type": "display_data"
    },
    {
     "name": "stdout",
     "output_type": "stream",
     "text": [
      "religion\n"
     ]
    },
    {
     "data": {
      "image/png": "[encoded data removed]",
      "text/plain": [
       "<matplotlib.figure.Figure at 0x11ee0b210>"
      ]
     },
     "metadata": {},
     "output_type": "display_data"
    },
    {
     "name": "stdout",
     "output_type": "stream",
     "text": [
      "law_crime\n"
     ]
    },
    {
     "data": {
      "image/png": "[encoded data removed]",
      "text/plain": [
       "<matplotlib.figure.Figure at 0x11ef88490>"
      ]
     },
     "metadata": {},
     "output_type": "display_data"
    }
   ],
   "source": [
    "unique_cat = lim_su_im['alchemy_category'].unique()\n",
    "\n",
    "unique_cat = list(unique_cat) # convert from ndarray\n",
    "\n",
    "lim_su_im['alchemy_category'].value_counts() # Weather has only one item, need to remove\n",
    "\n",
    "unique_cat.remove('weather') # remove weather from unique categories list\n",
    "\n",
    "for cat in unique_cat: # iterate through categories\n",
    "    print cat\n",
    "    sns.distplot(lim_su_im['image_ratio'][lim_su_im['alchemy_category'] == cat])\n",
    "    plt.show() # Show the associated plot"
   ]
  },
  {
   "cell_type": "markdown",
   "metadata": {},
   "source": [
    "*All categories above had skews that would not make them appropriate for imputation until after they had been normalized.*"
   ]
  },
  {
   "cell_type": "markdown",
   "metadata": {},
   "source": [
    "## 3. Use statsmodels' logistic regression function to look at variable significance\n",
    "<a id=\"statsmodels logreg\"></a>\n",
    "\n",
    "The **`import statsmodels.formula.api as smf`** code below gives us access to a statsmodels api that can run logistic regressions using patsy-style formulas.\n",
    "\n",
    "Ex:\n",
    "\n",
    "```python\n",
    "formula = 'target ~ var1 + var2 + C(var3) -1'\n",
    "logreg = smf.logit(formula, data=data)\n",
    "logreg_results = logreg.fit()\n",
    "print logreg_results.summary()\n",
    "```\n",
    "\n",
    "---"
   ]
  },
  {
   "cell_type": "code",
   "execution_count": 12,
   "metadata": {
    "collapsed": false
   },
   "outputs": [],
   "source": [
    "# Import appropriate pacakges\n",
    "import statsmodels.formula.api as smf\n",
    "import patsy"
   ]
  },
  {
   "cell_type": "code",
   "execution_count": 13,
   "metadata": {
    "collapsed": false
   },
   "outputs": [],
   "source": [
    "# Create Formula\n",
    "formula = 'label ~ html_ratio + image_ratio + embed_ratio + frameTagRatio +parametrizedLinkRatio + spelling_errors_ratio + numberOfLinks - 1' # -1 used to remove the intercept"
   ]
  },
  {
   "cell_type": "code",
   "execution_count": 14,
   "metadata": {
    "collapsed": false
   },
   "outputs": [],
   "source": [
    "logr = smf.logit(formula, data=su) # Perform Logit function on provided formula"
   ]
  },
  {
   "cell_type": "code",
   "execution_count": 15,
   "metadata": {
    "collapsed": false
   },
   "outputs": [
    {
     "name": "stdout",
     "output_type": "stream",
     "text": [
      "Optimization terminated successfully.\n",
      "         Current function value: 0.668724\n",
      "         Iterations 5\n"
     ]
    }
   ],
   "source": [
    "logr_result = logr.fit()           # Fit the model"
   ]
  },
  {
   "cell_type": "code",
   "execution_count": 16,
   "metadata": {
    "collapsed": false
   },
   "outputs": [
    {
     "name": "stdout",
     "output_type": "stream",
     "text": [
      "                           Logit Regression Results                           \n",
      "==============================================================================\n",
      "Dep. Variable:                  label   No. Observations:                 5047\n",
      "Model:                          Logit   Df Residuals:                     5040\n",
      "Method:                           MLE   Df Model:                            6\n",
      "Date:                Sun, 15 May 2016   Pseudo R-squ.:                 0.03426\n",
      "Time:                        20:29:50   Log-Likelihood:                -3375.0\n",
      "converged:                       True   LL-Null:                       -3494.8\n",
      "                                        LLR p-value:                 7.353e-49\n",
      "=========================================================================================\n",
      "                            coef    std err          z      P>|z|      [95.0% Conf. Int.]\n",
      "-----------------------------------------------------------------------------------------\n",
      "html_ratio                3.3375      0.338      9.875      0.000         2.675     4.000\n",
      "image_ratio              -0.0095      0.018     -0.537      0.591        -0.044     0.025\n",
      "embed_ratio              -0.1634      0.134     -1.215      0.224        -0.427     0.100\n",
      "frameTagRatio           -10.8896      0.880    -12.368      0.000       -12.615    -9.164\n",
      "parametrizedLinkRatio     0.1518      0.164      0.926      0.354        -0.169     0.473\n",
      "spelling_errors_ratio    -2.5082      0.534     -4.696      0.000        -3.555    -1.461\n",
      "numberOfLinks             0.0006      0.000      2.966      0.003         0.000     0.001\n",
      "=========================================================================================\n"
     ]
    }
   ],
   "source": [
    "print logr_result.summary()       # Print out the summary results from the regression"
   ]
  },
  {
   "cell_type": "markdown",
   "metadata": {},
   "source": [
    "### 3.1 Run a logistic regression predicting evergreen from the numeric columns\n",
    "\n",
    "And print out the results as shown in the example above.\n",
    "\n",
    "---"
   ]
  },
  {
   "cell_type": "code",
   "execution_count": 17,
   "metadata": {
    "collapsed": true
   },
   "outputs": [],
   "source": [
    "formula = '''label ~ alchemy_category_score + avglinksize + compression_ratio + \n",
    "            embed_ratio + frameTagRatio + html_ratio + image_ratio\n",
    "            + avglinksize+ commonlinkratio_1+commonlinkratio_2+\n",
    "            commonlinkratio_3 + commonlinkratio_4'''\n"
   ]
  },
  {
   "cell_type": "code",
   "execution_count": 18,
   "metadata": {
    "collapsed": true
   },
   "outputs": [],
   "source": [
    "logreg = smf.logit(formula, data=su)"
   ]
  },
  {
   "cell_type": "code",
   "execution_count": 19,
   "metadata": {
    "collapsed": false
   },
   "outputs": [
    {
     "name": "stdout",
     "output_type": "stream",
     "text": [
      "Optimization terminated successfully.\n",
      "         Current function value: 0.663870\n",
      "         Iterations 5\n"
     ]
    }
   ],
   "source": [
    "model = logreg.fit()"
   ]
  },
  {
   "cell_type": "code",
   "execution_count": 20,
   "metadata": {
    "collapsed": false
   },
   "outputs": [
    {
     "name": "stdout",
     "output_type": "stream",
     "text": [
      "                           Logit Regression Results                           \n",
      "==============================================================================\n",
      "Dep. Variable:                  label   No. Observations:                 5047\n",
      "Model:                          Logit   Df Residuals:                     5035\n",
      "Method:                           MLE   Df Model:                           11\n",
      "Date:                Sun, 15 May 2016   Pseudo R-squ.:                 0.04127\n",
      "Time:                        20:29:50   Log-Likelihood:                -3350.6\n",
      "converged:                       True   LL-Null:                       -3494.8\n",
      "                                        LLR p-value:                 2.371e-55\n",
      "==========================================================================================\n",
      "                             coef    std err          z      P>|z|      [95.0% Conf. Int.]\n",
      "------------------------------------------------------------------------------------------\n",
      "Intercept                  0.9731      0.191      5.099      0.000         0.599     1.347\n",
      "alchemy_category_score    -0.8426      0.140     -6.012      0.000        -1.117    -0.568\n",
      "avglinksize               -0.0021      0.003     -0.720      0.472        -0.008     0.004\n",
      "compression_ratio         -0.0473      0.013     -3.547      0.000        -0.074    -0.021\n",
      "embed_ratio               -0.5253      0.225     -2.334      0.020        -0.966    -0.084\n",
      "frameTagRatio            -10.9832      0.884    -12.419      0.000       -12.717    -9.250\n",
      "html_ratio                 0.8470      0.628      1.350      0.177        -0.383     2.077\n",
      "image_ratio               -0.0278      0.019     -1.472      0.141        -0.065     0.009\n",
      "commonlinkratio_1          0.0221      0.259      0.085      0.932        -0.485     0.529\n",
      "commonlinkratio_2         -0.4993      0.453     -1.102      0.271        -1.388     0.389\n",
      "commonlinkratio_3          2.7867      0.848      3.287      0.001         1.125     4.449\n",
      "commonlinkratio_4         -1.5607      0.873     -1.787      0.074        -3.273     0.151\n",
      "==========================================================================================\n"
     ]
    }
   ],
   "source": [
    "print model.summary()"
   ]
  },
  {
   "cell_type": "markdown",
   "metadata": {},
   "source": [
    "### 3.2 Run a logistic regression predicting evergreen from the numeric columns and a categorical variable of alchemy_category\n",
    "\n",
    "And print out the results as shown in the example.\n",
    "\n",
    "---"
   ]
  },
  {
   "cell_type": "code",
   "execution_count": 21,
   "metadata": {
    "collapsed": true
   },
   "outputs": [],
   "source": [
    "formula = '''label ~ C(alchemy_category) + alchemy_category_score + avglinksize + \n",
    "compression_ratio + embed_ratio + \n",
    "frameTagRatio + html_ratio + image_ratio - 1'''"
   ]
  },
  {
   "cell_type": "code",
   "execution_count": 22,
   "metadata": {
    "collapsed": false
   },
   "outputs": [
    {
     "name": "stdout",
     "output_type": "stream",
     "text": [
      "Warning: Maximum number of iterations has been exceeded.\n",
      "         Current function value: 0.610176\n",
      "         Iterations: 35\n"
     ]
    },
    {
     "name": "stderr",
     "output_type": "stream",
     "text": [
      "/Users/sebozek/anaconda/lib/python2.7/site-packages/statsmodels/base/model.py:466: ConvergenceWarning: Maximum Likelihood optimization failed to converge. Check mle_retvals\n",
      "  \"Check mle_retvals\", ConvergenceWarning)\n"
     ]
    }
   ],
   "source": [
    "logreg = smf.logit(formula, data=su)\n",
    "model = logreg.fit()"
   ]
  },
  {
   "cell_type": "code",
   "execution_count": 23,
   "metadata": {
    "collapsed": false
   },
   "outputs": [
    {
     "name": "stdout",
     "output_type": "stream",
     "text": [
      "                           Logit Regression Results                           \n",
      "==============================================================================\n",
      "Dep. Variable:                  label   No. Observations:                 5047\n",
      "Model:                          Logit   Df Residuals:                     5028\n",
      "Method:                           MLE   Df Model:                           18\n",
      "Date:                Sun, 15 May 2016   Pseudo R-squ.:                  0.1188\n",
      "Time:                        20:29:50   Log-Likelihood:                -3079.6\n",
      "converged:                      False   LL-Null:                       -3494.8\n",
      "                                        LLR p-value:                1.053e-164\n",
      "===========================================================================================================\n",
      "                                              coef    std err          z      P>|z|      [95.0% Conf. Int.]\n",
      "-----------------------------------------------------------------------------------------------------------\n",
      "C(alchemy_category)[arts_entertainment]     0.0731      0.190      0.385      0.700        -0.299     0.445\n",
      "C(alchemy_category)[business]               1.4734      0.192      7.690      0.000         1.098     1.849\n",
      "C(alchemy_category)[computer_internet]     -0.4405      0.233     -1.887      0.059        -0.898     0.017\n",
      "C(alchemy_category)[culture_politics]       0.4121      0.204      2.020      0.043         0.012     0.812\n",
      "C(alchemy_category)[gaming]                 0.0965      0.298      0.324      0.746        -0.487     0.680\n",
      "C(alchemy_category)[health]                 0.9134      0.213      4.295      0.000         0.497     1.330\n",
      "C(alchemy_category)[law_crime]              0.4860      0.420      1.158      0.247        -0.336     1.308\n",
      "C(alchemy_category)[recreation]             1.3571      0.181      7.506      0.000         1.003     1.711\n",
      "C(alchemy_category)[religion]               0.3560      0.297      1.197      0.231        -0.227     0.939\n",
      "C(alchemy_category)[science_technology]     0.4468      0.216      2.067      0.039         0.023     0.870\n",
      "C(alchemy_category)[sports]                -0.7041      0.223     -3.163      0.002        -1.140    -0.268\n",
      "C(alchemy_category)[weather]              -20.1782   2.35e+04     -0.001      0.999     -4.61e+04   4.6e+04\n",
      "alchemy_category_score                     -0.3678      0.154     -2.393      0.017        -0.669    -0.067\n",
      "avglinksize                                 0.0008      0.003      0.250      0.802        -0.005     0.007\n",
      "compression_ratio                          -0.0407      0.014     -2.900      0.004        -0.068    -0.013\n",
      "embed_ratio                                -0.4243      0.236     -1.801      0.072        -0.886     0.038\n",
      "frameTagRatio                             -10.6134      0.907    -11.706      0.000       -12.390    -8.836\n",
      "html_ratio                                  1.0724      0.661      1.622      0.105        -0.224     2.368\n",
      "image_ratio                                -0.0239      0.017     -1.411      0.158        -0.057     0.009\n",
      "===========================================================================================================\n"
     ]
    }
   ],
   "source": [
    "print model.summary()"
   ]
  },
  {
   "cell_type": "markdown",
   "metadata": {},
   "source": [
    "## 4. Use sklearn to cross-validate the accuracy of the model above\n",
    "\n",
    "Normalize the numeric and categorical columns of the predictor matrix.\n",
    "\n",
    "---"
   ]
  },
  {
   "cell_type": "code",
   "execution_count": 24,
   "metadata": {
    "collapsed": false
   },
   "outputs": [],
   "source": [
    "from sklearn.linear_model import LogisticRegressionCV\n",
    "# use logistic regression with cross validation\n",
    "\n",
    "\n",
    "not_target = [x for x in su if x not in ['label', 'is_news', 'url',\n",
    "                                         'urlid','boilerplate',\n",
    "                                        'alchemy_category', \n",
    "                                         'news_front_page', 'title']] # Isolate all of the numeric columns\n",
    "su_n = su.copy()\n",
    "su_n.ix[:, not_target] = (su_n.ix[:, not_target] -  # Could have used StandardScalar, but wanted to be transparent\n",
    "                          su_n.ix[:, not_target].mean()) / su_n.ix[:, not_target].std()"
   ]
  },
  {
   "cell_type": "code",
   "execution_count": 25,
   "metadata": {
    "collapsed": true
   },
   "outputs": [],
   "source": [
    "logreg = LogisticRegressionCV(Cs=3, # Inverse of regularization strength. Chose 3 for slightly strong regularization\n",
    "                              cv=7)   # Set model with 7 stratified k-folds"
   ]
  },
  {
   "cell_type": "code",
   "execution_count": 26,
   "metadata": {
    "collapsed": false
   },
   "outputs": [
    {
     "data": {
      "text/plain": [
       "LogisticRegressionCV(Cs=3, class_weight=None, cv=7, dual=False,\n",
       "           fit_intercept=True, intercept_scaling=1.0, max_iter=100,\n",
       "           multi_class='ovr', n_jobs=1, penalty='l2', random_state=None,\n",
       "           refit=True, scoring=None, solver='lbfgs', tol=0.0001, verbose=0)"
      ]
     },
     "execution_count": 26,
     "metadata": {},
     "output_type": "execute_result"
    }
   ],
   "source": [
    "Y, X = patsy.dmatrices('''label ~ C(alchemy_category) + alchemy_category_score + avglinksize + \n",
    "compression_ratio + embed_ratio + \n",
    "frameTagRatio + html_ratio + image_ratio - 1''', data=su_n)\n",
    "\n",
    "Y = np.ravel(Y) # Change Y to 1D array\n",
    "\n",
    "logreg.fit(X,Y) # fit to the logistic "
   ]
  },
  {
   "cell_type": "code",
   "execution_count": 27,
   "metadata": {
    "collapsed": false
   },
   "outputs": [
    {
     "data": {
      "text/plain": [
       "array([[ 0.54923717,  0.64909847,  0.64909847],\n",
       "       [ 0.54507628,  0.68932039,  0.68932039],\n",
       "       [ 0.5409154 ,  0.65880721,  0.66019417],\n",
       "       [ 0.55062413,  0.66574202,  0.66574202],\n",
       "       [ 0.5631068 ,  0.67267684,  0.67267684],\n",
       "       [ 0.55755895,  0.67961165,  0.67961165],\n",
       "       [ 0.55755895,  0.66851595,  0.66851595]])"
      ]
     },
     "execution_count": 27,
     "metadata": {},
     "output_type": "execute_result"
    }
   ],
   "source": [
    "logreg.scores_[1]"
   ]
  },
  {
   "cell_type": "markdown",
   "metadata": {},
   "source": [
    "## 5. Gridsearch regularization parameters for logistic regression\n",
    "\n",
    "Find the best regularization type (Ridge, Lasso) across a set of regularization strengths.\n",
    "\n",
    "[NOTE: C is the inverse of the regularization strength. Lower C values are stronger regularization. Having a C higher than 1 will significantly slow down the search. I'm not particularly interested in values over 1, since this is the default regularization strength in LogisticRegression.]\n",
    "\n",
    "**After you find the best set of parameters, build a Logistic Regression with those parameters and crossvalidate the score.**\n",
    "\n",
    "[NOTE 2: to run Lasso regularization the solver should be `'liblinear'`]\n",
    "\n",
    "---"
   ]
  },
  {
   "cell_type": "code",
   "execution_count": 28,
   "metadata": {
    "collapsed": false
   },
   "outputs": [],
   "source": [
    "from sklearn.grid_search import GridSearchCV\n",
    "from sklearn.linear_model import LogisticRegression\n",
    "from sklearn.cross_validation import train_test_split\n",
    "from sklearn.metrics import classification_report\n",
    "\n",
    "Cs = [0.1, 2, 20]\n",
    "log = LogisticRegression()\n",
    "\n",
    "search_parameters = {\n",
    "    \"penalty\":             ['l1','l2'],        # Used to specify the norm used in the penalization.\n",
    "    \"C\":                   Cs,                 # Regularization paramter\n",
    "    \"fit_intercept\":       [False, True],      # Specifies if a constant (a.k.a. bias or intercept) should be added to the decision function.\n",
    "    \"class_weight\":        [None, \"balanced\"], # The “balanced” mode uses the values of y to automatically adjust weights inversely proportional to class frequencies in the input data as n_samples / (n_classes * np.bincount(y))\n",
    "    \"intercept_scaling\":   [2, 1],             # Useful only if solver is liblinear. when self.fit_intercept is True, instance vector x becomes [x, self.intercept_scaling], i.e. a “synthetic” feature with constant value equals to intercept_scaling is appended to the instance vector. \n",
    "    \"solver\":              ['liblinear'],      # Set the solver to be liblinear\n",
    "    # Because LibLinear solver is being used the warm start is not needed\n",
    "}\n",
    "\n",
    "searcher = GridSearchCV(log, search_parameters)"
   ]
  },
  {
   "cell_type": "code",
   "execution_count": 29,
   "metadata": {
    "collapsed": true
   },
   "outputs": [],
   "source": [
    "X_train, x_test, Y_train, y_test = train_test_split(X, Y, test_size = 0.3)"
   ]
  },
  {
   "cell_type": "code",
   "execution_count": 30,
   "metadata": {
    "collapsed": false
   },
   "outputs": [
    {
     "data": {
      "text/plain": [
       "GridSearchCV(cv=None, error_score='raise',\n",
       "       estimator=LogisticRegression(C=1.0, class_weight=None, dual=False, fit_intercept=True,\n",
       "          intercept_scaling=1, max_iter=100, multi_class='ovr', n_jobs=1,\n",
       "          penalty='l2', random_state=None, solver='liblinear', tol=0.0001,\n",
       "          verbose=0, warm_start=False),\n",
       "       fit_params={}, iid=True, n_jobs=1,\n",
       "       param_grid={'C': [0.1, 2, 20], 'intercept_scaling': [2, 1], 'solver': ['liblinear'], 'fit_intercept': [False, True], 'penalty': ['l1', 'l2'], 'class_weight': [None, 'balanced']},\n",
       "       pre_dispatch='2*n_jobs', refit=True, scoring=None, verbose=0)"
      ]
     },
     "execution_count": 30,
     "metadata": {},
     "output_type": "execute_result"
    }
   ],
   "source": [
    "searcher.fit(X_train, Y_train)"
   ]
  },
  {
   "cell_type": "code",
   "execution_count": 31,
   "metadata": {
    "collapsed": false
   },
   "outputs": [
    {
     "name": "stdout",
     "output_type": "stream",
     "text": [
      "Best C / Regularization Param: 0.1\n",
      "Best Params: {'C': 0.1, 'intercept_scaling': 1, 'fit_intercept': True, 'solver': 'liblinear', 'penalty': 'l1', 'class_weight': 'balanced'}\n",
      "Best Score: 0.672706681767\n"
     ]
    }
   ],
   "source": [
    "print \"Best C / Regularization Param:\", searcher.best_estimator_.C # This estimator.best_estimator_ object has many great reporting metrics\n",
    "print \"Best Params:\", searcher.best_params_\n",
    "print \"Best Score:\", searcher.best_score_"
   ]
  },
  {
   "cell_type": "code",
   "execution_count": 32,
   "metadata": {
    "collapsed": false
   },
   "outputs": [
    {
     "name": "stdout",
     "output_type": "stream",
     "text": [
      "               precision    recall  f1-score   support\n",
      "\n",
      "Not Evergreen       0.66      0.64      0.65       756\n",
      "    Evergreen       0.65      0.67      0.66       759\n",
      "\n",
      "  avg / total       0.65      0.65      0.65      1515\n",
      "\n"
     ]
    }
   ],
   "source": [
    "y_true, y_pred = y_test, searcher.predict(x_test)\n",
    "print classification_report(y_true, y_pred, target_names=[\"Not Evergreen\", \"Evergreen\"])"
   ]
  },
  {
   "cell_type": "markdown",
   "metadata": {},
   "source": [
    "## 6. Gridsearch neighbors for kNN\n",
    "\n",
    "Find the best number of neighbors with your predictors to predict the `label` target variable.\n",
    "\n",
    "Start by bulding a kNN model with a set number of neighbors, then use gridsearch to run through a series of neighbors.\n",
    "\n",
    "---"
   ]
  },
  {
   "cell_type": "code",
   "execution_count": 33,
   "metadata": {
    "collapsed": true
   },
   "outputs": [],
   "source": [
    "from sklearn.neighbors import KNeighborsClassifier"
   ]
  },
  {
   "cell_type": "code",
   "execution_count": 34,
   "metadata": {
    "collapsed": true
   },
   "outputs": [],
   "source": [
    "# Using KNN parameters set up variety of tests\n",
    "params = {\n",
    "    'n_neighbors' : [3,125],  # Go between 3 to 125 neighbor tests\n",
    "    \n",
    "    'weights' : (\"uniform\",   # All neighbors have equal weight\n",
    "                 \"distance\"), # Neighbors contribution are weighted by 1/d (closer have more weight)\n",
    "    \n",
    "    'algorithm' : (\"ball_tree\", # Alg used in high dimensional nearest-neighbor, \n",
    "                                # partitions nearby points into nests of \"balls\" in high dimensional space\n",
    "                   \n",
    "                  \"kd_tree\",    # Alg that creates binary space partitioning through continued splits in high dimensional space\n",
    "                   \n",
    "                  \"brute\",      # Use a brute force search for assignment\n",
    "                  \"auto\"),      # Tries to determine the most appropriate method to use based on fit parameters\n",
    "    \n",
    "    'p' : [1,  # p=1 is Manhattan distance (l1)\n",
    "          2]   # p=2 is Euclidian distance (l2)\n",
    "}"
   ]
  },
  {
   "cell_type": "code",
   "execution_count": 35,
   "metadata": {
    "collapsed": false
   },
   "outputs": [],
   "source": [
    "KNN = KNeighborsClassifier() # Prepare the KNN classifier\n",
    "\n",
    "# Set up grid search with above parameters and k-nearest algorithm\n",
    "grid_KNN = GridSearchCV(KNN, params) "
   ]
  },
  {
   "cell_type": "code",
   "execution_count": 36,
   "metadata": {
    "collapsed": false
   },
   "outputs": [
    {
     "data": {
      "text/plain": [
       "GridSearchCV(cv=None, error_score='raise',\n",
       "       estimator=KNeighborsClassifier(algorithm='auto', leaf_size=30, metric='minkowski',\n",
       "           metric_params=None, n_jobs=1, n_neighbors=5, p=2,\n",
       "           weights='uniform'),\n",
       "       fit_params={}, iid=True, n_jobs=1,\n",
       "       param_grid={'n_neighbors': [3, 125], 'weights': ('uniform', 'distance'), 'algorithm': ('ball_tree', 'kd_tree', 'brute', 'auto'), 'p': [1, 2]},\n",
       "       pre_dispatch='2*n_jobs', refit=True, scoring=None, verbose=0)"
      ]
     },
     "execution_count": 36,
     "metadata": {},
     "output_type": "execute_result"
    }
   ],
   "source": [
    "# Use the same train_test split as in the Logistic Regression\n",
    "# Grid Search that was done previously.\n",
    "\n",
    "grid_KNN.fit(X_train, Y_train)"
   ]
  },
  {
   "cell_type": "code",
   "execution_count": 37,
   "metadata": {
    "collapsed": false
   },
   "outputs": [
    {
     "name": "stdout",
     "output_type": "stream",
     "text": [
      "Best Estimator: 125\n",
      "Best Params: {'n_neighbors': 125, 'weights': 'distance', 'algorithm': 'ball_tree', 'p': 1}\n",
      "Best Score: 0.681483578709\n"
     ]
    }
   ],
   "source": [
    "print \"Best Estimator:\", grid_KNN.best_estimator_.n_neighbors\n",
    "print \"Best Params:\", grid_KNN.best_params_\n",
    "print \"Best Score:\", grid_KNN.best_score_"
   ]
  },
  {
   "cell_type": "code",
   "execution_count": 38,
   "metadata": {
    "collapsed": false
   },
   "outputs": [
    {
     "name": "stdout",
     "output_type": "stream",
     "text": [
      "               precision    recall  f1-score   support\n",
      "\n",
      "Not Evergreen       0.72      0.56      0.63       756\n",
      "    Evergreen       0.64      0.78      0.70       759\n",
      "\n",
      "  avg / total       0.68      0.67      0.67      1515\n",
      "\n"
     ]
    }
   ],
   "source": [
    "y_pred = grid_KNN.predict(x_test)\n",
    "\n",
    "print classification_report(y_test, y_pred, target_names=[\"Not Evergreen\", \"Evergreen\"])"
   ]
  },
  {
   "cell_type": "markdown",
   "metadata": {},
   "source": [
    "## 7. Choose a new target from alchemy_category to predict with logistic regression\n",
    "\n",
    "**Ideally your category choice will have a small fraction of the total rows, but not TOO small!**\n",
    "\n",
    "---"
   ]
  },
  {
   "cell_type": "code",
   "execution_count": 39,
   "metadata": {
    "collapsed": false
   },
   "outputs": [
    {
     "data": {
      "text/plain": [
       "recreation            1229\n",
       "arts_entertainment     941\n",
       "business               880\n",
       "health                 506\n",
       "sports                 380\n",
       "culture_politics       343\n",
       "computer_internet      296\n",
       "science_technology     289\n",
       "gaming                  76\n",
       "religion                72\n",
       "law_crime               31\n",
       "weather                  4\n",
       "Name: alchemy_category, dtype: int64"
      ]
     },
     "execution_count": 39,
     "metadata": {},
     "output_type": "execute_result"
    }
   ],
   "source": [
    "su['alchemy_category'].value_counts()"
   ]
  },
  {
   "cell_type": "code",
   "execution_count": 40,
   "metadata": {
    "collapsed": false
   },
   "outputs": [],
   "source": [
    "unique_cat = su['alchemy_category'].unique()"
   ]
  },
  {
   "cell_type": "markdown",
   "metadata": {},
   "source": [
    "### 7.1 Chose your target category, create the Y vector, and check the fraction of instances\n",
    "\n",
    "---"
   ]
  },
  {
   "cell_type": "markdown",
   "metadata": {},
   "source": [
    "<a id=\"categorylr\"></a>\n",
    "*One category that would be interesting to predict would be the culture_politics. This is since the category is rather small, but also has overlap with many of the other possible categories, making it slightly tricker to predict.*"
   ]
  },
  {
   "cell_type": "code",
   "execution_count": 41,
   "metadata": {
    "collapsed": false
   },
   "outputs": [],
   "source": [
    "su['is_culture'] = (\n",
    "    su['alchemy_category'].apply(lambda x: \n",
    "                            1 if x == 'culture_politics' \n",
    "                            else 0))"
   ]
  },
  {
   "cell_type": "code",
   "execution_count": 42,
   "metadata": {
    "collapsed": false
   },
   "outputs": [
    {
     "name": "stdout",
     "output_type": "stream",
     "text": [
      "Culture and Politics ratio is:  0.0679611650485\n"
     ]
    }
   ],
   "source": [
    "print \"Culture and Politics ratio is: \", float(len(su[su['is_culture']==1])) / len(su)"
   ]
  },
  {
   "cell_type": "markdown",
   "metadata": {},
   "source": [
    "### 7.2 Use patsy to create an X matrix of the numeric predictors and all two-way interactions between them\n",
    "\n",
    "Ex:\n",
    "\n",
    "```python\n",
    "import patsy\n",
    "\n",
    "formula_interactions = '~ (var1 + var2 + var3)**2 -1'\n",
    "X_interactions = patsy.dmatrix(formula_interactions, data=data\n",
    "```\n",
    "\n",
    "Get the column names from the `design_info` property of the patsy X matrix.\n",
    "\n",
    "---"
   ]
  },
  {
   "cell_type": "code",
   "execution_count": 43,
   "metadata": {
    "collapsed": false
   },
   "outputs": [
    {
     "name": "stdout",
     "output_type": "stream",
     "text": [
      "<class 'pandas.core.frame.DataFrame'>\n",
      "Int64Index: 5047 entries, 0 to 7393\n",
      "Data columns (total 28 columns):\n",
      "url                               5047 non-null object\n",
      "urlid                             5047 non-null int64\n",
      "boilerplate                       5047 non-null object\n",
      "alchemy_category                  5047 non-null object\n",
      "alchemy_category_score            5047 non-null float64\n",
      "avglinksize                       5047 non-null float64\n",
      "commonlinkratio_1                 5047 non-null float64\n",
      "commonlinkratio_2                 5047 non-null float64\n",
      "commonlinkratio_3                 5047 non-null float64\n",
      "commonlinkratio_4                 5047 non-null float64\n",
      "compression_ratio                 5047 non-null float64\n",
      "embed_ratio                       5047 non-null float64\n",
      "framebased                        5047 non-null int64\n",
      "frameTagRatio                     5047 non-null float64\n",
      "hasDomainLink                     5047 non-null int64\n",
      "html_ratio                        5047 non-null float64\n",
      "image_ratio                       5047 non-null float64\n",
      "is_news                           5047 non-null object\n",
      "lengthyLinkDomain                 5047 non-null int64\n",
      "linkwordscore                     5047 non-null int64\n",
      "news_front_page                   5047 non-null object\n",
      "non_markup_alphanum_characters    5047 non-null int64\n",
      "numberOfLinks                     5047 non-null int64\n",
      "numwords_in_url                   5047 non-null int64\n",
      "parametrizedLinkRatio             5047 non-null float64\n",
      "spelling_errors_ratio             5047 non-null float64\n",
      "label                             5047 non-null int64\n",
      "is_culture                        5047 non-null int64\n",
      "dtypes: float64(13), int64(10), object(5)\n",
      "memory usage: 1.1+ MB\n"
     ]
    }
   ],
   "source": [
    "su.info()\n",
    "\n",
    "# Debated removing the evergreen column\n",
    "# Kept it, since certain categories could be classified\n",
    "# With help of label, since some will be more popular\n",
    "\n",
    "# Will also be running with and without the unclassified (?)\n",
    "# Categories to see if there is a substantial difference."
   ]
  },
  {
   "cell_type": "code",
   "execution_count": 44,
   "metadata": {
    "collapsed": true
   },
   "outputs": [],
   "source": [
    "formula_interactions = \"\"\"~ (\n",
    "alchemy_category_score + \n",
    "avglinksize+ commonlinkratio_1 + commonlinkratio_2 + \n",
    "commonlinkratio_3 + commonlinkratio_4 +\n",
    "compression_ratio + embed_ratio + frameTagRatio + html_ratio + \n",
    "image_ratio + linkwordscore + non_markup_alphanum_characters + \n",
    "numberOfLinks + numwords_in_url + \n",
    "parametrizedLinkRatio + spelling_errors_ratio\n",
    ") ** 2 -1\"\"\""
   ]
  },
  {
   "cell_type": "code",
   "execution_count": 45,
   "metadata": {
    "collapsed": false
   },
   "outputs": [],
   "source": [
    "X_interactions = patsy.dmatrix(formula_interactions, data=su)"
   ]
  },
  {
   "cell_type": "code",
   "execution_count": 61,
   "metadata": {
    "collapsed": false
   },
   "outputs": [],
   "source": [
    "design = X_interactions.design_info\n",
    "design = ['alchemy_category_score',\n",
    "            'avglinksize',\n",
    "            'commonlinkratio_1',\n",
    "            'commonlinkratio_2',\n",
    "            'commonlinkratio_3',\n",
    "            'commonlinkratio_4',\n",
    "            'compression_ratio',\n",
    "            'embed_ratio',\n",
    "            'frameTagRatio',\n",
    "            'html_ratio',\n",
    "            'image_ratio',\n",
    "            'linkwordscore',\n",
    "            'non_markup_alphanum_characters',\n",
    "            'numberOfLinks',\n",
    "            'numwords_in_url',\n",
    "            'parametrizedLinkRatio',\n",
    "            'spelling_errors_ratio',\n",
    "            'alchemy_category_score:avglinksize',\n",
    "            'alchemy_category_score:commonlinkratio_1',\n",
    "            'alchemy_category_score:commonlinkratio_2',\n",
    "            'alchemy_category_score:commonlinkratio_3',\n",
    "            'alchemy_category_score:commonlinkratio_4',\n",
    "            'alchemy_category_score:compression_ratio',\n",
    "            'alchemy_category_score:embed_ratio',\n",
    "            'alchemy_category_score:frameTagRatio',\n",
    "            'alchemy_category_score:html_ratio',\n",
    "            'alchemy_category_score:image_ratio',\n",
    "            'alchemy_category_score:linkwordscore',\n",
    "            'alchemy_category_score:non_markup_alphanum_characters',\n",
    "            'alchemy_category_score:numberOfLinks',\n",
    "            'alchemy_category_score:numwords_in_url',\n",
    "            'alchemy_category_score:parametrizedLinkRatio',\n",
    "            'alchemy_category_score:spelling_errors_ratio',\n",
    "            'avglinksize:commonlinkratio_1',\n",
    "            'avglinksize:commonlinkratio_2',\n",
    "            'avglinksize:commonlinkratio_3',\n",
    "            'avglinksize:commonlinkratio_4',\n",
    "            'avglinksize:compression_ratio',\n",
    "            'avglinksize:embed_ratio',\n",
    "            'avglinksize:frameTagRatio',\n",
    "            'avglinksize:html_ratio',\n",
    "            'avglinksize:image_ratio',\n",
    "            'avglinksize:linkwordscore',\n",
    "            'avglinksize:non_markup_alphanum_characters',\n",
    "            'avglinksize:numberOfLinks',\n",
    "            'avglinksize:numwords_in_url',\n",
    "            'avglinksize:parametrizedLinkRatio',\n",
    "            'avglinksize:spelling_errors_ratio',\n",
    "            'commonlinkratio_1:commonlinkratio_2',\n",
    "            'commonlinkratio_1:commonlinkratio_3',\n",
    "            'commonlinkratio_1:commonlinkratio_4',\n",
    "            'commonlinkratio_1:compression_ratio',\n",
    "            'commonlinkratio_1:embed_ratio',\n",
    "            'commonlinkratio_1:frameTagRatio',\n",
    "            'commonlinkratio_1:html_ratio',\n",
    "            'commonlinkratio_1:image_ratio',\n",
    "            'commonlinkratio_1:linkwordscore',\n",
    "            'commonlinkratio_1:non_markup_alphanum_characters',\n",
    "            'commonlinkratio_1:numberOfLinks',\n",
    "            'commonlinkratio_1:numwords_in_url',\n",
    "            'commonlinkratio_1:parametrizedLinkRatio',\n",
    "            'commonlinkratio_1:spelling_errors_ratio',\n",
    "            'commonlinkratio_2:commonlinkratio_3',\n",
    "            'commonlinkratio_2:commonlinkratio_4',\n",
    "            'commonlinkratio_2:compression_ratio',\n",
    "            'commonlinkratio_2:embed_ratio',\n",
    "            'commonlinkratio_2:frameTagRatio',\n",
    "            'commonlinkratio_2:html_ratio',\n",
    "            'commonlinkratio_2:image_ratio',\n",
    "            'commonlinkratio_2:linkwordscore',\n",
    "            'commonlinkratio_2:non_markup_alphanum_characters',\n",
    "            'commonlinkratio_2:numberOfLinks',\n",
    "            'commonlinkratio_2:numwords_in_url',\n",
    "            'commonlinkratio_2:parametrizedLinkRatio',\n",
    "            'commonlinkratio_2:spelling_errors_ratio',\n",
    "            'commonlinkratio_3:commonlinkratio_4',\n",
    "            'commonlinkratio_3:compression_ratio',\n",
    "            'commonlinkratio_3:embed_ratio',\n",
    "            'commonlinkratio_3:frameTagRatio',\n",
    "            'commonlinkratio_3:html_ratio',\n",
    "            'commonlinkratio_3:image_ratio',\n",
    "            'commonlinkratio_3:linkwordscore',\n",
    "            'commonlinkratio_3:non_markup_alphanum_characters',\n",
    "            'commonlinkratio_3:numberOfLinks',\n",
    "            'commonlinkratio_3:numwords_in_url',\n",
    "            'commonlinkratio_3:parametrizedLinkRatio',\n",
    "            'commonlinkratio_3:spelling_errors_ratio',\n",
    "            'commonlinkratio_4:compression_ratio',\n",
    "            'commonlinkratio_4:embed_ratio',\n",
    "            'commonlinkratio_4:frameTagRatio',\n",
    "            'commonlinkratio_4:html_ratio',\n",
    "            'commonlinkratio_4:image_ratio',\n",
    "            'commonlinkratio_4:linkwordscore',\n",
    "            'commonlinkratio_4:non_markup_alphanum_characters',\n",
    "            'commonlinkratio_4:numberOfLinks',\n",
    "            'commonlinkratio_4:numwords_in_url',\n",
    "            'commonlinkratio_4:parametrizedLinkRatio',\n",
    "            'commonlinkratio_4:spelling_errors_ratio',\n",
    "            'compression_ratio:embed_ratio',\n",
    "            'compression_ratio:frameTagRatio',\n",
    "            'compression_ratio:html_ratio',\n",
    "            'compression_ratio:image_ratio',\n",
    "            'compression_ratio:linkwordscore',\n",
    "            'compression_ratio:non_markup_alphanum_characters',\n",
    "            'compression_ratio:numberOfLinks',\n",
    "            'compression_ratio:numwords_in_url',\n",
    "            'compression_ratio:parametrizedLinkRatio',\n",
    "            'compression_ratio:spelling_errors_ratio',\n",
    "            'embed_ratio:frameTagRatio',\n",
    "            'embed_ratio:html_ratio',\n",
    "            'embed_ratio:image_ratio',\n",
    "            'embed_ratio:linkwordscore',\n",
    "            'embed_ratio:non_markup_alphanum_characters',\n",
    "            'embed_ratio:numberOfLinks',\n",
    "            'embed_ratio:numwords_in_url',\n",
    "            'embed_ratio:parametrizedLinkRatio',\n",
    "            'embed_ratio:spelling_errors_ratio',\n",
    "            'frameTagRatio:html_ratio',\n",
    "            'frameTagRatio:image_ratio',\n",
    "            'frameTagRatio:linkwordscore',\n",
    "            'frameTagRatio:non_markup_alphanum_characters',\n",
    "            'frameTagRatio:numberOfLinks',\n",
    "            'frameTagRatio:numwords_in_url',\n",
    "            'frameTagRatio:parametrizedLinkRatio',\n",
    "            'frameTagRatio:spelling_errors_ratio',\n",
    "            'html_ratio:image_ratio',\n",
    "            'html_ratio:linkwordscore',\n",
    "            'html_ratio:non_markup_alphanum_characters',\n",
    "            'html_ratio:numberOfLinks',\n",
    "            'html_ratio:numwords_in_url',\n",
    "            'html_ratio:parametrizedLinkRatio',\n",
    "            'html_ratio:spelling_errors_ratio',\n",
    "            'image_ratio:linkwordscore',\n",
    "            'image_ratio:non_markup_alphanum_characters',\n",
    "            'image_ratio:numberOfLinks',\n",
    "            'image_ratio:numwords_in_url',\n",
    "            'image_ratio:parametrizedLinkRatio',\n",
    "            'image_ratio:spelling_errors_ratio',\n",
    "            'linkwordscore:non_markup_alphanum_characters',\n",
    "            'linkwordscore:numberOfLinks',\n",
    "            'linkwordscore:numwords_in_url',\n",
    "            'linkwordscore:parametrizedLinkRatio',\n",
    "            'linkwordscore:spelling_errors_ratio',\n",
    "            'non_markup_alphanum_characters:numberOfLinks',\n",
    "            'non_markup_alphanum_characters:numwords_in_url',\n",
    "            'non_markup_alphanum_characters:parametrizedLinkRatio',\n",
    "            'non_markup_alphanum_characters:spelling_errors_ratio',\n",
    "            'numberOfLinks:numwords_in_url',\n",
    "            'numberOfLinks:parametrizedLinkRatio',\n",
    "            'numberOfLinks:spelling_errors_ratio',\n",
    "            'numwords_in_url:parametrizedLinkRatio',\n",
    "            'numwords_in_url:spelling_errors_ratio',\n",
    "            'parametrizedLinkRatio:spelling_errors_ratio']"
   ]
  },
  {
   "cell_type": "markdown",
   "metadata": {},
   "source": [
    "### 7.3 Normalize the predictor matrix columns\n",
    "\n",
    "---"
   ]
  },
  {
   "cell_type": "code",
   "execution_count": 47,
   "metadata": {
    "collapsed": false
   },
   "outputs": [],
   "source": [
    "# Using standard Scalar\n",
    "from sklearn.preprocessing import StandardScaler\n",
    "\n",
    "scalar = StandardScaler()\n",
    "X_inter_stsc = X_interactions.copy()\n",
    "\n",
    "X_inter_stsc = scalar.fit_transform(X_inter_stsc)"
   ]
  },
  {
   "cell_type": "code",
   "execution_count": 48,
   "metadata": {
    "collapsed": true
   },
   "outputs": [],
   "source": [
    "Y_cat = np.ravel(su.is_culture)"
   ]
  },
  {
   "cell_type": "code",
   "execution_count": 49,
   "metadata": {
    "collapsed": false
   },
   "outputs": [
    {
     "data": {
      "text/plain": [
       "(5047,)"
      ]
     },
     "execution_count": 49,
     "metadata": {},
     "output_type": "execute_result"
    }
   ],
   "source": [
    "Y_cat.shape"
   ]
  },
  {
   "cell_type": "markdown",
   "metadata": {},
   "source": [
    "### 7.4 Gridsearch a logistic regression to predict accuracy on your new target from the interaction predictors\n",
    "\n",
    "Include Ridge and Lasso.\n",
    "<a id=\"gridsearch\"></a>\n",
    "\n",
    "---"
   ]
  },
  {
   "cell_type": "code",
   "execution_count": 50,
   "metadata": {
    "collapsed": false
   },
   "outputs": [],
   "source": [
    "# Can use search_parameters which was defined above for parameters\n",
    "# Also recycle 'log' which was the logistic regression from above\n",
    "\n",
    "# train_test_split\n",
    "X_cat_train, x_cat_test, Y_cat_train, y_cat_test = train_test_split(X_inter_stsc,\n",
    "                                                                     Y_cat,\n",
    "                                                                     test_size=0.3)\n",
    "\n",
    "cat_est = GridSearchCV(log, search_parameters)"
   ]
  },
  {
   "cell_type": "code",
   "execution_count": 51,
   "metadata": {
    "collapsed": false
   },
   "outputs": [
    {
     "data": {
      "text/plain": [
       "GridSearchCV(cv=None, error_score='raise',\n",
       "       estimator=LogisticRegression(C=1.0, class_weight=None, dual=False, fit_intercept=True,\n",
       "          intercept_scaling=1, max_iter=100, multi_class='ovr', n_jobs=1,\n",
       "          penalty='l2', random_state=None, solver='liblinear', tol=0.0001,\n",
       "          verbose=0, warm_start=False),\n",
       "       fit_params={}, iid=True, n_jobs=1,\n",
       "       param_grid={'C': [0.1, 2, 20], 'intercept_scaling': [2, 1], 'solver': ['liblinear'], 'fit_intercept': [False, True], 'penalty': ['l1', 'l2'], 'class_weight': [None, 'balanced']},\n",
       "       pre_dispatch='2*n_jobs', refit=True, scoring=None, verbose=0)"
      ]
     },
     "execution_count": 51,
     "metadata": {},
     "output_type": "execute_result"
    }
   ],
   "source": [
    "cat_est.fit(X_cat_train, Y_cat_train)"
   ]
  },
  {
   "cell_type": "code",
   "execution_count": 52,
   "metadata": {
    "collapsed": false
   },
   "outputs": [
    {
     "name": "stdout",
     "output_type": "stream",
     "text": [
      "Best Params:  LogisticRegression(C=0.1, class_weight=None, dual=False, fit_intercept=True,\n",
      "          intercept_scaling=2, max_iter=100, multi_class='ovr', n_jobs=1,\n",
      "          penalty='l1', random_state=None, solver='liblinear', tol=0.0001,\n",
      "          verbose=0, warm_start=False)\n",
      "Best Score: 0.93261608154\n"
     ]
    }
   ],
   "source": [
    "print \"Best Params: \", cat_est.best_estimator_\n",
    "print \"Best Score:\", cat_est.best_score_"
   ]
  },
  {
   "cell_type": "markdown",
   "metadata": {},
   "source": [
    "### 7.5 Build a logistic regression with the optimal parameters, and look at the coefficients\n",
    "\n",
    "<a id=\"optparam\"></a>\n",
    "\n",
    "---"
   ]
  },
  {
   "cell_type": "code",
   "execution_count": 81,
   "metadata": {
    "collapsed": false
   },
   "outputs": [
    {
     "data": {
      "text/plain": [
       "{'alchemy_category_score:html_ratio': -0.13862629623492381,\n",
       " 'alchemy_category_score:spelling_errors_ratio': -0.067568379111981977,\n",
       " 'avglinksize:commonlinkratio_3': 0.023915337634675009,\n",
       " 'avglinksize:compression_ratio': -0.0024229197680481975,\n",
       " 'avglinksize:embed_ratio': 0.0038193407295493528,\n",
       " 'avglinksize:frameTagRatio': 0.01083276253137757,\n",
       " 'avglinksize:image_ratio': 0.012381342010222176,\n",
       " 'avglinksize:parametrizedLinkRatio': -0.01134801272631041,\n",
       " 'commonlinkratio_2:numberOfLinks': -0.22784106374584046,\n",
       " 'commonlinkratio_3:frameTagRatio': -0.017586170482843264,\n",
       " 'commonlinkratio_3:linkwordscore': 0.010753970907548382,\n",
       " 'commonlinkratio_4': 0.011471648231547784,\n",
       " 'commonlinkratio_4:image_ratio': 0.047240485458720956,\n",
       " 'commonlinkratio_4:linkwordscore': 0.051126551339834785,\n",
       " 'compression_ratio:non_markup_alphanum_characters': 0.073870876617253625,\n",
       " 'compression_ratio:numberOfLinks': -0.052051686109612118,\n",
       " 'embed_ratio:numwords_in_url': -0.026590467084485852,\n",
       " 'frameTagRatio:image_ratio': -0.012517472333945049,\n",
       " 'frameTagRatio:numberOfLinks': 0.12985814399213419,\n",
       " 'html_ratio:linkwordscore': 0.046627913865175445,\n",
       " 'html_ratio:numwords_in_url': 0.041828519950013895,\n",
       " 'html_ratio:spelling_errors_ratio': -0.013156116341134066,\n",
       " 'image_ratio:linkwordscore': -0.037989118191998211,\n",
       " 'image_ratio:non_markup_alphanum_characters': 0.029116931817878534,\n",
       " 'linkwordscore:non_markup_alphanum_characters': 0.19770953600099117,\n",
       " 'non_markup_alphanum_characters:numwords_in_url': 0.013988952461743602,\n",
       " 'numwords_in_url:parametrizedLinkRatio': -0.074589667490047099,\n",
       " 'numwords_in_url:spelling_errors_ratio': 0.047172641328717756}"
      ]
     },
     "execution_count": 81,
     "metadata": {},
     "output_type": "execute_result"
    }
   ],
   "source": [
    "# Optimal parameters:\n",
    "\n",
    "# C=0.1, class_weight=None, dual=False, fit_intercept=True,\n",
    "# intercept_scaling=2, max_iter=100, multi_class='ovr', n_jobs=1,\n",
    "# penalty='l1', random_state=None, solver='liblinear', tol=0.0001,\n",
    "# verbose=0, warm_start=False\n",
    "\n",
    "optlog = LogisticRegression(C=0.1, class_weight=None, dual=False, fit_intercept=True,\n",
    "          intercept_scaling=2, max_iter=100, multi_class='ovr', n_jobs=1,\n",
    "          penalty='l1', random_state=None, solver='liblinear', tol=0.0001,\n",
    "          verbose=0, warm_start=False)\n",
    "\n",
    "optlog.fit(X_cat_train, Y_cat_train)\n",
    "\n",
    "preds = list(optlog.coef_)\n",
    "\n",
    "logdict = {}\n",
    "\n",
    "for name, pred in zip(design, preds[0]):\n",
    "    if (pred !=0):           # Select only predictors with coefficients that aren't zero\n",
    "         logdict[name] = pred              # Add to dictionary\n",
    "            \n",
    "logdict"
   ]
  },
  {
   "cell_type": "markdown",
   "metadata": {},
   "source": [
    "### 7.6 Gridsearch parameters for a logistic regression with the same target and predictors, but score based on precision rather than accuracy\n",
    "\n",
    "Look at the documentation.\n",
    "<a id=\"gridpre\"></a>\n",
    "\n",
    "---"
   ]
  },
  {
   "cell_type": "code",
   "execution_count": 83,
   "metadata": {
    "collapsed": true
   },
   "outputs": [],
   "source": [
    "from sklearn.metrics import accuracy_score, precision_score"
   ]
  },
  {
   "cell_type": "code",
   "execution_count": 151,
   "metadata": {
    "collapsed": false
   },
   "outputs": [
    {
     "data": {
      "text/plain": [
       "GridSearchCV(cv=None, error_score='raise',\n",
       "       estimator=LogisticRegression(C=1.0, class_weight=None, dual=False, fit_intercept=True,\n",
       "          intercept_scaling=1, max_iter=100, multi_class='ovr', n_jobs=1,\n",
       "          penalty='l2', random_state=None, solver='liblinear', tol=0.0001,\n",
       "          verbose=0, warm_start=False),\n",
       "       fit_params={}, iid=True, n_jobs=1,\n",
       "       param_grid={'C': [0.1, 2, 20], 'intercept_scaling': [2, 1], 'solver': ['liblinear'], 'fit_intercept': [False, True], 'penalty': ['l1', 'l2'], 'class_weight': [None, 'balanced']},\n",
       "       pre_dispatch='2*n_jobs', refit=True, scoring='precision', verbose=0)"
      ]
     },
     "execution_count": 151,
     "metadata": {},
     "output_type": "execute_result"
    }
   ],
   "source": [
    "# train_test_split\n",
    "X_cat_train, x_cat_test, Y_cat_train, y_cat_test = train_test_split(X_inter_stsc,\n",
    "                                                                     Y_cat,\n",
    "                                                                     test_size=0.3)\n",
    "\n",
    "cat_est_pre = GridSearchCV(log,                       # Repeat same model\n",
    "                       search_parameters,             # Repeat above search parameters\n",
    "                       scoring='precision')  # Weight towards precision\n",
    "\n",
    "cat_est_pre.fit(X_cat_train, Y_cat_train)"
   ]
  },
  {
   "cell_type": "markdown",
   "metadata": {},
   "source": [
    "## [BONUS] 8. Build models predicting from words\n",
    "\n",
    "This is a bit of the NLP we covered in the pipeline lecture!\n",
    "<a id=\"bonus\"></a>\n",
    "\n",
    "---"
   ]
  },
  {
   "cell_type": "markdown",
   "metadata": {},
   "source": [
    "### 8.1 Choose 'body' or 'title' from the boilerplate to be the basis of your word predictors\n",
    "\n",
    "You will need to parse the json from the boilerplate field.\n",
    "\n",
    "---"
   ]
  },
  {
   "cell_type": "code",
   "execution_count": 87,
   "metadata": {
    "collapsed": false
   },
   "outputs": [
    {
     "data": {
      "text/plain": [
       "0    IBM Sees Holographic Calls Air Breathing Batte...\n",
       "1    The Fully Electronic Futuristic Starting Gun T...\n",
       "2    Fruits that Fight the Flu fruits that fight th...\n",
       "Name: title, dtype: object"
      ]
     },
     "execution_count": 87,
     "metadata": {},
     "output_type": "execute_result"
    }
   ],
   "source": [
    "import json\n",
    "\n",
    "# Select titles from the boilerplate\n",
    "su['title'] = su.boilerplate.map(lambda x: json.loads(x).get('title', ''))\n",
    "\n",
    "titles = su['title'].fillna('') # fill in blank strings\n",
    "\n",
    "# print off first few strings\n",
    "titles[0:3]"
   ]
  },
  {
   "cell_type": "markdown",
   "metadata": {},
   "source": [
    "### 8.2 Use CountVectorizer to create your predictor matrix from the string column\n",
    "\n",
    "It is up to you what range of ngrams and features, and whether or not you want the columns binary or counts.\n",
    "\n",
    "---"
   ]
  },
  {
   "cell_type": "code",
   "execution_count": 88,
   "metadata": {
    "collapsed": true
   },
   "outputs": [],
   "source": [
    "from sklearn.feature_extraction.text import CountVectorizer\n",
    "\n",
    "# Since titles are concise, want to look at the distribution of the 750 words\n",
    "\n",
    "\n",
    "\n",
    "vectorizer = CountVectorizer(max_features=750,    # Feature Word Size of 750\n",
    "                            ngram_range=(1,2),    # Set an n-gram of 2\n",
    "                            stop_words='english', # Remove stop words\n",
    "                            binary=True)          # Look to see whether or not the word is present"
   ]
  },
  {
   "cell_type": "code",
   "execution_count": 89,
   "metadata": {
    "collapsed": false
   },
   "outputs": [
    {
     "data": {
      "text/plain": [
       "CountVectorizer(analyzer=u'word', binary=True, decode_error=u'strict',\n",
       "        dtype=<type 'numpy.int64'>, encoding=u'utf-8', input=u'content',\n",
       "        lowercase=True, max_df=1.0, max_features=750, min_df=1,\n",
       "        ngram_range=(1, 2), preprocessor=None, stop_words='english',\n",
       "        strip_accents=None, token_pattern=u'(?u)\\\\b\\\\w\\\\w+\\\\b',\n",
       "        tokenizer=None, vocabulary=None)"
      ]
     },
     "execution_count": 89,
     "metadata": {},
     "output_type": "execute_result"
    }
   ],
   "source": [
    "vectorizer.fit(titles)"
   ]
  },
  {
   "cell_type": "code",
   "execution_count": 90,
   "metadata": {
    "collapsed": false
   },
   "outputs": [
    {
     "data": {
      "text/plain": [
       "matrix([[0, 0, 0, ..., 0, 0, 0],\n",
       "        [0, 0, 0, ..., 0, 0, 0],\n",
       "        [0, 0, 0, ..., 0, 0, 0],\n",
       "        ..., \n",
       "        [0, 0, 0, ..., 0, 0, 0],\n",
       "        [0, 0, 0, ..., 0, 0, 0],\n",
       "        [0, 0, 0, ..., 0, 0, 0]])"
      ]
     },
     "execution_count": 90,
     "metadata": {},
     "output_type": "execute_result"
    }
   ],
   "source": [
    "title_x = vectorizer.transform(titles)\n",
    "title_x.todense() # Creates matrix of each title and whether or not one of the 750 most popular words appear"
   ]
  },
  {
   "cell_type": "code",
   "execution_count": 91,
   "metadata": {
    "collapsed": false
   },
   "outputs": [
    {
     "name": "stdout",
     "output_type": "stream",
     "text": [
      "[ 0.78415842  0.74059406  0.73663366  0.79207921  0.73663366  0.78415842\n",
      "  0.75247525  0.78613861  0.79166667  0.76540755]\n"
     ]
    }
   ],
   "source": [
    "from sklearn.linear_model import LogisticRegression\n",
    "from sklearn.cross_validation import cross_val_score\n",
    "\n",
    "model = LogisticRegression() # Set Model\n",
    "Y = su['label']              # Target: Whether or not evergreen\n",
    "\n",
    "title_scores = cross_val_score(model, title_x, Y, cv=10)\n",
    "print title_scores\n",
    "\n",
    "model.fit(title_x, Y) # Fit titles to the target\n",
    "\n",
    "coefs = model.coef_                     # The coefficients\n",
    "words = vectorizer.get_feature_names()  # The words used as predictors"
   ]
  },
  {
   "cell_type": "code",
   "execution_count": 92,
   "metadata": {
    "collapsed": false
   },
   "outputs": [
    {
     "name": "stdout",
     "output_type": "stream",
     "text": [
      "breakfast 0.645022810558\n",
      "breaking -0.466669679275\n",
      "breaking news -0.126119854943\n",
      "broccoli 0.757228028893\n",
      "brown 0.556302895212\n",
      "brownie 1.1079985765\n",
      "brownies 0.978845501709\n",
      "buffalo -0.00584457595181\n",
      "burger 0.712444406015\n",
      "burgers 0.295855845689\n",
      "burn -0.0117904924389\n",
      "business -0.232000666924\n",
      "butter 1.63300207689\n",
      "buttercream 0.759163375168\n",
      "buy -0.37163579255\n",
      "cajun 0.288510988666\n",
      "cake 1.81204323795\n",
      "cake recipe -0.478038858474\n",
      "cakes 0.547660308447\n",
      "camera -0.979662523873\n"
     ]
    }
   ],
   "source": [
    "for word, coef in zip(words, coefs[0])[100:120]:\n",
    "    print word, coef"
   ]
  },
  {
   "cell_type": "markdown",
   "metadata": {},
   "source": [
    "<a id='pipe'></a>"
   ]
  },
  {
   "cell_type": "code",
   "execution_count": 99,
   "metadata": {
    "collapsed": false
   },
   "outputs": [
    {
     "data": {
      "text/plain": [
       "Pipeline(steps=[('vectorizer', CountVectorizer(analyzer=u'word', binary=True, decode_error=u'strict',\n",
       "        dtype=<type 'numpy.int64'>, encoding=u'utf-8', input=u'content',\n",
       "        lowercase=True, max_df=1.0, max_features=750, min_df=1,\n",
       "        ngram_range=(1, 2), preprocessor=None, stop_words='english',\n",
       " ...ty='l2', random_state=None, solver='liblinear', tol=0.0001,\n",
       "          verbose=0, warm_start=False))])"
      ]
     },
     "execution_count": 99,
     "metadata": {},
     "output_type": "execute_result"
    }
   ],
   "source": [
    "# Going to try a pipeline for giggles\n",
    "\n",
    "from sklearn.pipeline import Pipeline\n",
    "from sklearn.preprocessing import MaxAbsScaler\n",
    "\n",
    "scaler = MaxAbsScaler()\n",
    "logmod = LogisticRegression()\n",
    "\n",
    "pipe = Pipeline([\n",
    "        ('vectorizer', vectorizer), # Perform Vectorizer\n",
    "        ('scaler', scaler),         # Scale\n",
    "        ('model', logmod)           # Perform LogReg\n",
    "    ])\n",
    "\n",
    "pipe.fit(titles, Y)"
   ]
  },
  {
   "cell_type": "markdown",
   "metadata": {},
   "source": [
    "### 8.3 Gridsearch a logistic regression predicting accuracy of your chosen target category from word predictor matrix\n",
    "\n",
    "---"
   ]
  },
  {
   "cell_type": "markdown",
   "metadata": {},
   "source": [
    "*Am looking to determine which words are most likely to be found associated with the culture tag. If in a business setting this would be incredibly useful to determine if there is any seasonality. Can also be a way to determine if the alchemy assignment is correct by whether or not appropriate words are present.*"
   ]
  },
  {
   "cell_type": "code",
   "execution_count": 109,
   "metadata": {
    "collapsed": false
   },
   "outputs": [
    {
     "data": {
      "text/plain": [
       "Pipeline(steps=[('vectorizer', CountVectorizer(analyzer=u'word', binary=True, decode_error=u'strict',\n",
       "        dtype=<type 'numpy.int64'>, encoding=u'utf-8', input=u'content',\n",
       "        lowercase=True, max_df=1.0, max_features=750, min_df=1,\n",
       "        ngram_range=(1, 2), preprocessor=None, stop_words='english',\n",
       " ...': [None, 'balanced']},\n",
       "       pre_dispatch='2*n_jobs', refit=True, scoring='accuracy', verbose=0))])"
      ]
     },
     "execution_count": 109,
     "metadata": {},
     "output_type": "execute_result"
    }
   ],
   "source": [
    "Y = su['is_culture']\n",
    "X = titles\n",
    "\n",
    "title_acc = GridSearchCV(logmod,                      # Repeat same model\n",
    "                       search_parameters,             # Repeat search parameters\n",
    "                       scoring='accuracy')            # Weight towards accuracy\n",
    "\n",
    "pipe2 = Pipeline([\n",
    "        ('vectorizer', vectorizer),  # Vectorize the Words\n",
    "        ('scaler', scaler),          # Apply Scalar\n",
    "        ('acc_model', title_acc)\n",
    "    ])\n",
    "\n",
    "pipe2.fit(X, Y)\n",
    "\n",
    "X_train, x_test, Y_train, y_test = train_test_split(X,Y,test_size=0.3)\n",
    "\n",
    "\n",
    "\n",
    "\n",
    "pipe2.fit(X_train, Y_train)"
   ]
  },
  {
   "cell_type": "markdown",
   "metadata": {},
   "source": [
    "### 8.4 Do the same as above, but score the gridsearch based on precision rather than accuracy\n",
    "\n",
    "---"
   ]
  },
  {
   "cell_type": "code",
   "execution_count": 153,
   "metadata": {
    "collapsed": false
   },
   "outputs": [
    {
     "name": "stdout",
     "output_type": "stream",
     "text": [
      "Pipeline(steps=[('vectorizer', CountVectorizer(analyzer=u'word', binary=True, decode_error=u'strict',\n",
      "        dtype=<type 'numpy.int64'>, encoding=u'utf-8', input=u'content',\n",
      "        lowercase=True, max_df=1.0, max_features=750, min_df=1,\n",
      "        ngram_range=(1, 2), preprocessor=None, stop_words='english',\n",
      " ...: [None, 'balanced']},\n",
      "       pre_dispatch='2*n_jobs', refit=True, scoring='precision', verbose=0))])\n"
     ]
    }
   ],
   "source": [
    "from sklearn.metrics import precision_score\n",
    "\n",
    "title_pre = GridSearchCV(logmod,                      # Repeat same model\n",
    "                       search_parameters,             # Repeat search parameters\n",
    "                       scoring='precision')           # Weight towards accuracy\n",
    "\n",
    "pipe3 = Pipeline([\n",
    "        ('vectorizer', vectorizer),  # Vectorize the Words\n",
    "        ('scaler', scaler),          # Apply Scalar\n",
    "        ('pre_model', title_pre)\n",
    "    ])\n",
    "\n",
    "print pipe3.fit(X_train, Y_train)"
   ]
  },
  {
   "cell_type": "markdown",
   "metadata": {},
   "source": [
    "### 8.5 Build a logistic regression with optimal precision categories\n",
    "\n",
    "Print out the top 20 or 25 word features as ranked by their coefficients.\n",
    "<a id='top25'></a>\n",
    "---"
   ]
  },
  {
   "cell_type": "code",
   "execution_count": 154,
   "metadata": {
    "collapsed": false
   },
   "outputs": [
    {
     "name": "stdout",
     "output_type": "stream",
     "text": [
      "LogisticRegression(C=2, class_weight=None, dual=False, fit_intercept=True,\n",
      "          intercept_scaling=2, max_iter=100, multi_class='ovr', n_jobs=1,\n",
      "          penalty='l2', random_state=None, solver='liblinear', tol=0.0001,\n",
      "          verbose=0, warm_start=False)\n"
     ]
    }
   ],
   "source": [
    "print(title_pre.best_estimator_)"
   ]
  },
  {
   "cell_type": "code",
   "execution_count": 155,
   "metadata": {
    "collapsed": true
   },
   "outputs": [],
   "source": [
    "pre_model = LogisticRegression(C=2, class_weight=None, dual=False, fit_intercept=True,\n",
    "          intercept_scaling=2, max_iter=100, multi_class='ovr', n_jobs=1,\n",
    "          penalty='l2', random_state=None, solver='liblinear', tol=0.0001,\n",
    "          verbose=0, warm_start=False)"
   ]
  },
  {
   "cell_type": "code",
   "execution_count": 156,
   "metadata": {
    "collapsed": false
   },
   "outputs": [
    {
     "data": {
      "text/plain": [
       "Pipeline(steps=[('vectorizer', CountVectorizer(analyzer=u'word', binary=True, decode_error=u'strict',\n",
       "        dtype=<type 'numpy.int64'>, encoding=u'utf-8', input=u'content',\n",
       "        lowercase=True, max_df=1.0, max_features=750, min_df=1,\n",
       "        ngram_range=(1, 2), preprocessor=None, stop_words='english',\n",
       " ...ty='l2', random_state=None, solver='liblinear', tol=0.0001,\n",
       "          verbose=0, warm_start=False))])"
      ]
     },
     "execution_count": 156,
     "metadata": {},
     "output_type": "execute_result"
    }
   ],
   "source": [
    "pipe = Pipeline([\n",
    "        ('vectorizer', vectorizer), # Perform Vectorizer\n",
    "        ('scaler', scaler),         # Scale\n",
    "        ('model', pre_model)        # Assign best model to be run\n",
    "    ])\n",
    "\n",
    "pipe.fit(titles, Y) # run on total data"
   ]
  },
  {
   "cell_type": "code",
   "execution_count": 157,
   "metadata": {
    "collapsed": true
   },
   "outputs": [],
   "source": [
    "coefs = pre_model.coef_                     # The coefficients\n",
    "words = vectorizer.get_feature_names()  # The words used as predictors"
   ]
  },
  {
   "cell_type": "code",
   "execution_count": 158,
   "metadata": {
    "collapsed": false
   },
   "outputs": [],
   "source": [
    "dict_titles = {}  # Empty dict for dataframe construction\n",
    "\n",
    "for word, coef in zip(words, coefs[0]):\n",
    "    dict_titles[word] = coef"
   ]
  },
  {
   "cell_type": "code",
   "execution_count": 159,
   "metadata": {
    "collapsed": false
   },
   "outputs": [],
   "source": [
    "words_list = pd.DataFrame.from_dict(dict_titles, orient='index')\n",
    "\n",
    "words_list.columns = ['Coefficient']"
   ]
  },
  {
   "cell_type": "code",
   "execution_count": 160,
   "metadata": {
    "collapsed": false
   },
   "outputs": [
    {
     "name": "stderr",
     "output_type": "stream",
     "text": [
      "/Users/sebozek/anaconda/lib/python2.7/site-packages/ipykernel/__main__.py:1: FutureWarning: sort(columns=....) is deprecated, use sort_values(by=.....)\n",
      "  if __name__ == '__main__':\n"
     ]
    },
    {
     "data": {
      "text/html": [
       "<div>\n",
       "<table border=\"1\" class=\"dataframe\">\n",
       "  <thead>\n",
       "    <tr style=\"text-align: right;\">\n",
       "      <th></th>\n",
       "      <th>Coefficient</th>\n",
       "    </tr>\n",
       "  </thead>\n",
       "  <tbody>\n",
       "    <tr>\n",
       "      <th>pumpkin</th>\n",
       "      <td>3.861992</td>\n",
       "    </tr>\n",
       "    <tr>\n",
       "      <th>halloween</th>\n",
       "      <td>3.612809</td>\n",
       "    </tr>\n",
       "    <tr>\n",
       "      <th>wedding</th>\n",
       "      <td>3.446127</td>\n",
       "    </tr>\n",
       "    <tr>\n",
       "      <th>dough</th>\n",
       "      <td>3.212410</td>\n",
       "    </tr>\n",
       "    <tr>\n",
       "      <th>raw</th>\n",
       "      <td>2.737883</td>\n",
       "    </tr>\n",
       "    <tr>\n",
       "      <th>candy</th>\n",
       "      <td>2.644012</td>\n",
       "    </tr>\n",
       "    <tr>\n",
       "      <th>vegan</th>\n",
       "      <td>2.601764</td>\n",
       "    </tr>\n",
       "    <tr>\n",
       "      <th>children</th>\n",
       "      <td>2.243710</td>\n",
       "    </tr>\n",
       "    <tr>\n",
       "      <th>sex</th>\n",
       "      <td>2.131547</td>\n",
       "    </tr>\n",
       "    <tr>\n",
       "      <th>christmas</th>\n",
       "      <td>2.030543</td>\n",
       "    </tr>\n",
       "    <tr>\n",
       "      <th>holiday</th>\n",
       "      <td>1.974621</td>\n",
       "    </tr>\n",
       "    <tr>\n",
       "      <th>woman</th>\n",
       "      <td>1.913788</td>\n",
       "    </tr>\n",
       "    <tr>\n",
       "      <th>care</th>\n",
       "      <td>1.907374</td>\n",
       "    </tr>\n",
       "    <tr>\n",
       "      <th>bars</th>\n",
       "      <td>1.847376</td>\n",
       "    </tr>\n",
       "    <tr>\n",
       "      <th>network</th>\n",
       "      <td>1.655937</td>\n",
       "    </tr>\n",
       "    <tr>\n",
       "      <th>black</th>\n",
       "      <td>1.649208</td>\n",
       "    </tr>\n",
       "    <tr>\n",
       "      <th>touch</th>\n",
       "      <td>1.522004</td>\n",
       "    </tr>\n",
       "    <tr>\n",
       "      <th>teacher</th>\n",
       "      <td>1.515648</td>\n",
       "    </tr>\n",
       "    <tr>\n",
       "      <th>wall</th>\n",
       "      <td>1.512539</td>\n",
       "    </tr>\n",
       "    <tr>\n",
       "      <th>history</th>\n",
       "      <td>1.430595</td>\n",
       "    </tr>\n",
       "    <tr>\n",
       "      <th>cakes</th>\n",
       "      <td>1.292175</td>\n",
       "    </tr>\n",
       "    <tr>\n",
       "      <th>women</th>\n",
       "      <td>1.282612</td>\n",
       "    </tr>\n",
       "    <tr>\n",
       "      <th>town</th>\n",
       "      <td>1.259542</td>\n",
       "    </tr>\n",
       "    <tr>\n",
       "      <th>internet</th>\n",
       "      <td>1.255738</td>\n",
       "    </tr>\n",
       "    <tr>\n",
       "      <th>family</th>\n",
       "      <td>1.243430</td>\n",
       "    </tr>\n",
       "  </tbody>\n",
       "</table>\n",
       "</div>"
      ],
      "text/plain": [
       "           Coefficient\n",
       "pumpkin       3.861992\n",
       "halloween     3.612809\n",
       "wedding       3.446127\n",
       "dough         3.212410\n",
       "raw           2.737883\n",
       "candy         2.644012\n",
       "vegan         2.601764\n",
       "children      2.243710\n",
       "sex           2.131547\n",
       "christmas     2.030543\n",
       "holiday       1.974621\n",
       "woman         1.913788\n",
       "care          1.907374\n",
       "bars          1.847376\n",
       "network       1.655937\n",
       "black         1.649208\n",
       "touch         1.522004\n",
       "teacher       1.515648\n",
       "wall          1.512539\n",
       "history       1.430595\n",
       "cakes         1.292175\n",
       "women         1.282612\n",
       "town          1.259542\n",
       "internet      1.255738\n",
       "family        1.243430"
      ]
     },
     "execution_count": 160,
     "metadata": {},
     "output_type": "execute_result"
    }
   ],
   "source": [
    "words_list.sort('Coefficient', ascending=False)[0:25]"
   ]
  },
  {
   "cell_type": "markdown",
   "metadata": {},
   "source": [
    "*From the above it would seem that culture thrives around halloween and over food*"
   ]
  }
 ],
 "metadata": {
  "kernelspec": {
   "display_name": "Python 2",
   "language": "python",
   "name": "python2"
  },
  "language_info": {
   "codemirror_mode": {
    "name": "ipython",
    "version": 2
   },
   "file_extension": ".py",
   "mimetype": "text/x-python",
   "name": "python",
   "nbconvert_exporter": "python",
   "pygments_lexer": "ipython2",
   "version": "2.7.11"
  }
 },
 "nbformat": 4,
 "nbformat_minor": 0
}
