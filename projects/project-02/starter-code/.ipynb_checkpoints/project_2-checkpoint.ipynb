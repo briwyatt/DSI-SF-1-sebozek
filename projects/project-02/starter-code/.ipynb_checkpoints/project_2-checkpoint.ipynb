{
 "cells": [
  {
   "cell_type": "code",
   "execution_count": 76,
   "metadata": {
    "collapsed": false
   },
   "outputs": [
    {
     "name": "stdout",
     "output_type": "stream",
     "text": [
      "Hello World\n"
     ]
    }
   ],
   "source": [
    "print \"Hello World\" # Kill the whitespace effect"
   ]
  },
  {
   "cell_type": "code",
   "execution_count": 77,
   "metadata": {
    "collapsed": false
   },
   "outputs": [],
   "source": [
    "import numpy as np\n",
    "import pandas as pd\n",
    "import matplotlib as mpl\n",
    "import matplotlib.pyplot as plt\n",
    "import seaborn as sns\n",
    "\n",
    "%matplotlib inline\n",
    "\n",
    "sns.set(style=\"white\",rc={\"figure.figsize\":(8, 8)})\n"
   ]
  },
  {
   "cell_type": "markdown",
   "metadata": {},
   "source": [
    "# Project 2\n",
    "## Step 1: Exploring your data.\n",
    "\n",
    "##### Load your data in using Pandas and start to explore. Save all of your early exploration code here and include in your final submission."
   ]
  },
  {
   "cell_type": "code",
   "execution_count": 78,
   "metadata": {
    "collapsed": false
   },
   "outputs": [],
   "source": [
    "billboard = pd.read_csv('../assets/billboard.csv') # read in the csv"
   ]
  },
  {
   "cell_type": "code",
   "execution_count": 79,
   "metadata": {
    "collapsed": false,
    "scrolled": true
   },
   "outputs": [
    {
     "data": {
      "text/plain": [
       "year                 int64\n",
       "artist.inverted     object\n",
       "track               object\n",
       "time                object\n",
       "genre               object\n",
       "date.entered        object\n",
       "date.peaked         object\n",
       "x1st.week            int64\n",
       "x2nd.week          float64\n",
       "x3rd.week          float64\n",
       "x4th.week          float64\n",
       "x5th.week          float64\n",
       "x6th.week          float64\n",
       "x7th.week          float64\n",
       "x8th.week          float64\n",
       "x9th.week          float64\n",
       "x10th.week         float64\n",
       "x11th.week         float64\n",
       "x12th.week         float64\n",
       "x13th.wek          float64\n",
       "x14th.week         float64\n",
       "x15th.week         float64\n",
       "x16th.week         float64\n",
       "x17th.week         float64\n",
       "x18th.week         float64\n",
       "x19th.week         float64\n",
       "x20th.week         float64\n",
       "x21st.week         float64\n",
       "x22nd.week         float64\n",
       "x23rd.week         float64\n",
       "                    ...   \n",
       "x47th.week         float64\n",
       "x48th.week         float64\n",
       "x49th.week         float64\n",
       "x50th.week         float64\n",
       "x51st.week         float64\n",
       "x52nd.week         float64\n",
       "x53rd.week         float64\n",
       "x54th.week         float64\n",
       "x55th.week         float64\n",
       "x56th.week         float64\n",
       "x57th.week         float64\n",
       "x58th.week         float64\n",
       "x59th.week         float64\n",
       "x60th.week         float64\n",
       "x61st.week         float64\n",
       "x62nd.week         float64\n",
       "x63rd.week         float64\n",
       "x64th.week         float64\n",
       "x65th.week         float64\n",
       "x66th.week         float64\n",
       "x67th.week         float64\n",
       "x68th.week         float64\n",
       "x69th.week         float64\n",
       "x70th.week         float64\n",
       "x71st.week         float64\n",
       "x72nd.week         float64\n",
       "x73rd.week         float64\n",
       "x74th.week         float64\n",
       "x75th.week         float64\n",
       "x76th.week         float64\n",
       "dtype: object"
      ]
     },
     "execution_count": 79,
     "metadata": {},
     "output_type": "execute_result"
    }
   ],
   "source": [
    "billboard.dtypes # determine datatypes of all the columns"
   ]
  },
  {
   "cell_type": "markdown",
   "metadata": {},
   "source": [
    "*Most of the columns are in fine order. Only a few issues are present"
   ]
  },
  {
   "cell_type": "code",
   "execution_count": null,
   "metadata": {
    "collapsed": false
   },
   "outputs": [],
   "source": [
    "billboard.head(2)"
   ]
  },
  {
   "cell_type": "code",
   "execution_count": null,
   "metadata": {
    "collapsed": false
   },
   "outputs": [],
   "source": [
    "billboard.tail(2)"
   ]
  },
  {
   "cell_type": "code",
   "execution_count": 91,
   "metadata": {
    "collapsed": false
   },
   "outputs": [
    {
     "data": {
      "text/plain": [
       "(317, 83)"
      ]
     },
     "execution_count": 91,
     "metadata": {},
     "output_type": "execute_result"
    }
   ],
   "source": [
    "billboard.shape"
   ]
  },
  {
   "cell_type": "code",
   "execution_count": null,
   "metadata": {
    "collapsed": false
   },
   "outputs": [],
   "source": [
    "pd.unique(billboard.year) # Count unique items in the year section of the array"
   ]
  },
  {
   "cell_type": "code",
   "execution_count": null,
   "metadata": {
    "collapsed": false
   },
   "outputs": [],
   "source": [
    "#len(pd.unique(billboard.track)) # Determine number of unique tracks (316)\n",
    "#len(pd.unique(billboard.genre)) # Determine unique genres (11)\n",
    "pd.unique(billboard.genre)      # R&B shows up twice (R&B and R&B\\n)\n",
    "#pd.unique(billboard.genre)      # Show names of unique genres\n",
    "\n",
    "#billboard.groupby(['genre', 'time'])['time'].count()"
   ]
  },
  {
   "cell_type": "code",
   "execution_count": null,
   "metadata": {
    "collapsed": false
   },
   "outputs": [],
   "source": [
    "pd.unique(billboard['date.peaked'])"
   ]
  },
  {
   "cell_type": "code",
   "execution_count": 81,
   "metadata": {
    "collapsed": false
   },
   "outputs": [],
   "source": [
    "sevsixrng = range(1,77)        # Create list of range from 1 - 76"
   ]
  },
  {
   "cell_type": "code",
   "execution_count": 82,
   "metadata": {
    "collapsed": false
   },
   "outputs": [
    {
     "data": {
      "text/html": [
       "<div>\n",
       "<table border=\"1\" class=\"dataframe\">\n",
       "  <thead>\n",
       "    <tr style=\"text-align: right;\">\n",
       "      <th></th>\n",
       "      <th>year</th>\n",
       "      <th>x1st.week</th>\n",
       "      <th>x2nd.week</th>\n",
       "      <th>x3rd.week</th>\n",
       "      <th>x4th.week</th>\n",
       "      <th>x5th.week</th>\n",
       "      <th>x6th.week</th>\n",
       "      <th>x7th.week</th>\n",
       "      <th>x8th.week</th>\n",
       "      <th>x9th.week</th>\n",
       "      <th>...</th>\n",
       "      <th>x67th.week</th>\n",
       "      <th>x68th.week</th>\n",
       "      <th>x69th.week</th>\n",
       "      <th>x70th.week</th>\n",
       "      <th>x71st.week</th>\n",
       "      <th>x72nd.week</th>\n",
       "      <th>x73rd.week</th>\n",
       "      <th>x74th.week</th>\n",
       "      <th>x75th.week</th>\n",
       "      <th>x76th.week</th>\n",
       "    </tr>\n",
       "  </thead>\n",
       "  <tbody>\n",
       "    <tr>\n",
       "      <th>count</th>\n",
       "      <td>317.0</td>\n",
       "      <td>317.000000</td>\n",
       "      <td>312.000000</td>\n",
       "      <td>307.000000</td>\n",
       "      <td>300.000000</td>\n",
       "      <td>292.000000</td>\n",
       "      <td>280.000000</td>\n",
       "      <td>269.000000</td>\n",
       "      <td>260.000000</td>\n",
       "      <td>253.000000</td>\n",
       "      <td>...</td>\n",
       "      <td>0.0</td>\n",
       "      <td>0.0</td>\n",
       "      <td>0.0</td>\n",
       "      <td>0.0</td>\n",
       "      <td>0.0</td>\n",
       "      <td>0.0</td>\n",
       "      <td>0.0</td>\n",
       "      <td>0.0</td>\n",
       "      <td>0.0</td>\n",
       "      <td>0.0</td>\n",
       "    </tr>\n",
       "    <tr>\n",
       "      <th>mean</th>\n",
       "      <td>2000.0</td>\n",
       "      <td>79.958991</td>\n",
       "      <td>71.173077</td>\n",
       "      <td>65.045603</td>\n",
       "      <td>59.763333</td>\n",
       "      <td>56.339041</td>\n",
       "      <td>52.360714</td>\n",
       "      <td>49.219331</td>\n",
       "      <td>47.119231</td>\n",
       "      <td>46.343874</td>\n",
       "      <td>...</td>\n",
       "      <td>NaN</td>\n",
       "      <td>NaN</td>\n",
       "      <td>NaN</td>\n",
       "      <td>NaN</td>\n",
       "      <td>NaN</td>\n",
       "      <td>NaN</td>\n",
       "      <td>NaN</td>\n",
       "      <td>NaN</td>\n",
       "      <td>NaN</td>\n",
       "      <td>NaN</td>\n",
       "    </tr>\n",
       "    <tr>\n",
       "      <th>std</th>\n",
       "      <td>0.0</td>\n",
       "      <td>14.686865</td>\n",
       "      <td>18.200443</td>\n",
       "      <td>20.752302</td>\n",
       "      <td>22.324619</td>\n",
       "      <td>23.780022</td>\n",
       "      <td>24.473273</td>\n",
       "      <td>25.654279</td>\n",
       "      <td>26.370782</td>\n",
       "      <td>27.136419</td>\n",
       "      <td>...</td>\n",
       "      <td>NaN</td>\n",
       "      <td>NaN</td>\n",
       "      <td>NaN</td>\n",
       "      <td>NaN</td>\n",
       "      <td>NaN</td>\n",
       "      <td>NaN</td>\n",
       "      <td>NaN</td>\n",
       "      <td>NaN</td>\n",
       "      <td>NaN</td>\n",
       "      <td>NaN</td>\n",
       "    </tr>\n",
       "    <tr>\n",
       "      <th>min</th>\n",
       "      <td>2000.0</td>\n",
       "      <td>15.000000</td>\n",
       "      <td>8.000000</td>\n",
       "      <td>6.000000</td>\n",
       "      <td>5.000000</td>\n",
       "      <td>2.000000</td>\n",
       "      <td>1.000000</td>\n",
       "      <td>1.000000</td>\n",
       "      <td>1.000000</td>\n",
       "      <td>1.000000</td>\n",
       "      <td>...</td>\n",
       "      <td>NaN</td>\n",
       "      <td>NaN</td>\n",
       "      <td>NaN</td>\n",
       "      <td>NaN</td>\n",
       "      <td>NaN</td>\n",
       "      <td>NaN</td>\n",
       "      <td>NaN</td>\n",
       "      <td>NaN</td>\n",
       "      <td>NaN</td>\n",
       "      <td>NaN</td>\n",
       "    </tr>\n",
       "    <tr>\n",
       "      <th>25%</th>\n",
       "      <td>2000.0</td>\n",
       "      <td>74.000000</td>\n",
       "      <td>63.000000</td>\n",
       "      <td>53.000000</td>\n",
       "      <td>44.750000</td>\n",
       "      <td>38.750000</td>\n",
       "      <td>33.750000</td>\n",
       "      <td>30.000000</td>\n",
       "      <td>27.000000</td>\n",
       "      <td>26.000000</td>\n",
       "      <td>...</td>\n",
       "      <td>NaN</td>\n",
       "      <td>NaN</td>\n",
       "      <td>NaN</td>\n",
       "      <td>NaN</td>\n",
       "      <td>NaN</td>\n",
       "      <td>NaN</td>\n",
       "      <td>NaN</td>\n",
       "      <td>NaN</td>\n",
       "      <td>NaN</td>\n",
       "      <td>NaN</td>\n",
       "    </tr>\n",
       "    <tr>\n",
       "      <th>50%</th>\n",
       "      <td>2000.0</td>\n",
       "      <td>81.000000</td>\n",
       "      <td>73.000000</td>\n",
       "      <td>66.000000</td>\n",
       "      <td>61.000000</td>\n",
       "      <td>57.000000</td>\n",
       "      <td>51.500000</td>\n",
       "      <td>47.000000</td>\n",
       "      <td>45.500000</td>\n",
       "      <td>42.000000</td>\n",
       "      <td>...</td>\n",
       "      <td>NaN</td>\n",
       "      <td>NaN</td>\n",
       "      <td>NaN</td>\n",
       "      <td>NaN</td>\n",
       "      <td>NaN</td>\n",
       "      <td>NaN</td>\n",
       "      <td>NaN</td>\n",
       "      <td>NaN</td>\n",
       "      <td>NaN</td>\n",
       "      <td>NaN</td>\n",
       "    </tr>\n",
       "    <tr>\n",
       "      <th>75%</th>\n",
       "      <td>2000.0</td>\n",
       "      <td>91.000000</td>\n",
       "      <td>84.000000</td>\n",
       "      <td>79.000000</td>\n",
       "      <td>76.000000</td>\n",
       "      <td>73.250000</td>\n",
       "      <td>72.250000</td>\n",
       "      <td>67.000000</td>\n",
       "      <td>67.000000</td>\n",
       "      <td>67.000000</td>\n",
       "      <td>...</td>\n",
       "      <td>NaN</td>\n",
       "      <td>NaN</td>\n",
       "      <td>NaN</td>\n",
       "      <td>NaN</td>\n",
       "      <td>NaN</td>\n",
       "      <td>NaN</td>\n",
       "      <td>NaN</td>\n",
       "      <td>NaN</td>\n",
       "      <td>NaN</td>\n",
       "      <td>NaN</td>\n",
       "    </tr>\n",
       "    <tr>\n",
       "      <th>max</th>\n",
       "      <td>2000.0</td>\n",
       "      <td>100.000000</td>\n",
       "      <td>100.000000</td>\n",
       "      <td>100.000000</td>\n",
       "      <td>100.000000</td>\n",
       "      <td>100.000000</td>\n",
       "      <td>99.000000</td>\n",
       "      <td>100.000000</td>\n",
       "      <td>99.000000</td>\n",
       "      <td>100.000000</td>\n",
       "      <td>...</td>\n",
       "      <td>NaN</td>\n",
       "      <td>NaN</td>\n",
       "      <td>NaN</td>\n",
       "      <td>NaN</td>\n",
       "      <td>NaN</td>\n",
       "      <td>NaN</td>\n",
       "      <td>NaN</td>\n",
       "      <td>NaN</td>\n",
       "      <td>NaN</td>\n",
       "      <td>NaN</td>\n",
       "    </tr>\n",
       "  </tbody>\n",
       "</table>\n",
       "<p>8 rows × 77 columns</p>\n",
       "</div>"
      ],
      "text/plain": [
       "         year   x1st.week   x2nd.week   x3rd.week   x4th.week   x5th.week  \\\n",
       "count   317.0  317.000000  312.000000  307.000000  300.000000  292.000000   \n",
       "mean   2000.0   79.958991   71.173077   65.045603   59.763333   56.339041   \n",
       "std       0.0   14.686865   18.200443   20.752302   22.324619   23.780022   \n",
       "min    2000.0   15.000000    8.000000    6.000000    5.000000    2.000000   \n",
       "25%    2000.0   74.000000   63.000000   53.000000   44.750000   38.750000   \n",
       "50%    2000.0   81.000000   73.000000   66.000000   61.000000   57.000000   \n",
       "75%    2000.0   91.000000   84.000000   79.000000   76.000000   73.250000   \n",
       "max    2000.0  100.000000  100.000000  100.000000  100.000000  100.000000   \n",
       "\n",
       "        x6th.week   x7th.week   x8th.week   x9th.week     ...      x67th.week  \\\n",
       "count  280.000000  269.000000  260.000000  253.000000     ...             0.0   \n",
       "mean    52.360714   49.219331   47.119231   46.343874     ...             NaN   \n",
       "std     24.473273   25.654279   26.370782   27.136419     ...             NaN   \n",
       "min      1.000000    1.000000    1.000000    1.000000     ...             NaN   \n",
       "25%     33.750000   30.000000   27.000000   26.000000     ...             NaN   \n",
       "50%     51.500000   47.000000   45.500000   42.000000     ...             NaN   \n",
       "75%     72.250000   67.000000   67.000000   67.000000     ...             NaN   \n",
       "max     99.000000  100.000000   99.000000  100.000000     ...             NaN   \n",
       "\n",
       "       x68th.week  x69th.week  x70th.week  x71st.week  x72nd.week  x73rd.week  \\\n",
       "count         0.0         0.0         0.0         0.0         0.0         0.0   \n",
       "mean          NaN         NaN         NaN         NaN         NaN         NaN   \n",
       "std           NaN         NaN         NaN         NaN         NaN         NaN   \n",
       "min           NaN         NaN         NaN         NaN         NaN         NaN   \n",
       "25%           NaN         NaN         NaN         NaN         NaN         NaN   \n",
       "50%           NaN         NaN         NaN         NaN         NaN         NaN   \n",
       "75%           NaN         NaN         NaN         NaN         NaN         NaN   \n",
       "max           NaN         NaN         NaN         NaN         NaN         NaN   \n",
       "\n",
       "       x74th.week  x75th.week  x76th.week  \n",
       "count         0.0         0.0         0.0  \n",
       "mean          NaN         NaN         NaN  \n",
       "std           NaN         NaN         NaN  \n",
       "min           NaN         NaN         NaN  \n",
       "25%           NaN         NaN         NaN  \n",
       "50%           NaN         NaN         NaN  \n",
       "75%           NaN         NaN         NaN  \n",
       "max           NaN         NaN         NaN  \n",
       "\n",
       "[8 rows x 77 columns]"
      ]
     },
     "execution_count": 82,
     "metadata": {},
     "output_type": "execute_result"
    }
   ],
   "source": [
    "# billboard['x2nd.week'].mean() #71.17307692307692\n",
    "\n",
    "billboard.describe()  # Find the mean for all the weeks present\n"
   ]
  },
  {
   "cell_type": "markdown",
   "metadata": {},
   "source": [
    "*From above it looks like there are many of the week columns that contain no values. Will need to confirm, and if that is the case then remove the associated items\n",
    "Additionally there seems to be an **increasing** mean in the beginning of the weeks columns along with a **larger** standard deviation. Likely meaning that some tracks are doing really well and others are not, causing there to be a large spread of the positions of the tracks as time goes on.*"
   ]
  },
  {
   "cell_type": "markdown",
   "metadata": {},
   "source": [
    "##### Create a data dictionary for the data set."
   ]
  },
  {
   "cell_type": "code",
   "execution_count": 83,
   "metadata": {
    "collapsed": false
   },
   "outputs": [
    {
     "data": {
      "text/html": [
       "<div>\n",
       "<table border=\"1\" class=\"dataframe\">\n",
       "  <thead>\n",
       "    <tr style=\"text-align: right;\">\n",
       "      <th></th>\n",
       "      <th>(1-76)weeks</th>\n",
       "      <th>artist.inverted</th>\n",
       "      <th>datadesc</th>\n",
       "      <th>dateentered</th>\n",
       "      <th>datepeaked</th>\n",
       "      <th>genre</th>\n",
       "      <th>time</th>\n",
       "      <th>track</th>\n",
       "      <th>year</th>\n",
       "    </tr>\n",
       "  </thead>\n",
       "  <tbody>\n",
       "    <tr>\n",
       "      <th>datepeaked</th>\n",
       "      <td>List of the position the song was on starting ...</td>\n",
       "      <td>Name of the artist, inverted</td>\n",
       "      <td>Billboard top tracks for the year 2000</td>\n",
       "      <td>Date the track was entered into Billboard</td>\n",
       "      <td>Date the Song Reached It's Highest Position on...</td>\n",
       "      <td>NaN</td>\n",
       "      <td>Length of track in minutes:seconds</td>\n",
       "      <td>Name of the track</td>\n",
       "      <td>The year the track was released</td>\n",
       "    </tr>\n",
       "    <tr>\n",
       "      <th>genre</th>\n",
       "      <td>List of the position the song was on starting ...</td>\n",
       "      <td>Name of the artist, inverted</td>\n",
       "      <td>Billboard top tracks for the year 2000</td>\n",
       "      <td>Date the track was entered into Billboard</td>\n",
       "      <td>Date the Song Reached It's Highest Position on...</td>\n",
       "      <td>NaN</td>\n",
       "      <td>Length of track in minutes:seconds</td>\n",
       "      <td>Name of the track</td>\n",
       "      <td>The year the track was released</td>\n",
       "    </tr>\n",
       "    <tr>\n",
       "      <th>(1-76)weeks</th>\n",
       "      <td>List of the position the song was on starting ...</td>\n",
       "      <td>Name of the artist, inverted</td>\n",
       "      <td>Billboard top tracks for the year 2000</td>\n",
       "      <td>Date the track was entered into Billboard</td>\n",
       "      <td>Date the Song Reached It's Highest Position on...</td>\n",
       "      <td>NaN</td>\n",
       "      <td>Length of track in minutes:seconds</td>\n",
       "      <td>Name of the track</td>\n",
       "      <td>The year the track was released</td>\n",
       "    </tr>\n",
       "    <tr>\n",
       "      <th>time</th>\n",
       "      <td>List of the position the song was on starting ...</td>\n",
       "      <td>Name of the artist, inverted</td>\n",
       "      <td>Billboard top tracks for the year 2000</td>\n",
       "      <td>Date the track was entered into Billboard</td>\n",
       "      <td>Date the Song Reached It's Highest Position on...</td>\n",
       "      <td>NaN</td>\n",
       "      <td>Length of track in minutes:seconds</td>\n",
       "      <td>Name of the track</td>\n",
       "      <td>The year the track was released</td>\n",
       "    </tr>\n",
       "    <tr>\n",
       "      <th>year</th>\n",
       "      <td>List of the position the song was on starting ...</td>\n",
       "      <td>Name of the artist, inverted</td>\n",
       "      <td>Billboard top tracks for the year 2000</td>\n",
       "      <td>Date the track was entered into Billboard</td>\n",
       "      <td>Date the Song Reached It's Highest Position on...</td>\n",
       "      <td>NaN</td>\n",
       "      <td>Length of track in minutes:seconds</td>\n",
       "      <td>Name of the track</td>\n",
       "      <td>The year the track was released</td>\n",
       "    </tr>\n",
       "    <tr>\n",
       "      <th>track</th>\n",
       "      <td>List of the position the song was on starting ...</td>\n",
       "      <td>Name of the artist, inverted</td>\n",
       "      <td>Billboard top tracks for the year 2000</td>\n",
       "      <td>Date the track was entered into Billboard</td>\n",
       "      <td>Date the Song Reached It's Highest Position on...</td>\n",
       "      <td>NaN</td>\n",
       "      <td>Length of track in minutes:seconds</td>\n",
       "      <td>Name of the track</td>\n",
       "      <td>The year the track was released</td>\n",
       "    </tr>\n",
       "    <tr>\n",
       "      <th>dateentered</th>\n",
       "      <td>List of the position the song was on starting ...</td>\n",
       "      <td>Name of the artist, inverted</td>\n",
       "      <td>Billboard top tracks for the year 2000</td>\n",
       "      <td>Date the track was entered into Billboard</td>\n",
       "      <td>Date the Song Reached It's Highest Position on...</td>\n",
       "      <td>NaN</td>\n",
       "      <td>Length of track in minutes:seconds</td>\n",
       "      <td>Name of the track</td>\n",
       "      <td>The year the track was released</td>\n",
       "    </tr>\n",
       "    <tr>\n",
       "      <th>datadesc</th>\n",
       "      <td>List of the position the song was on starting ...</td>\n",
       "      <td>Name of the artist, inverted</td>\n",
       "      <td>Billboard top tracks for the year 2000</td>\n",
       "      <td>Date the track was entered into Billboard</td>\n",
       "      <td>Date the Song Reached It's Highest Position on...</td>\n",
       "      <td>NaN</td>\n",
       "      <td>Length of track in minutes:seconds</td>\n",
       "      <td>Name of the track</td>\n",
       "      <td>The year the track was released</td>\n",
       "    </tr>\n",
       "    <tr>\n",
       "      <th>artist.inverted</th>\n",
       "      <td>List of the position the song was on starting ...</td>\n",
       "      <td>Name of the artist, inverted</td>\n",
       "      <td>Billboard top tracks for the year 2000</td>\n",
       "      <td>Date the track was entered into Billboard</td>\n",
       "      <td>Date the Song Reached It's Highest Position on...</td>\n",
       "      <td>NaN</td>\n",
       "      <td>Length of track in minutes:seconds</td>\n",
       "      <td>Name of the track</td>\n",
       "      <td>The year the track was released</td>\n",
       "    </tr>\n",
       "  </tbody>\n",
       "</table>\n",
       "</div>"
      ],
      "text/plain": [
       "                                                       (1-76)weeks  \\\n",
       "datepeaked       List of the position the song was on starting ...   \n",
       "genre            List of the position the song was on starting ...   \n",
       "(1-76)weeks      List of the position the song was on starting ...   \n",
       "time             List of the position the song was on starting ...   \n",
       "year             List of the position the song was on starting ...   \n",
       "track            List of the position the song was on starting ...   \n",
       "dateentered      List of the position the song was on starting ...   \n",
       "datadesc         List of the position the song was on starting ...   \n",
       "artist.inverted  List of the position the song was on starting ...   \n",
       "\n",
       "                              artist.inverted  \\\n",
       "datepeaked       Name of the artist, inverted   \n",
       "genre            Name of the artist, inverted   \n",
       "(1-76)weeks      Name of the artist, inverted   \n",
       "time             Name of the artist, inverted   \n",
       "year             Name of the artist, inverted   \n",
       "track            Name of the artist, inverted   \n",
       "dateentered      Name of the artist, inverted   \n",
       "datadesc         Name of the artist, inverted   \n",
       "artist.inverted  Name of the artist, inverted   \n",
       "\n",
       "                                               datadesc  \\\n",
       "datepeaked       Billboard top tracks for the year 2000   \n",
       "genre            Billboard top tracks for the year 2000   \n",
       "(1-76)weeks      Billboard top tracks for the year 2000   \n",
       "time             Billboard top tracks for the year 2000   \n",
       "year             Billboard top tracks for the year 2000   \n",
       "track            Billboard top tracks for the year 2000   \n",
       "dateentered      Billboard top tracks for the year 2000   \n",
       "datadesc         Billboard top tracks for the year 2000   \n",
       "artist.inverted  Billboard top tracks for the year 2000   \n",
       "\n",
       "                                               dateentered  \\\n",
       "datepeaked       Date the track was entered into Billboard   \n",
       "genre            Date the track was entered into Billboard   \n",
       "(1-76)weeks      Date the track was entered into Billboard   \n",
       "time             Date the track was entered into Billboard   \n",
       "year             Date the track was entered into Billboard   \n",
       "track            Date the track was entered into Billboard   \n",
       "dateentered      Date the track was entered into Billboard   \n",
       "datadesc         Date the track was entered into Billboard   \n",
       "artist.inverted  Date the track was entered into Billboard   \n",
       "\n",
       "                                                        datepeaked  genre  \\\n",
       "datepeaked       Date the Song Reached It's Highest Position on...    NaN   \n",
       "genre            Date the Song Reached It's Highest Position on...    NaN   \n",
       "(1-76)weeks      Date the Song Reached It's Highest Position on...    NaN   \n",
       "time             Date the Song Reached It's Highest Position on...    NaN   \n",
       "year             Date the Song Reached It's Highest Position on...    NaN   \n",
       "track            Date the Song Reached It's Highest Position on...    NaN   \n",
       "dateentered      Date the Song Reached It's Highest Position on...    NaN   \n",
       "datadesc         Date the Song Reached It's Highest Position on...    NaN   \n",
       "artist.inverted  Date the Song Reached It's Highest Position on...    NaN   \n",
       "\n",
       "                                               time              track  \\\n",
       "datepeaked       Length of track in minutes:seconds  Name of the track   \n",
       "genre            Length of track in minutes:seconds  Name of the track   \n",
       "(1-76)weeks      Length of track in minutes:seconds  Name of the track   \n",
       "time             Length of track in minutes:seconds  Name of the track   \n",
       "year             Length of track in minutes:seconds  Name of the track   \n",
       "track            Length of track in minutes:seconds  Name of the track   \n",
       "dateentered      Length of track in minutes:seconds  Name of the track   \n",
       "datadesc         Length of track in minutes:seconds  Name of the track   \n",
       "artist.inverted  Length of track in minutes:seconds  Name of the track   \n",
       "\n",
       "                                            year  \n",
       "datepeaked       The year the track was released  \n",
       "genre            The year the track was released  \n",
       "(1-76)weeks      The year the track was released  \n",
       "time             The year the track was released  \n",
       "year             The year the track was released  \n",
       "track            The year the track was released  \n",
       "dateentered      The year the track was released  \n",
       "datadesc         The year the track was released  \n",
       "artist.inverted  The year the track was released  "
      ]
     },
     "execution_count": 83,
     "metadata": {},
     "output_type": "execute_result"
    }
   ],
   "source": [
    "datadict = {\n",
    "    'datadesc' : 'Billboard top tracks for the year 2000',\n",
    "    'year' : 'The year the track was released',\n",
    "    'artist.inverted' : 'Name of the artist, inverted',\n",
    "    'track' : 'Name of the track',\n",
    "    'time' : 'Length of track in minutes:seconds',\n",
    "    'genre' : {\n",
    "        'Rock' : 'Rock and Roll',\n",
    "        'Latin' : 'Spanish language specific music',\n",
    "        'Country' : 'American Popular Music, Roots in Folk/Western',\n",
    "        'Rap' : 'Rythmn and Poetry',\n",
    "        'Electronica' : 'Electronic-Based (Synthesizer) Music',\n",
    "        'Jazz' : 'Swing Note/Improvisation Based Music',\n",
    "        'Reggae' : 'Music insipred by Mento and Calypso',\n",
    "        'Gospel' : 'Christian Music' \n",
    "              },\n",
    "    'dateentered' : 'Date the track was entered into Billboard',\n",
    "    'datepeaked' : 'Date the Song Reached It\\'s Highest Position on Billboard Chart',\n",
    "    '(1-76)weeks' : 'List of the position the song was on starting from the first week it was on the charts'\n",
    "}\n",
    "\n",
    "pd.DataFrame(datadict, index=datadict.keys())"
   ]
  },
  {
   "cell_type": "markdown",
   "metadata": {},
   "source": [
    "##### Write a brief description of your data, and any interesting observations you've made thus far. "
   ]
  },
  {
   "cell_type": "markdown",
   "metadata": {
    "collapsed": false
   },
   "source": [
    "The data is from the billboard music agency from the year 2000. It is not constrained to a single genre of music. The information about the music that is included includes the "
   ]
  },
  {
   "cell_type": "markdown",
   "metadata": {},
   "source": [
    "## Step 2: Clean your data."
   ]
  },
  {
   "cell_type": "markdown",
   "metadata": {},
   "source": [
    "##### Do some rudimentary cleaning. Rename any columns that are poorly named, shorten any strings that may be too long, fill in any missing values. "
   ]
  },
  {
   "cell_type": "code",
   "execution_count": 88,
   "metadata": {
    "collapsed": false
   },
   "outputs": [
    {
     "data": {
      "text/html": [
       "<div>\n",
       "<table border=\"1\" class=\"dataframe\">\n",
       "  <thead>\n",
       "    <tr style=\"text-align: right;\">\n",
       "      <th></th>\n",
       "      <th>year</th>\n",
       "      <th>artistinverted</th>\n",
       "      <th>track</th>\n",
       "      <th>time</th>\n",
       "      <th>genre</th>\n",
       "      <th>dateentered</th>\n",
       "      <th>datepeaked</th>\n",
       "      <th>1stweek</th>\n",
       "      <th>2ndweek</th>\n",
       "      <th>3rdweek</th>\n",
       "      <th>...</th>\n",
       "      <th>67thweek</th>\n",
       "      <th>68thweek</th>\n",
       "      <th>69thweek</th>\n",
       "      <th>70thweek</th>\n",
       "      <th>71stweek</th>\n",
       "      <th>72ndweek</th>\n",
       "      <th>73rdweek</th>\n",
       "      <th>74thweek</th>\n",
       "      <th>75thweek</th>\n",
       "      <th>76thweek</th>\n",
       "    </tr>\n",
       "  </thead>\n",
       "  <tbody>\n",
       "    <tr>\n",
       "      <th>0</th>\n",
       "      <td>2000</td>\n",
       "      <td>Destiny's Child</td>\n",
       "      <td>Independent Women Part I</td>\n",
       "      <td>3:38</td>\n",
       "      <td>Rock</td>\n",
       "      <td>2000-09-23</td>\n",
       "      <td>2000-11-18</td>\n",
       "      <td>78</td>\n",
       "      <td>63.0</td>\n",
       "      <td>49.0</td>\n",
       "      <td>...</td>\n",
       "      <td>NaN</td>\n",
       "      <td>NaN</td>\n",
       "      <td>NaN</td>\n",
       "      <td>NaN</td>\n",
       "      <td>NaN</td>\n",
       "      <td>NaN</td>\n",
       "      <td>NaN</td>\n",
       "      <td>NaN</td>\n",
       "      <td>NaN</td>\n",
       "      <td>NaN</td>\n",
       "    </tr>\n",
       "  </tbody>\n",
       "</table>\n",
       "<p>1 rows × 83 columns</p>\n",
       "</div>"
      ],
      "text/plain": [
       "   year   artistinverted                     track  time genre dateentered  \\\n",
       "0  2000  Destiny's Child  Independent Women Part I  3:38  Rock  2000-09-23   \n",
       "\n",
       "   datepeaked  1stweek  2ndweek  3rdweek    ...     67thweek  68thweek  \\\n",
       "0  2000-11-18       78     63.0     49.0    ...          NaN       NaN   \n",
       "\n",
       "   69thweek  70thweek  71stweek  72ndweek  73rdweek  74thweek  75thweek  \\\n",
       "0       NaN       NaN       NaN       NaN       NaN       NaN       NaN   \n",
       "\n",
       "   76thweek  \n",
       "0       NaN  \n",
       "\n",
       "[1 rows x 83 columns]"
      ]
     },
     "execution_count": 88,
     "metadata": {},
     "output_type": "execute_result"
    }
   ],
   "source": [
    "columns = billboard.columns\n",
    "\n",
    "for col in columns: # go through all the column names\n",
    "    if any([char in col for char in ['$','&','%','#','.','x']]):\n",
    "        newcol = ''.join([char for char in col if x not in ['$','&','%','#','.','x']])\n",
    "        billboard.rename(columns={col:newcol}, inplace=True)\n",
    "\n",
    "billboard.head(1)"
   ]
  },
  {
   "cell_type": "code",
   "execution_count": 86,
   "metadata": {
    "collapsed": false
   },
   "outputs": [
    {
     "data": {
      "text/plain": [
       "array(['Rock', 'Latin', 'Country', 'Rap', 'Pop', 'Electronica', 'Jazz',\n",
       "       'R&B', 'R&B\\n', 'Reggae', 'Gospel'], dtype=object)"
      ]
     },
     "execution_count": 86,
     "metadata": {},
     "output_type": "execute_result"
    }
   ],
   "source": [
    "pd.unique(billboard['genre'])"
   ]
  },
  {
   "cell_type": "markdown",
   "metadata": {},
   "source": [
    "*The genre chart had two instances of R&B, one with a '\\n' and one without. Will need to replace that value with the proper R&B, other than that there was no major issue with the genre of the music*\n",
    "\n",
    "*Following step should be to drop all of the columns that contain no data in them, or are filled exclusively with Not a Number values*"
   ]
  },
  {
   "cell_type": "code",
   "execution_count": 92,
   "metadata": {
    "collapsed": false
   },
   "outputs": [
    {
     "data": {
      "text/plain": [
       "(317, 72)"
      ]
     },
     "execution_count": 92,
     "metadata": {},
     "output_type": "execute_result"
    }
   ],
   "source": [
    "billboard = billboard.dropna(axis=1,how='all') # drop all columns that contain exclusively 'NaN' values\n",
    "\n",
    "billboard.shape # assess new shape from original of (317, 83)"
   ]
  },
  {
   "cell_type": "markdown",
   "metadata": {},
   "source": [
    "*11 columns were dropped from the original dataframe*"
   ]
  },
  {
   "cell_type": "code",
   "execution_count": null,
   "metadata": {
    "collapsed": true
   },
   "outputs": [],
   "source": [
    "billboard[billboard['genre'] == 'R&B\\n'] = billboard[billboard['genre'] == 'R&B']"
   ]
  },
  {
   "cell_type": "code",
   "execution_count": null,
   "metadata": {
    "collapsed": true
   },
   "outputs": [],
   "source": []
  },
  {
   "cell_type": "code",
   "execution_count": null,
   "metadata": {
    "collapsed": true
   },
   "outputs": [],
   "source": []
  },
  {
   "cell_type": "code",
   "execution_count": null,
   "metadata": {
    "collapsed": false
   },
   "outputs": [],
   "source": [
    "genre_counts = pd.value_counts(billboard['genre']) # Create DF of genre counts"
   ]
  },
  {
   "cell_type": "markdown",
   "metadata": {},
   "source": [
    "*In order to investigate the different time distributions have to convert the string into an integer. Could do by splitting the item on the colon, then multiplying the first item by 60. Could also index the string.*"
   ]
  },
  {
   "cell_type": "code",
   "execution_count": 93,
   "metadata": {
    "collapsed": false
   },
   "outputs": [],
   "source": [
    "st = '8:45'\n",
    "\n",
    "def min_sec(st):\n",
    "    '''Takes string expressing minutes and converts it to seconds as integers'''\n",
    "    return int(st[:-3:1])* 60 + int(st[-2:]) # multiply minutes by 60, then add seconds"
   ]
  },
  {
   "cell_type": "markdown",
   "metadata": {},
   "source": [
    "*After function was written it needs to be applied to the time column on the dataframe while preserving the rest of the dataframe*"
   ]
  },
  {
   "cell_type": "code",
   "execution_count": 94,
   "metadata": {
    "collapsed": false
   },
   "outputs": [],
   "source": [
    "billboard['time'] = billboard['time'].apply(min_sec) # convert time to seconds"
   ]
  },
  {
   "cell_type": "markdown",
   "metadata": {},
   "source": [
    "##### Using Pandas' built in `melt` function, pivot the weekly ranking data to be long rather than wide. As a result, you will have removed the 72 'week' columns and replace it with two: Week and Ranking. There will now be multiple entries for each song, one for each week on the Billboard rankings."
   ]
  },
  {
   "cell_type": "code",
   "execution_count": null,
   "metadata": {
    "collapsed": false
   },
   "outputs": [],
   "source": [
    "id_vars=\n",
    "\n",
    "pd.melt?(billboard,\n",
    "         id_vars=\n",
    "         value_vars=,\n",
    "         var_name=\n",
    "         value_name='weeks'\n",
    ")"
   ]
  },
  {
   "cell_type": "markdown",
   "metadata": {},
   "source": [
    "## Step 3: Visualize your data."
   ]
  },
  {
   "cell_type": "markdown",
   "metadata": {},
   "source": [
    "##### Using a plotting utility of your choice, create visualizations that will provide context to your data. There is no minimum or maximum number of graphs you should generate, but there should be a clear and consistent story being told. Give insights to the distribution, statistics, and relationships of the data. "
   ]
  },
  {
   "cell_type": "code",
   "execution_count": null,
   "metadata": {
    "collapsed": false
   },
   "outputs": [],
   "source": [
    "genre_counts.plot.bar()"
   ]
  },
  {
   "cell_type": "code",
   "execution_count": null,
   "metadata": {
    "collapsed": false
   },
   "outputs": [],
   "source": [
    "sns.distplot(billboard.time)"
   ]
  },
  {
   "cell_type": "code",
   "execution_count": 96,
   "metadata": {
    "collapsed": false
   },
   "outputs": [
    {
     "data": {
      "image/png": "[encoded data removed]",
      "text/plain": [
       "<matplotlib.figure.Figure at 0x11b68a1d0>"
      ]
     },
     "metadata": {},
     "output_type": "display_data"
    }
   ],
   "source": [
    "rock_times = billboard.time[billboard['genre'] =='Rock']\n",
    "country_times = billboard.time[billboard['genre'] =='Country']\n",
    "rap_times = billboard.time[billboard['genre'] == 'Rap']\n",
    "\n",
    "sns.distplot(rock_times)\n",
    "sns.distplot(country_times)\n",
    "sns.distplot(rap_times)\n",
    "\n",
    "sns.despine()"
   ]
  },
  {
   "cell_type": "markdown",
   "metadata": {},
   "source": [
    "## Step 4: Create a Problem Statement.\n",
    "\n",
    "##### Having explored the data, come up with a problem statement for this data set. You can feel free to introduce data from any other source to support your problem statement, just be sure to provide a link to the origin of the data. Once again- be creative!"
   ]
  },
  {
   "cell_type": "code",
   "execution_count": null,
   "metadata": {
    "collapsed": true
   },
   "outputs": [],
   "source": []
  },
  {
   "cell_type": "markdown",
   "metadata": {
    "collapsed": false
   },
   "source": [
    "## Step 5: Brainstorm your Approach.\n",
    "##### In bullet-list form, provide a proposed approach for evaluating your problem statement. This can be somewhat high-level, but start to think about ways you can massage the data for maximum efficacy. "
   ]
  },
  {
   "cell_type": "code",
   "execution_count": null,
   "metadata": {
    "collapsed": true
   },
   "outputs": [],
   "source": []
  },
  {
   "cell_type": "markdown",
   "metadata": {
    "collapsed": true
   },
   "source": [
    "## Step 6: Create a blog post with your code snippets and visualizations.\n",
    "##### Data Science is a growing field, and the Tech industry thrives off of collaboration and sharing of knowledge. Blogging is a powerful means for pushing the needle forward in our field. Using your blogging platform of choice, create a post describing each of the 5 steps above. Rather than writing a procedural text, imagine you're describing the data, visualizations, and conclusions you've arrived at to your peers. Aim for roughly 800-1,000 words. "
   ]
  },
  {
   "cell_type": "code",
   "execution_count": null,
   "metadata": {
    "collapsed": false
   },
   "outputs": [],
   "source": []
  },
  {
   "cell_type": "markdown",
   "metadata": {},
   "source": [
    "## BONUS: The Content Managers working for the Podcast Publishing Company have recognized you as a thought leader in your field. They've asked you to pen a white paper (minimum 600 words) on the subject of 'What It Means To Have Clean Data'. This will be an opinion piece read by a wide audience, so be sure to back up your statements with real world examples or scenarios.\n",
    "\n",
    "##### Hint: To get started, look around on the internet for articles, blog posts, papers, youtube videos, podcasts, reddit discussions, anything that will help you understand the challenges and implications of dealing with big data. This should be a personal reflection on everything you've learned this week, and the learning goals that have been set out for you going forward. "
   ]
  },
  {
   "cell_type": "markdown",
   "metadata": {
    "collapsed": true
   },
   "source": [
    "[UCLA - Data Cleaning 101](http://www.ats.ucla.edu/stat/sas/library/nesug99/ss123.pdf)  \n",
    "[Data Cleaning Problems and Current Approach](http://betterevaluation.org/sites/default/files/data_cleaning.pdf)  \n",
    "[Data Cleaning: Detecting, Diagnosing, and Editing Data Abnormalities](http://www.ncbi.nlm.nih.gov/pmc/articles/PMC1198040/pdf/pmed.0020267.pdf)  \n",
    "[Microsoft - Data Cleaning](http://research.microsoft.com/en-us/projects/datacleaning/)  \n",
    "[Panda Chapter 2 - Data Cleaning](http://www.tulane.edu/~panda2/Analysis2/datclean/dataclean.htm)  \n",
    "[StatsSoft Data Mining, Data Cleaning & Outliers](https://www.youtube.com/watch?v=06jBp-vfqqs)"
   ]
  },
  {
   "cell_type": "markdown",
   "metadata": {},
   "source": [
    "# From Dirty to Clean\n",
    "## The Importance of Clean Data in Analysis\n",
    "\n",
    "\n",
    "### Introduction\n",
    "\n",
    "Data collection has improved substantially over the past decade. Unfortunately this data is largely fragmented. Many different organizations have different methods of organizing and categorizing their data. \n",
    "\n",
    "In order to present data that is acceptable for analysis and presentation organizations must have an internal documented process for the collection and standardization of their data. If that is not present, then when looking at the data care must be preserved to remove unreliable data, and convert data from multiple sources into a clean consistent format\n",
    "\n",
    "### Background\n",
    "\n",
    "\n",
    "\n",
    "### Solution\n",
    "\n",
    "Through the "
   ]
  }
 ],
 "metadata": {
  "kernelspec": {
   "display_name": "Python 2",
   "language": "python",
   "name": "python2"
  },
  "language_info": {
   "codemirror_mode": {
    "name": "ipython",
    "version": 2
   },
   "file_extension": ".py",
   "mimetype": "text/x-python",
   "name": "python",
   "nbconvert_exporter": "python",
   "pygments_lexer": "ipython2",
   "version": "2.7.11"
  }
 },
 "nbformat": 4,
 "nbformat_minor": 0
}
