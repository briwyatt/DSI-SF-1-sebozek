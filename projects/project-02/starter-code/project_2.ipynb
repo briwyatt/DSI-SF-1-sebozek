{
 "cells": [
  {
   "cell_type": "code",
   "execution_count": 4,
   "metadata": {
    "collapsed": false
   },
   "outputs": [
    {
     "name": "stdout",
     "output_type": "stream",
     "text": [
      "Hello World\n"
     ]
    }
   ],
   "source": [
    "print \"Hello World\" # Kill the whitespace effect"
   ]
  },
  {
   "cell_type": "code",
   "execution_count": 5,
   "metadata": {
    "collapsed": false
   },
   "outputs": [],
   "source": [
    "import numpy as np\n",
    "import pandas as pd\n",
    "import matplotlib as mpl\n",
    "import matplotlib.pyplot as plt\n",
    "import seaborn as sns\n",
    "\n",
    "%matplotlib inline\n",
    "\n",
    "sns.set(style=\"white\",rc={\"figure.figsize\":(8, 8)})\n"
   ]
  },
  {
   "cell_type": "markdown",
   "metadata": {},
   "source": [
    "# Project 2\n",
    "## Step 1: Exploring your data.\n",
    "\n",
    "##### Load your data in using Pandas and start to explore. Save all of your early exploration code here and include in your final submission."
   ]
  },
  {
   "cell_type": "code",
   "execution_count": 6,
   "metadata": {
    "collapsed": false
   },
   "outputs": [],
   "source": [
    "billboard = pd.read_csv('../assets/billboard.csv') # read in the csv"
   ]
  },
  {
   "cell_type": "code",
   "execution_count": 7,
   "metadata": {
    "collapsed": false,
    "scrolled": true
   },
   "outputs": [
    {
     "data": {
      "text/plain": [
       "year                 int64\n",
       "artist.inverted     object\n",
       "track               object\n",
       "time                object\n",
       "genre               object\n",
       "date.entered        object\n",
       "date.peaked         object\n",
       "x1st.week            int64\n",
       "x2nd.week          float64\n",
       "x3rd.week          float64\n",
       "x4th.week          float64\n",
       "x5th.week          float64\n",
       "x6th.week          float64\n",
       "x7th.week          float64\n",
       "x8th.week          float64\n",
       "x9th.week          float64\n",
       "x10th.week         float64\n",
       "x11th.week         float64\n",
       "x12th.week         float64\n",
       "x13th.wek          float64\n",
       "x14th.week         float64\n",
       "x15th.week         float64\n",
       "x16th.week         float64\n",
       "x17th.week         float64\n",
       "x18th.week         float64\n",
       "x19th.week         float64\n",
       "x20th.week         float64\n",
       "x21st.week         float64\n",
       "x22nd.week         float64\n",
       "x23rd.week         float64\n",
       "                    ...   \n",
       "x47th.week         float64\n",
       "x48th.week         float64\n",
       "x49th.week         float64\n",
       "x50th.week         float64\n",
       "x51st.week         float64\n",
       "x52nd.week         float64\n",
       "x53rd.week         float64\n",
       "x54th.week         float64\n",
       "x55th.week         float64\n",
       "x56th.week         float64\n",
       "x57th.week         float64\n",
       "x58th.week         float64\n",
       "x59th.week         float64\n",
       "x60th.week         float64\n",
       "x61st.week         float64\n",
       "x62nd.week         float64\n",
       "x63rd.week         float64\n",
       "x64th.week         float64\n",
       "x65th.week         float64\n",
       "x66th.week         float64\n",
       "x67th.week         float64\n",
       "x68th.week         float64\n",
       "x69th.week         float64\n",
       "x70th.week         float64\n",
       "x71st.week         float64\n",
       "x72nd.week         float64\n",
       "x73rd.week         float64\n",
       "x74th.week         float64\n",
       "x75th.week         float64\n",
       "x76th.week         float64\n",
       "dtype: object"
      ]
     },
     "execution_count": 7,
     "metadata": {},
     "output_type": "execute_result"
    }
   ],
   "source": [
    "billboard.dtypes # determine datatypes of all the columns"
   ]
  },
  {
   "cell_type": "markdown",
   "metadata": {},
   "source": [
    "*Most of the columns are in fine order. Only a few issues are present"
   ]
  },
  {
   "cell_type": "code",
   "execution_count": 8,
   "metadata": {
    "collapsed": false
   },
   "outputs": [
    {
     "data": {
      "text/html": [
       "<div>\n",
       "<table border=\"1\" class=\"dataframe\">\n",
       "  <thead>\n",
       "    <tr style=\"text-align: right;\">\n",
       "      <th></th>\n",
       "      <th>year</th>\n",
       "      <th>artist.inverted</th>\n",
       "      <th>track</th>\n",
       "      <th>time</th>\n",
       "      <th>genre</th>\n",
       "      <th>date.entered</th>\n",
       "      <th>date.peaked</th>\n",
       "      <th>x1st.week</th>\n",
       "      <th>x2nd.week</th>\n",
       "      <th>x3rd.week</th>\n",
       "      <th>...</th>\n",
       "      <th>x67th.week</th>\n",
       "      <th>x68th.week</th>\n",
       "      <th>x69th.week</th>\n",
       "      <th>x70th.week</th>\n",
       "      <th>x71st.week</th>\n",
       "      <th>x72nd.week</th>\n",
       "      <th>x73rd.week</th>\n",
       "      <th>x74th.week</th>\n",
       "      <th>x75th.week</th>\n",
       "      <th>x76th.week</th>\n",
       "    </tr>\n",
       "  </thead>\n",
       "  <tbody>\n",
       "    <tr>\n",
       "      <th>0</th>\n",
       "      <td>2000</td>\n",
       "      <td>Destiny's Child</td>\n",
       "      <td>Independent Women Part I</td>\n",
       "      <td>3:38</td>\n",
       "      <td>Rock</td>\n",
       "      <td>2000-09-23</td>\n",
       "      <td>2000-11-18</td>\n",
       "      <td>78</td>\n",
       "      <td>63.0</td>\n",
       "      <td>49.0</td>\n",
       "      <td>...</td>\n",
       "      <td>NaN</td>\n",
       "      <td>NaN</td>\n",
       "      <td>NaN</td>\n",
       "      <td>NaN</td>\n",
       "      <td>NaN</td>\n",
       "      <td>NaN</td>\n",
       "      <td>NaN</td>\n",
       "      <td>NaN</td>\n",
       "      <td>NaN</td>\n",
       "      <td>NaN</td>\n",
       "    </tr>\n",
       "    <tr>\n",
       "      <th>1</th>\n",
       "      <td>2000</td>\n",
       "      <td>Santana</td>\n",
       "      <td>Maria, Maria</td>\n",
       "      <td>4:18</td>\n",
       "      <td>Rock</td>\n",
       "      <td>2000-02-12</td>\n",
       "      <td>2000-04-08</td>\n",
       "      <td>15</td>\n",
       "      <td>8.0</td>\n",
       "      <td>6.0</td>\n",
       "      <td>...</td>\n",
       "      <td>NaN</td>\n",
       "      <td>NaN</td>\n",
       "      <td>NaN</td>\n",
       "      <td>NaN</td>\n",
       "      <td>NaN</td>\n",
       "      <td>NaN</td>\n",
       "      <td>NaN</td>\n",
       "      <td>NaN</td>\n",
       "      <td>NaN</td>\n",
       "      <td>NaN</td>\n",
       "    </tr>\n",
       "  </tbody>\n",
       "</table>\n",
       "<p>2 rows × 83 columns</p>\n",
       "</div>"
      ],
      "text/plain": [
       "   year  artist.inverted                     track  time genre date.entered  \\\n",
       "0  2000  Destiny's Child  Independent Women Part I  3:38  Rock   2000-09-23   \n",
       "1  2000          Santana              Maria, Maria  4:18  Rock   2000-02-12   \n",
       "\n",
       "  date.peaked  x1st.week  x2nd.week  x3rd.week     ...      x67th.week  \\\n",
       "0  2000-11-18         78       63.0       49.0     ...             NaN   \n",
       "1  2000-04-08         15        8.0        6.0     ...             NaN   \n",
       "\n",
       "   x68th.week  x69th.week  x70th.week  x71st.week  x72nd.week  x73rd.week  \\\n",
       "0         NaN         NaN         NaN         NaN         NaN         NaN   \n",
       "1         NaN         NaN         NaN         NaN         NaN         NaN   \n",
       "\n",
       "   x74th.week  x75th.week  x76th.week  \n",
       "0         NaN         NaN         NaN  \n",
       "1         NaN         NaN         NaN  \n",
       "\n",
       "[2 rows x 83 columns]"
      ]
     },
     "execution_count": 8,
     "metadata": {},
     "output_type": "execute_result"
    }
   ],
   "source": [
    "billboard.head(2)"
   ]
  },
  {
   "cell_type": "code",
   "execution_count": 9,
   "metadata": {
    "collapsed": false
   },
   "outputs": [
    {
     "data": {
      "text/html": [
       "<div>\n",
       "<table border=\"1\" class=\"dataframe\">\n",
       "  <thead>\n",
       "    <tr style=\"text-align: right;\">\n",
       "      <th></th>\n",
       "      <th>year</th>\n",
       "      <th>artist.inverted</th>\n",
       "      <th>track</th>\n",
       "      <th>time</th>\n",
       "      <th>genre</th>\n",
       "      <th>date.entered</th>\n",
       "      <th>date.peaked</th>\n",
       "      <th>x1st.week</th>\n",
       "      <th>x2nd.week</th>\n",
       "      <th>x3rd.week</th>\n",
       "      <th>...</th>\n",
       "      <th>x67th.week</th>\n",
       "      <th>x68th.week</th>\n",
       "      <th>x69th.week</th>\n",
       "      <th>x70th.week</th>\n",
       "      <th>x71st.week</th>\n",
       "      <th>x72nd.week</th>\n",
       "      <th>x73rd.week</th>\n",
       "      <th>x74th.week</th>\n",
       "      <th>x75th.week</th>\n",
       "      <th>x76th.week</th>\n",
       "    </tr>\n",
       "  </thead>\n",
       "  <tbody>\n",
       "    <tr>\n",
       "      <th>315</th>\n",
       "      <td>2000</td>\n",
       "      <td>Eastsidaz, The</td>\n",
       "      <td>Got Beef</td>\n",
       "      <td>3:58</td>\n",
       "      <td>Rap</td>\n",
       "      <td>2000-07-01</td>\n",
       "      <td>2000-07-01</td>\n",
       "      <td>99</td>\n",
       "      <td>99.0</td>\n",
       "      <td>NaN</td>\n",
       "      <td>...</td>\n",
       "      <td>NaN</td>\n",
       "      <td>NaN</td>\n",
       "      <td>NaN</td>\n",
       "      <td>NaN</td>\n",
       "      <td>NaN</td>\n",
       "      <td>NaN</td>\n",
       "      <td>NaN</td>\n",
       "      <td>NaN</td>\n",
       "      <td>NaN</td>\n",
       "      <td>NaN</td>\n",
       "    </tr>\n",
       "    <tr>\n",
       "      <th>316</th>\n",
       "      <td>2000</td>\n",
       "      <td>Fragma</td>\n",
       "      <td>Toca's Miracle</td>\n",
       "      <td>3:22</td>\n",
       "      <td>R&amp;B</td>\n",
       "      <td>2000-10-28</td>\n",
       "      <td>2000-10-28</td>\n",
       "      <td>99</td>\n",
       "      <td>NaN</td>\n",
       "      <td>NaN</td>\n",
       "      <td>...</td>\n",
       "      <td>NaN</td>\n",
       "      <td>NaN</td>\n",
       "      <td>NaN</td>\n",
       "      <td>NaN</td>\n",
       "      <td>NaN</td>\n",
       "      <td>NaN</td>\n",
       "      <td>NaN</td>\n",
       "      <td>NaN</td>\n",
       "      <td>NaN</td>\n",
       "      <td>NaN</td>\n",
       "    </tr>\n",
       "  </tbody>\n",
       "</table>\n",
       "<p>2 rows × 83 columns</p>\n",
       "</div>"
      ],
      "text/plain": [
       "     year artist.inverted           track  time genre date.entered  \\\n",
       "315  2000  Eastsidaz, The        Got Beef  3:58   Rap   2000-07-01   \n",
       "316  2000          Fragma  Toca's Miracle  3:22   R&B   2000-10-28   \n",
       "\n",
       "    date.peaked  x1st.week  x2nd.week  x3rd.week     ...      x67th.week  \\\n",
       "315  2000-07-01         99       99.0        NaN     ...             NaN   \n",
       "316  2000-10-28         99        NaN        NaN     ...             NaN   \n",
       "\n",
       "     x68th.week  x69th.week  x70th.week  x71st.week  x72nd.week  x73rd.week  \\\n",
       "315         NaN         NaN         NaN         NaN         NaN         NaN   \n",
       "316         NaN         NaN         NaN         NaN         NaN         NaN   \n",
       "\n",
       "     x74th.week  x75th.week  x76th.week  \n",
       "315         NaN         NaN         NaN  \n",
       "316         NaN         NaN         NaN  \n",
       "\n",
       "[2 rows x 83 columns]"
      ]
     },
     "execution_count": 9,
     "metadata": {},
     "output_type": "execute_result"
    }
   ],
   "source": [
    "billboard.tail(2)"
   ]
  },
  {
   "cell_type": "code",
   "execution_count": 10,
   "metadata": {
    "collapsed": false
   },
   "outputs": [
    {
     "data": {
      "text/plain": [
       "(317, 83)"
      ]
     },
     "execution_count": 10,
     "metadata": {},
     "output_type": "execute_result"
    }
   ],
   "source": [
    "billboard.shape"
   ]
  },
  {
   "cell_type": "code",
   "execution_count": 11,
   "metadata": {
    "collapsed": false
   },
   "outputs": [
    {
     "data": {
      "text/plain": [
       "array([2000])"
      ]
     },
     "execution_count": 11,
     "metadata": {},
     "output_type": "execute_result"
    }
   ],
   "source": [
    "pd.unique(billboard.year) # Count unique items in the year section of the array"
   ]
  },
  {
   "cell_type": "code",
   "execution_count": 12,
   "metadata": {
    "collapsed": false
   },
   "outputs": [
    {
     "data": {
      "text/plain": [
       "array(['Rock', 'Latin', 'Country', 'Rap', 'Pop', 'Electronica', 'Jazz',\n",
       "       'R&B', 'R&B\\n', 'Reggae', 'Gospel'], dtype=object)"
      ]
     },
     "execution_count": 12,
     "metadata": {},
     "output_type": "execute_result"
    }
   ],
   "source": [
    "#len(pd.unique(billboard.track)) # Determine number of unique tracks (316)\n",
    "#len(pd.unique(billboard.genre)) # Determine unique genres (11)\n",
    "pd.unique(billboard.genre)      # R&B shows up twice (R&B and R&B\\n)\n",
    "#pd.unique(billboard.genre)      # Show names of unique genres\n",
    "\n",
    "#billboard.groupby(['genre', 'time'])['time'].count()"
   ]
  },
  {
   "cell_type": "code",
   "execution_count": 13,
   "metadata": {
    "collapsed": false
   },
   "outputs": [
    {
     "data": {
      "text/plain": [
       "array(['2000-11-18', '2000-04-08', '2000-01-29', '2000-09-16',\n",
       "       '2000-10-14', '2000-08-26', '2000-03-18', '2000-06-24',\n",
       "       '2000-08-12', '2000-03-04', '2000-07-29', '2000-01-15',\n",
       "       '2000-07-15', '2000-11-11', '2000-06-17', '2000-07-22',\n",
       "       '2000-02-19', '2000-04-22', '2000-12-02', '2000-12-30',\n",
       "       '2000-05-06', '2000-06-03', '2000-09-30', '2000-08-19',\n",
       "       '2000-05-20', '2000-07-01', nan, '2000-02-12', '2000-04-15',\n",
       "       '2000-11-25', '2000-12-09', '2000-01-22', '2000-01-08',\n",
       "       '2000-09-02', '2000-10-07', '2000-09-09', '2000-06-10',\n",
       "       '2000-02-05', '2000-10-28', '2000-02-26', '2000-04-01',\n",
       "       '2000-05-27', '2000-07-08', '2000-01-01', '2000-05-13',\n",
       "       '2000-12-16', '2000-11-04', '2000-03-25', '2000-12-23',\n",
       "       '2000-10-21', '2000-09-23', '2000-08-05', '2000-03-11', '2000-04-29'], dtype=object)"
      ]
     },
     "execution_count": 13,
     "metadata": {},
     "output_type": "execute_result"
    }
   ],
   "source": [
    "pd.unique(billboard['date.peaked'])"
   ]
  },
  {
   "cell_type": "code",
   "execution_count": 14,
   "metadata": {
    "collapsed": false
   },
   "outputs": [],
   "source": [
    "sevsixrng = range(1,77)        # Create list of range from 1 - 76"
   ]
  },
  {
   "cell_type": "code",
   "execution_count": 15,
   "metadata": {
    "collapsed": false
   },
   "outputs": [
    {
     "data": {
      "text/html": [
       "<div>\n",
       "<table border=\"1\" class=\"dataframe\">\n",
       "  <thead>\n",
       "    <tr style=\"text-align: right;\">\n",
       "      <th></th>\n",
       "      <th>year</th>\n",
       "      <th>x1st.week</th>\n",
       "      <th>x2nd.week</th>\n",
       "      <th>x3rd.week</th>\n",
       "      <th>x4th.week</th>\n",
       "      <th>x5th.week</th>\n",
       "      <th>x6th.week</th>\n",
       "      <th>x7th.week</th>\n",
       "      <th>x8th.week</th>\n",
       "      <th>x9th.week</th>\n",
       "      <th>...</th>\n",
       "      <th>x67th.week</th>\n",
       "      <th>x68th.week</th>\n",
       "      <th>x69th.week</th>\n",
       "      <th>x70th.week</th>\n",
       "      <th>x71st.week</th>\n",
       "      <th>x72nd.week</th>\n",
       "      <th>x73rd.week</th>\n",
       "      <th>x74th.week</th>\n",
       "      <th>x75th.week</th>\n",
       "      <th>x76th.week</th>\n",
       "    </tr>\n",
       "  </thead>\n",
       "  <tbody>\n",
       "    <tr>\n",
       "      <th>count</th>\n",
       "      <td>317.0</td>\n",
       "      <td>317.000000</td>\n",
       "      <td>312.000000</td>\n",
       "      <td>307.000000</td>\n",
       "      <td>300.000000</td>\n",
       "      <td>292.000000</td>\n",
       "      <td>280.000000</td>\n",
       "      <td>269.000000</td>\n",
       "      <td>260.000000</td>\n",
       "      <td>253.000000</td>\n",
       "      <td>...</td>\n",
       "      <td>0.0</td>\n",
       "      <td>0.0</td>\n",
       "      <td>0.0</td>\n",
       "      <td>0.0</td>\n",
       "      <td>0.0</td>\n",
       "      <td>0.0</td>\n",
       "      <td>0.0</td>\n",
       "      <td>0.0</td>\n",
       "      <td>0.0</td>\n",
       "      <td>0.0</td>\n",
       "    </tr>\n",
       "    <tr>\n",
       "      <th>mean</th>\n",
       "      <td>2000.0</td>\n",
       "      <td>79.958991</td>\n",
       "      <td>71.173077</td>\n",
       "      <td>65.045603</td>\n",
       "      <td>59.763333</td>\n",
       "      <td>56.339041</td>\n",
       "      <td>52.360714</td>\n",
       "      <td>49.219331</td>\n",
       "      <td>47.119231</td>\n",
       "      <td>46.343874</td>\n",
       "      <td>...</td>\n",
       "      <td>NaN</td>\n",
       "      <td>NaN</td>\n",
       "      <td>NaN</td>\n",
       "      <td>NaN</td>\n",
       "      <td>NaN</td>\n",
       "      <td>NaN</td>\n",
       "      <td>NaN</td>\n",
       "      <td>NaN</td>\n",
       "      <td>NaN</td>\n",
       "      <td>NaN</td>\n",
       "    </tr>\n",
       "    <tr>\n",
       "      <th>std</th>\n",
       "      <td>0.0</td>\n",
       "      <td>14.686865</td>\n",
       "      <td>18.200443</td>\n",
       "      <td>20.752302</td>\n",
       "      <td>22.324619</td>\n",
       "      <td>23.780022</td>\n",
       "      <td>24.473273</td>\n",
       "      <td>25.654279</td>\n",
       "      <td>26.370782</td>\n",
       "      <td>27.136419</td>\n",
       "      <td>...</td>\n",
       "      <td>NaN</td>\n",
       "      <td>NaN</td>\n",
       "      <td>NaN</td>\n",
       "      <td>NaN</td>\n",
       "      <td>NaN</td>\n",
       "      <td>NaN</td>\n",
       "      <td>NaN</td>\n",
       "      <td>NaN</td>\n",
       "      <td>NaN</td>\n",
       "      <td>NaN</td>\n",
       "    </tr>\n",
       "    <tr>\n",
       "      <th>min</th>\n",
       "      <td>2000.0</td>\n",
       "      <td>15.000000</td>\n",
       "      <td>8.000000</td>\n",
       "      <td>6.000000</td>\n",
       "      <td>5.000000</td>\n",
       "      <td>2.000000</td>\n",
       "      <td>1.000000</td>\n",
       "      <td>1.000000</td>\n",
       "      <td>1.000000</td>\n",
       "      <td>1.000000</td>\n",
       "      <td>...</td>\n",
       "      <td>NaN</td>\n",
       "      <td>NaN</td>\n",
       "      <td>NaN</td>\n",
       "      <td>NaN</td>\n",
       "      <td>NaN</td>\n",
       "      <td>NaN</td>\n",
       "      <td>NaN</td>\n",
       "      <td>NaN</td>\n",
       "      <td>NaN</td>\n",
       "      <td>NaN</td>\n",
       "    </tr>\n",
       "    <tr>\n",
       "      <th>25%</th>\n",
       "      <td>2000.0</td>\n",
       "      <td>74.000000</td>\n",
       "      <td>63.000000</td>\n",
       "      <td>53.000000</td>\n",
       "      <td>44.750000</td>\n",
       "      <td>38.750000</td>\n",
       "      <td>33.750000</td>\n",
       "      <td>30.000000</td>\n",
       "      <td>27.000000</td>\n",
       "      <td>26.000000</td>\n",
       "      <td>...</td>\n",
       "      <td>NaN</td>\n",
       "      <td>NaN</td>\n",
       "      <td>NaN</td>\n",
       "      <td>NaN</td>\n",
       "      <td>NaN</td>\n",
       "      <td>NaN</td>\n",
       "      <td>NaN</td>\n",
       "      <td>NaN</td>\n",
       "      <td>NaN</td>\n",
       "      <td>NaN</td>\n",
       "    </tr>\n",
       "    <tr>\n",
       "      <th>50%</th>\n",
       "      <td>2000.0</td>\n",
       "      <td>81.000000</td>\n",
       "      <td>73.000000</td>\n",
       "      <td>66.000000</td>\n",
       "      <td>61.000000</td>\n",
       "      <td>57.000000</td>\n",
       "      <td>51.500000</td>\n",
       "      <td>47.000000</td>\n",
       "      <td>45.500000</td>\n",
       "      <td>42.000000</td>\n",
       "      <td>...</td>\n",
       "      <td>NaN</td>\n",
       "      <td>NaN</td>\n",
       "      <td>NaN</td>\n",
       "      <td>NaN</td>\n",
       "      <td>NaN</td>\n",
       "      <td>NaN</td>\n",
       "      <td>NaN</td>\n",
       "      <td>NaN</td>\n",
       "      <td>NaN</td>\n",
       "      <td>NaN</td>\n",
       "    </tr>\n",
       "    <tr>\n",
       "      <th>75%</th>\n",
       "      <td>2000.0</td>\n",
       "      <td>91.000000</td>\n",
       "      <td>84.000000</td>\n",
       "      <td>79.000000</td>\n",
       "      <td>76.000000</td>\n",
       "      <td>73.250000</td>\n",
       "      <td>72.250000</td>\n",
       "      <td>67.000000</td>\n",
       "      <td>67.000000</td>\n",
       "      <td>67.000000</td>\n",
       "      <td>...</td>\n",
       "      <td>NaN</td>\n",
       "      <td>NaN</td>\n",
       "      <td>NaN</td>\n",
       "      <td>NaN</td>\n",
       "      <td>NaN</td>\n",
       "      <td>NaN</td>\n",
       "      <td>NaN</td>\n",
       "      <td>NaN</td>\n",
       "      <td>NaN</td>\n",
       "      <td>NaN</td>\n",
       "    </tr>\n",
       "    <tr>\n",
       "      <th>max</th>\n",
       "      <td>2000.0</td>\n",
       "      <td>100.000000</td>\n",
       "      <td>100.000000</td>\n",
       "      <td>100.000000</td>\n",
       "      <td>100.000000</td>\n",
       "      <td>100.000000</td>\n",
       "      <td>99.000000</td>\n",
       "      <td>100.000000</td>\n",
       "      <td>99.000000</td>\n",
       "      <td>100.000000</td>\n",
       "      <td>...</td>\n",
       "      <td>NaN</td>\n",
       "      <td>NaN</td>\n",
       "      <td>NaN</td>\n",
       "      <td>NaN</td>\n",
       "      <td>NaN</td>\n",
       "      <td>NaN</td>\n",
       "      <td>NaN</td>\n",
       "      <td>NaN</td>\n",
       "      <td>NaN</td>\n",
       "      <td>NaN</td>\n",
       "    </tr>\n",
       "  </tbody>\n",
       "</table>\n",
       "<p>8 rows × 77 columns</p>\n",
       "</div>"
      ],
      "text/plain": [
       "         year   x1st.week   x2nd.week   x3rd.week   x4th.week   x5th.week  \\\n",
       "count   317.0  317.000000  312.000000  307.000000  300.000000  292.000000   \n",
       "mean   2000.0   79.958991   71.173077   65.045603   59.763333   56.339041   \n",
       "std       0.0   14.686865   18.200443   20.752302   22.324619   23.780022   \n",
       "min    2000.0   15.000000    8.000000    6.000000    5.000000    2.000000   \n",
       "25%    2000.0   74.000000   63.000000   53.000000   44.750000   38.750000   \n",
       "50%    2000.0   81.000000   73.000000   66.000000   61.000000   57.000000   \n",
       "75%    2000.0   91.000000   84.000000   79.000000   76.000000   73.250000   \n",
       "max    2000.0  100.000000  100.000000  100.000000  100.000000  100.000000   \n",
       "\n",
       "        x6th.week   x7th.week   x8th.week   x9th.week     ...      x67th.week  \\\n",
       "count  280.000000  269.000000  260.000000  253.000000     ...             0.0   \n",
       "mean    52.360714   49.219331   47.119231   46.343874     ...             NaN   \n",
       "std     24.473273   25.654279   26.370782   27.136419     ...             NaN   \n",
       "min      1.000000    1.000000    1.000000    1.000000     ...             NaN   \n",
       "25%     33.750000   30.000000   27.000000   26.000000     ...             NaN   \n",
       "50%     51.500000   47.000000   45.500000   42.000000     ...             NaN   \n",
       "75%     72.250000   67.000000   67.000000   67.000000     ...             NaN   \n",
       "max     99.000000  100.000000   99.000000  100.000000     ...             NaN   \n",
       "\n",
       "       x68th.week  x69th.week  x70th.week  x71st.week  x72nd.week  x73rd.week  \\\n",
       "count         0.0         0.0         0.0         0.0         0.0         0.0   \n",
       "mean          NaN         NaN         NaN         NaN         NaN         NaN   \n",
       "std           NaN         NaN         NaN         NaN         NaN         NaN   \n",
       "min           NaN         NaN         NaN         NaN         NaN         NaN   \n",
       "25%           NaN         NaN         NaN         NaN         NaN         NaN   \n",
       "50%           NaN         NaN         NaN         NaN         NaN         NaN   \n",
       "75%           NaN         NaN         NaN         NaN         NaN         NaN   \n",
       "max           NaN         NaN         NaN         NaN         NaN         NaN   \n",
       "\n",
       "       x74th.week  x75th.week  x76th.week  \n",
       "count         0.0         0.0         0.0  \n",
       "mean          NaN         NaN         NaN  \n",
       "std           NaN         NaN         NaN  \n",
       "min           NaN         NaN         NaN  \n",
       "25%           NaN         NaN         NaN  \n",
       "50%           NaN         NaN         NaN  \n",
       "75%           NaN         NaN         NaN  \n",
       "max           NaN         NaN         NaN  \n",
       "\n",
       "[8 rows x 77 columns]"
      ]
     },
     "execution_count": 15,
     "metadata": {},
     "output_type": "execute_result"
    }
   ],
   "source": [
    "# billboard['x2nd.week'].mean() #71.17307692307692\n",
    "\n",
    "billboard.describe()  # Find the mean for all the weeks present\n"
   ]
  },
  {
   "cell_type": "markdown",
   "metadata": {},
   "source": [
    "*From above it looks like there are many of the week columns that contain no values. Will need to confirm, and if that is the case then remove the associated items\n",
    "Additionally there seems to be an **increasing** mean in the beginning of the weeks columns along with a **larger** standard deviation. Likely meaning that some tracks are doing really well and others are not, causing there to be a large spread of the positions of the tracks as time goes on.*"
   ]
  },
  {
   "cell_type": "markdown",
   "metadata": {},
   "source": [
    "##### Create a data dictionary for the data set."
   ]
  },
  {
   "cell_type": "code",
   "execution_count": 15,
   "metadata": {
    "collapsed": false
   },
   "outputs": [
    {
     "data": {
      "text/html": [
       "<div>\n",
       "<table border=\"1\" class=\"dataframe\">\n",
       "  <thead>\n",
       "    <tr style=\"text-align: right;\">\n",
       "      <th></th>\n",
       "      <th>(1-76)weeks</th>\n",
       "      <th>artist.inverted</th>\n",
       "      <th>datadesc</th>\n",
       "      <th>dateentered</th>\n",
       "      <th>datepeaked</th>\n",
       "      <th>genre</th>\n",
       "      <th>time</th>\n",
       "      <th>track</th>\n",
       "      <th>year</th>\n",
       "    </tr>\n",
       "  </thead>\n",
       "  <tbody>\n",
       "    <tr>\n",
       "      <th>datepeaked</th>\n",
       "      <td>List of the position the song was on starting ...</td>\n",
       "      <td>Name of the artist, inverted</td>\n",
       "      <td>Billboard top tracks for the year 2000</td>\n",
       "      <td>Date the track was entered into Billboard</td>\n",
       "      <td>Date the Song Reached It's Highest Position on...</td>\n",
       "      <td>NaN</td>\n",
       "      <td>Length of track in minutes:seconds</td>\n",
       "      <td>Name of the track</td>\n",
       "      <td>The year the track was released</td>\n",
       "    </tr>\n",
       "    <tr>\n",
       "      <th>genre</th>\n",
       "      <td>List of the position the song was on starting ...</td>\n",
       "      <td>Name of the artist, inverted</td>\n",
       "      <td>Billboard top tracks for the year 2000</td>\n",
       "      <td>Date the track was entered into Billboard</td>\n",
       "      <td>Date the Song Reached It's Highest Position on...</td>\n",
       "      <td>NaN</td>\n",
       "      <td>Length of track in minutes:seconds</td>\n",
       "      <td>Name of the track</td>\n",
       "      <td>The year the track was released</td>\n",
       "    </tr>\n",
       "    <tr>\n",
       "      <th>(1-76)weeks</th>\n",
       "      <td>List of the position the song was on starting ...</td>\n",
       "      <td>Name of the artist, inverted</td>\n",
       "      <td>Billboard top tracks for the year 2000</td>\n",
       "      <td>Date the track was entered into Billboard</td>\n",
       "      <td>Date the Song Reached It's Highest Position on...</td>\n",
       "      <td>NaN</td>\n",
       "      <td>Length of track in minutes:seconds</td>\n",
       "      <td>Name of the track</td>\n",
       "      <td>The year the track was released</td>\n",
       "    </tr>\n",
       "    <tr>\n",
       "      <th>time</th>\n",
       "      <td>List of the position the song was on starting ...</td>\n",
       "      <td>Name of the artist, inverted</td>\n",
       "      <td>Billboard top tracks for the year 2000</td>\n",
       "      <td>Date the track was entered into Billboard</td>\n",
       "      <td>Date the Song Reached It's Highest Position on...</td>\n",
       "      <td>NaN</td>\n",
       "      <td>Length of track in minutes:seconds</td>\n",
       "      <td>Name of the track</td>\n",
       "      <td>The year the track was released</td>\n",
       "    </tr>\n",
       "    <tr>\n",
       "      <th>year</th>\n",
       "      <td>List of the position the song was on starting ...</td>\n",
       "      <td>Name of the artist, inverted</td>\n",
       "      <td>Billboard top tracks for the year 2000</td>\n",
       "      <td>Date the track was entered into Billboard</td>\n",
       "      <td>Date the Song Reached It's Highest Position on...</td>\n",
       "      <td>NaN</td>\n",
       "      <td>Length of track in minutes:seconds</td>\n",
       "      <td>Name of the track</td>\n",
       "      <td>The year the track was released</td>\n",
       "    </tr>\n",
       "    <tr>\n",
       "      <th>track</th>\n",
       "      <td>List of the position the song was on starting ...</td>\n",
       "      <td>Name of the artist, inverted</td>\n",
       "      <td>Billboard top tracks for the year 2000</td>\n",
       "      <td>Date the track was entered into Billboard</td>\n",
       "      <td>Date the Song Reached It's Highest Position on...</td>\n",
       "      <td>NaN</td>\n",
       "      <td>Length of track in minutes:seconds</td>\n",
       "      <td>Name of the track</td>\n",
       "      <td>The year the track was released</td>\n",
       "    </tr>\n",
       "    <tr>\n",
       "      <th>dateentered</th>\n",
       "      <td>List of the position the song was on starting ...</td>\n",
       "      <td>Name of the artist, inverted</td>\n",
       "      <td>Billboard top tracks for the year 2000</td>\n",
       "      <td>Date the track was entered into Billboard</td>\n",
       "      <td>Date the Song Reached It's Highest Position on...</td>\n",
       "      <td>NaN</td>\n",
       "      <td>Length of track in minutes:seconds</td>\n",
       "      <td>Name of the track</td>\n",
       "      <td>The year the track was released</td>\n",
       "    </tr>\n",
       "    <tr>\n",
       "      <th>datadesc</th>\n",
       "      <td>List of the position the song was on starting ...</td>\n",
       "      <td>Name of the artist, inverted</td>\n",
       "      <td>Billboard top tracks for the year 2000</td>\n",
       "      <td>Date the track was entered into Billboard</td>\n",
       "      <td>Date the Song Reached It's Highest Position on...</td>\n",
       "      <td>NaN</td>\n",
       "      <td>Length of track in minutes:seconds</td>\n",
       "      <td>Name of the track</td>\n",
       "      <td>The year the track was released</td>\n",
       "    </tr>\n",
       "    <tr>\n",
       "      <th>artist.inverted</th>\n",
       "      <td>List of the position the song was on starting ...</td>\n",
       "      <td>Name of the artist, inverted</td>\n",
       "      <td>Billboard top tracks for the year 2000</td>\n",
       "      <td>Date the track was entered into Billboard</td>\n",
       "      <td>Date the Song Reached It's Highest Position on...</td>\n",
       "      <td>NaN</td>\n",
       "      <td>Length of track in minutes:seconds</td>\n",
       "      <td>Name of the track</td>\n",
       "      <td>The year the track was released</td>\n",
       "    </tr>\n",
       "  </tbody>\n",
       "</table>\n",
       "</div>"
      ],
      "text/plain": [
       "                                                       (1-76)weeks  \\\n",
       "datepeaked       List of the position the song was on starting ...   \n",
       "genre            List of the position the song was on starting ...   \n",
       "(1-76)weeks      List of the position the song was on starting ...   \n",
       "time             List of the position the song was on starting ...   \n",
       "year             List of the position the song was on starting ...   \n",
       "track            List of the position the song was on starting ...   \n",
       "dateentered      List of the position the song was on starting ...   \n",
       "datadesc         List of the position the song was on starting ...   \n",
       "artist.inverted  List of the position the song was on starting ...   \n",
       "\n",
       "                              artist.inverted  \\\n",
       "datepeaked       Name of the artist, inverted   \n",
       "genre            Name of the artist, inverted   \n",
       "(1-76)weeks      Name of the artist, inverted   \n",
       "time             Name of the artist, inverted   \n",
       "year             Name of the artist, inverted   \n",
       "track            Name of the artist, inverted   \n",
       "dateentered      Name of the artist, inverted   \n",
       "datadesc         Name of the artist, inverted   \n",
       "artist.inverted  Name of the artist, inverted   \n",
       "\n",
       "                                               datadesc  \\\n",
       "datepeaked       Billboard top tracks for the year 2000   \n",
       "genre            Billboard top tracks for the year 2000   \n",
       "(1-76)weeks      Billboard top tracks for the year 2000   \n",
       "time             Billboard top tracks for the year 2000   \n",
       "year             Billboard top tracks for the year 2000   \n",
       "track            Billboard top tracks for the year 2000   \n",
       "dateentered      Billboard top tracks for the year 2000   \n",
       "datadesc         Billboard top tracks for the year 2000   \n",
       "artist.inverted  Billboard top tracks for the year 2000   \n",
       "\n",
       "                                               dateentered  \\\n",
       "datepeaked       Date the track was entered into Billboard   \n",
       "genre            Date the track was entered into Billboard   \n",
       "(1-76)weeks      Date the track was entered into Billboard   \n",
       "time             Date the track was entered into Billboard   \n",
       "year             Date the track was entered into Billboard   \n",
       "track            Date the track was entered into Billboard   \n",
       "dateentered      Date the track was entered into Billboard   \n",
       "datadesc         Date the track was entered into Billboard   \n",
       "artist.inverted  Date the track was entered into Billboard   \n",
       "\n",
       "                                                        datepeaked  genre  \\\n",
       "datepeaked       Date the Song Reached It's Highest Position on...    NaN   \n",
       "genre            Date the Song Reached It's Highest Position on...    NaN   \n",
       "(1-76)weeks      Date the Song Reached It's Highest Position on...    NaN   \n",
       "time             Date the Song Reached It's Highest Position on...    NaN   \n",
       "year             Date the Song Reached It's Highest Position on...    NaN   \n",
       "track            Date the Song Reached It's Highest Position on...    NaN   \n",
       "dateentered      Date the Song Reached It's Highest Position on...    NaN   \n",
       "datadesc         Date the Song Reached It's Highest Position on...    NaN   \n",
       "artist.inverted  Date the Song Reached It's Highest Position on...    NaN   \n",
       "\n",
       "                                               time              track  \\\n",
       "datepeaked       Length of track in minutes:seconds  Name of the track   \n",
       "genre            Length of track in minutes:seconds  Name of the track   \n",
       "(1-76)weeks      Length of track in minutes:seconds  Name of the track   \n",
       "time             Length of track in minutes:seconds  Name of the track   \n",
       "year             Length of track in minutes:seconds  Name of the track   \n",
       "track            Length of track in minutes:seconds  Name of the track   \n",
       "dateentered      Length of track in minutes:seconds  Name of the track   \n",
       "datadesc         Length of track in minutes:seconds  Name of the track   \n",
       "artist.inverted  Length of track in minutes:seconds  Name of the track   \n",
       "\n",
       "                                            year  \n",
       "datepeaked       The year the track was released  \n",
       "genre            The year the track was released  \n",
       "(1-76)weeks      The year the track was released  \n",
       "time             The year the track was released  \n",
       "year             The year the track was released  \n",
       "track            The year the track was released  \n",
       "dateentered      The year the track was released  \n",
       "datadesc         The year the track was released  \n",
       "artist.inverted  The year the track was released  "
      ]
     },
     "execution_count": 15,
     "metadata": {},
     "output_type": "execute_result"
    }
   ],
   "source": [
    "datadict = {\n",
    "    'datadesc' : 'Billboard top tracks for the year 2000',\n",
    "    'year' : 'The year the track was released',\n",
    "    'artist.inverted' : 'Name of the artist, inverted',\n",
    "    'track' : 'Name of the track',\n",
    "    'time' : 'Length of track in minutes:seconds',\n",
    "    'genre' : {\n",
    "        'Rock' : 'Rock and Roll',\n",
    "        'Latin' : 'Spanish language specific music',\n",
    "        'Country' : 'American Popular Music, Roots in Folk/Western',\n",
    "        'Rap' : 'Rythmn and Poetry',\n",
    "        'Electronica' : 'Electronic-Based (Synthesizer) Music',\n",
    "        'Jazz' : 'Swing Note/Improvisation Based Music',\n",
    "        'Reggae' : 'Music insipred by Mento and Calypso',\n",
    "        'Gospel' : 'Christian Music' \n",
    "              },\n",
    "    'dateentered' : 'Date the track was entered into Billboard',\n",
    "    'datepeaked' : 'Date the Song Reached It\\'s Highest Position on Billboard Chart',\n",
    "    '(1-76)weeks' : 'List of the position the song was on starting from the first week it was on the charts'\n",
    "}\n",
    "\n",
    "pd.DataFrame(datadict, index=datadict.keys())"
   ]
  },
  {
   "cell_type": "markdown",
   "metadata": {},
   "source": [
    "##### Write a brief description of your data, and any interesting observations you've made thus far. "
   ]
  },
  {
   "cell_type": "markdown",
   "metadata": {
    "collapsed": false
   },
   "source": [
    "The data is from the billboard music agency from the year 2000. It is not constrained to a single genre of music. The information about the music that is included includes the "
   ]
  },
  {
   "cell_type": "markdown",
   "metadata": {},
   "source": [
    "## Step 2: Clean your data."
   ]
  },
  {
   "cell_type": "markdown",
   "metadata": {},
   "source": [
    "##### Do some rudimentary cleaning. Rename any columns that are poorly named, shorten any strings that may be too long, fill in any missing values. "
   ]
  },
  {
   "cell_type": "code",
   "execution_count": 16,
   "metadata": {
    "collapsed": false
   },
   "outputs": [
    {
     "data": {
      "text/html": [
       "<div>\n",
       "<table border=\"1\" class=\"dataframe\">\n",
       "  <thead>\n",
       "    <tr style=\"text-align: right;\">\n",
       "      <th></th>\n",
       "      <th>year</th>\n",
       "      <th>artistinverted</th>\n",
       "      <th>track</th>\n",
       "      <th>time</th>\n",
       "      <th>genre</th>\n",
       "      <th>dateentered</th>\n",
       "      <th>datepeaked</th>\n",
       "      <th>1stweek</th>\n",
       "      <th>2ndweek</th>\n",
       "      <th>3rdweek</th>\n",
       "      <th>...</th>\n",
       "      <th>67thweek</th>\n",
       "      <th>68thweek</th>\n",
       "      <th>69thweek</th>\n",
       "      <th>70thweek</th>\n",
       "      <th>71stweek</th>\n",
       "      <th>72ndweek</th>\n",
       "      <th>73rdweek</th>\n",
       "      <th>74thweek</th>\n",
       "      <th>75thweek</th>\n",
       "      <th>76thweek</th>\n",
       "    </tr>\n",
       "  </thead>\n",
       "  <tbody>\n",
       "    <tr>\n",
       "      <th>0</th>\n",
       "      <td>2000</td>\n",
       "      <td>Destiny's Child</td>\n",
       "      <td>Independent Women Part I</td>\n",
       "      <td>3:38</td>\n",
       "      <td>Rock</td>\n",
       "      <td>2000-09-23</td>\n",
       "      <td>2000-11-18</td>\n",
       "      <td>78</td>\n",
       "      <td>63.0</td>\n",
       "      <td>49.0</td>\n",
       "      <td>...</td>\n",
       "      <td>NaN</td>\n",
       "      <td>NaN</td>\n",
       "      <td>NaN</td>\n",
       "      <td>NaN</td>\n",
       "      <td>NaN</td>\n",
       "      <td>NaN</td>\n",
       "      <td>NaN</td>\n",
       "      <td>NaN</td>\n",
       "      <td>NaN</td>\n",
       "      <td>NaN</td>\n",
       "    </tr>\n",
       "  </tbody>\n",
       "</table>\n",
       "<p>1 rows × 83 columns</p>\n",
       "</div>"
      ],
      "text/plain": [
       "   year   artistinverted                     track  time genre dateentered  \\\n",
       "0  2000  Destiny's Child  Independent Women Part I  3:38  Rock  2000-09-23   \n",
       "\n",
       "   datepeaked  1stweek  2ndweek  3rdweek    ...     67thweek  68thweek  \\\n",
       "0  2000-11-18       78     63.0     49.0    ...          NaN       NaN   \n",
       "\n",
       "   69thweek  70thweek  71stweek  72ndweek  73rdweek  74thweek  75thweek  \\\n",
       "0       NaN       NaN       NaN       NaN       NaN       NaN       NaN   \n",
       "\n",
       "   76thweek  \n",
       "0       NaN  \n",
       "\n",
       "[1 rows x 83 columns]"
      ]
     },
     "execution_count": 16,
     "metadata": {},
     "output_type": "execute_result"
    }
   ],
   "source": [
    "columns = billboard.columns\n",
    "\n",
    "for col in columns: # go through all the column names\n",
    "    if any([char in col for char in ['$','&','%','#','.','x']]):\n",
    "        newcol = ''.join([char for char in col if char not in ['$','&','%','#','.','x']])\n",
    "        billboard.rename(columns={col:newcol}, inplace=True)\n",
    "\n",
    "billboard.head(1)"
   ]
  },
  {
   "cell_type": "markdown",
   "metadata": {},
   "source": [
    "*Before proceeding want to make sure that there are no repeated tracks, and if there are make sure that they are from different artists*"
   ]
  },
  {
   "cell_type": "code",
   "execution_count": 23,
   "metadata": {
    "collapsed": false
   },
   "outputs": [
    {
     "name": "stderr",
     "output_type": "stream",
     "text": [
      "/Users/sebozek/anaconda/lib/python2.7/site-packages/ipykernel/__main__.py:1: UserWarning: Boolean Series key will be reindexed to match DataFrame index.\n",
      "  if __name__ == '__main__':\n"
     ]
    },
    {
     "ename": "IndexingError",
     "evalue": "Unalignable boolean Series key provided",
     "output_type": "error",
     "traceback": [
      "\u001b[0;31m---------------------------------------------------------------------------\u001b[0m",
      "\u001b[0;31mIndexingError\u001b[0m                             Traceback (most recent call last)",
      "\u001b[0;32m<ipython-input-23-4dbdcf032f48>\u001b[0m in \u001b[0;36m<module>\u001b[0;34m()\u001b[0m\n\u001b[0;32m----> 1\u001b[0;31m \u001b[0mbillboard\u001b[0m\u001b[0;34m[\u001b[0m\u001b[0mbillboard\u001b[0m\u001b[0;34m[\u001b[0m\u001b[0;34m(\u001b[0m\u001b[0mbillboard\u001b[0m\u001b[0;34m[\u001b[0m\u001b[0;34m'track'\u001b[0m\u001b[0;34m]\u001b[0m\u001b[0;34m.\u001b[0m\u001b[0mvalue_counts\u001b[0m\u001b[0;34m(\u001b[0m\u001b[0;34m)\u001b[0m\u001b[0;34m>=\u001b[0m\u001b[0;36m2\u001b[0m\u001b[0;34m)\u001b[0m\u001b[0;34m]\u001b[0m\u001b[0;34m]\u001b[0m\u001b[0;34m\u001b[0m\u001b[0m\n\u001b[0m\u001b[1;32m      2\u001b[0m \u001b[0;34m\u001b[0m\u001b[0m\n\u001b[1;32m      3\u001b[0m \u001b[0;31m#repeat_series = pd.DataFrame(new_series)\u001b[0m\u001b[0;34m\u001b[0m\u001b[0;34m\u001b[0m\u001b[0m\n\u001b[1;32m      4\u001b[0m \u001b[0;34m\u001b[0m\u001b[0m\n\u001b[1;32m      5\u001b[0m \u001b[0;31m#repeat_series[repeat_series['track']== True]\u001b[0m\u001b[0;34m\u001b[0m\u001b[0;34m\u001b[0m\u001b[0m\n",
      "\u001b[0;32m/Users/sebozek/anaconda/lib/python2.7/site-packages/pandas/core/frame.pyc\u001b[0m in \u001b[0;36m__getitem__\u001b[0;34m(self, key)\u001b[0m\n\u001b[1;32m   1984\u001b[0m         \u001b[0;32mif\u001b[0m \u001b[0misinstance\u001b[0m\u001b[0;34m(\u001b[0m\u001b[0mkey\u001b[0m\u001b[0;34m,\u001b[0m \u001b[0;34m(\u001b[0m\u001b[0mSeries\u001b[0m\u001b[0;34m,\u001b[0m \u001b[0mnp\u001b[0m\u001b[0;34m.\u001b[0m\u001b[0mndarray\u001b[0m\u001b[0;34m,\u001b[0m \u001b[0mIndex\u001b[0m\u001b[0;34m,\u001b[0m \u001b[0mlist\u001b[0m\u001b[0;34m)\u001b[0m\u001b[0;34m)\u001b[0m\u001b[0;34m:\u001b[0m\u001b[0;34m\u001b[0m\u001b[0m\n\u001b[1;32m   1985\u001b[0m             \u001b[0;31m# either boolean or fancy integer index\u001b[0m\u001b[0;34m\u001b[0m\u001b[0;34m\u001b[0m\u001b[0m\n\u001b[0;32m-> 1986\u001b[0;31m             \u001b[0;32mreturn\u001b[0m \u001b[0mself\u001b[0m\u001b[0;34m.\u001b[0m\u001b[0m_getitem_array\u001b[0m\u001b[0;34m(\u001b[0m\u001b[0mkey\u001b[0m\u001b[0;34m)\u001b[0m\u001b[0;34m\u001b[0m\u001b[0m\n\u001b[0m\u001b[1;32m   1987\u001b[0m         \u001b[0;32melif\u001b[0m \u001b[0misinstance\u001b[0m\u001b[0;34m(\u001b[0m\u001b[0mkey\u001b[0m\u001b[0;34m,\u001b[0m \u001b[0mDataFrame\u001b[0m\u001b[0;34m)\u001b[0m\u001b[0;34m:\u001b[0m\u001b[0;34m\u001b[0m\u001b[0m\n\u001b[1;32m   1988\u001b[0m             \u001b[0;32mreturn\u001b[0m \u001b[0mself\u001b[0m\u001b[0;34m.\u001b[0m\u001b[0m_getitem_frame\u001b[0m\u001b[0;34m(\u001b[0m\u001b[0mkey\u001b[0m\u001b[0;34m)\u001b[0m\u001b[0;34m\u001b[0m\u001b[0m\n",
      "\u001b[0;32m/Users/sebozek/anaconda/lib/python2.7/site-packages/pandas/core/frame.pyc\u001b[0m in \u001b[0;36m_getitem_array\u001b[0;34m(self, key)\u001b[0m\n\u001b[1;32m   2024\u001b[0m             \u001b[0;31m# check_bool_indexer will throw exception if Series key cannot\u001b[0m\u001b[0;34m\u001b[0m\u001b[0;34m\u001b[0m\u001b[0m\n\u001b[1;32m   2025\u001b[0m             \u001b[0;31m# be reindexed to match DataFrame rows\u001b[0m\u001b[0;34m\u001b[0m\u001b[0;34m\u001b[0m\u001b[0m\n\u001b[0;32m-> 2026\u001b[0;31m             \u001b[0mkey\u001b[0m \u001b[0;34m=\u001b[0m \u001b[0mcheck_bool_indexer\u001b[0m\u001b[0;34m(\u001b[0m\u001b[0mself\u001b[0m\u001b[0;34m.\u001b[0m\u001b[0mindex\u001b[0m\u001b[0;34m,\u001b[0m \u001b[0mkey\u001b[0m\u001b[0;34m)\u001b[0m\u001b[0;34m\u001b[0m\u001b[0m\n\u001b[0m\u001b[1;32m   2027\u001b[0m             \u001b[0mindexer\u001b[0m \u001b[0;34m=\u001b[0m \u001b[0mkey\u001b[0m\u001b[0;34m.\u001b[0m\u001b[0mnonzero\u001b[0m\u001b[0;34m(\u001b[0m\u001b[0;34m)\u001b[0m\u001b[0;34m[\u001b[0m\u001b[0;36m0\u001b[0m\u001b[0;34m]\u001b[0m\u001b[0;34m\u001b[0m\u001b[0m\n\u001b[1;32m   2028\u001b[0m             \u001b[0;32mreturn\u001b[0m \u001b[0mself\u001b[0m\u001b[0;34m.\u001b[0m\u001b[0mtake\u001b[0m\u001b[0;34m(\u001b[0m\u001b[0mindexer\u001b[0m\u001b[0;34m,\u001b[0m \u001b[0maxis\u001b[0m\u001b[0;34m=\u001b[0m\u001b[0;36m0\u001b[0m\u001b[0;34m,\u001b[0m \u001b[0mconvert\u001b[0m\u001b[0;34m=\u001b[0m\u001b[0mFalse\u001b[0m\u001b[0;34m)\u001b[0m\u001b[0;34m\u001b[0m\u001b[0m\n",
      "\u001b[0;32m/Users/sebozek/anaconda/lib/python2.7/site-packages/pandas/core/indexing.pyc\u001b[0m in \u001b[0;36mcheck_bool_indexer\u001b[0;34m(ax, key)\u001b[0m\n\u001b[1;32m   1753\u001b[0m         \u001b[0mmask\u001b[0m \u001b[0;34m=\u001b[0m \u001b[0mcom\u001b[0m\u001b[0;34m.\u001b[0m\u001b[0misnull\u001b[0m\u001b[0;34m(\u001b[0m\u001b[0mresult\u001b[0m\u001b[0;34m.\u001b[0m\u001b[0m_values\u001b[0m\u001b[0;34m)\u001b[0m\u001b[0;34m\u001b[0m\u001b[0m\n\u001b[1;32m   1754\u001b[0m         \u001b[0;32mif\u001b[0m \u001b[0mmask\u001b[0m\u001b[0;34m.\u001b[0m\u001b[0many\u001b[0m\u001b[0;34m(\u001b[0m\u001b[0;34m)\u001b[0m\u001b[0;34m:\u001b[0m\u001b[0;34m\u001b[0m\u001b[0m\n\u001b[0;32m-> 1755\u001b[0;31m             \u001b[0;32mraise\u001b[0m \u001b[0mIndexingError\u001b[0m\u001b[0;34m(\u001b[0m\u001b[0;34m'Unalignable boolean Series key provided'\u001b[0m\u001b[0;34m)\u001b[0m\u001b[0;34m\u001b[0m\u001b[0m\n\u001b[0m\u001b[1;32m   1756\u001b[0m \u001b[0;34m\u001b[0m\u001b[0m\n\u001b[1;32m   1757\u001b[0m         \u001b[0mresult\u001b[0m \u001b[0;34m=\u001b[0m \u001b[0mresult\u001b[0m\u001b[0;34m.\u001b[0m\u001b[0mastype\u001b[0m\u001b[0;34m(\u001b[0m\u001b[0mbool\u001b[0m\u001b[0;34m)\u001b[0m\u001b[0;34m.\u001b[0m\u001b[0m_values\u001b[0m\u001b[0;34m\u001b[0m\u001b[0m\n",
      "\u001b[0;31mIndexingError\u001b[0m: Unalignable boolean Series key provided"
     ]
    }
   ],
   "source": [
    "billboard['track'].value_counts()>=2\n",
    "\n",
    "#repeat_series = pd.DataFrame(new_series)\n",
    "\n",
    "#repeat_series[repeat_series['track']== True] "
   ]
  },
  {
   "cell_type": "code",
   "execution_count": 18,
   "metadata": {
    "collapsed": false
   },
   "outputs": [
    {
     "data": {
      "text/html": [
       "<div>\n",
       "<table border=\"1\" class=\"dataframe\">\n",
       "  <thead>\n",
       "    <tr style=\"text-align: right;\">\n",
       "      <th></th>\n",
       "      <th>year</th>\n",
       "      <th>artistinverted</th>\n",
       "      <th>track</th>\n",
       "      <th>time</th>\n",
       "      <th>genre</th>\n",
       "      <th>dateentered</th>\n",
       "      <th>datepeaked</th>\n",
       "      <th>1stweek</th>\n",
       "      <th>2ndweek</th>\n",
       "      <th>3rdweek</th>\n",
       "      <th>...</th>\n",
       "      <th>67thweek</th>\n",
       "      <th>68thweek</th>\n",
       "      <th>69thweek</th>\n",
       "      <th>70thweek</th>\n",
       "      <th>71stweek</th>\n",
       "      <th>72ndweek</th>\n",
       "      <th>73rdweek</th>\n",
       "      <th>74thweek</th>\n",
       "      <th>75thweek</th>\n",
       "      <th>76thweek</th>\n",
       "    </tr>\n",
       "  </thead>\n",
       "  <tbody>\n",
       "    <tr>\n",
       "      <th>118</th>\n",
       "      <td>2000</td>\n",
       "      <td>Jones, Donell</td>\n",
       "      <td>Where I Wanna Be</td>\n",
       "      <td>6:22</td>\n",
       "      <td>Rock</td>\n",
       "      <td>2000-04-22</td>\n",
       "      <td>2000-07-08</td>\n",
       "      <td>81</td>\n",
       "      <td>71.0</td>\n",
       "      <td>65.0</td>\n",
       "      <td>...</td>\n",
       "      <td>NaN</td>\n",
       "      <td>NaN</td>\n",
       "      <td>NaN</td>\n",
       "      <td>NaN</td>\n",
       "      <td>NaN</td>\n",
       "      <td>NaN</td>\n",
       "      <td>NaN</td>\n",
       "      <td>NaN</td>\n",
       "      <td>NaN</td>\n",
       "      <td>NaN</td>\n",
       "    </tr>\n",
       "    <tr>\n",
       "      <th>305</th>\n",
       "      <td>2000</td>\n",
       "      <td>Sheist, Shade</td>\n",
       "      <td>Where I Wanna Be</td>\n",
       "      <td>4:16</td>\n",
       "      <td>Rap</td>\n",
       "      <td>2000-11-11</td>\n",
       "      <td>2000-11-18</td>\n",
       "      <td>96</td>\n",
       "      <td>95.0</td>\n",
       "      <td>99.0</td>\n",
       "      <td>...</td>\n",
       "      <td>NaN</td>\n",
       "      <td>NaN</td>\n",
       "      <td>NaN</td>\n",
       "      <td>NaN</td>\n",
       "      <td>NaN</td>\n",
       "      <td>NaN</td>\n",
       "      <td>NaN</td>\n",
       "      <td>NaN</td>\n",
       "      <td>NaN</td>\n",
       "      <td>NaN</td>\n",
       "    </tr>\n",
       "  </tbody>\n",
       "</table>\n",
       "<p>2 rows × 83 columns</p>\n",
       "</div>"
      ],
      "text/plain": [
       "     year artistinverted             track  time genre dateentered  \\\n",
       "118  2000  Jones, Donell  Where I Wanna Be  6:22  Rock  2000-04-22   \n",
       "305  2000  Sheist, Shade  Where I Wanna Be  4:16   Rap  2000-11-11   \n",
       "\n",
       "     datepeaked  1stweek  2ndweek  3rdweek    ...     67thweek  68thweek  \\\n",
       "118  2000-07-08       81     71.0     65.0    ...          NaN       NaN   \n",
       "305  2000-11-18       96     95.0     99.0    ...          NaN       NaN   \n",
       "\n",
       "     69thweek  70thweek  71stweek  72ndweek  73rdweek  74thweek  75thweek  \\\n",
       "118       NaN       NaN       NaN       NaN       NaN       NaN       NaN   \n",
       "305       NaN       NaN       NaN       NaN       NaN       NaN       NaN   \n",
       "\n",
       "     76thweek  \n",
       "118       NaN  \n",
       "305       NaN  \n",
       "\n",
       "[2 rows x 83 columns]"
      ]
     },
     "execution_count": 18,
     "metadata": {},
     "output_type": "execute_result"
    }
   ],
   "source": [
    "billboard[billboard['track'] == 'Where I Wanna Be']"
   ]
  },
  {
   "cell_type": "markdown",
   "metadata": {},
   "source": [
    "*The tracks were found to be from different artists and different albums. No other track names were found to repeat. Could be that there were misspellings of repeated tracks*"
   ]
  },
  {
   "cell_type": "code",
   "execution_count": 16,
   "metadata": {
    "collapsed": false
   },
   "outputs": [
    {
     "data": {
      "text/plain": [
       "(317, 72)"
      ]
     },
     "execution_count": 16,
     "metadata": {},
     "output_type": "execute_result"
    }
   ],
   "source": [
    "cl_billboard = billboard.dropna(axis=1,how='all') # drop all columns that contain exclusively 'NaN' values\n",
    "\n",
    "cl_billboard.shape # assess new shape from original of (317, 83)"
   ]
  },
  {
   "cell_type": "markdown",
   "metadata": {},
   "source": [
    "*11 columns were dropped from the original dataframe*"
   ]
  },
  {
   "cell_type": "markdown",
   "metadata": {},
   "source": [
    "*The genre chart had two instances of R&B, one with a '\\n' and one without. Will need to replace that value with the proper R&B, other than that there was no major issue with the genre of the music*\n",
    "\n",
    "*Following step should be to drop all of the columns that contain no data in them, or are filled exclusively with Not a Number values*"
   ]
  },
  {
   "cell_type": "code",
   "execution_count": 29,
   "metadata": {
    "collapsed": true
   },
   "outputs": [],
   "source": [
    "billboard[billboard['genre'] == 'R&B\\n'] = billboard[billboard['genre'] == 'R&B']"
   ]
  },
  {
   "cell_type": "code",
   "execution_count": 30,
   "metadata": {
    "collapsed": false
   },
   "outputs": [],
   "source": [
    "genre_counts = pd.value_counts(billboard['genre']) # Create DF of genre counts"
   ]
  },
  {
   "cell_type": "markdown",
   "metadata": {},
   "source": [
    "*In order to investigate the different time distributions have to convert the string into an integer. Could do by splitting the item on the colon, then multiplying the first item by 60. Could also index the string.*"
   ]
  },
  {
   "cell_type": "code",
   "execution_count": 17,
   "metadata": {
    "collapsed": false
   },
   "outputs": [
    {
     "data": {
      "text/plain": [
       "505"
      ]
     },
     "execution_count": 17,
     "metadata": {},
     "output_type": "execute_result"
    }
   ],
   "source": [
    "test_bill = billboard\n",
    "\n",
    "st = '8:25'\n",
    "def min_sec(st):\n",
    "    '''Takes string expressing minutes and converts it to seconds as integers'''\n",
    "    st = str(st)\n",
    "    return int(st[:-3:1])*60 + int(st[-2:]) # multiply minutes by 60, then add seconds\n",
    "\n",
    "min_sec(st)"
   ]
  },
  {
   "cell_type": "markdown",
   "metadata": {},
   "source": [
    "*After function was written it needs to be applied to the time column on the dataframe while preserving the rest of the dataframe*"
   ]
  },
  {
   "cell_type": "code",
   "execution_count": 18,
   "metadata": {
    "collapsed": false
   },
   "outputs": [],
   "source": [
    "# test_bill['time'].apply(min_sec)\n",
    "billboard['time']=billboard['time'].apply(min_sec)"
   ]
  },
  {
   "cell_type": "markdown",
   "metadata": {},
   "source": [
    "*Before converting to long list want to remove the endings to the weeks columns making them a range from 1-72*"
   ]
  },
  {
   "cell_type": "code",
   "execution_count": 19,
   "metadata": {
    "collapsed": false
   },
   "outputs": [
    {
     "data": {
      "text/plain": [
       "(317, 83)"
      ]
     },
     "execution_count": 19,
     "metadata": {},
     "output_type": "execute_result"
    }
   ],
   "source": [
    "billboard.shape"
   ]
  },
  {
   "cell_type": "markdown",
   "metadata": {},
   "source": [
    "##### Using Pandas' built in `melt` function, pivot the weekly ranking data to be long rather than wide. As a result, you will have removed the 72 'week' columns and replace it with two: Week and Ranking. There will now be multiple entries for each song, one for each week on the Billboard rankings."
   ]
  },
  {
   "cell_type": "code",
   "execution_count": 25,
   "metadata": {
    "collapsed": false
   },
   "outputs": [],
   "source": [
    "weeks72 = range(1,77)\n",
    "\n",
    "# billboard.columns.values\n",
    "\n",
    "keep_cols = ['year', 'artist.inverted', 'track', 'time', 'genre', 'date.entered',\n",
    "       'date.peaked']\n",
    "\n",
    "new_cols = keep_cols + weeks72 # make list of new columns"
   ]
  },
  {
   "cell_type": "code",
   "execution_count": 27,
   "metadata": {
    "collapsed": false
   },
   "outputs": [
    {
     "data": {
      "text/html": [
       "<div>\n",
       "<table border=\"1\" class=\"dataframe\">\n",
       "  <thead>\n",
       "    <tr style=\"text-align: right;\">\n",
       "      <th></th>\n",
       "      <th>year</th>\n",
       "      <th>artist.inverted</th>\n",
       "      <th>track</th>\n",
       "      <th>time</th>\n",
       "      <th>genre</th>\n",
       "      <th>date.entered</th>\n",
       "      <th>date.peaked</th>\n",
       "      <th>1</th>\n",
       "      <th>2</th>\n",
       "      <th>3</th>\n",
       "      <th>...</th>\n",
       "      <th>67</th>\n",
       "      <th>68</th>\n",
       "      <th>69</th>\n",
       "      <th>70</th>\n",
       "      <th>71</th>\n",
       "      <th>72</th>\n",
       "      <th>73</th>\n",
       "      <th>74</th>\n",
       "      <th>75</th>\n",
       "      <th>76</th>\n",
       "    </tr>\n",
       "  </thead>\n",
       "  <tbody>\n",
       "    <tr>\n",
       "      <th>0</th>\n",
       "      <td>2000</td>\n",
       "      <td>Destiny's Child</td>\n",
       "      <td>Independent Women Part I</td>\n",
       "      <td>218</td>\n",
       "      <td>Rock</td>\n",
       "      <td>2000-09-23</td>\n",
       "      <td>2000-11-18</td>\n",
       "      <td>78</td>\n",
       "      <td>63.0</td>\n",
       "      <td>49.0</td>\n",
       "      <td>...</td>\n",
       "      <td>NaN</td>\n",
       "      <td>NaN</td>\n",
       "      <td>NaN</td>\n",
       "      <td>NaN</td>\n",
       "      <td>NaN</td>\n",
       "      <td>NaN</td>\n",
       "      <td>NaN</td>\n",
       "      <td>NaN</td>\n",
       "      <td>NaN</td>\n",
       "      <td>NaN</td>\n",
       "    </tr>\n",
       "    <tr>\n",
       "      <th>1</th>\n",
       "      <td>2000</td>\n",
       "      <td>Santana</td>\n",
       "      <td>Maria, Maria</td>\n",
       "      <td>258</td>\n",
       "      <td>Rock</td>\n",
       "      <td>2000-02-12</td>\n",
       "      <td>2000-04-08</td>\n",
       "      <td>15</td>\n",
       "      <td>8.0</td>\n",
       "      <td>6.0</td>\n",
       "      <td>...</td>\n",
       "      <td>NaN</td>\n",
       "      <td>NaN</td>\n",
       "      <td>NaN</td>\n",
       "      <td>NaN</td>\n",
       "      <td>NaN</td>\n",
       "      <td>NaN</td>\n",
       "      <td>NaN</td>\n",
       "      <td>NaN</td>\n",
       "      <td>NaN</td>\n",
       "      <td>NaN</td>\n",
       "    </tr>\n",
       "    <tr>\n",
       "      <th>2</th>\n",
       "      <td>2000</td>\n",
       "      <td>Savage Garden</td>\n",
       "      <td>I Knew I Loved You</td>\n",
       "      <td>247</td>\n",
       "      <td>Rock</td>\n",
       "      <td>1999-10-23</td>\n",
       "      <td>2000-01-29</td>\n",
       "      <td>71</td>\n",
       "      <td>48.0</td>\n",
       "      <td>43.0</td>\n",
       "      <td>...</td>\n",
       "      <td>NaN</td>\n",
       "      <td>NaN</td>\n",
       "      <td>NaN</td>\n",
       "      <td>NaN</td>\n",
       "      <td>NaN</td>\n",
       "      <td>NaN</td>\n",
       "      <td>NaN</td>\n",
       "      <td>NaN</td>\n",
       "      <td>NaN</td>\n",
       "      <td>NaN</td>\n",
       "    </tr>\n",
       "    <tr>\n",
       "      <th>3</th>\n",
       "      <td>2000</td>\n",
       "      <td>Madonna</td>\n",
       "      <td>Music</td>\n",
       "      <td>225</td>\n",
       "      <td>Rock</td>\n",
       "      <td>2000-08-12</td>\n",
       "      <td>2000-09-16</td>\n",
       "      <td>41</td>\n",
       "      <td>23.0</td>\n",
       "      <td>18.0</td>\n",
       "      <td>...</td>\n",
       "      <td>NaN</td>\n",
       "      <td>NaN</td>\n",
       "      <td>NaN</td>\n",
       "      <td>NaN</td>\n",
       "      <td>NaN</td>\n",
       "      <td>NaN</td>\n",
       "      <td>NaN</td>\n",
       "      <td>NaN</td>\n",
       "      <td>NaN</td>\n",
       "      <td>NaN</td>\n",
       "    </tr>\n",
       "    <tr>\n",
       "      <th>4</th>\n",
       "      <td>2000</td>\n",
       "      <td>Aguilera, Christina</td>\n",
       "      <td>Come On Over Baby (All I Want Is You)</td>\n",
       "      <td>218</td>\n",
       "      <td>Rock</td>\n",
       "      <td>2000-08-05</td>\n",
       "      <td>2000-10-14</td>\n",
       "      <td>57</td>\n",
       "      <td>47.0</td>\n",
       "      <td>45.0</td>\n",
       "      <td>...</td>\n",
       "      <td>NaN</td>\n",
       "      <td>NaN</td>\n",
       "      <td>NaN</td>\n",
       "      <td>NaN</td>\n",
       "      <td>NaN</td>\n",
       "      <td>NaN</td>\n",
       "      <td>NaN</td>\n",
       "      <td>NaN</td>\n",
       "      <td>NaN</td>\n",
       "      <td>NaN</td>\n",
       "    </tr>\n",
       "  </tbody>\n",
       "</table>\n",
       "<p>5 rows × 83 columns</p>\n",
       "</div>"
      ],
      "text/plain": [
       "   year      artist.inverted                                  track  time  \\\n",
       "0  2000      Destiny's Child               Independent Women Part I   218   \n",
       "1  2000              Santana                           Maria, Maria   258   \n",
       "2  2000        Savage Garden                     I Knew I Loved You   247   \n",
       "3  2000              Madonna                                  Music   225   \n",
       "4  2000  Aguilera, Christina  Come On Over Baby (All I Want Is You)   218   \n",
       "\n",
       "  genre date.entered date.peaked   1     2     3 ...  67  68  69  70  71  72  \\\n",
       "0  Rock   2000-09-23  2000-11-18  78  63.0  49.0 ... NaN NaN NaN NaN NaN NaN   \n",
       "1  Rock   2000-02-12  2000-04-08  15   8.0   6.0 ... NaN NaN NaN NaN NaN NaN   \n",
       "2  Rock   1999-10-23  2000-01-29  71  48.0  43.0 ... NaN NaN NaN NaN NaN NaN   \n",
       "3  Rock   2000-08-12  2000-09-16  41  23.0  18.0 ... NaN NaN NaN NaN NaN NaN   \n",
       "4  Rock   2000-08-05  2000-10-14  57  47.0  45.0 ... NaN NaN NaN NaN NaN NaN   \n",
       "\n",
       "   73  74  75  76  \n",
       "0 NaN NaN NaN NaN  \n",
       "1 NaN NaN NaN NaN  \n",
       "2 NaN NaN NaN NaN  \n",
       "3 NaN NaN NaN NaN  \n",
       "4 NaN NaN NaN NaN  \n",
       "\n",
       "[5 rows x 83 columns]"
      ]
     },
     "execution_count": 27,
     "metadata": {},
     "output_type": "execute_result"
    }
   ],
   "source": [
    "billboard.columns = new_cols\n",
    "billboard.head()"
   ]
  },
  {
   "cell_type": "code",
   "execution_count": null,
   "metadata": {
    "collapsed": true
   },
   "outputs": [],
   "source": []
  },
  {
   "cell_type": "code",
   "execution_count": 22,
   "metadata": {
    "collapsed": false
   },
   "outputs": [],
   "source": [
    "bill_long = pd.melt(billboard,\n",
    "         id_vars=keep_cols,\n",
    "         value_vars=weeks72,\n",
    "         var_name='Week',\n",
    "         value_name='Chart Position'\n",
    ")"
   ]
  },
  {
   "cell_type": "code",
   "execution_count": null,
   "metadata": {
    "collapsed": false
   },
   "outputs": [],
   "source": [
    "bill_long.head(2)"
   ]
  },
  {
   "cell_type": "code",
   "execution_count": null,
   "metadata": {
    "collapsed": false
   },
   "outputs": [],
   "source": []
  },
  {
   "cell_type": "markdown",
   "metadata": {},
   "source": [
    "## Step 3: Visualize your data."
   ]
  },
  {
   "cell_type": "markdown",
   "metadata": {},
   "source": [
    "##### Using a plotting utility of your choice, create visualizations that will provide context to your data. There is no minimum or maximum number of graphs you should generate, but there should be a clear and consistent story being told. Give insights to the distribution, statistics, and relationships of the data. "
   ]
  },
  {
   "cell_type": "code",
   "execution_count": 31,
   "metadata": {
    "collapsed": false
   },
   "outputs": [
    {
     "data": {
      "text/plain": [
       "<matplotlib.axes._subplots.AxesSubplot at 0x116fd3bd0>"
      ]
     },
     "execution_count": 31,
     "metadata": {},
     "output_type": "execute_result"
    },
    {
     "data": {
      "image/png": "[encoded data removed]",
      "text/plain": [
       "<matplotlib.figure.Figure at 0x116fd3fd0>"
      ]
     },
     "metadata": {},
     "output_type": "display_data"
    }
   ],
   "source": [
    "genre_counts.plot.bar()"
   ]
  },
  {
   "cell_type": "code",
   "execution_count": 41,
   "metadata": {
    "collapsed": false
   },
   "outputs": [
    {
     "data": {
      "text/plain": [
       "<matplotlib.axes._subplots.AxesSubplot at 0x11a568e50>"
      ]
     },
     "execution_count": 41,
     "metadata": {},
     "output_type": "execute_result"
    },
    {
     "data": {
      "image/png": "[encoded data removed]",
      "text/plain": [
       "<matplotlib.figure.Figure at 0x119979290>"
      ]
     },
     "metadata": {},
     "output_type": "display_data"
    }
   ],
   "source": [
    "bbtimes = billboard['time'].dropna()\n",
    "sns.distplot(bbtimes)"
   ]
  },
  {
   "cell_type": "code",
   "execution_count": 42,
   "metadata": {
    "collapsed": false
   },
   "outputs": [
    {
     "data": {
      "text/plain": [
       "count    316.000000\n",
       "mean     241.832278\n",
       "std       41.128529\n",
       "min      156.000000\n",
       "25%      218.750000\n",
       "50%      236.000000\n",
       "75%      257.000000\n",
       "max      470.000000\n",
       "Name: time, dtype: float64"
      ]
     },
     "execution_count": 42,
     "metadata": {},
     "output_type": "execute_result"
    }
   ],
   "source": [
    "bbtimes.describe()"
   ]
  },
  {
   "cell_type": "code",
   "execution_count": 36,
   "metadata": {
    "collapsed": false
   },
   "outputs": [
    {
     "data": {
      "image/png": "[encoded data removed]",
      "text/plain": [
       "<matplotlib.figure.Figure at 0x11a1d1910>"
      ]
     },
     "metadata": {},
     "output_type": "display_data"
    }
   ],
   "source": [
    "rock_times = billboard.time[billboard['genre'] =='Rock']\n",
    "country_times = billboard.time[billboard['genre'] =='Country']\n",
    "rap_times = billboard.time[billboard['genre'] == 'Rap']\n",
    "\n",
    "sns.distplot(rock_times)\n",
    "sns.distplot(country_times)\n",
    "sns.distplot(rap_times)\n",
    "\n",
    "sns.despine()"
   ]
  },
  {
   "cell_type": "markdown",
   "metadata": {},
   "source": [
    "## Step 4: Create a Problem Statement.\n",
    "\n",
    "##### Having explored the data, come up with a problem statement for this data set. You can feel free to introduce data from any other source to support your problem statement, just be sure to provide a link to the origin of the data. Once again- be creative!"
   ]
  },
  {
   "cell_type": "code",
   "execution_count": null,
   "metadata": {
    "collapsed": true
   },
   "outputs": [],
   "source": []
  },
  {
   "cell_type": "markdown",
   "metadata": {
    "collapsed": false
   },
   "source": [
    "## Step 5: Brainstorm your Approach.\n",
    "##### In bullet-list form, provide a proposed approach for evaluating your problem statement. This can be somewhat high-level, but start to think about ways you can massage the data for maximum efficacy. "
   ]
  },
  {
   "cell_type": "code",
   "execution_count": null,
   "metadata": {
    "collapsed": true
   },
   "outputs": [],
   "source": []
  },
  {
   "cell_type": "markdown",
   "metadata": {
    "collapsed": true
   },
   "source": [
    "## Step 6: Create a blog post with your code snippets and visualizations.\n",
    "##### Data Science is a growing field, and the Tech industry thrives off of collaboration and sharing of knowledge. Blogging is a powerful means for pushing the needle forward in our field. Using your blogging platform of choice, create a post describing each of the 5 steps above. Rather than writing a procedural text, imagine you're describing the data, visualizations, and conclusions you've arrived at to your peers. Aim for roughly 800-1,000 words. "
   ]
  },
  {
   "cell_type": "code",
   "execution_count": null,
   "metadata": {
    "collapsed": false
   },
   "outputs": [],
   "source": []
  },
  {
   "cell_type": "markdown",
   "metadata": {},
   "source": [
    "## BONUS: The Content Managers working for the Podcast Publishing Company have recognized you as a thought leader in your field. They've asked you to pen a white paper (minimum 600 words) on the subject of 'What It Means To Have Clean Data'. This will be an opinion piece read by a wide audience, so be sure to back up your statements with real world examples or scenarios.\n",
    "\n",
    "##### Hint: To get started, look around on the internet for articles, blog posts, papers, youtube videos, podcasts, reddit discussions, anything that will help you understand the challenges and implications of dealing with big data. This should be a personal reflection on everything you've learned this week, and the learning goals that have been set out for you going forward. "
   ]
  },
  {
   "cell_type": "markdown",
   "metadata": {
    "collapsed": true
   },
   "source": [
    "[UCLA - Data Cleaning 101](http://www.ats.ucla.edu/stat/sas/library/nesug99/ss123.pdf)  \n",
    "[Data Cleaning Problems and Current Approach](http://betterevaluation.org/sites/default/files/data_cleaning.pdf)  \n",
    "[Data Cleaning: Detecting, Diagnosing, and Editing Data Abnormalities](http://www.ncbi.nlm.nih.gov/pmc/articles/PMC1198040/pdf/pmed.0020267.pdf)  \n",
    "[Microsoft - Data Cleaning](http://research.microsoft.com/en-us/projects/datacleaning/)  \n",
    "[Panda Chapter 2 - Data Cleaning](http://www.tulane.edu/~panda2/Analysis2/datclean/dataclean.htm)  \n",
    "[StatsSoft Data Mining, Data Cleaning & Outliers](https://www.youtube.com/watch?v=06jBp-vfqqs)"
   ]
  },
  {
   "cell_type": "markdown",
   "metadata": {},
   "source": [
    "# From Dirty to Clean\n",
    "## The Importance of Clean Data in Analysis\n",
    "\n",
    "\n",
    "### Introduction\n",
    "\n",
    "Data collection has improved substantially over the past decade. Unfortunately this data is largely fragmented. Many different organizations have different methods of organizing and categorizing their data. \n",
    "\n",
    "In order to present data that is acceptable for analysis and presentation organizations must have an internal documented process for the collection and standardization of their data. If that is not present, then when looking at the data care must be preserved to remove unreliable data, and convert data from multiple sources into a clean consistent format\n",
    "\n",
    "### Background\n",
    "\n",
    "\n",
    "\n",
    "### Solution\n",
    "\n",
    "Through the "
   ]
  }
 ],
 "metadata": {
  "kernelspec": {
   "display_name": "Python 2",
   "language": "python",
   "name": "python2"
  },
  "language_info": {
   "codemirror_mode": {
    "name": "ipython",
    "version": 2
   },
   "file_extension": ".py",
   "mimetype": "text/x-python",
   "name": "python",
   "nbconvert_exporter": "python",
   "pygments_lexer": "ipython2",
   "version": "2.7.11"
  }
 },
 "nbformat": 4,
 "nbformat_minor": 0
}
