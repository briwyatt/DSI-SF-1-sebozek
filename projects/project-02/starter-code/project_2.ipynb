{
 "cells": [
  {
   "cell_type": "code",
   "execution_count": 1,
   "metadata": {
    "collapsed": false
   },
   "outputs": [
    {
     "name": "stdout",
     "output_type": "stream",
     "text": [
      "Hello World\n"
     ]
    }
   ],
   "source": [
    "print \"Hello World\" # Kill the whitespace effect"
   ]
  },
  {
   "cell_type": "code",
   "execution_count": 67,
   "metadata": {
    "collapsed": true
   },
   "outputs": [],
   "source": [
    "import numpy as np\n",
    "import pandas as pd\n",
    "import matplotlib as mpl\n",
    "import matplotlib.pyplot as plt\n",
    "import seaborn as sns\n",
    "\n",
    "sns.set_style(\"white\")\n",
    "sns.set_style(\"ticks\")\n",
    "sns.despine()"
   ]
  },
  {
   "cell_type": "markdown",
   "metadata": {},
   "source": [
    "# Project 2\n",
    "## Step 1: Exploring your data.\n",
    "\n",
    "##### Load your data in using Pandas and start to explore. Save all of your early exploration code here and include in your final submission."
   ]
  },
  {
   "cell_type": "code",
   "execution_count": 31,
   "metadata": {
    "collapsed": false
   },
   "outputs": [],
   "source": [
    "billboard = pd.read_csv('../assets/billboard.csv')"
   ]
  },
  {
   "cell_type": "code",
   "execution_count": 32,
   "metadata": {
    "collapsed": false
   },
   "outputs": [
    {
     "data": {
      "text/plain": [
       "year                 int64\n",
       "artist.inverted     object\n",
       "track               object\n",
       "time                object\n",
       "genre               object\n",
       "date.entered        object\n",
       "date.peaked         object\n",
       "x1st.week            int64\n",
       "x2nd.week          float64\n",
       "x3rd.week          float64\n",
       "x4th.week          float64\n",
       "x5th.week          float64\n",
       "x6th.week          float64\n",
       "x7th.week          float64\n",
       "x8th.week          float64\n",
       "x9th.week          float64\n",
       "x10th.week         float64\n",
       "x11th.week         float64\n",
       "x12th.week         float64\n",
       "x13th.wek          float64\n",
       "x14th.week         float64\n",
       "x15th.week         float64\n",
       "x16th.week         float64\n",
       "x17th.week         float64\n",
       "x18th.week         float64\n",
       "x19th.week         float64\n",
       "x20th.week         float64\n",
       "x21st.week         float64\n",
       "x22nd.week         float64\n",
       "x23rd.week         float64\n",
       "                    ...   \n",
       "x47th.week         float64\n",
       "x48th.week         float64\n",
       "x49th.week         float64\n",
       "x50th.week         float64\n",
       "x51st.week         float64\n",
       "x52nd.week         float64\n",
       "x53rd.week         float64\n",
       "x54th.week         float64\n",
       "x55th.week         float64\n",
       "x56th.week         float64\n",
       "x57th.week         float64\n",
       "x58th.week         float64\n",
       "x59th.week         float64\n",
       "x60th.week         float64\n",
       "x61st.week         float64\n",
       "x62nd.week         float64\n",
       "x63rd.week         float64\n",
       "x64th.week         float64\n",
       "x65th.week         float64\n",
       "x66th.week         float64\n",
       "x67th.week         float64\n",
       "x68th.week         float64\n",
       "x69th.week         float64\n",
       "x70th.week         float64\n",
       "x71st.week         float64\n",
       "x72nd.week         float64\n",
       "x73rd.week         float64\n",
       "x74th.week         float64\n",
       "x75th.week         float64\n",
       "x76th.week         float64\n",
       "dtype: object"
      ]
     },
     "execution_count": 32,
     "metadata": {},
     "output_type": "execute_result"
    }
   ],
   "source": [
    "billboard.dtypes"
   ]
  },
  {
   "cell_type": "code",
   "execution_count": 33,
   "metadata": {
    "collapsed": false
   },
   "outputs": [
    {
     "data": {
      "text/html": [
       "<div>\n",
       "<table border=\"1\" class=\"dataframe\">\n",
       "  <thead>\n",
       "    <tr style=\"text-align: right;\">\n",
       "      <th></th>\n",
       "      <th>year</th>\n",
       "      <th>artist.inverted</th>\n",
       "      <th>track</th>\n",
       "      <th>time</th>\n",
       "      <th>genre</th>\n",
       "      <th>date.entered</th>\n",
       "      <th>date.peaked</th>\n",
       "      <th>x1st.week</th>\n",
       "      <th>x2nd.week</th>\n",
       "      <th>x3rd.week</th>\n",
       "      <th>...</th>\n",
       "      <th>x67th.week</th>\n",
       "      <th>x68th.week</th>\n",
       "      <th>x69th.week</th>\n",
       "      <th>x70th.week</th>\n",
       "      <th>x71st.week</th>\n",
       "      <th>x72nd.week</th>\n",
       "      <th>x73rd.week</th>\n",
       "      <th>x74th.week</th>\n",
       "      <th>x75th.week</th>\n",
       "      <th>x76th.week</th>\n",
       "    </tr>\n",
       "  </thead>\n",
       "  <tbody>\n",
       "    <tr>\n",
       "      <th>0</th>\n",
       "      <td>2000</td>\n",
       "      <td>Destiny's Child</td>\n",
       "      <td>Independent Women Part I</td>\n",
       "      <td>3:38</td>\n",
       "      <td>Rock</td>\n",
       "      <td>2000-09-23</td>\n",
       "      <td>2000-11-18</td>\n",
       "      <td>78</td>\n",
       "      <td>63.0</td>\n",
       "      <td>49.0</td>\n",
       "      <td>...</td>\n",
       "      <td>NaN</td>\n",
       "      <td>NaN</td>\n",
       "      <td>NaN</td>\n",
       "      <td>NaN</td>\n",
       "      <td>NaN</td>\n",
       "      <td>NaN</td>\n",
       "      <td>NaN</td>\n",
       "      <td>NaN</td>\n",
       "      <td>NaN</td>\n",
       "      <td>NaN</td>\n",
       "    </tr>\n",
       "    <tr>\n",
       "      <th>1</th>\n",
       "      <td>2000</td>\n",
       "      <td>Santana</td>\n",
       "      <td>Maria, Maria</td>\n",
       "      <td>4:18</td>\n",
       "      <td>Rock</td>\n",
       "      <td>2000-02-12</td>\n",
       "      <td>2000-04-08</td>\n",
       "      <td>15</td>\n",
       "      <td>8.0</td>\n",
       "      <td>6.0</td>\n",
       "      <td>...</td>\n",
       "      <td>NaN</td>\n",
       "      <td>NaN</td>\n",
       "      <td>NaN</td>\n",
       "      <td>NaN</td>\n",
       "      <td>NaN</td>\n",
       "      <td>NaN</td>\n",
       "      <td>NaN</td>\n",
       "      <td>NaN</td>\n",
       "      <td>NaN</td>\n",
       "      <td>NaN</td>\n",
       "    </tr>\n",
       "  </tbody>\n",
       "</table>\n",
       "<p>2 rows × 83 columns</p>\n",
       "</div>"
      ],
      "text/plain": [
       "   year  artist.inverted                     track  time genre date.entered  \\\n",
       "0  2000  Destiny's Child  Independent Women Part I  3:38  Rock   2000-09-23   \n",
       "1  2000          Santana              Maria, Maria  4:18  Rock   2000-02-12   \n",
       "\n",
       "  date.peaked  x1st.week  x2nd.week  x3rd.week     ...      x67th.week  \\\n",
       "0  2000-11-18         78       63.0       49.0     ...             NaN   \n",
       "1  2000-04-08         15        8.0        6.0     ...             NaN   \n",
       "\n",
       "   x68th.week  x69th.week  x70th.week  x71st.week  x72nd.week  x73rd.week  \\\n",
       "0         NaN         NaN         NaN         NaN         NaN         NaN   \n",
       "1         NaN         NaN         NaN         NaN         NaN         NaN   \n",
       "\n",
       "   x74th.week  x75th.week  x76th.week  \n",
       "0         NaN         NaN         NaN  \n",
       "1         NaN         NaN         NaN  \n",
       "\n",
       "[2 rows x 83 columns]"
      ]
     },
     "execution_count": 33,
     "metadata": {},
     "output_type": "execute_result"
    }
   ],
   "source": [
    "billboard.head(2)"
   ]
  },
  {
   "cell_type": "code",
   "execution_count": 34,
   "metadata": {
    "collapsed": false
   },
   "outputs": [
    {
     "data": {
      "text/html": [
       "<div>\n",
       "<table border=\"1\" class=\"dataframe\">\n",
       "  <thead>\n",
       "    <tr style=\"text-align: right;\">\n",
       "      <th></th>\n",
       "      <th>year</th>\n",
       "      <th>artist.inverted</th>\n",
       "      <th>track</th>\n",
       "      <th>time</th>\n",
       "      <th>genre</th>\n",
       "      <th>date.entered</th>\n",
       "      <th>date.peaked</th>\n",
       "      <th>x1st.week</th>\n",
       "      <th>x2nd.week</th>\n",
       "      <th>x3rd.week</th>\n",
       "      <th>...</th>\n",
       "      <th>x67th.week</th>\n",
       "      <th>x68th.week</th>\n",
       "      <th>x69th.week</th>\n",
       "      <th>x70th.week</th>\n",
       "      <th>x71st.week</th>\n",
       "      <th>x72nd.week</th>\n",
       "      <th>x73rd.week</th>\n",
       "      <th>x74th.week</th>\n",
       "      <th>x75th.week</th>\n",
       "      <th>x76th.week</th>\n",
       "    </tr>\n",
       "  </thead>\n",
       "  <tbody>\n",
       "    <tr>\n",
       "      <th>315</th>\n",
       "      <td>2000</td>\n",
       "      <td>Eastsidaz, The</td>\n",
       "      <td>Got Beef</td>\n",
       "      <td>3:58</td>\n",
       "      <td>Rap</td>\n",
       "      <td>2000-07-01</td>\n",
       "      <td>2000-07-01</td>\n",
       "      <td>99</td>\n",
       "      <td>99.0</td>\n",
       "      <td>NaN</td>\n",
       "      <td>...</td>\n",
       "      <td>NaN</td>\n",
       "      <td>NaN</td>\n",
       "      <td>NaN</td>\n",
       "      <td>NaN</td>\n",
       "      <td>NaN</td>\n",
       "      <td>NaN</td>\n",
       "      <td>NaN</td>\n",
       "      <td>NaN</td>\n",
       "      <td>NaN</td>\n",
       "      <td>NaN</td>\n",
       "    </tr>\n",
       "    <tr>\n",
       "      <th>316</th>\n",
       "      <td>2000</td>\n",
       "      <td>Fragma</td>\n",
       "      <td>Toca's Miracle</td>\n",
       "      <td>3:22</td>\n",
       "      <td>R&amp;B</td>\n",
       "      <td>2000-10-28</td>\n",
       "      <td>2000-10-28</td>\n",
       "      <td>99</td>\n",
       "      <td>NaN</td>\n",
       "      <td>NaN</td>\n",
       "      <td>...</td>\n",
       "      <td>NaN</td>\n",
       "      <td>NaN</td>\n",
       "      <td>NaN</td>\n",
       "      <td>NaN</td>\n",
       "      <td>NaN</td>\n",
       "      <td>NaN</td>\n",
       "      <td>NaN</td>\n",
       "      <td>NaN</td>\n",
       "      <td>NaN</td>\n",
       "      <td>NaN</td>\n",
       "    </tr>\n",
       "  </tbody>\n",
       "</table>\n",
       "<p>2 rows × 83 columns</p>\n",
       "</div>"
      ],
      "text/plain": [
       "     year artist.inverted           track  time genre date.entered  \\\n",
       "315  2000  Eastsidaz, The        Got Beef  3:58   Rap   2000-07-01   \n",
       "316  2000          Fragma  Toca's Miracle  3:22   R&B   2000-10-28   \n",
       "\n",
       "    date.peaked  x1st.week  x2nd.week  x3rd.week     ...      x67th.week  \\\n",
       "315  2000-07-01         99       99.0        NaN     ...             NaN   \n",
       "316  2000-10-28         99        NaN        NaN     ...             NaN   \n",
       "\n",
       "     x68th.week  x69th.week  x70th.week  x71st.week  x72nd.week  x73rd.week  \\\n",
       "315         NaN         NaN         NaN         NaN         NaN         NaN   \n",
       "316         NaN         NaN         NaN         NaN         NaN         NaN   \n",
       "\n",
       "     x74th.week  x75th.week  x76th.week  \n",
       "315         NaN         NaN         NaN  \n",
       "316         NaN         NaN         NaN  \n",
       "\n",
       "[2 rows x 83 columns]"
      ]
     },
     "execution_count": 34,
     "metadata": {},
     "output_type": "execute_result"
    }
   ],
   "source": [
    "billboard.tail(2)"
   ]
  },
  {
   "cell_type": "code",
   "execution_count": 35,
   "metadata": {
    "collapsed": false
   },
   "outputs": [
    {
     "data": {
      "text/plain": [
       "array([2000])"
      ]
     },
     "execution_count": 35,
     "metadata": {},
     "output_type": "execute_result"
    }
   ],
   "source": [
    "pd.unique(billboard.year) # Count unique items in the year section of the array"
   ]
  },
  {
   "cell_type": "code",
   "execution_count": 36,
   "metadata": {
    "collapsed": false
   },
   "outputs": [
    {
     "data": {
      "text/plain": [
       "array(['Rock', 'Latin', 'Country', 'Rap', 'Pop', 'Electronica', 'Jazz',\n",
       "       'R&B', 'R&B\\n', 'Reggae', 'Gospel'], dtype=object)"
      ]
     },
     "execution_count": 36,
     "metadata": {},
     "output_type": "execute_result"
    }
   ],
   "source": [
    "#len(pd.unique(billboard.track)) # Determine number of unique tracks (316)\n",
    "#len(pd.unique(billboard.genre)) # Determine unique genres (11)\n",
    "pd.unique(billboard.genre)      # R&B shows up twice (R&B and R&B\\n)\n",
    "#pd.unique(billboard.genre)      # Show names of unique genres\n",
    "\n",
    "#billboard.groupby(['genre', 'time'])['time'].count()"
   ]
  },
  {
   "cell_type": "code",
   "execution_count": 37,
   "metadata": {
    "collapsed": false
   },
   "outputs": [
    {
     "ename": "AttributeError",
     "evalue": "'DataFrame' object has no attribute 'datepeaked'",
     "output_type": "error",
     "traceback": [
      "\u001b[0;31m---------------------------------------------------------------------------\u001b[0m",
      "\u001b[0;31mAttributeError\u001b[0m                            Traceback (most recent call last)",
      "\u001b[0;32m<ipython-input-37-6d57e9d1a814>\u001b[0m in \u001b[0;36m<module>\u001b[0;34m()\u001b[0m\n\u001b[0;32m----> 1\u001b[0;31m \u001b[0mpd\u001b[0m\u001b[0;34m.\u001b[0m\u001b[0munique\u001b[0m\u001b[0;34m(\u001b[0m\u001b[0mbillboard\u001b[0m\u001b[0;34m.\u001b[0m\u001b[0mdatepeaked\u001b[0m\u001b[0;34m)\u001b[0m\u001b[0;34m\u001b[0m\u001b[0m\n\u001b[0m",
      "\u001b[0;32m/Users/sebozek/anaconda/lib/python2.7/site-packages/pandas/core/generic.pyc\u001b[0m in \u001b[0;36m__getattr__\u001b[0;34m(self, name)\u001b[0m\n\u001b[1;32m   2667\u001b[0m             \u001b[0;32mif\u001b[0m \u001b[0mname\u001b[0m \u001b[0;32min\u001b[0m \u001b[0mself\u001b[0m\u001b[0;34m.\u001b[0m\u001b[0m_info_axis\u001b[0m\u001b[0;34m:\u001b[0m\u001b[0;34m\u001b[0m\u001b[0m\n\u001b[1;32m   2668\u001b[0m                 \u001b[0;32mreturn\u001b[0m \u001b[0mself\u001b[0m\u001b[0;34m[\u001b[0m\u001b[0mname\u001b[0m\u001b[0;34m]\u001b[0m\u001b[0;34m\u001b[0m\u001b[0m\n\u001b[0;32m-> 2669\u001b[0;31m             \u001b[0;32mreturn\u001b[0m \u001b[0mobject\u001b[0m\u001b[0;34m.\u001b[0m\u001b[0m__getattribute__\u001b[0m\u001b[0;34m(\u001b[0m\u001b[0mself\u001b[0m\u001b[0;34m,\u001b[0m \u001b[0mname\u001b[0m\u001b[0;34m)\u001b[0m\u001b[0;34m\u001b[0m\u001b[0m\n\u001b[0m\u001b[1;32m   2670\u001b[0m \u001b[0;34m\u001b[0m\u001b[0m\n\u001b[1;32m   2671\u001b[0m     \u001b[0;32mdef\u001b[0m \u001b[0m__setattr__\u001b[0m\u001b[0;34m(\u001b[0m\u001b[0mself\u001b[0m\u001b[0;34m,\u001b[0m \u001b[0mname\u001b[0m\u001b[0;34m,\u001b[0m \u001b[0mvalue\u001b[0m\u001b[0;34m)\u001b[0m\u001b[0;34m:\u001b[0m\u001b[0;34m\u001b[0m\u001b[0m\n",
      "\u001b[0;31mAttributeError\u001b[0m: 'DataFrame' object has no attribute 'datepeaked'"
     ]
    }
   ],
   "source": [
    "pd.unique(billboard.datepeaked)"
   ]
  },
  {
   "cell_type": "code",
   "execution_count": 38,
   "metadata": {
    "collapsed": false
   },
   "outputs": [
    {
     "ename": "TypeError",
     "evalue": "'RangeIndex' object is not callable",
     "output_type": "error",
     "traceback": [
      "\u001b[0;31m---------------------------------------------------------------------------\u001b[0m",
      "\u001b[0;31mTypeError\u001b[0m                                 Traceback (most recent call last)",
      "\u001b[0;32m<ipython-input-38-5673f256be5e>\u001b[0m in \u001b[0;36m<module>\u001b[0;34m()\u001b[0m\n\u001b[1;32m      4\u001b[0m \u001b[0;34m\u001b[0m\u001b[0m\n\u001b[1;32m      5\u001b[0m \u001b[0;34m\u001b[0m\u001b[0m\n\u001b[0;32m----> 6\u001b[0;31m \u001b[0mbillboard_wksubset\u001b[0m \u001b[0;34m=\u001b[0m \u001b[0mbillboard\u001b[0m\u001b[0;34m.\u001b[0m\u001b[0mindex\u001b[0m\u001b[0;34m(\u001b[0m\u001b[0msevsixrng\u001b[0m\u001b[0;34m)\u001b[0m\u001b[0;34m\u001b[0m\u001b[0m\n\u001b[0m",
      "\u001b[0;31mTypeError\u001b[0m: 'RangeIndex' object is not callable"
     ]
    }
   ],
   "source": [
    "sevsixrng = range(1,77)        # Create list of range from 1 - 76\n",
    "\n",
    "strssrng = map(int,sevsixrng)  # map list to str\n",
    "\n",
    "\n",
    "billboard_wksubset = billboard.index(sevsixrng)"
   ]
  },
  {
   "cell_type": "code",
   "execution_count": 43,
   "metadata": {
    "collapsed": false
   },
   "outputs": [
    {
     "data": {
      "text/html": [
       "<div>\n",
       "<table border=\"1\" class=\"dataframe\">\n",
       "  <thead>\n",
       "    <tr style=\"text-align: right;\">\n",
       "      <th></th>\n",
       "      <th>year</th>\n",
       "      <th>x1st.week</th>\n",
       "      <th>x2nd.week</th>\n",
       "      <th>x3rd.week</th>\n",
       "      <th>x4th.week</th>\n",
       "      <th>x5th.week</th>\n",
       "      <th>x6th.week</th>\n",
       "      <th>x7th.week</th>\n",
       "      <th>x8th.week</th>\n",
       "      <th>x9th.week</th>\n",
       "      <th>...</th>\n",
       "      <th>x67th.week</th>\n",
       "      <th>x68th.week</th>\n",
       "      <th>x69th.week</th>\n",
       "      <th>x70th.week</th>\n",
       "      <th>x71st.week</th>\n",
       "      <th>x72nd.week</th>\n",
       "      <th>x73rd.week</th>\n",
       "      <th>x74th.week</th>\n",
       "      <th>x75th.week</th>\n",
       "      <th>x76th.week</th>\n",
       "    </tr>\n",
       "  </thead>\n",
       "  <tbody>\n",
       "    <tr>\n",
       "      <th>count</th>\n",
       "      <td>317.0</td>\n",
       "      <td>317.000000</td>\n",
       "      <td>312.000000</td>\n",
       "      <td>307.000000</td>\n",
       "      <td>300.000000</td>\n",
       "      <td>292.000000</td>\n",
       "      <td>280.000000</td>\n",
       "      <td>269.000000</td>\n",
       "      <td>260.000000</td>\n",
       "      <td>253.000000</td>\n",
       "      <td>...</td>\n",
       "      <td>0.0</td>\n",
       "      <td>0.0</td>\n",
       "      <td>0.0</td>\n",
       "      <td>0.0</td>\n",
       "      <td>0.0</td>\n",
       "      <td>0.0</td>\n",
       "      <td>0.0</td>\n",
       "      <td>0.0</td>\n",
       "      <td>0.0</td>\n",
       "      <td>0.0</td>\n",
       "    </tr>\n",
       "    <tr>\n",
       "      <th>mean</th>\n",
       "      <td>2000.0</td>\n",
       "      <td>79.958991</td>\n",
       "      <td>71.173077</td>\n",
       "      <td>65.045603</td>\n",
       "      <td>59.763333</td>\n",
       "      <td>56.339041</td>\n",
       "      <td>52.360714</td>\n",
       "      <td>49.219331</td>\n",
       "      <td>47.119231</td>\n",
       "      <td>46.343874</td>\n",
       "      <td>...</td>\n",
       "      <td>NaN</td>\n",
       "      <td>NaN</td>\n",
       "      <td>NaN</td>\n",
       "      <td>NaN</td>\n",
       "      <td>NaN</td>\n",
       "      <td>NaN</td>\n",
       "      <td>NaN</td>\n",
       "      <td>NaN</td>\n",
       "      <td>NaN</td>\n",
       "      <td>NaN</td>\n",
       "    </tr>\n",
       "    <tr>\n",
       "      <th>std</th>\n",
       "      <td>0.0</td>\n",
       "      <td>14.686865</td>\n",
       "      <td>18.200443</td>\n",
       "      <td>20.752302</td>\n",
       "      <td>22.324619</td>\n",
       "      <td>23.780022</td>\n",
       "      <td>24.473273</td>\n",
       "      <td>25.654279</td>\n",
       "      <td>26.370782</td>\n",
       "      <td>27.136419</td>\n",
       "      <td>...</td>\n",
       "      <td>NaN</td>\n",
       "      <td>NaN</td>\n",
       "      <td>NaN</td>\n",
       "      <td>NaN</td>\n",
       "      <td>NaN</td>\n",
       "      <td>NaN</td>\n",
       "      <td>NaN</td>\n",
       "      <td>NaN</td>\n",
       "      <td>NaN</td>\n",
       "      <td>NaN</td>\n",
       "    </tr>\n",
       "    <tr>\n",
       "      <th>min</th>\n",
       "      <td>2000.0</td>\n",
       "      <td>15.000000</td>\n",
       "      <td>8.000000</td>\n",
       "      <td>6.000000</td>\n",
       "      <td>5.000000</td>\n",
       "      <td>2.000000</td>\n",
       "      <td>1.000000</td>\n",
       "      <td>1.000000</td>\n",
       "      <td>1.000000</td>\n",
       "      <td>1.000000</td>\n",
       "      <td>...</td>\n",
       "      <td>NaN</td>\n",
       "      <td>NaN</td>\n",
       "      <td>NaN</td>\n",
       "      <td>NaN</td>\n",
       "      <td>NaN</td>\n",
       "      <td>NaN</td>\n",
       "      <td>NaN</td>\n",
       "      <td>NaN</td>\n",
       "      <td>NaN</td>\n",
       "      <td>NaN</td>\n",
       "    </tr>\n",
       "    <tr>\n",
       "      <th>25%</th>\n",
       "      <td>2000.0</td>\n",
       "      <td>74.000000</td>\n",
       "      <td>63.000000</td>\n",
       "      <td>53.000000</td>\n",
       "      <td>44.750000</td>\n",
       "      <td>38.750000</td>\n",
       "      <td>33.750000</td>\n",
       "      <td>30.000000</td>\n",
       "      <td>27.000000</td>\n",
       "      <td>26.000000</td>\n",
       "      <td>...</td>\n",
       "      <td>NaN</td>\n",
       "      <td>NaN</td>\n",
       "      <td>NaN</td>\n",
       "      <td>NaN</td>\n",
       "      <td>NaN</td>\n",
       "      <td>NaN</td>\n",
       "      <td>NaN</td>\n",
       "      <td>NaN</td>\n",
       "      <td>NaN</td>\n",
       "      <td>NaN</td>\n",
       "    </tr>\n",
       "    <tr>\n",
       "      <th>50%</th>\n",
       "      <td>2000.0</td>\n",
       "      <td>81.000000</td>\n",
       "      <td>73.000000</td>\n",
       "      <td>66.000000</td>\n",
       "      <td>61.000000</td>\n",
       "      <td>57.000000</td>\n",
       "      <td>51.500000</td>\n",
       "      <td>47.000000</td>\n",
       "      <td>45.500000</td>\n",
       "      <td>42.000000</td>\n",
       "      <td>...</td>\n",
       "      <td>NaN</td>\n",
       "      <td>NaN</td>\n",
       "      <td>NaN</td>\n",
       "      <td>NaN</td>\n",
       "      <td>NaN</td>\n",
       "      <td>NaN</td>\n",
       "      <td>NaN</td>\n",
       "      <td>NaN</td>\n",
       "      <td>NaN</td>\n",
       "      <td>NaN</td>\n",
       "    </tr>\n",
       "    <tr>\n",
       "      <th>75%</th>\n",
       "      <td>2000.0</td>\n",
       "      <td>91.000000</td>\n",
       "      <td>84.000000</td>\n",
       "      <td>79.000000</td>\n",
       "      <td>76.000000</td>\n",
       "      <td>73.250000</td>\n",
       "      <td>72.250000</td>\n",
       "      <td>67.000000</td>\n",
       "      <td>67.000000</td>\n",
       "      <td>67.000000</td>\n",
       "      <td>...</td>\n",
       "      <td>NaN</td>\n",
       "      <td>NaN</td>\n",
       "      <td>NaN</td>\n",
       "      <td>NaN</td>\n",
       "      <td>NaN</td>\n",
       "      <td>NaN</td>\n",
       "      <td>NaN</td>\n",
       "      <td>NaN</td>\n",
       "      <td>NaN</td>\n",
       "      <td>NaN</td>\n",
       "    </tr>\n",
       "    <tr>\n",
       "      <th>max</th>\n",
       "      <td>2000.0</td>\n",
       "      <td>100.000000</td>\n",
       "      <td>100.000000</td>\n",
       "      <td>100.000000</td>\n",
       "      <td>100.000000</td>\n",
       "      <td>100.000000</td>\n",
       "      <td>99.000000</td>\n",
       "      <td>100.000000</td>\n",
       "      <td>99.000000</td>\n",
       "      <td>100.000000</td>\n",
       "      <td>...</td>\n",
       "      <td>NaN</td>\n",
       "      <td>NaN</td>\n",
       "      <td>NaN</td>\n",
       "      <td>NaN</td>\n",
       "      <td>NaN</td>\n",
       "      <td>NaN</td>\n",
       "      <td>NaN</td>\n",
       "      <td>NaN</td>\n",
       "      <td>NaN</td>\n",
       "      <td>NaN</td>\n",
       "    </tr>\n",
       "  </tbody>\n",
       "</table>\n",
       "<p>8 rows × 77 columns</p>\n",
       "</div>"
      ],
      "text/plain": [
       "         year   x1st.week   x2nd.week   x3rd.week   x4th.week   x5th.week  \\\n",
       "count   317.0  317.000000  312.000000  307.000000  300.000000  292.000000   \n",
       "mean   2000.0   79.958991   71.173077   65.045603   59.763333   56.339041   \n",
       "std       0.0   14.686865   18.200443   20.752302   22.324619   23.780022   \n",
       "min    2000.0   15.000000    8.000000    6.000000    5.000000    2.000000   \n",
       "25%    2000.0   74.000000   63.000000   53.000000   44.750000   38.750000   \n",
       "50%    2000.0   81.000000   73.000000   66.000000   61.000000   57.000000   \n",
       "75%    2000.0   91.000000   84.000000   79.000000   76.000000   73.250000   \n",
       "max    2000.0  100.000000  100.000000  100.000000  100.000000  100.000000   \n",
       "\n",
       "        x6th.week   x7th.week   x8th.week   x9th.week     ...      x67th.week  \\\n",
       "count  280.000000  269.000000  260.000000  253.000000     ...             0.0   \n",
       "mean    52.360714   49.219331   47.119231   46.343874     ...             NaN   \n",
       "std     24.473273   25.654279   26.370782   27.136419     ...             NaN   \n",
       "min      1.000000    1.000000    1.000000    1.000000     ...             NaN   \n",
       "25%     33.750000   30.000000   27.000000   26.000000     ...             NaN   \n",
       "50%     51.500000   47.000000   45.500000   42.000000     ...             NaN   \n",
       "75%     72.250000   67.000000   67.000000   67.000000     ...             NaN   \n",
       "max     99.000000  100.000000   99.000000  100.000000     ...             NaN   \n",
       "\n",
       "       x68th.week  x69th.week  x70th.week  x71st.week  x72nd.week  x73rd.week  \\\n",
       "count         0.0         0.0         0.0         0.0         0.0         0.0   \n",
       "mean          NaN         NaN         NaN         NaN         NaN         NaN   \n",
       "std           NaN         NaN         NaN         NaN         NaN         NaN   \n",
       "min           NaN         NaN         NaN         NaN         NaN         NaN   \n",
       "25%           NaN         NaN         NaN         NaN         NaN         NaN   \n",
       "50%           NaN         NaN         NaN         NaN         NaN         NaN   \n",
       "75%           NaN         NaN         NaN         NaN         NaN         NaN   \n",
       "max           NaN         NaN         NaN         NaN         NaN         NaN   \n",
       "\n",
       "       x74th.week  x75th.week  x76th.week  \n",
       "count         0.0         0.0         0.0  \n",
       "mean          NaN         NaN         NaN  \n",
       "std           NaN         NaN         NaN  \n",
       "min           NaN         NaN         NaN  \n",
       "25%           NaN         NaN         NaN  \n",
       "50%           NaN         NaN         NaN  \n",
       "75%           NaN         NaN         NaN  \n",
       "max           NaN         NaN         NaN  \n",
       "\n",
       "[8 rows x 77 columns]"
      ]
     },
     "execution_count": 43,
     "metadata": {},
     "output_type": "execute_result"
    }
   ],
   "source": [
    " \n",
    "\n",
    "billboard.describe()  # Find the mean for all the weeks present\n",
    "# billboard['x2nd.week'].mean() #71.17307692307692"
   ]
  },
  {
   "cell_type": "markdown",
   "metadata": {},
   "source": [
    "##### Create a data dictionary for the data set."
   ]
  },
  {
   "cell_type": "code",
   "execution_count": 44,
   "metadata": {
    "collapsed": false
   },
   "outputs": [
    {
     "data": {
      "text/html": [
       "<div>\n",
       "<table border=\"1\" class=\"dataframe\">\n",
       "  <thead>\n",
       "    <tr style=\"text-align: right;\">\n",
       "      <th></th>\n",
       "      <th>artist.inverted</th>\n",
       "      <th>datadesc</th>\n",
       "      <th>dateentered</th>\n",
       "      <th>datepeaked</th>\n",
       "      <th>genre</th>\n",
       "      <th>time</th>\n",
       "      <th>track</th>\n",
       "      <th>year</th>\n",
       "    </tr>\n",
       "  </thead>\n",
       "  <tbody>\n",
       "    <tr>\n",
       "      <th>Country</th>\n",
       "      <td>Name of the artist, inverted</td>\n",
       "      <td>Billboard top tracks for the year 2000</td>\n",
       "      <td>Date the track was entered into Billboard</td>\n",
       "      <td>Date the Song Reached It's Highest Position on...</td>\n",
       "      <td>American Popular Music, Roots in Folk/Western</td>\n",
       "      <td>Length of track in minutes:seconds</td>\n",
       "      <td>Name of the track</td>\n",
       "      <td>The year the track was released</td>\n",
       "    </tr>\n",
       "    <tr>\n",
       "      <th>Electronica</th>\n",
       "      <td>Name of the artist, inverted</td>\n",
       "      <td>Billboard top tracks for the year 2000</td>\n",
       "      <td>Date the track was entered into Billboard</td>\n",
       "      <td>Date the Song Reached It's Highest Position on...</td>\n",
       "      <td>Electronic-Based (Synthesizer) Music</td>\n",
       "      <td>Length of track in minutes:seconds</td>\n",
       "      <td>Name of the track</td>\n",
       "      <td>The year the track was released</td>\n",
       "    </tr>\n",
       "    <tr>\n",
       "      <th>Gospel</th>\n",
       "      <td>Name of the artist, inverted</td>\n",
       "      <td>Billboard top tracks for the year 2000</td>\n",
       "      <td>Date the track was entered into Billboard</td>\n",
       "      <td>Date the Song Reached It's Highest Position on...</td>\n",
       "      <td>Christian Music</td>\n",
       "      <td>Length of track in minutes:seconds</td>\n",
       "      <td>Name of the track</td>\n",
       "      <td>The year the track was released</td>\n",
       "    </tr>\n",
       "    <tr>\n",
       "      <th>Jazz</th>\n",
       "      <td>Name of the artist, inverted</td>\n",
       "      <td>Billboard top tracks for the year 2000</td>\n",
       "      <td>Date the track was entered into Billboard</td>\n",
       "      <td>Date the Song Reached It's Highest Position on...</td>\n",
       "      <td>Swing Note/Improvisation Based Music</td>\n",
       "      <td>Length of track in minutes:seconds</td>\n",
       "      <td>Name of the track</td>\n",
       "      <td>The year the track was released</td>\n",
       "    </tr>\n",
       "    <tr>\n",
       "      <th>Latin</th>\n",
       "      <td>Name of the artist, inverted</td>\n",
       "      <td>Billboard top tracks for the year 2000</td>\n",
       "      <td>Date the track was entered into Billboard</td>\n",
       "      <td>Date the Song Reached It's Highest Position on...</td>\n",
       "      <td>Spanish language specific music</td>\n",
       "      <td>Length of track in minutes:seconds</td>\n",
       "      <td>Name of the track</td>\n",
       "      <td>The year the track was released</td>\n",
       "    </tr>\n",
       "    <tr>\n",
       "      <th>Rap</th>\n",
       "      <td>Name of the artist, inverted</td>\n",
       "      <td>Billboard top tracks for the year 2000</td>\n",
       "      <td>Date the track was entered into Billboard</td>\n",
       "      <td>Date the Song Reached It's Highest Position on...</td>\n",
       "      <td>Rythmn and Poetry</td>\n",
       "      <td>Length of track in minutes:seconds</td>\n",
       "      <td>Name of the track</td>\n",
       "      <td>The year the track was released</td>\n",
       "    </tr>\n",
       "    <tr>\n",
       "      <th>Reggae</th>\n",
       "      <td>Name of the artist, inverted</td>\n",
       "      <td>Billboard top tracks for the year 2000</td>\n",
       "      <td>Date the track was entered into Billboard</td>\n",
       "      <td>Date the Song Reached It's Highest Position on...</td>\n",
       "      <td>Music insipred by Mento and Calypso</td>\n",
       "      <td>Length of track in minutes:seconds</td>\n",
       "      <td>Name of the track</td>\n",
       "      <td>The year the track was released</td>\n",
       "    </tr>\n",
       "    <tr>\n",
       "      <th>Rock</th>\n",
       "      <td>Name of the artist, inverted</td>\n",
       "      <td>Billboard top tracks for the year 2000</td>\n",
       "      <td>Date the track was entered into Billboard</td>\n",
       "      <td>Date the Song Reached It's Highest Position on...</td>\n",
       "      <td>Rock and Roll</td>\n",
       "      <td>Length of track in minutes:seconds</td>\n",
       "      <td>Name of the track</td>\n",
       "      <td>The year the track was released</td>\n",
       "    </tr>\n",
       "  </tbody>\n",
       "</table>\n",
       "</div>"
      ],
      "text/plain": [
       "                          artist.inverted  \\\n",
       "Country      Name of the artist, inverted   \n",
       "Electronica  Name of the artist, inverted   \n",
       "Gospel       Name of the artist, inverted   \n",
       "Jazz         Name of the artist, inverted   \n",
       "Latin        Name of the artist, inverted   \n",
       "Rap          Name of the artist, inverted   \n",
       "Reggae       Name of the artist, inverted   \n",
       "Rock         Name of the artist, inverted   \n",
       "\n",
       "                                           datadesc  \\\n",
       "Country      Billboard top tracks for the year 2000   \n",
       "Electronica  Billboard top tracks for the year 2000   \n",
       "Gospel       Billboard top tracks for the year 2000   \n",
       "Jazz         Billboard top tracks for the year 2000   \n",
       "Latin        Billboard top tracks for the year 2000   \n",
       "Rap          Billboard top tracks for the year 2000   \n",
       "Reggae       Billboard top tracks for the year 2000   \n",
       "Rock         Billboard top tracks for the year 2000   \n",
       "\n",
       "                                           dateentered  \\\n",
       "Country      Date the track was entered into Billboard   \n",
       "Electronica  Date the track was entered into Billboard   \n",
       "Gospel       Date the track was entered into Billboard   \n",
       "Jazz         Date the track was entered into Billboard   \n",
       "Latin        Date the track was entered into Billboard   \n",
       "Rap          Date the track was entered into Billboard   \n",
       "Reggae       Date the track was entered into Billboard   \n",
       "Rock         Date the track was entered into Billboard   \n",
       "\n",
       "                                                    datepeaked  \\\n",
       "Country      Date the Song Reached It's Highest Position on...   \n",
       "Electronica  Date the Song Reached It's Highest Position on...   \n",
       "Gospel       Date the Song Reached It's Highest Position on...   \n",
       "Jazz         Date the Song Reached It's Highest Position on...   \n",
       "Latin        Date the Song Reached It's Highest Position on...   \n",
       "Rap          Date the Song Reached It's Highest Position on...   \n",
       "Reggae       Date the Song Reached It's Highest Position on...   \n",
       "Rock         Date the Song Reached It's Highest Position on...   \n",
       "\n",
       "                                                     genre  \\\n",
       "Country      American Popular Music, Roots in Folk/Western   \n",
       "Electronica           Electronic-Based (Synthesizer) Music   \n",
       "Gospel                                     Christian Music   \n",
       "Jazz                  Swing Note/Improvisation Based Music   \n",
       "Latin                      Spanish language specific music   \n",
       "Rap                                      Rythmn and Poetry   \n",
       "Reggae                 Music insipred by Mento and Calypso   \n",
       "Rock                                         Rock and Roll   \n",
       "\n",
       "                                           time              track  \\\n",
       "Country      Length of track in minutes:seconds  Name of the track   \n",
       "Electronica  Length of track in minutes:seconds  Name of the track   \n",
       "Gospel       Length of track in minutes:seconds  Name of the track   \n",
       "Jazz         Length of track in minutes:seconds  Name of the track   \n",
       "Latin        Length of track in minutes:seconds  Name of the track   \n",
       "Rap          Length of track in minutes:seconds  Name of the track   \n",
       "Reggae       Length of track in minutes:seconds  Name of the track   \n",
       "Rock         Length of track in minutes:seconds  Name of the track   \n",
       "\n",
       "                                        year  \n",
       "Country      The year the track was released  \n",
       "Electronica  The year the track was released  \n",
       "Gospel       The year the track was released  \n",
       "Jazz         The year the track was released  \n",
       "Latin        The year the track was released  \n",
       "Rap          The year the track was released  \n",
       "Reggae       The year the track was released  \n",
       "Rock         The year the track was released  "
      ]
     },
     "execution_count": 44,
     "metadata": {},
     "output_type": "execute_result"
    }
   ],
   "source": [
    "datadict = {\n",
    "    'datadesc' : 'Billboard top tracks for the year 2000',\n",
    "    'year' : 'The year the track was released',\n",
    "    'artist.inverted' : 'Name of the artist, inverted',\n",
    "    'track' : 'Name of the track',\n",
    "    'time' : 'Length of track in minutes:seconds',\n",
    "    'genre' : {\n",
    "        'Rock' : 'Rock and Roll',\n",
    "        'Latin' : 'Spanish language specific music',\n",
    "        'Country' : 'American Popular Music, Roots in Folk/Western',\n",
    "        'Rap' : 'Rythmn and Poetry',\n",
    "        'Electronica' : 'Electronic-Based (Synthesizer) Music',\n",
    "        'Jazz' : 'Swing Note/Improvisation Based Music',\n",
    "        'Reggae' : 'Music insipred by Mento and Calypso',\n",
    "        'Gospel' : 'Christian Music' \n",
    "              },\n",
    "    'dateentered' : 'Date the track was entered into Billboard',\n",
    "    'datepeaked' : 'Date the Song Reached It\\'s Highest Position on Billboard Chart'\n",
    "}\n",
    "\n",
    "pd.DataFrame(datadict)"
   ]
  },
  {
   "cell_type": "markdown",
   "metadata": {},
   "source": [
    "##### Write a brief description of your data, and any interesting observations you've made thus far. "
   ]
  },
  {
   "cell_type": "code",
   "execution_count": null,
   "metadata": {
    "collapsed": false
   },
   "outputs": [],
   "source": []
  },
  {
   "cell_type": "markdown",
   "metadata": {},
   "source": [
    "## Step 2: Clean your data."
   ]
  },
  {
   "cell_type": "markdown",
   "metadata": {},
   "source": [
    "##### Do some rudimentary cleaning. Rename any columns that are poorly named, shorten any strings that may be too long, fill in any missing values. "
   ]
  },
  {
   "cell_type": "code",
   "execution_count": 46,
   "metadata": {
    "collapsed": false
   },
   "outputs": [
    {
     "data": {
      "text/html": [
       "<div>\n",
       "<table border=\"1\" class=\"dataframe\">\n",
       "  <thead>\n",
       "    <tr style=\"text-align: right;\">\n",
       "      <th></th>\n",
       "      <th>year</th>\n",
       "      <th>artistinverted</th>\n",
       "      <th>track</th>\n",
       "      <th>time</th>\n",
       "      <th>genre</th>\n",
       "      <th>dateentered</th>\n",
       "      <th>datepeaked</th>\n",
       "      <th>1stweek</th>\n",
       "      <th>2ndweek</th>\n",
       "      <th>3rdweek</th>\n",
       "      <th>...</th>\n",
       "      <th>67thweek</th>\n",
       "      <th>68thweek</th>\n",
       "      <th>69thweek</th>\n",
       "      <th>70thweek</th>\n",
       "      <th>71stweek</th>\n",
       "      <th>72ndweek</th>\n",
       "      <th>73rdweek</th>\n",
       "      <th>74thweek</th>\n",
       "      <th>75thweek</th>\n",
       "      <th>76thweek</th>\n",
       "    </tr>\n",
       "  </thead>\n",
       "  <tbody>\n",
       "    <tr>\n",
       "      <th>0</th>\n",
       "      <td>2000</td>\n",
       "      <td>Destiny's Child</td>\n",
       "      <td>Independent Women Part I</td>\n",
       "      <td>3:38</td>\n",
       "      <td>Rock</td>\n",
       "      <td>2000-09-23</td>\n",
       "      <td>2000-11-18</td>\n",
       "      <td>78</td>\n",
       "      <td>63.0</td>\n",
       "      <td>49.0</td>\n",
       "      <td>...</td>\n",
       "      <td>NaN</td>\n",
       "      <td>NaN</td>\n",
       "      <td>NaN</td>\n",
       "      <td>NaN</td>\n",
       "      <td>NaN</td>\n",
       "      <td>NaN</td>\n",
       "      <td>NaN</td>\n",
       "      <td>NaN</td>\n",
       "      <td>NaN</td>\n",
       "      <td>NaN</td>\n",
       "    </tr>\n",
       "    <tr>\n",
       "      <th>1</th>\n",
       "      <td>2000</td>\n",
       "      <td>Santana</td>\n",
       "      <td>Maria, Maria</td>\n",
       "      <td>4:18</td>\n",
       "      <td>Rock</td>\n",
       "      <td>2000-02-12</td>\n",
       "      <td>2000-04-08</td>\n",
       "      <td>15</td>\n",
       "      <td>8.0</td>\n",
       "      <td>6.0</td>\n",
       "      <td>...</td>\n",
       "      <td>NaN</td>\n",
       "      <td>NaN</td>\n",
       "      <td>NaN</td>\n",
       "      <td>NaN</td>\n",
       "      <td>NaN</td>\n",
       "      <td>NaN</td>\n",
       "      <td>NaN</td>\n",
       "      <td>NaN</td>\n",
       "      <td>NaN</td>\n",
       "      <td>NaN</td>\n",
       "    </tr>\n",
       "  </tbody>\n",
       "</table>\n",
       "<p>2 rows × 83 columns</p>\n",
       "</div>"
      ],
      "text/plain": [
       "   year   artistinverted                     track  time genre dateentered  \\\n",
       "0  2000  Destiny's Child  Independent Women Part I  3:38  Rock  2000-09-23   \n",
       "1  2000          Santana              Maria, Maria  4:18  Rock  2000-02-12   \n",
       "\n",
       "   datepeaked  1stweek  2ndweek  3rdweek    ...     67thweek  68thweek  \\\n",
       "0  2000-11-18       78     63.0     49.0    ...          NaN       NaN   \n",
       "1  2000-04-08       15      8.0      6.0    ...          NaN       NaN   \n",
       "\n",
       "   69thweek  70thweek  71stweek  72ndweek  73rdweek  74thweek  75thweek  \\\n",
       "0       NaN       NaN       NaN       NaN       NaN       NaN       NaN   \n",
       "1       NaN       NaN       NaN       NaN       NaN       NaN       NaN   \n",
       "\n",
       "   76thweek  \n",
       "0       NaN  \n",
       "1       NaN  \n",
       "\n",
       "[2 rows x 83 columns]"
      ]
     },
     "execution_count": 46,
     "metadata": {},
     "output_type": "execute_result"
    }
   ],
   "source": [
    "columns = billboard.columns\n",
    "\n",
    "for col in columns:\n",
    "    if any([x in col for x in ['$','&','%','#','.','x',]]):\n",
    "        newcol = ''.join([x for x in col if x not in ['$','&','%','#','.','x']])\n",
    "        billboard.rename(columns={col:newcol}, inplace=True)\n",
    "\n",
    "billboard.head(2)"
   ]
  },
  {
   "cell_type": "code",
   "execution_count": 55,
   "metadata": {
    "collapsed": false
   },
   "outputs": [],
   "source": [
    "billboard = billboard.dropna(axis=1,how='all')\n",
    "\n",
    "billboard.shape\n",
    "len(pd.unique(billboard['artistinverted']))\n",
    "\n",
    "\n",
    "billboard[billboard['genre'] == 'R&B\\n'] = billboard[billboard['genre'] == 'R&B']"
   ]
  },
  {
   "cell_type": "code",
   "execution_count": 61,
   "metadata": {
    "collapsed": false
   },
   "outputs": [
    {
     "data": {
      "text/plain": [
       "array(['Rock', 'Latin', 'Country', 'Rap', 'Pop', 'Electronica', 'Jazz',\n",
       "       'R&B', nan, 'Reggae', 'Gospel'], dtype=object)"
      ]
     },
     "execution_count": 61,
     "metadata": {},
     "output_type": "execute_result"
    }
   ],
   "source": [
    "pd.unique(billboard['genre'])"
   ]
  },
  {
   "cell_type": "code",
   "execution_count": 62,
   "metadata": {
    "collapsed": false
   },
   "outputs": [
    {
     "data": {
      "text/plain": [
       "Rock           137\n",
       "Country         74\n",
       "Rap             58\n",
       "R&B             22\n",
       "Pop              9\n",
       "Latin            9\n",
       "Electronica      4\n",
       "Gospel           1\n",
       "Jazz             1\n",
       "Reggae           1\n",
       "Name: genre, dtype: int64"
      ]
     },
     "execution_count": 62,
     "metadata": {},
     "output_type": "execute_result"
    }
   ],
   "source": [
    "pd.value_counts(billboard['genre'])"
   ]
  },
  {
   "cell_type": "code",
   "execution_count": 63,
   "metadata": {
    "collapsed": false
   },
   "outputs": [
    {
     "ename": "AttributeError",
     "evalue": "'float' object has no attribute 'split'",
     "output_type": "error",
     "traceback": [
      "\u001b[0;31m---------------------------------------------------------------------------\u001b[0m",
      "\u001b[0;31mAttributeError\u001b[0m                            Traceback (most recent call last)",
      "\u001b[0;32m<ipython-input-63-63082fd83b1a>\u001b[0m in \u001b[0;36m<module>\u001b[0;34m()\u001b[0m\n\u001b[1;32m      3\u001b[0m     \u001b[0;32mreturn\u001b[0m \u001b[0msum\u001b[0m\u001b[0;34m(\u001b[0m\u001b[0mn\u001b[0m \u001b[0;34m*\u001b[0m \u001b[0msec\u001b[0m \u001b[0;32mfor\u001b[0m \u001b[0mn\u001b[0m\u001b[0;34m,\u001b[0m \u001b[0msec\u001b[0m \u001b[0;32min\u001b[0m \u001b[0mzip\u001b[0m\u001b[0;34m(\u001b[0m\u001b[0ml\u001b[0m\u001b[0;34m[\u001b[0m\u001b[0;34m:\u001b[0m\u001b[0;34m:\u001b[0m\u001b[0;34m-\u001b[0m\u001b[0;36m1\u001b[0m\u001b[0;34m]\u001b[0m\u001b[0;34m,\u001b[0m \u001b[0;34m(\u001b[0m\u001b[0;36m1\u001b[0m\u001b[0;34m,\u001b[0m \u001b[0;36m60\u001b[0m\u001b[0;34m,\u001b[0m \u001b[0;36m3600\u001b[0m\u001b[0;34m)\u001b[0m\u001b[0;34m)\u001b[0m\u001b[0;34m)\u001b[0m\u001b[0;34m\u001b[0m\u001b[0m\n\u001b[1;32m      4\u001b[0m \u001b[0;34m\u001b[0m\u001b[0m\n\u001b[0;32m----> 5\u001b[0;31m \u001b[0mbillboard\u001b[0m\u001b[0;34m[\u001b[0m\u001b[0;34m'time'\u001b[0m\u001b[0;34m]\u001b[0m\u001b[0;34m.\u001b[0m\u001b[0mapply\u001b[0m\u001b[0;34m(\u001b[0m\u001b[0mseconds\u001b[0m\u001b[0;34m)\u001b[0m\u001b[0;34m\u001b[0m\u001b[0m\n\u001b[0m",
      "\u001b[0;32m/Users/sebozek/anaconda/lib/python2.7/site-packages/pandas/core/series.pyc\u001b[0m in \u001b[0;36mapply\u001b[0;34m(self, func, convert_dtype, args, **kwds)\u001b[0m\n\u001b[1;32m   2235\u001b[0m             \u001b[0mvalues\u001b[0m \u001b[0;34m=\u001b[0m \u001b[0mlib\u001b[0m\u001b[0;34m.\u001b[0m\u001b[0mmap_infer\u001b[0m\u001b[0;34m(\u001b[0m\u001b[0mvalues\u001b[0m\u001b[0;34m,\u001b[0m \u001b[0mboxer\u001b[0m\u001b[0;34m)\u001b[0m\u001b[0;34m\u001b[0m\u001b[0m\n\u001b[1;32m   2236\u001b[0m \u001b[0;34m\u001b[0m\u001b[0m\n\u001b[0;32m-> 2237\u001b[0;31m         \u001b[0mmapped\u001b[0m \u001b[0;34m=\u001b[0m \u001b[0mlib\u001b[0m\u001b[0;34m.\u001b[0m\u001b[0mmap_infer\u001b[0m\u001b[0;34m(\u001b[0m\u001b[0mvalues\u001b[0m\u001b[0;34m,\u001b[0m \u001b[0mf\u001b[0m\u001b[0;34m,\u001b[0m \u001b[0mconvert\u001b[0m\u001b[0;34m=\u001b[0m\u001b[0mconvert_dtype\u001b[0m\u001b[0;34m)\u001b[0m\u001b[0;34m\u001b[0m\u001b[0m\n\u001b[0m\u001b[1;32m   2238\u001b[0m         \u001b[0;32mif\u001b[0m \u001b[0mlen\u001b[0m\u001b[0;34m(\u001b[0m\u001b[0mmapped\u001b[0m\u001b[0;34m)\u001b[0m \u001b[0;32mand\u001b[0m \u001b[0misinstance\u001b[0m\u001b[0;34m(\u001b[0m\u001b[0mmapped\u001b[0m\u001b[0;34m[\u001b[0m\u001b[0;36m0\u001b[0m\u001b[0;34m]\u001b[0m\u001b[0;34m,\u001b[0m \u001b[0mSeries\u001b[0m\u001b[0;34m)\u001b[0m\u001b[0;34m:\u001b[0m\u001b[0;34m\u001b[0m\u001b[0m\n\u001b[1;32m   2239\u001b[0m             \u001b[0;32mfrom\u001b[0m \u001b[0mpandas\u001b[0m\u001b[0;34m.\u001b[0m\u001b[0mcore\u001b[0m\u001b[0;34m.\u001b[0m\u001b[0mframe\u001b[0m \u001b[0;32mimport\u001b[0m \u001b[0mDataFrame\u001b[0m\u001b[0;34m\u001b[0m\u001b[0m\n",
      "\u001b[0;32mpandas/src/inference.pyx\u001b[0m in \u001b[0;36mpandas.lib.map_infer (pandas/lib.c:63043)\u001b[0;34m()\u001b[0m\n",
      "\u001b[0;32m<ipython-input-63-63082fd83b1a>\u001b[0m in \u001b[0;36mseconds\u001b[0;34m(s)\u001b[0m\n\u001b[1;32m      1\u001b[0m \u001b[0;32mdef\u001b[0m \u001b[0mseconds\u001b[0m\u001b[0;34m(\u001b[0m\u001b[0ms\u001b[0m\u001b[0;34m)\u001b[0m\u001b[0;34m:\u001b[0m\u001b[0;34m\u001b[0m\u001b[0m\n\u001b[0;32m----> 2\u001b[0;31m     \u001b[0ml\u001b[0m \u001b[0;34m=\u001b[0m \u001b[0mmap\u001b[0m\u001b[0;34m(\u001b[0m\u001b[0mint\u001b[0m\u001b[0;34m,\u001b[0m \u001b[0ms\u001b[0m\u001b[0;34m.\u001b[0m\u001b[0msplit\u001b[0m\u001b[0;34m(\u001b[0m\u001b[0;34m':'\u001b[0m\u001b[0;34m)\u001b[0m\u001b[0;34m)\u001b[0m \u001b[0;31m#join\u001b[0m\u001b[0;34m\u001b[0m\u001b[0m\n\u001b[0m\u001b[1;32m      3\u001b[0m     \u001b[0;32mreturn\u001b[0m \u001b[0msum\u001b[0m\u001b[0;34m(\u001b[0m\u001b[0mn\u001b[0m \u001b[0;34m*\u001b[0m \u001b[0msec\u001b[0m \u001b[0;32mfor\u001b[0m \u001b[0mn\u001b[0m\u001b[0;34m,\u001b[0m \u001b[0msec\u001b[0m \u001b[0;32min\u001b[0m \u001b[0mzip\u001b[0m\u001b[0;34m(\u001b[0m\u001b[0ml\u001b[0m\u001b[0;34m[\u001b[0m\u001b[0;34m:\u001b[0m\u001b[0;34m:\u001b[0m\u001b[0;34m-\u001b[0m\u001b[0;36m1\u001b[0m\u001b[0;34m]\u001b[0m\u001b[0;34m,\u001b[0m \u001b[0;34m(\u001b[0m\u001b[0;36m1\u001b[0m\u001b[0;34m,\u001b[0m \u001b[0;36m60\u001b[0m\u001b[0;34m,\u001b[0m \u001b[0;36m3600\u001b[0m\u001b[0;34m)\u001b[0m\u001b[0;34m)\u001b[0m\u001b[0;34m)\u001b[0m\u001b[0;34m\u001b[0m\u001b[0m\n\u001b[1;32m      4\u001b[0m \u001b[0;34m\u001b[0m\u001b[0m\n\u001b[1;32m      5\u001b[0m \u001b[0mbillboard\u001b[0m\u001b[0;34m[\u001b[0m\u001b[0;34m'time'\u001b[0m\u001b[0;34m]\u001b[0m\u001b[0;34m.\u001b[0m\u001b[0mapply\u001b[0m\u001b[0;34m(\u001b[0m\u001b[0mseconds\u001b[0m\u001b[0;34m)\u001b[0m\u001b[0;34m\u001b[0m\u001b[0m\n",
      "\u001b[0;31mAttributeError\u001b[0m: 'float' object has no attribute 'split'"
     ]
    }
   ],
   "source": []
  },
  {
   "cell_type": "markdown",
   "metadata": {},
   "source": [
    "##### Using Pandas' built in `melt` function, pivot the weekly ranking data to be long rather than wide. As a result, you will have removed the 72 'week' columns and replace it with two: Week and Ranking. There will now be multiple entries for each song, one for each week on the Billboard rankings."
   ]
  },
  {
   "cell_type": "code",
   "execution_count": 77,
   "metadata": {
    "collapsed": false
   },
   "outputs": [
    {
     "data": {
      "text/plain": [
       "array([[<matplotlib.axes._subplots.AxesSubplot object at 0x11a553d10>]], dtype=object)"
      ]
     },
     "execution_count": 77,
     "metadata": {},
     "output_type": "execute_result"
    }
   ],
   "source": []
  },
  {
   "cell_type": "markdown",
   "metadata": {},
   "source": [
    "## Step 3: Visualize your data."
   ]
  },
  {
   "cell_type": "markdown",
   "metadata": {},
   "source": [
    "##### Using a plotting utility of your choice, create visualizations that will provide context to your data. There is no minimum or maximum number of graphs you should generate, but there should be a clear and consistent story being told. Give insights to the distribution, statistics, and relationships of the data. "
   ]
  },
  {
   "cell_type": "code",
   "execution_count": 79,
   "metadata": {
    "collapsed": false
   },
   "outputs": [
    {
     "data": {
      "text/plain": [
       "array([[<matplotlib.axes._subplots.AxesSubplot object at 0x11a6849d0>]], dtype=object)"
      ]
     },
     "execution_count": 79,
     "metadata": {},
     "output_type": "execute_result"
    }
   ],
   "source": [
    "genre_counts = pd.DataFrame(pd.value_counts(billboard['genre']))\n",
    "genre_counts.hist()"
   ]
  },
  {
   "cell_type": "markdown",
   "metadata": {},
   "source": [
    "## Step 4: Create a Problem Statement.\n",
    "\n",
    "##### Having explored the data, come up with a problem statement for this data set. You can feel free to introduce data from any other source to support your problem statement, just be sure to provide a link to the origin of the data. Once again- be creative!"
   ]
  },
  {
   "cell_type": "code",
   "execution_count": null,
   "metadata": {
    "collapsed": true
   },
   "outputs": [],
   "source": []
  },
  {
   "cell_type": "markdown",
   "metadata": {
    "collapsed": false
   },
   "source": [
    "## Step 5: Brainstorm your Approach.\n",
    "##### In bullet-list form, provide a proposed approach for evaluating your problem statement. This can be somewhat high-level, but start to think about ways you can massage the data for maximum efficacy. "
   ]
  },
  {
   "cell_type": "code",
   "execution_count": null,
   "metadata": {
    "collapsed": true
   },
   "outputs": [],
   "source": []
  },
  {
   "cell_type": "markdown",
   "metadata": {
    "collapsed": true
   },
   "source": [
    "## Step 6: Create a blog post with your code snippets and visualizations.\n",
    "##### Data Science is a growing field, and the Tech industry thrives off of collaboration and sharing of knowledge. Blogging is a powerful means for pushing the needle forward in our field. Using your blogging platform of choice, create a post describing each of the 5 steps above. Rather than writing a procedural text, imagine you're describing the data, visualizations, and conclusions you've arrived at to your peers. Aim for roughly 800-1,000 words. "
   ]
  },
  {
   "cell_type": "code",
   "execution_count": null,
   "metadata": {
    "collapsed": false
   },
   "outputs": [],
   "source": []
  },
  {
   "cell_type": "markdown",
   "metadata": {},
   "source": [
    "## BONUS: The Content Managers working for the Podcast Publishing Company have recognized you as a thought leader in your field. They've asked you to pen a white paper (minimum 600 words) on the subject of 'What It Means To Have Clean Data'. This will be an opinion piece read by a wide audience, so be sure to back up your statements with real world examples or scenarios.\n",
    "\n",
    "##### Hint: To get started, look around on the internet for articles, blog posts, papers, youtube videos, podcasts, reddit discussions, anything that will help you understand the challenges and implications of dealing with big data. This should be a personal reflection on everything you've learned this week, and the learning goals that have been set out for you going forward. "
   ]
  },
  {
   "cell_type": "markdown",
   "metadata": {
    "collapsed": true
   },
   "source": [
    "[UCLA - Data Cleaning 101](http://www.ats.ucla.edu/stat/sas/library/nesug99/ss123.pdf)  \n",
    "[Data Cleaning Problems and Current Approach](http://betterevaluation.org/sites/default/files/data_cleaning.pdf)  \n",
    "[Data Cleaning: Detecting, Diagnosing, and Editing Data Abnormalities](http://www.ncbi.nlm.nih.gov/pmc/articles/PMC1198040/pdf/pmed.0020267.pdf)  \n",
    "[Microsoft - Data Cleaning](http://research.microsoft.com/en-us/projects/datacleaning/)  \n",
    "[Panda Chapter 2 - Data Cleaning](http://www.tulane.edu/~panda2/Analysis2/datclean/dataclean.htm)  \n",
    "[StatsSoft Data Mining, Data Cleaning & Outliers](https://www.youtube.com/watch?v=06jBp-vfqqs)"
   ]
  },
  {
   "cell_type": "markdown",
   "metadata": {},
   "source": [
    "# From Dirty to Clean\n",
    "## The Importance of Clean Data in Analysis\n",
    "\n",
    "\n",
    "### Introduction\n",
    "\n",
    "Data collection has improved substantially over the past decade. Unfortunately this data is largely fragmented. Many different organizations have different methods of organizing and categorizing their data. \n",
    "\n",
    "In order to present data that is acceptable for analysis and presentation organizations must have an internal documented process for the collection and standardization of their data. If that is not present, then when looking at the data care must be preserved to remove unreliable data, and convert data from multiple sources into a clean consistent format\n",
    "\n",
    "### Background\n",
    "\n",
    "\n",
    "\n",
    "### Solution\n",
    "\n",
    "Through the "
   ]
  }
 ],
 "metadata": {
  "kernelspec": {
   "display_name": "Python 2",
   "language": "python",
   "name": "python2"
  },
  "language_info": {
   "codemirror_mode": {
    "name": "ipython",
    "version": 2
   },
   "file_extension": ".py",
   "mimetype": "text/x-python",
   "name": "python",
   "nbconvert_exporter": "python",
   "pygments_lexer": "ipython2",
   "version": "2.7.11"
  }
 },
 "nbformat": 4,
 "nbformat_minor": 0
}
