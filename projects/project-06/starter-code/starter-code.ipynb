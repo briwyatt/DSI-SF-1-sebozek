{
 "cells": [
  {
   "cell_type": "markdown",
   "metadata": {},
   "source": [
    "# Project 6: IMDB\n",
    "\n",
    "This project involves NLP, decision trees, bagging, boosting, and more!\n",
    "\n",
    "---"
   ]
  },
  {
   "cell_type": "markdown",
   "metadata": {},
   "source": [
    "## Load packages\n",
    "\n",
    "You are likely going to need to install the `imdbpie` package:\n",
    "\n",
    "    > pip install imdbpie\n",
    "\n",
    "---"
   ]
  },
  {
   "cell_type": "code",
   "execution_count": 4,
   "metadata": {
    "collapsed": false
   },
   "outputs": [],
   "source": [
    "import os\n",
    "import subprocess\n",
    "import collections\n",
    "import re\n",
    "import csv\n",
    "import json\n",
    "\n",
    "import pandas as pd\n",
    "import numpy as np\n",
    "import scipy\n",
    "\n",
    "from sklearn.ensemble import RandomForestClassifier\n",
    "from sklearn.ensemble import RandomForestRegressor\n",
    "\n",
    "import psycopg2\n",
    "import requests\n",
    "from imdbpie import Imdb\n",
    "import nltk\n",
    "\n",
    "import urllib\n",
    "from bs4 import BeautifulSoup\n",
    "import nltk\n",
    "\n",
    "import matplotlib.pyplot as plt\n",
    "import seaborn as sns\n",
    "\n",
    "%matplotlib inline"
   ]
  },
  {
   "cell_type": "markdown",
   "metadata": {},
   "source": [
    "---\n",
    "\n",
    "## Part 1: Acquire the Data\n",
    "\n",
    "You will connect to the IMDB API to query for movies. \n",
    "\n",
    "See here for documentation on how to use the package:\n",
    "\n",
    "https://github.com/richardasaurus/imdb-pie"
   ]
  },
  {
   "cell_type": "markdown",
   "metadata": {},
   "source": [
    "#### 1. Connect to the IMDB API"
   ]
  },
  {
   "cell_type": "code",
   "execution_count": 2,
   "metadata": {
    "collapsed": true
   },
   "outputs": [],
   "source": [
    "imdb = Imdb()\n",
    "imdb = Imdb(anonymize=True)"
   ]
  },
  {
   "cell_type": "markdown",
   "metadata": {},
   "source": [
    "\n",
    "#### 2. Query the top 250 rated movies in the database"
   ]
  },
  {
   "cell_type": "code",
   "execution_count": 3,
   "metadata": {
    "collapsed": false
   },
   "outputs": [],
   "source": [
    "# Output of the top 250 movies\n",
    "# Top 250 movies are output as list of json files\n",
    "# Converting to json makes it easy to put into dataframe\n",
    "\n",
    "top250 = json.dumps(imdb.top_250())\n"
   ]
  },
  {
   "cell_type": "markdown",
   "metadata": {},
   "source": [
    "#### 3. Make a dataframe from the movie data\n",
    "\n",
    "Keep the fields:\n",
    "\n",
    "    num_votes\n",
    "    rating\n",
    "    tconst\n",
    "    title\n",
    "    year\n",
    "    \n",
    "And discard the rest"
   ]
  },
  {
   "cell_type": "code",
   "execution_count": 4,
   "metadata": {
    "collapsed": false,
    "scrolled": true
   },
   "outputs": [],
   "source": [
    "# Can use read_json to import the dump from avove\n",
    "movies250 = (pd.read_json(top250))\n",
    "\n",
    "# Subset only desired columns\n",
    "movies = movies250[['num_votes', 'rating', 'tconst', 'title', 'year']]"
   ]
  },
  {
   "cell_type": "markdown",
   "metadata": {},
   "source": [
    "#### 3. Select only the top 100 movies"
   ]
  },
  {
   "cell_type": "code",
   "execution_count": 5,
   "metadata": {
    "collapsed": true
   },
   "outputs": [],
   "source": [
    "movies = movies.ix[0:100,:]"
   ]
  },
  {
   "cell_type": "code",
   "execution_count": null,
   "metadata": {
    "collapsed": false
   },
   "outputs": [],
   "source": [
    "movies.tail()"
   ]
  },
  {
   "cell_type": "markdown",
   "metadata": {},
   "source": [
    "#### 4. Get the genres and runtime for each movie and add them to the dataframe\n",
    "\n",
    "\n",
    "There can be multiple genres per movie, so this will need some finessing."
   ]
  },
  {
   "cell_type": "code",
   "execution_count": 7,
   "metadata": {
    "collapsed": false,
    "scrolled": true
   },
   "outputs": [],
   "source": [
    "# Create Empty lists to store genres/runtime\n",
    "# movies_genres = []\n",
    "# movies_runtime = []    \n",
    "\n",
    "\n",
    "# for tconst in movies['tconst']: # iterate through the movie ids\n",
    "#     title = imdb.get_title_by_id(tconst) # Get title info of id\n",
    "#     movies_genres.append(title.genres)   # Append genre of id to list\n",
    "#     movies_runtime.append(title.runtime) # Append "
   ]
  },
  {
   "cell_type": "code",
   "execution_count": 8,
   "metadata": {
    "collapsed": false
   },
   "outputs": [
    {
     "data": {
      "text/plain": [
       "[[u'Crime', u'Drama'],\n",
       " [u'Crime', u'Drama'],\n",
       " [u'Crime', u'Drama'],\n",
       " [u'Action', u'Crime', u'Thriller'],\n",
       " [u'Biography', u'Drama', u'History'],\n",
       " [u'Crime', u'Drama'],\n",
       " [u'Crime', u'Drama'],\n",
       " [u'Adventure', u'Drama', u'Fantasy'],\n",
       " [u'Western'],\n",
       " [u'Drama'],\n",
       " [u'Adventure', u'Drama', u'Fantasy'],\n",
       " [u'Action', u'Adventure', u'Fantasy', u'Sci-Fi'],\n",
       " [u'Drama', u'Romance'],\n",
       " [u'Action', u'Mystery', u'Sci-Fi', u'Thriller'],\n",
       " [u'Action', u'Adventure', u'Drama', u'Fantasy'],\n",
       " [u'Drama'],\n",
       " [u'Biography', u'Crime', u'Drama'],\n",
       " [u'Action', u'Sci-Fi'],\n",
       " [u'Action', u'Adventure', u'Drama'],\n",
       " [u'Action', u'Adventure', u'Fantasy', u'Sci-Fi'],\n",
       " [u'Crime', u'Drama'],\n",
       " [u'Crime', u'Drama', u'Mystery', u'Thriller'],\n",
       " [u'Crime', u'Drama', u'Thriller'],\n",
       " [u'Drama', u'Family', u'Fantasy', u'Romance'],\n",
       " [u'Crime', u'Drama', u'Mystery', u'Thriller'],\n",
       " [u'Comedy', u'Drama', u'Romance', u'War'],\n",
       " [u'Crime', u'Drama', u'Thriller'],\n",
       " [u'Western'],\n",
       " [u'Animation', u'Adventure', u'Family', u'Fantasy'],\n",
       " [u'Action', u'Drama', u'War'],\n",
       " [u'Crime', u'Drama'],\n",
       " [u'Adventure', u'Drama', u'Sci-Fi'],\n",
       " [u'Drama', u'Romance', u'War'],\n",
       " [u'Horror', u'Mystery', u'Thriller'],\n",
       " [u'Comedy', u'Drama', u'Romance'],\n",
       " [u'Action', u'Adventure'],\n",
       " [u'Biography', u'Comedy', u'Drama'],\n",
       " [u'Mystery', u'Thriller'],\n",
       " [u'Comedy', u'Drama'],\n",
       " [u'Crime', u'Drama', u'Fantasy', u'Mystery'],\n",
       " [u'Action', u'Sci-Fi'],\n",
       " [u'Biography', u'Drama', u'War'],\n",
       " [u'Crime', u'Drama', u'Thriller'],\n",
       " [u'Adventure', u'Comedy', u'Sci-Fi'],\n",
       " [u'Drama', u'Music'],\n",
       " [u'Action', u'Drama'],\n",
       " [u'Mystery', u'Thriller'],\n",
       " [u'Drama', u'War'],\n",
       " [u'Drama', u'Mystery', u'Sci-Fi', u'Thriller'],\n",
       " [u'Animation', u'Adventure', u'Drama', u'Family', u'Musical'],\n",
       " [u'Comedy'],\n",
       " [u'Drama', u'Film-Noir'],\n",
       " [u'Horror', u'Sci-Fi'],\n",
       " [u'Comedy', u'Drama', u'War'],\n",
       " [u'Drama', u'Thriller'],\n",
       " [u'Drama'],\n",
       " [u'Drama', u'Western'],\n",
       " [u'Drama', u'Horror'],\n",
       " [u'Drama', u'War'],\n",
       " [u'Animation', u'Drama', u'War'],\n",
       " [u'Animation', u'Adventure', u'Family', u'Sci-Fi'],\n",
       " [u'Action', u'Thriller'],\n",
       " [u'Drama'],\n",
       " [u'Action', u'Horror', u'Sci-Fi'],\n",
       " [u'Animation', u'Adventure', u'Fantasy'],\n",
       " [u'Drama', u'Mystery', u'Thriller'],\n",
       " [u'Drama', u'Mystery'],\n",
       " [u'Adventure', u'Crime', u'Mystery', u'Thriller'],\n",
       " [u'Crime', u'Drama'],\n",
       " [u'Adventure', u'Drama', u'Thriller', u'War'],\n",
       " [u'Mystery', u'Romance', u'Thriller'],\n",
       " [u'Action', u'Adventure', u'Fantasy', u'Sci-Fi'],\n",
       " [u'Crime', u'Drama', u'Mystery', u'Thriller'],\n",
       " [u'Crime', u'Drama', u'Mystery', u'Thriller'],\n",
       " [u'Crime', u'Drama', u'Thriller'],\n",
       " [u'Comedy', u'Romance'],\n",
       " [u'Biography', u'Drama', u'History', u'War'],\n",
       " [u'Drama'],\n",
       " [u'Crime', u'Drama', u'Sci-Fi'],\n",
       " [u'Crime', u'Drama'],\n",
       " [u'Crime', u'Drama', u'Film-Noir', u'Mystery', u'Thriller'],\n",
       " [u'Animation', u'Adventure', u'Comedy', u'Family', u'Fantasy'],\n",
       " [u'Crime', u'Drama'],\n",
       " [u'Adventure', u'Biography', u'Drama', u'History', u'War'],\n",
       " [u'Drama', u'Romance', u'Sci-Fi'],\n",
       " [u'Drama', u'War'],\n",
       " [u'Biography', u'Drama', u'History', u'Music'],\n",
       " [u'Comedy', u'Crime', u'Drama'],\n",
       " [u'Adventure', u'Mystery', u'Sci-Fi'],\n",
       " [u'Drama'],\n",
       " [u'Comedy', u'Musical', u'Romance'],\n",
       " [u'Comedy', u'Crime'],\n",
       " [u'Animation', u'Adventure', u'Comedy', u'Family', u'Fantasy'],\n",
       " [u'Adventure', u'Comedy', u'Fantasy'],\n",
       " [u'Adventure', u'Drama', u'War'],\n",
       " [u'Comedy', u'Drama', u'Family'],\n",
       " [u'Crime', u'Drama', u'Mystery', u'Thriller'],\n",
       " [u'Western'],\n",
       " [u'Comedy', u'Drama', u'Romance'],\n",
       " [u'Crime', u'Drama'],\n",
       " [u'Action', u'Adventure', u'Fantasy']]"
      ]
     },
     "execution_count": 8,
     "metadata": {},
     "output_type": "execute_result"
    }
   ],
   "source": [
    "# movies_genres"
   ]
  },
  {
   "cell_type": "code",
   "execution_count": 10,
   "metadata": {
    "collapsed": false
   },
   "outputs": [],
   "source": [
    "movies['genres'] = movies_genres\n",
    "movies['runtime'] = movies_runtime"
   ]
  },
  {
   "cell_type": "markdown",
   "metadata": {},
   "source": [
    "#### 4. Write the Results to a csv"
   ]
  },
  {
   "cell_type": "code",
   "execution_count": 13,
   "metadata": {
    "collapsed": false
   },
   "outputs": [],
   "source": [
    "# movies.to_csv('movies.csv',     # Filepath\n",
    "#               encoding='utf-8') # use utf-8 encoding"
   ]
  },
  {
   "cell_type": "markdown",
   "metadata": {},
   "source": [
    "---\n",
    "\n",
    "## Part 2: Wrangle the text data"
   ]
  },
  {
   "cell_type": "markdown",
   "metadata": {},
   "source": [
    "#### 1. Scrape the reviews for the top 100 movies"
   ]
  },
  {
   "cell_type": "markdown",
   "metadata": {},
   "source": [
    "*Hint*: Use a loop to scrape each page at once"
   ]
  },
  {
   "cell_type": "code",
   "execution_count": 1,
   "metadata": {
    "collapsed": false,
    "scrolled": true
   },
   "outputs": [],
   "source": [
    "import requests\n",
    "from scrapy.selector import Selector\n",
    "from scrapy.http import HtmlResponse\n",
    "\n",
    "url = 'http://www.imdb.com/title/%s/' % 'tt0111161' # Set URL\n",
    "response = requests.get(url)                        # Get URL Response\n",
    "HTML = response.text                                # Obtain text from response"
   ]
  },
  {
   "cell_type": "code",
   "execution_count": 43,
   "metadata": {
    "collapsed": true
   },
   "outputs": [
    {
     "data": {
      "text/plain": [
       "[u\" One of the finest films made in recent years. It's a poignant story about hope. Hope gets me. That's what makes a film like this more than a movie. It tells a lesson about life. Those are the films people talk about 50 or even 100 years from you. It's also a story for freedom. Freedom from isolation,  from rule, from bigotry and hate. Freeman and Robbins are majestic in their performances. Each learns from the other. Their relationship is strong and you feel that from the first moment they make contact with one another. There is also a wonderful performance from legend James Whitmore as Brooks.\",\n",
       " u'He shines when it is his time to go back into the world, only to find that the world grew up so fast he never even got a chance to blink. Stephen King\\'s story is brought to the screen with great elegance and excitement. It is an extraordinary motion that people \"will\" be talking about in  50 or 100 years.  ']"
      ]
     },
     "execution_count": 43,
     "metadata": {},
     "output_type": "execute_result"
    }
   ],
   "source": [
    "# Select Text of Review\n",
    "Selector(text=HTML).xpath('//span/div[2]/p/text()').extract() "
   ]
  },
  {
   "cell_type": "code",
   "execution_count": 45,
   "metadata": {
    "collapsed": false
   },
   "outputs": [
    {
     "data": {
      "text/plain": [
       "[u'9.3']"
      ]
     },
     "execution_count": 45,
     "metadata": {},
     "output_type": "execute_result"
    }
   ],
   "source": [
    "# Select Review Score\n",
    "Selector(text=HTML).xpath(\"//div[@class='ratingValue']/strong/span/text()\").extract()"
   ]
  },
  {
   "cell_type": "markdown",
   "metadata": {},
   "source": [
    "#### 2. Extract the reviews and the rating per review for each movie\n",
    "\n",
    "*Note*: \"soup\" from BeautifulSoup is the html returned from all 25 pages. You'll need to either address each page individually or break them down by elements."
   ]
  },
  {
   "cell_type": "code",
   "execution_count": 213,
   "metadata": {
    "collapsed": true
   },
   "outputs": [],
   "source": [
    "top250= pd.read_csv('movies.csv')"
   ]
  },
  {
   "cell_type": "code",
   "execution_count": 297,
   "metadata": {
    "collapsed": false
   },
   "outputs": [],
   "source": [
    "# Reviews for all of the movies are stored as .gif files\n",
    "# The file name corresponds to a score out of 100\n",
    "\n",
    "reviews = pd.DataFrame()\n",
    "\n",
    "# url = 'http://www.imdb.com/title/%s/reviews?start=0' % 'tt0111161' # Set URL\n",
    "# response = requests.get(url)                        # Get URL Response\n",
    "# HTML = response.text                                # Obtain text from response\n",
    "\n",
    "review = []\n",
    "rank = []\n",
    "tconsts =[]\n",
    "for tconst in top250['tconst'].unique():\n",
    "    url = 'http://www.imdb.com/title/%s/reviews?start=0' % tconst\n",
    "    response = requests.get(url)\n",
    "    HTML = response.text   \n",
    "    for i in range(1,11):\n",
    "        tconsts.append(tconst)\n",
    "        review.append((Selector(text=HTML).xpath(\n",
    "                \"//div[@id='tn15content']/p[%s]/text()\" % i).extract()[0]).encode('utf-8'))\n",
    "        rank.append((Selector(text=HTML).xpath(\"//div[@id='tn15']/div[@id='tn15main']/div[@id='tn15content']/div[%s]/img/@src\" % i ).extract()))"
   ]
  },
  {
   "cell_type": "code",
   "execution_count": 278,
   "metadata": {
    "collapsed": false
   },
   "outputs": [],
   "source": [
    "reviews = pd.DataFrame(\n",
    "{'IMDB_Identifier' : tconsts,\n",
    "'Ranking' : rank,\n",
    "'Review' : review})"
   ]
  },
  {
   "cell_type": "code",
   "execution_count": 279,
   "metadata": {
    "collapsed": false
   },
   "outputs": [
    {
     "data": {
      "text/plain": [
       "u'http://i.media-imdb.com/images/showtimes/100.gif'"
      ]
     },
     "execution_count": 279,
     "metadata": {},
     "output_type": "execute_result"
    }
   ],
   "source": [
    "Selector(text=HTML).xpath('//div[1]/img/@src').extract()[0]"
   ]
  },
  {
   "cell_type": "code",
   "execution_count": 280,
   "metadata": {
    "collapsed": false
   },
   "outputs": [
    {
     "data": {
      "text/html": [
       "<div>\n",
       "<table border=\"1\" class=\"dataframe\">\n",
       "  <thead>\n",
       "    <tr style=\"text-align: right;\">\n",
       "      <th></th>\n",
       "      <th>IMDB_Identifier</th>\n",
       "      <th>Ranking</th>\n",
       "      <th>Review</th>\n",
       "    </tr>\n",
       "  </thead>\n",
       "  <tbody>\n",
       "    <tr>\n",
       "      <th>0</th>\n",
       "      <td>tt0111161</td>\n",
       "      <td>[http://i.media-imdb.com/images/showtimes/100....</td>\n",
       "      <td>\\nWhy do I want to write the 234th comment on ...</td>\n",
       "    </tr>\n",
       "    <tr>\n",
       "      <th>1</th>\n",
       "      <td>tt0111161</td>\n",
       "      <td>[http://i.media-imdb.com/images/SF8104186305d9...</td>\n",
       "      <td>\\n\\nCan Hollywood, usually creating things for...</td>\n",
       "    </tr>\n",
       "    <tr>\n",
       "      <th>2</th>\n",
       "      <td>tt0111161</td>\n",
       "      <td>[http://i.media-imdb.com/images/showtimes/100....</td>\n",
       "      <td>\\n\\nI have never seen such an amazing film sin...</td>\n",
       "    </tr>\n",
       "    <tr>\n",
       "      <th>3</th>\n",
       "      <td>tt0111161</td>\n",
       "      <td>[]</td>\n",
       "      <td>\\nIn its Oscar year, Shawshank Redemption (wri...</td>\n",
       "    </tr>\n",
       "    <tr>\n",
       "      <th>4</th>\n",
       "      <td>tt0111161</td>\n",
       "      <td>[]</td>\n",
       "      <td>\\nThe reason I became a member of this databas...</td>\n",
       "    </tr>\n",
       "  </tbody>\n",
       "</table>\n",
       "</div>"
      ],
      "text/plain": [
       "  IMDB_Identifier                                            Ranking  \\\n",
       "0       tt0111161  [http://i.media-imdb.com/images/showtimes/100....   \n",
       "1       tt0111161  [http://i.media-imdb.com/images/SF8104186305d9...   \n",
       "2       tt0111161  [http://i.media-imdb.com/images/showtimes/100....   \n",
       "3       tt0111161                                                 []   \n",
       "4       tt0111161                                                 []   \n",
       "\n",
       "                                              Review  \n",
       "0  \\nWhy do I want to write the 234th comment on ...  \n",
       "1  \\n\\nCan Hollywood, usually creating things for...  \n",
       "2  \\n\\nI have never seen such an amazing film sin...  \n",
       "3  \\nIn its Oscar year, Shawshank Redemption (wri...  \n",
       "4  \\nThe reason I became a member of this databas...  "
      ]
     },
     "execution_count": 280,
     "metadata": {},
     "output_type": "execute_result"
    }
   ],
   "source": [
    "reviews.head()"
   ]
  },
  {
   "cell_type": "markdown",
   "metadata": {},
   "source": [
    "#### 3. Remove the non AlphaNumeric characters from reviews"
   ]
  },
  {
   "cell_type": "code",
   "execution_count": 281,
   "metadata": {
    "collapsed": false
   },
   "outputs": [
    {
     "name": "stderr",
     "output_type": "stream",
     "text": [
      "/Users/sebozek/anaconda/lib/python2.7/site-packages/ipykernel/__main__.py:1: FutureWarning: convert_objects is deprecated.  Use the data-type specific converters pd.to_datetime, pd.to_timedelta and pd.to_numeric.\n",
      "  if __name__ == '__main__':\n"
     ]
    }
   ],
   "source": [
    "reviews['Review'] = reviews['Review'].astype(str).convert_objects(convert_numeric=True)"
   ]
  },
  {
   "cell_type": "code",
   "execution_count": 282,
   "metadata": {
    "collapsed": false
   },
   "outputs": [
    {
     "data": {
      "text/html": [
       "<div>\n",
       "<table border=\"1\" class=\"dataframe\">\n",
       "  <thead>\n",
       "    <tr style=\"text-align: right;\">\n",
       "      <th></th>\n",
       "      <th>IMDB_Identifier</th>\n",
       "      <th>Ranking</th>\n",
       "      <th>Review</th>\n",
       "    </tr>\n",
       "  </thead>\n",
       "  <tbody>\n",
       "    <tr>\n",
       "      <th>0</th>\n",
       "      <td>tt0111161</td>\n",
       "      <td>[http://i.media-imdb.com/images/showtimes/100....</td>\n",
       "      <td>\\nWhy do I want to write the 234th comment on ...</td>\n",
       "    </tr>\n",
       "    <tr>\n",
       "      <th>1</th>\n",
       "      <td>tt0111161</td>\n",
       "      <td>[http://i.media-imdb.com/images/SF8104186305d9...</td>\n",
       "      <td>\\n\\nCan Hollywood, usually creating things for...</td>\n",
       "    </tr>\n",
       "    <tr>\n",
       "      <th>2</th>\n",
       "      <td>tt0111161</td>\n",
       "      <td>[http://i.media-imdb.com/images/showtimes/100....</td>\n",
       "      <td>\\n\\nI have never seen such an amazing film sin...</td>\n",
       "    </tr>\n",
       "    <tr>\n",
       "      <th>3</th>\n",
       "      <td>tt0111161</td>\n",
       "      <td>[]</td>\n",
       "      <td>\\nIn its Oscar year, Shawshank Redemption (wri...</td>\n",
       "    </tr>\n",
       "    <tr>\n",
       "      <th>4</th>\n",
       "      <td>tt0111161</td>\n",
       "      <td>[]</td>\n",
       "      <td>\\nThe reason I became a member of this databas...</td>\n",
       "    </tr>\n",
       "    <tr>\n",
       "      <th>5</th>\n",
       "      <td>tt0111161</td>\n",
       "      <td>[]</td>\n",
       "      <td>\\n\\nI believe that this film is the best story...</td>\n",
       "    </tr>\n",
       "    <tr>\n",
       "      <th>6</th>\n",
       "      <td>tt0111161</td>\n",
       "      <td>[http://i.media-imdb.com/images/showtimes/100....</td>\n",
       "      <td>\\n\\nOne of my all time favorites. Shawshank Re...</td>\n",
       "    </tr>\n",
       "    <tr>\n",
       "      <th>7</th>\n",
       "      <td>tt0111161</td>\n",
       "      <td>[]</td>\n",
       "      <td>\\n\\nOne of the finest films made in recent yea...</td>\n",
       "    </tr>\n",
       "    <tr>\n",
       "      <th>8</th>\n",
       "      <td>tt0111161</td>\n",
       "      <td>[]</td>\n",
       "      <td>\\nMisery and Stand By Me were the best adaptat...</td>\n",
       "    </tr>\n",
       "    <tr>\n",
       "      <th>9</th>\n",
       "      <td>tt0111161</td>\n",
       "      <td>[]</td>\n",
       "      <td>\\n\\nThe Shawshank Redemption is without a doub...</td>\n",
       "    </tr>\n",
       "    <tr>\n",
       "      <th>10</th>\n",
       "      <td>tt0068646</td>\n",
       "      <td>[http://i.media-imdb.com/images/showtimes/100....</td>\n",
       "      <td>\\nRather than concentrating on everything that...</td>\n",
       "    </tr>\n",
       "    <tr>\n",
       "      <th>11</th>\n",
       "      <td>tt0068646</td>\n",
       "      <td>[http://i.media-imdb.com/images/SF8104186305d9...</td>\n",
       "      <td>\\n\\nThis is by far the best movie ever to give...</td>\n",
       "    </tr>\n",
       "    <tr>\n",
       "      <th>12</th>\n",
       "      <td>tt0068646</td>\n",
       "      <td>[http://i.media-imdb.com/images/showtimes/100....</td>\n",
       "      <td>\\n\\nThe Godfather is one of the few films in w...</td>\n",
       "    </tr>\n",
       "    <tr>\n",
       "      <th>13</th>\n",
       "      <td>tt0068646</td>\n",
       "      <td>[]</td>\n",
       "      <td>\\n\\n     This movie is strong, good script, gr...</td>\n",
       "    </tr>\n",
       "    <tr>\n",
       "      <th>14</th>\n",
       "      <td>tt0068646</td>\n",
       "      <td>[http://i.media-imdb.com/images/showtimes/100....</td>\n",
       "      <td>\\n\\nThe Godfather is one of the very few films...</td>\n",
       "    </tr>\n",
       "    <tr>\n",
       "      <th>15</th>\n",
       "      <td>tt0068646</td>\n",
       "      <td>[]</td>\n",
       "      <td>\\nThis is a masterpiece. A timeless masterpiec...</td>\n",
       "    </tr>\n",
       "    <tr>\n",
       "      <th>16</th>\n",
       "      <td>tt0068646</td>\n",
       "      <td>[http://i.media-imdb.com/images/showtimes/100....</td>\n",
       "      <td>\\nThis must rank as the best film (along with ...</td>\n",
       "    </tr>\n",
       "    <tr>\n",
       "      <th>17</th>\n",
       "      <td>tt0068646</td>\n",
       "      <td>[]</td>\n",
       "      <td>\\n'The Godfather' is the pinnacle of flawless ...</td>\n",
       "    </tr>\n",
       "    <tr>\n",
       "      <th>18</th>\n",
       "      <td>tt0068646</td>\n",
       "      <td>[http://i.media-imdb.com/images/showtimes/90.gif]</td>\n",
       "      <td>\\nI love this movie and all of the GF movies. ...</td>\n",
       "    </tr>\n",
       "    <tr>\n",
       "      <th>19</th>\n",
       "      <td>tt0068646</td>\n",
       "      <td>[]</td>\n",
       "      <td>\\nThe godfather trilogy is an exclusive set of...</td>\n",
       "    </tr>\n",
       "    <tr>\n",
       "      <th>20</th>\n",
       "      <td>tt0071562</td>\n",
       "      <td>[http://i.media-imdb.com/images/showtimes/100....</td>\n",
       "      <td>\\n\\nThis movie is way to be good to be labelle...</td>\n",
       "    </tr>\n",
       "    <tr>\n",
       "      <th>21</th>\n",
       "      <td>tt0071562</td>\n",
       "      <td>[http://i.media-imdb.com/images/SF8104186305d9...</td>\n",
       "      <td>\\n\\nThe original Godfather is a brilliant work...</td>\n",
       "    </tr>\n",
       "    <tr>\n",
       "      <th>22</th>\n",
       "      <td>tt0071562</td>\n",
       "      <td>[http://i.media-imdb.com/images/showtimes/100....</td>\n",
       "      <td>\\n\\nYou can count on one hand the movie sequel...</td>\n",
       "    </tr>\n",
       "    <tr>\n",
       "      <th>23</th>\n",
       "      <td>tt0071562</td>\n",
       "      <td>[]</td>\n",
       "      <td>\\n\\nThe Godfather Part 2 is the finest sequel ...</td>\n",
       "    </tr>\n",
       "    <tr>\n",
       "      <th>24</th>\n",
       "      <td>tt0071562</td>\n",
       "      <td>[http://i.media-imdb.com/images/showtimes/100....</td>\n",
       "      <td>\\nCoppola's masterpiece is rivaled only by \"Th...</td>\n",
       "    </tr>\n",
       "    <tr>\n",
       "      <th>25</th>\n",
       "      <td>tt0071562</td>\n",
       "      <td>[]</td>\n",
       "      <td>\\nThe Godfather Part II (1974)</td>\n",
       "    </tr>\n",
       "    <tr>\n",
       "      <th>26</th>\n",
       "      <td>tt0071562</td>\n",
       "      <td>[http://i.media-imdb.com/images/showtimes/100....</td>\n",
       "      <td>\\nSeries note: It is almost unthinkable to wat...</td>\n",
       "    </tr>\n",
       "    <tr>\n",
       "      <th>27</th>\n",
       "      <td>tt0071562</td>\n",
       "      <td>[]</td>\n",
       "      <td>\\n\\nAfter seeing The Godfather and improving i...</td>\n",
       "    </tr>\n",
       "    <tr>\n",
       "      <th>28</th>\n",
       "      <td>tt0071562</td>\n",
       "      <td>[http://i.media-imdb.com/images/showtimes/100....</td>\n",
       "      <td>\\nThe Godfather Part Two is possibly the best ...</td>\n",
       "    </tr>\n",
       "    <tr>\n",
       "      <th>29</th>\n",
       "      <td>tt0071562</td>\n",
       "      <td>[]</td>\n",
       "      <td>\\n\\nFrancis Coppola and Mario Puzo continue th...</td>\n",
       "    </tr>\n",
       "    <tr>\n",
       "      <th>...</th>\n",
       "      <td>...</td>\n",
       "      <td>...</td>\n",
       "      <td>...</td>\n",
       "    </tr>\n",
       "    <tr>\n",
       "      <th>980</th>\n",
       "      <td>tt0053604</td>\n",
       "      <td>[http://i.media-imdb.com/images/showtimes/100....</td>\n",
       "      <td>\\nOhhh - after my 4th or 5th viewing, I think ...</td>\n",
       "    </tr>\n",
       "    <tr>\n",
       "      <th>981</th>\n",
       "      <td>tt0053604</td>\n",
       "      <td>[http://i.media-imdb.com/images/SF8104186305d9...</td>\n",
       "      <td>\\n\\nWhat a wonderful way to spend an evening--...</td>\n",
       "    </tr>\n",
       "    <tr>\n",
       "      <th>982</th>\n",
       "      <td>tt0053604</td>\n",
       "      <td>[http://i.media-imdb.com/images/showtimes/100....</td>\n",
       "      <td>\\nWritten by the great filmmaker Billy Wilder,...</td>\n",
       "    </tr>\n",
       "    <tr>\n",
       "      <th>983</th>\n",
       "      <td>tt0053604</td>\n",
       "      <td>[]</td>\n",
       "      <td>\\n\\nBilly Wilder knew how to make a great movi...</td>\n",
       "    </tr>\n",
       "    <tr>\n",
       "      <th>984</th>\n",
       "      <td>tt0053604</td>\n",
       "      <td>[http://i.media-imdb.com/images/showtimes/100....</td>\n",
       "      <td>\\n\\nAfter the first time I saw The Apartment, ...</td>\n",
       "    </tr>\n",
       "    <tr>\n",
       "      <th>985</th>\n",
       "      <td>tt0053604</td>\n",
       "      <td>[]</td>\n",
       "      <td>\\nOne of the finest examples of smart, satiric...</td>\n",
       "    </tr>\n",
       "    <tr>\n",
       "      <th>986</th>\n",
       "      <td>tt0053604</td>\n",
       "      <td>[http://i.media-imdb.com/images/showtimes/90.gif]</td>\n",
       "      <td>\\n\\nJack Lemmon is the man.</td>\n",
       "    </tr>\n",
       "    <tr>\n",
       "      <th>987</th>\n",
       "      <td>tt0053604</td>\n",
       "      <td>[]</td>\n",
       "      <td>\\nIn the recent biography of Billy Wilder by E...</td>\n",
       "    </tr>\n",
       "    <tr>\n",
       "      <th>988</th>\n",
       "      <td>tt0053604</td>\n",
       "      <td>[http://i.media-imdb.com/images/showtimes/100....</td>\n",
       "      <td>\\nBilly Wilder's \"The Apartment\" is a film whi...</td>\n",
       "    </tr>\n",
       "    <tr>\n",
       "      <th>989</th>\n",
       "      <td>tt0053604</td>\n",
       "      <td>[]</td>\n",
       "      <td>\\nA struggling office worker in a giant insura...</td>\n",
       "    </tr>\n",
       "    <tr>\n",
       "      <th>990</th>\n",
       "      <td>tt0042876</td>\n",
       "      <td>[/rd/?q=50703000000030a090f29616f226e276966600...</td>\n",
       "      <td>\\n\\n'People forget the unpleasant things.  The...</td>\n",
       "    </tr>\n",
       "    <tr>\n",
       "      <th>991</th>\n",
       "      <td>tt0042876</td>\n",
       "      <td>[http://i.media-imdb.com/images/SF8104186305d9...</td>\n",
       "      <td>\\nAkira Kurosawa was one of those directors, t...</td>\n",
       "    </tr>\n",
       "    <tr>\n",
       "      <th>992</th>\n",
       "      <td>tt0042876</td>\n",
       "      <td>[http://i.media-imdb.com/images/showtimes/100....</td>\n",
       "      <td>\\n\"Rashomon\" was Akira Kurosawa's first nation...</td>\n",
       "    </tr>\n",
       "    <tr>\n",
       "      <th>993</th>\n",
       "      <td>tt0042876</td>\n",
       "      <td>[]</td>\n",
       "      <td>\\nThis fabulous work was years and years ahead...</td>\n",
       "    </tr>\n",
       "    <tr>\n",
       "      <th>994</th>\n",
       "      <td>tt0042876</td>\n",
       "      <td>[http://i.media-imdb.com/images/showtimes/100....</td>\n",
       "      <td>\\nTo have a film that holds the coveted title ...</td>\n",
       "    </tr>\n",
       "    <tr>\n",
       "      <th>995</th>\n",
       "      <td>tt0042876</td>\n",
       "      <td>[]</td>\n",
       "      <td>\\n\"Rashomon\" tells a very simple tale in a ver...</td>\n",
       "    </tr>\n",
       "    <tr>\n",
       "      <th>996</th>\n",
       "      <td>tt0042876</td>\n",
       "      <td>[http://i.media-imdb.com/images/showtimes/90.gif]</td>\n",
       "      <td>\\nAs oppose to its commonplace plot, Rashomon ...</td>\n",
       "    </tr>\n",
       "    <tr>\n",
       "      <th>997</th>\n",
       "      <td>tt0042876</td>\n",
       "      <td>[]</td>\n",
       "      <td>\\n\\nThe more I watch and re-watch Kurosawa's f...</td>\n",
       "    </tr>\n",
       "    <tr>\n",
       "      <th>998</th>\n",
       "      <td>tt0042876</td>\n",
       "      <td>[http://i.media-imdb.com/images/showtimes/80.gif]</td>\n",
       "      <td>\\n\"Rashomon\", Akira Kurosawa's 1950 film about...</td>\n",
       "    </tr>\n",
       "    <tr>\n",
       "      <th>999</th>\n",
       "      <td>tt0042876</td>\n",
       "      <td>[]</td>\n",
       "      <td>\\n\\nRashomon by Akira is probably one of his v...</td>\n",
       "    </tr>\n",
       "    <tr>\n",
       "      <th>1000</th>\n",
       "      <td>tt0097576</td>\n",
       "      <td>[http://i.media-imdb.com/images/showtimes/100....</td>\n",
       "      <td>\\nIndiana Jones, the man, the legend, the whip...</td>\n",
       "    </tr>\n",
       "    <tr>\n",
       "      <th>1001</th>\n",
       "      <td>tt0097576</td>\n",
       "      <td>[http://i.media-imdb.com/images/SF8104186305d9...</td>\n",
       "      <td>\\nRating: **** out of ****</td>\n",
       "    </tr>\n",
       "    <tr>\n",
       "      <th>1002</th>\n",
       "      <td>tt0097576</td>\n",
       "      <td>[http://i.media-imdb.com/images/showtimes/100....</td>\n",
       "      <td>\\n\\nOne thing you gotta say for this series: i...</td>\n",
       "    </tr>\n",
       "    <tr>\n",
       "      <th>1003</th>\n",
       "      <td>tt0097576</td>\n",
       "      <td>[]</td>\n",
       "      <td>\\nIndiana Jones And The Last Crusade was, in m...</td>\n",
       "    </tr>\n",
       "    <tr>\n",
       "      <th>1004</th>\n",
       "      <td>tt0097576</td>\n",
       "      <td>[http://i.media-imdb.com/images/showtimes/100....</td>\n",
       "      <td>\\nEverything clicks in this action-packed clif...</td>\n",
       "    </tr>\n",
       "    <tr>\n",
       "      <th>1005</th>\n",
       "      <td>tt0097576</td>\n",
       "      <td>[]</td>\n",
       "      <td>\\nWhen the two greatest filmmakers in the worl...</td>\n",
       "    </tr>\n",
       "    <tr>\n",
       "      <th>1006</th>\n",
       "      <td>tt0097576</td>\n",
       "      <td>[]</td>\n",
       "      <td>\\nThe second sequel to Raiders of the Lost Ark...</td>\n",
       "    </tr>\n",
       "    <tr>\n",
       "      <th>1007</th>\n",
       "      <td>tt0097576</td>\n",
       "      <td>[]</td>\n",
       "      <td>\\n\\n\"Indiana Jones and the Last Crusade\" was s...</td>\n",
       "    </tr>\n",
       "    <tr>\n",
       "      <th>1008</th>\n",
       "      <td>tt0097576</td>\n",
       "      <td>[http://i.media-imdb.com/images/showtimes/100....</td>\n",
       "      <td>\\nIndiana Jones teams up with his father to tr...</td>\n",
       "    </tr>\n",
       "    <tr>\n",
       "      <th>1009</th>\n",
       "      <td>tt0097576</td>\n",
       "      <td>[]</td>\n",
       "      <td>\\nAn ideal action-comedy/adventure if there ev...</td>\n",
       "    </tr>\n",
       "  </tbody>\n",
       "</table>\n",
       "<p>1010 rows × 3 columns</p>\n",
       "</div>"
      ],
      "text/plain": [
       "     IMDB_Identifier                                            Ranking  \\\n",
       "0          tt0111161  [http://i.media-imdb.com/images/showtimes/100....   \n",
       "1          tt0111161  [http://i.media-imdb.com/images/SF8104186305d9...   \n",
       "2          tt0111161  [http://i.media-imdb.com/images/showtimes/100....   \n",
       "3          tt0111161                                                 []   \n",
       "4          tt0111161                                                 []   \n",
       "5          tt0111161                                                 []   \n",
       "6          tt0111161  [http://i.media-imdb.com/images/showtimes/100....   \n",
       "7          tt0111161                                                 []   \n",
       "8          tt0111161                                                 []   \n",
       "9          tt0111161                                                 []   \n",
       "10         tt0068646  [http://i.media-imdb.com/images/showtimes/100....   \n",
       "11         tt0068646  [http://i.media-imdb.com/images/SF8104186305d9...   \n",
       "12         tt0068646  [http://i.media-imdb.com/images/showtimes/100....   \n",
       "13         tt0068646                                                 []   \n",
       "14         tt0068646  [http://i.media-imdb.com/images/showtimes/100....   \n",
       "15         tt0068646                                                 []   \n",
       "16         tt0068646  [http://i.media-imdb.com/images/showtimes/100....   \n",
       "17         tt0068646                                                 []   \n",
       "18         tt0068646  [http://i.media-imdb.com/images/showtimes/90.gif]   \n",
       "19         tt0068646                                                 []   \n",
       "20         tt0071562  [http://i.media-imdb.com/images/showtimes/100....   \n",
       "21         tt0071562  [http://i.media-imdb.com/images/SF8104186305d9...   \n",
       "22         tt0071562  [http://i.media-imdb.com/images/showtimes/100....   \n",
       "23         tt0071562                                                 []   \n",
       "24         tt0071562  [http://i.media-imdb.com/images/showtimes/100....   \n",
       "25         tt0071562                                                 []   \n",
       "26         tt0071562  [http://i.media-imdb.com/images/showtimes/100....   \n",
       "27         tt0071562                                                 []   \n",
       "28         tt0071562  [http://i.media-imdb.com/images/showtimes/100....   \n",
       "29         tt0071562                                                 []   \n",
       "...              ...                                                ...   \n",
       "980        tt0053604  [http://i.media-imdb.com/images/showtimes/100....   \n",
       "981        tt0053604  [http://i.media-imdb.com/images/SF8104186305d9...   \n",
       "982        tt0053604  [http://i.media-imdb.com/images/showtimes/100....   \n",
       "983        tt0053604                                                 []   \n",
       "984        tt0053604  [http://i.media-imdb.com/images/showtimes/100....   \n",
       "985        tt0053604                                                 []   \n",
       "986        tt0053604  [http://i.media-imdb.com/images/showtimes/90.gif]   \n",
       "987        tt0053604                                                 []   \n",
       "988        tt0053604  [http://i.media-imdb.com/images/showtimes/100....   \n",
       "989        tt0053604                                                 []   \n",
       "990        tt0042876  [/rd/?q=50703000000030a090f29616f226e276966600...   \n",
       "991        tt0042876  [http://i.media-imdb.com/images/SF8104186305d9...   \n",
       "992        tt0042876  [http://i.media-imdb.com/images/showtimes/100....   \n",
       "993        tt0042876                                                 []   \n",
       "994        tt0042876  [http://i.media-imdb.com/images/showtimes/100....   \n",
       "995        tt0042876                                                 []   \n",
       "996        tt0042876  [http://i.media-imdb.com/images/showtimes/90.gif]   \n",
       "997        tt0042876                                                 []   \n",
       "998        tt0042876  [http://i.media-imdb.com/images/showtimes/80.gif]   \n",
       "999        tt0042876                                                 []   \n",
       "1000       tt0097576  [http://i.media-imdb.com/images/showtimes/100....   \n",
       "1001       tt0097576  [http://i.media-imdb.com/images/SF8104186305d9...   \n",
       "1002       tt0097576  [http://i.media-imdb.com/images/showtimes/100....   \n",
       "1003       tt0097576                                                 []   \n",
       "1004       tt0097576  [http://i.media-imdb.com/images/showtimes/100....   \n",
       "1005       tt0097576                                                 []   \n",
       "1006       tt0097576                                                 []   \n",
       "1007       tt0097576                                                 []   \n",
       "1008       tt0097576  [http://i.media-imdb.com/images/showtimes/100....   \n",
       "1009       tt0097576                                                 []   \n",
       "\n",
       "                                                 Review  \n",
       "0     \\nWhy do I want to write the 234th comment on ...  \n",
       "1     \\n\\nCan Hollywood, usually creating things for...  \n",
       "2     \\n\\nI have never seen such an amazing film sin...  \n",
       "3     \\nIn its Oscar year, Shawshank Redemption (wri...  \n",
       "4     \\nThe reason I became a member of this databas...  \n",
       "5     \\n\\nI believe that this film is the best story...  \n",
       "6     \\n\\nOne of my all time favorites. Shawshank Re...  \n",
       "7     \\n\\nOne of the finest films made in recent yea...  \n",
       "8     \\nMisery and Stand By Me were the best adaptat...  \n",
       "9     \\n\\nThe Shawshank Redemption is without a doub...  \n",
       "10    \\nRather than concentrating on everything that...  \n",
       "11    \\n\\nThis is by far the best movie ever to give...  \n",
       "12    \\n\\nThe Godfather is one of the few films in w...  \n",
       "13    \\n\\n     This movie is strong, good script, gr...  \n",
       "14    \\n\\nThe Godfather is one of the very few films...  \n",
       "15    \\nThis is a masterpiece. A timeless masterpiec...  \n",
       "16    \\nThis must rank as the best film (along with ...  \n",
       "17    \\n'The Godfather' is the pinnacle of flawless ...  \n",
       "18    \\nI love this movie and all of the GF movies. ...  \n",
       "19    \\nThe godfather trilogy is an exclusive set of...  \n",
       "20    \\n\\nThis movie is way to be good to be labelle...  \n",
       "21    \\n\\nThe original Godfather is a brilliant work...  \n",
       "22    \\n\\nYou can count on one hand the movie sequel...  \n",
       "23    \\n\\nThe Godfather Part 2 is the finest sequel ...  \n",
       "24    \\nCoppola's masterpiece is rivaled only by \"Th...  \n",
       "25                       \\nThe Godfather Part II (1974)  \n",
       "26    \\nSeries note: It is almost unthinkable to wat...  \n",
       "27    \\n\\nAfter seeing The Godfather and improving i...  \n",
       "28    \\nThe Godfather Part Two is possibly the best ...  \n",
       "29    \\n\\nFrancis Coppola and Mario Puzo continue th...  \n",
       "...                                                 ...  \n",
       "980   \\nOhhh - after my 4th or 5th viewing, I think ...  \n",
       "981   \\n\\nWhat a wonderful way to spend an evening--...  \n",
       "982   \\nWritten by the great filmmaker Billy Wilder,...  \n",
       "983   \\n\\nBilly Wilder knew how to make a great movi...  \n",
       "984   \\n\\nAfter the first time I saw The Apartment, ...  \n",
       "985   \\nOne of the finest examples of smart, satiric...  \n",
       "986                         \\n\\nJack Lemmon is the man.  \n",
       "987   \\nIn the recent biography of Billy Wilder by E...  \n",
       "988   \\nBilly Wilder's \"The Apartment\" is a film whi...  \n",
       "989   \\nA struggling office worker in a giant insura...  \n",
       "990   \\n\\n'People forget the unpleasant things.  The...  \n",
       "991   \\nAkira Kurosawa was one of those directors, t...  \n",
       "992   \\n\"Rashomon\" was Akira Kurosawa's first nation...  \n",
       "993   \\nThis fabulous work was years and years ahead...  \n",
       "994   \\nTo have a film that holds the coveted title ...  \n",
       "995   \\n\"Rashomon\" tells a very simple tale in a ver...  \n",
       "996   \\nAs oppose to its commonplace plot, Rashomon ...  \n",
       "997   \\n\\nThe more I watch and re-watch Kurosawa's f...  \n",
       "998   \\n\"Rashomon\", Akira Kurosawa's 1950 film about...  \n",
       "999   \\n\\nRashomon by Akira is probably one of his v...  \n",
       "1000  \\nIndiana Jones, the man, the legend, the whip...  \n",
       "1001                         \\nRating: **** out of ****  \n",
       "1002  \\n\\nOne thing you gotta say for this series: i...  \n",
       "1003  \\nIndiana Jones And The Last Crusade was, in m...  \n",
       "1004  \\nEverything clicks in this action-packed clif...  \n",
       "1005  \\nWhen the two greatest filmmakers in the worl...  \n",
       "1006  \\nThe second sequel to Raiders of the Lost Ark...  \n",
       "1007  \\n\\n\"Indiana Jones and the Last Crusade\" was s...  \n",
       "1008  \\nIndiana Jones teams up with his father to tr...  \n",
       "1009  \\nAn ideal action-comedy/adventure if there ev...  \n",
       "\n",
       "[1010 rows x 3 columns]"
      ]
     },
     "execution_count": 282,
     "metadata": {},
     "output_type": "execute_result"
    }
   ],
   "source": [
    "reviews"
   ]
  },
  {
   "cell_type": "code",
   "execution_count": 283,
   "metadata": {
    "collapsed": false
   },
   "outputs": [
    {
     "data": {
      "text/html": [
       "<div>\n",
       "<table border=\"1\" class=\"dataframe\">\n",
       "  <thead>\n",
       "    <tr style=\"text-align: right;\">\n",
       "      <th></th>\n",
       "      <th>IMDB_Identifier</th>\n",
       "      <th>Ranking</th>\n",
       "      <th>Review</th>\n",
       "    </tr>\n",
       "  </thead>\n",
       "  <tbody>\n",
       "    <tr>\n",
       "      <th>0</th>\n",
       "      <td>tt0111161</td>\n",
       "      <td>[http://i.media-imdb.com/images/showtimes/100....</td>\n",
       "      <td>\\nWhy do I want to write the 234th comment on ...</td>\n",
       "    </tr>\n",
       "    <tr>\n",
       "      <th>1</th>\n",
       "      <td>tt0111161</td>\n",
       "      <td>[http://i.media-imdb.com/images/SF8104186305d9...</td>\n",
       "      <td>\\n\\nCan Hollywood, usually creating things for...</td>\n",
       "    </tr>\n",
       "    <tr>\n",
       "      <th>2</th>\n",
       "      <td>tt0111161</td>\n",
       "      <td>[http://i.media-imdb.com/images/showtimes/100....</td>\n",
       "      <td>\\n\\nI have never seen such an amazing film sin...</td>\n",
       "    </tr>\n",
       "    <tr>\n",
       "      <th>3</th>\n",
       "      <td>tt0111161</td>\n",
       "      <td>[]</td>\n",
       "      <td>\\nIn its Oscar year, Shawshank Redemption (wri...</td>\n",
       "    </tr>\n",
       "    <tr>\n",
       "      <th>4</th>\n",
       "      <td>tt0111161</td>\n",
       "      <td>[]</td>\n",
       "      <td>\\nThe reason I became a member of this databas...</td>\n",
       "    </tr>\n",
       "    <tr>\n",
       "      <th>5</th>\n",
       "      <td>tt0111161</td>\n",
       "      <td>[]</td>\n",
       "      <td>\\n\\nI believe that this film is the best story...</td>\n",
       "    </tr>\n",
       "    <tr>\n",
       "      <th>6</th>\n",
       "      <td>tt0111161</td>\n",
       "      <td>[http://i.media-imdb.com/images/showtimes/100....</td>\n",
       "      <td>\\n\\nOne of my all time favorites. Shawshank Re...</td>\n",
       "    </tr>\n",
       "    <tr>\n",
       "      <th>7</th>\n",
       "      <td>tt0111161</td>\n",
       "      <td>[]</td>\n",
       "      <td>\\n\\nOne of the finest films made in recent yea...</td>\n",
       "    </tr>\n",
       "    <tr>\n",
       "      <th>8</th>\n",
       "      <td>tt0111161</td>\n",
       "      <td>[]</td>\n",
       "      <td>\\nMisery and Stand By Me were the best adaptat...</td>\n",
       "    </tr>\n",
       "    <tr>\n",
       "      <th>9</th>\n",
       "      <td>tt0111161</td>\n",
       "      <td>[]</td>\n",
       "      <td>\\n\\nThe Shawshank Redemption is without a doub...</td>\n",
       "    </tr>\n",
       "    <tr>\n",
       "      <th>10</th>\n",
       "      <td>tt0068646</td>\n",
       "      <td>[http://i.media-imdb.com/images/showtimes/100....</td>\n",
       "      <td>\\nRather than concentrating on everything that...</td>\n",
       "    </tr>\n",
       "    <tr>\n",
       "      <th>11</th>\n",
       "      <td>tt0068646</td>\n",
       "      <td>[http://i.media-imdb.com/images/SF8104186305d9...</td>\n",
       "      <td>\\n\\nThis is by far the best movie ever to give...</td>\n",
       "    </tr>\n",
       "    <tr>\n",
       "      <th>12</th>\n",
       "      <td>tt0068646</td>\n",
       "      <td>[http://i.media-imdb.com/images/showtimes/100....</td>\n",
       "      <td>\\n\\nThe Godfather is one of the few films in w...</td>\n",
       "    </tr>\n",
       "    <tr>\n",
       "      <th>13</th>\n",
       "      <td>tt0068646</td>\n",
       "      <td>[]</td>\n",
       "      <td>\\n\\n     This movie is strong, good script, gr...</td>\n",
       "    </tr>\n",
       "    <tr>\n",
       "      <th>14</th>\n",
       "      <td>tt0068646</td>\n",
       "      <td>[http://i.media-imdb.com/images/showtimes/100....</td>\n",
       "      <td>\\n\\nThe Godfather is one of the very few films...</td>\n",
       "    </tr>\n",
       "    <tr>\n",
       "      <th>15</th>\n",
       "      <td>tt0068646</td>\n",
       "      <td>[]</td>\n",
       "      <td>\\nThis is a masterpiece. A timeless masterpiec...</td>\n",
       "    </tr>\n",
       "    <tr>\n",
       "      <th>16</th>\n",
       "      <td>tt0068646</td>\n",
       "      <td>[http://i.media-imdb.com/images/showtimes/100....</td>\n",
       "      <td>\\nThis must rank as the best film (along with ...</td>\n",
       "    </tr>\n",
       "    <tr>\n",
       "      <th>17</th>\n",
       "      <td>tt0068646</td>\n",
       "      <td>[]</td>\n",
       "      <td>\\n'The Godfather' is the pinnacle of flawless ...</td>\n",
       "    </tr>\n",
       "    <tr>\n",
       "      <th>18</th>\n",
       "      <td>tt0068646</td>\n",
       "      <td>[http://i.media-imdb.com/images/showtimes/90.gif]</td>\n",
       "      <td>\\nI love this movie and all of the GF movies. ...</td>\n",
       "    </tr>\n",
       "    <tr>\n",
       "      <th>19</th>\n",
       "      <td>tt0068646</td>\n",
       "      <td>[]</td>\n",
       "      <td>\\nThe godfather trilogy is an exclusive set of...</td>\n",
       "    </tr>\n",
       "    <tr>\n",
       "      <th>20</th>\n",
       "      <td>tt0071562</td>\n",
       "      <td>[http://i.media-imdb.com/images/showtimes/100....</td>\n",
       "      <td>\\n\\nThis movie is way to be good to be labelle...</td>\n",
       "    </tr>\n",
       "    <tr>\n",
       "      <th>21</th>\n",
       "      <td>tt0071562</td>\n",
       "      <td>[http://i.media-imdb.com/images/SF8104186305d9...</td>\n",
       "      <td>\\n\\nThe original Godfather is a brilliant work...</td>\n",
       "    </tr>\n",
       "    <tr>\n",
       "      <th>22</th>\n",
       "      <td>tt0071562</td>\n",
       "      <td>[http://i.media-imdb.com/images/showtimes/100....</td>\n",
       "      <td>\\n\\nYou can count on one hand the movie sequel...</td>\n",
       "    </tr>\n",
       "    <tr>\n",
       "      <th>23</th>\n",
       "      <td>tt0071562</td>\n",
       "      <td>[]</td>\n",
       "      <td>\\n\\nThe Godfather Part 2 is the finest sequel ...</td>\n",
       "    </tr>\n",
       "    <tr>\n",
       "      <th>24</th>\n",
       "      <td>tt0071562</td>\n",
       "      <td>[http://i.media-imdb.com/images/showtimes/100....</td>\n",
       "      <td>\\nCoppola's masterpiece is rivaled only by \"Th...</td>\n",
       "    </tr>\n",
       "    <tr>\n",
       "      <th>25</th>\n",
       "      <td>tt0071562</td>\n",
       "      <td>[]</td>\n",
       "      <td>\\nThe Godfather Part II (1974)</td>\n",
       "    </tr>\n",
       "    <tr>\n",
       "      <th>26</th>\n",
       "      <td>tt0071562</td>\n",
       "      <td>[http://i.media-imdb.com/images/showtimes/100....</td>\n",
       "      <td>\\nSeries note: It is almost unthinkable to wat...</td>\n",
       "    </tr>\n",
       "    <tr>\n",
       "      <th>27</th>\n",
       "      <td>tt0071562</td>\n",
       "      <td>[]</td>\n",
       "      <td>\\n\\nAfter seeing The Godfather and improving i...</td>\n",
       "    </tr>\n",
       "    <tr>\n",
       "      <th>28</th>\n",
       "      <td>tt0071562</td>\n",
       "      <td>[http://i.media-imdb.com/images/showtimes/100....</td>\n",
       "      <td>\\nThe Godfather Part Two is possibly the best ...</td>\n",
       "    </tr>\n",
       "    <tr>\n",
       "      <th>29</th>\n",
       "      <td>tt0071562</td>\n",
       "      <td>[]</td>\n",
       "      <td>\\n\\nFrancis Coppola and Mario Puzo continue th...</td>\n",
       "    </tr>\n",
       "    <tr>\n",
       "      <th>...</th>\n",
       "      <td>...</td>\n",
       "      <td>...</td>\n",
       "      <td>...</td>\n",
       "    </tr>\n",
       "    <tr>\n",
       "      <th>980</th>\n",
       "      <td>tt0053604</td>\n",
       "      <td>[http://i.media-imdb.com/images/showtimes/100....</td>\n",
       "      <td>\\nOhhh - after my 4th or 5th viewing, I think ...</td>\n",
       "    </tr>\n",
       "    <tr>\n",
       "      <th>981</th>\n",
       "      <td>tt0053604</td>\n",
       "      <td>[http://i.media-imdb.com/images/SF8104186305d9...</td>\n",
       "      <td>\\n\\nWhat a wonderful way to spend an evening--...</td>\n",
       "    </tr>\n",
       "    <tr>\n",
       "      <th>982</th>\n",
       "      <td>tt0053604</td>\n",
       "      <td>[http://i.media-imdb.com/images/showtimes/100....</td>\n",
       "      <td>\\nWritten by the great filmmaker Billy Wilder,...</td>\n",
       "    </tr>\n",
       "    <tr>\n",
       "      <th>983</th>\n",
       "      <td>tt0053604</td>\n",
       "      <td>[]</td>\n",
       "      <td>\\n\\nBilly Wilder knew how to make a great movi...</td>\n",
       "    </tr>\n",
       "    <tr>\n",
       "      <th>984</th>\n",
       "      <td>tt0053604</td>\n",
       "      <td>[http://i.media-imdb.com/images/showtimes/100....</td>\n",
       "      <td>\\n\\nAfter the first time I saw The Apartment, ...</td>\n",
       "    </tr>\n",
       "    <tr>\n",
       "      <th>985</th>\n",
       "      <td>tt0053604</td>\n",
       "      <td>[]</td>\n",
       "      <td>\\nOne of the finest examples of smart, satiric...</td>\n",
       "    </tr>\n",
       "    <tr>\n",
       "      <th>986</th>\n",
       "      <td>tt0053604</td>\n",
       "      <td>[http://i.media-imdb.com/images/showtimes/90.gif]</td>\n",
       "      <td>\\n\\nJack Lemmon is the man.</td>\n",
       "    </tr>\n",
       "    <tr>\n",
       "      <th>987</th>\n",
       "      <td>tt0053604</td>\n",
       "      <td>[]</td>\n",
       "      <td>\\nIn the recent biography of Billy Wilder by E...</td>\n",
       "    </tr>\n",
       "    <tr>\n",
       "      <th>988</th>\n",
       "      <td>tt0053604</td>\n",
       "      <td>[http://i.media-imdb.com/images/showtimes/100....</td>\n",
       "      <td>\\nBilly Wilder's \"The Apartment\" is a film whi...</td>\n",
       "    </tr>\n",
       "    <tr>\n",
       "      <th>989</th>\n",
       "      <td>tt0053604</td>\n",
       "      <td>[]</td>\n",
       "      <td>\\nA struggling office worker in a giant insura...</td>\n",
       "    </tr>\n",
       "    <tr>\n",
       "      <th>990</th>\n",
       "      <td>tt0042876</td>\n",
       "      <td>[/rd/?q=50703000000030a090f29616f226e276966600...</td>\n",
       "      <td>\\n\\n'People forget the unpleasant things.  The...</td>\n",
       "    </tr>\n",
       "    <tr>\n",
       "      <th>991</th>\n",
       "      <td>tt0042876</td>\n",
       "      <td>[http://i.media-imdb.com/images/SF8104186305d9...</td>\n",
       "      <td>\\nAkira Kurosawa was one of those directors, t...</td>\n",
       "    </tr>\n",
       "    <tr>\n",
       "      <th>992</th>\n",
       "      <td>tt0042876</td>\n",
       "      <td>[http://i.media-imdb.com/images/showtimes/100....</td>\n",
       "      <td>\\n\"Rashomon\" was Akira Kurosawa's first nation...</td>\n",
       "    </tr>\n",
       "    <tr>\n",
       "      <th>993</th>\n",
       "      <td>tt0042876</td>\n",
       "      <td>[]</td>\n",
       "      <td>\\nThis fabulous work was years and years ahead...</td>\n",
       "    </tr>\n",
       "    <tr>\n",
       "      <th>994</th>\n",
       "      <td>tt0042876</td>\n",
       "      <td>[http://i.media-imdb.com/images/showtimes/100....</td>\n",
       "      <td>\\nTo have a film that holds the coveted title ...</td>\n",
       "    </tr>\n",
       "    <tr>\n",
       "      <th>995</th>\n",
       "      <td>tt0042876</td>\n",
       "      <td>[]</td>\n",
       "      <td>\\n\"Rashomon\" tells a very simple tale in a ver...</td>\n",
       "    </tr>\n",
       "    <tr>\n",
       "      <th>996</th>\n",
       "      <td>tt0042876</td>\n",
       "      <td>[http://i.media-imdb.com/images/showtimes/90.gif]</td>\n",
       "      <td>\\nAs oppose to its commonplace plot, Rashomon ...</td>\n",
       "    </tr>\n",
       "    <tr>\n",
       "      <th>997</th>\n",
       "      <td>tt0042876</td>\n",
       "      <td>[]</td>\n",
       "      <td>\\n\\nThe more I watch and re-watch Kurosawa's f...</td>\n",
       "    </tr>\n",
       "    <tr>\n",
       "      <th>998</th>\n",
       "      <td>tt0042876</td>\n",
       "      <td>[http://i.media-imdb.com/images/showtimes/80.gif]</td>\n",
       "      <td>\\n\"Rashomon\", Akira Kurosawa's 1950 film about...</td>\n",
       "    </tr>\n",
       "    <tr>\n",
       "      <th>999</th>\n",
       "      <td>tt0042876</td>\n",
       "      <td>[]</td>\n",
       "      <td>\\n\\nRashomon by Akira is probably one of his v...</td>\n",
       "    </tr>\n",
       "    <tr>\n",
       "      <th>1000</th>\n",
       "      <td>tt0097576</td>\n",
       "      <td>[http://i.media-imdb.com/images/showtimes/100....</td>\n",
       "      <td>\\nIndiana Jones, the man, the legend, the whip...</td>\n",
       "    </tr>\n",
       "    <tr>\n",
       "      <th>1001</th>\n",
       "      <td>tt0097576</td>\n",
       "      <td>[http://i.media-imdb.com/images/SF8104186305d9...</td>\n",
       "      <td>\\nRating: **** out of ****</td>\n",
       "    </tr>\n",
       "    <tr>\n",
       "      <th>1002</th>\n",
       "      <td>tt0097576</td>\n",
       "      <td>[http://i.media-imdb.com/images/showtimes/100....</td>\n",
       "      <td>\\n\\nOne thing you gotta say for this series: i...</td>\n",
       "    </tr>\n",
       "    <tr>\n",
       "      <th>1003</th>\n",
       "      <td>tt0097576</td>\n",
       "      <td>[]</td>\n",
       "      <td>\\nIndiana Jones And The Last Crusade was, in m...</td>\n",
       "    </tr>\n",
       "    <tr>\n",
       "      <th>1004</th>\n",
       "      <td>tt0097576</td>\n",
       "      <td>[http://i.media-imdb.com/images/showtimes/100....</td>\n",
       "      <td>\\nEverything clicks in this action-packed clif...</td>\n",
       "    </tr>\n",
       "    <tr>\n",
       "      <th>1005</th>\n",
       "      <td>tt0097576</td>\n",
       "      <td>[]</td>\n",
       "      <td>\\nWhen the two greatest filmmakers in the worl...</td>\n",
       "    </tr>\n",
       "    <tr>\n",
       "      <th>1006</th>\n",
       "      <td>tt0097576</td>\n",
       "      <td>[]</td>\n",
       "      <td>\\nThe second sequel to Raiders of the Lost Ark...</td>\n",
       "    </tr>\n",
       "    <tr>\n",
       "      <th>1007</th>\n",
       "      <td>tt0097576</td>\n",
       "      <td>[]</td>\n",
       "      <td>\\n\\n\"Indiana Jones and the Last Crusade\" was s...</td>\n",
       "    </tr>\n",
       "    <tr>\n",
       "      <th>1008</th>\n",
       "      <td>tt0097576</td>\n",
       "      <td>[http://i.media-imdb.com/images/showtimes/100....</td>\n",
       "      <td>\\nIndiana Jones teams up with his father to tr...</td>\n",
       "    </tr>\n",
       "    <tr>\n",
       "      <th>1009</th>\n",
       "      <td>tt0097576</td>\n",
       "      <td>[]</td>\n",
       "      <td>\\nAn ideal action-comedy/adventure if there ev...</td>\n",
       "    </tr>\n",
       "  </tbody>\n",
       "</table>\n",
       "<p>1010 rows × 3 columns</p>\n",
       "</div>"
      ],
      "text/plain": [
       "     IMDB_Identifier                                            Ranking  \\\n",
       "0          tt0111161  [http://i.media-imdb.com/images/showtimes/100....   \n",
       "1          tt0111161  [http://i.media-imdb.com/images/SF8104186305d9...   \n",
       "2          tt0111161  [http://i.media-imdb.com/images/showtimes/100....   \n",
       "3          tt0111161                                                 []   \n",
       "4          tt0111161                                                 []   \n",
       "5          tt0111161                                                 []   \n",
       "6          tt0111161  [http://i.media-imdb.com/images/showtimes/100....   \n",
       "7          tt0111161                                                 []   \n",
       "8          tt0111161                                                 []   \n",
       "9          tt0111161                                                 []   \n",
       "10         tt0068646  [http://i.media-imdb.com/images/showtimes/100....   \n",
       "11         tt0068646  [http://i.media-imdb.com/images/SF8104186305d9...   \n",
       "12         tt0068646  [http://i.media-imdb.com/images/showtimes/100....   \n",
       "13         tt0068646                                                 []   \n",
       "14         tt0068646  [http://i.media-imdb.com/images/showtimes/100....   \n",
       "15         tt0068646                                                 []   \n",
       "16         tt0068646  [http://i.media-imdb.com/images/showtimes/100....   \n",
       "17         tt0068646                                                 []   \n",
       "18         tt0068646  [http://i.media-imdb.com/images/showtimes/90.gif]   \n",
       "19         tt0068646                                                 []   \n",
       "20         tt0071562  [http://i.media-imdb.com/images/showtimes/100....   \n",
       "21         tt0071562  [http://i.media-imdb.com/images/SF8104186305d9...   \n",
       "22         tt0071562  [http://i.media-imdb.com/images/showtimes/100....   \n",
       "23         tt0071562                                                 []   \n",
       "24         tt0071562  [http://i.media-imdb.com/images/showtimes/100....   \n",
       "25         tt0071562                                                 []   \n",
       "26         tt0071562  [http://i.media-imdb.com/images/showtimes/100....   \n",
       "27         tt0071562                                                 []   \n",
       "28         tt0071562  [http://i.media-imdb.com/images/showtimes/100....   \n",
       "29         tt0071562                                                 []   \n",
       "...              ...                                                ...   \n",
       "980        tt0053604  [http://i.media-imdb.com/images/showtimes/100....   \n",
       "981        tt0053604  [http://i.media-imdb.com/images/SF8104186305d9...   \n",
       "982        tt0053604  [http://i.media-imdb.com/images/showtimes/100....   \n",
       "983        tt0053604                                                 []   \n",
       "984        tt0053604  [http://i.media-imdb.com/images/showtimes/100....   \n",
       "985        tt0053604                                                 []   \n",
       "986        tt0053604  [http://i.media-imdb.com/images/showtimes/90.gif]   \n",
       "987        tt0053604                                                 []   \n",
       "988        tt0053604  [http://i.media-imdb.com/images/showtimes/100....   \n",
       "989        tt0053604                                                 []   \n",
       "990        tt0042876  [/rd/?q=50703000000030a090f29616f226e276966600...   \n",
       "991        tt0042876  [http://i.media-imdb.com/images/SF8104186305d9...   \n",
       "992        tt0042876  [http://i.media-imdb.com/images/showtimes/100....   \n",
       "993        tt0042876                                                 []   \n",
       "994        tt0042876  [http://i.media-imdb.com/images/showtimes/100....   \n",
       "995        tt0042876                                                 []   \n",
       "996        tt0042876  [http://i.media-imdb.com/images/showtimes/90.gif]   \n",
       "997        tt0042876                                                 []   \n",
       "998        tt0042876  [http://i.media-imdb.com/images/showtimes/80.gif]   \n",
       "999        tt0042876                                                 []   \n",
       "1000       tt0097576  [http://i.media-imdb.com/images/showtimes/100....   \n",
       "1001       tt0097576  [http://i.media-imdb.com/images/SF8104186305d9...   \n",
       "1002       tt0097576  [http://i.media-imdb.com/images/showtimes/100....   \n",
       "1003       tt0097576                                                 []   \n",
       "1004       tt0097576  [http://i.media-imdb.com/images/showtimes/100....   \n",
       "1005       tt0097576                                                 []   \n",
       "1006       tt0097576                                                 []   \n",
       "1007       tt0097576                                                 []   \n",
       "1008       tt0097576  [http://i.media-imdb.com/images/showtimes/100....   \n",
       "1009       tt0097576                                                 []   \n",
       "\n",
       "                                                 Review  \n",
       "0     \\nWhy do I want to write the 234th comment on ...  \n",
       "1     \\n\\nCan Hollywood, usually creating things for...  \n",
       "2     \\n\\nI have never seen such an amazing film sin...  \n",
       "3     \\nIn its Oscar year, Shawshank Redemption (wri...  \n",
       "4     \\nThe reason I became a member of this databas...  \n",
       "5     \\n\\nI believe that this film is the best story...  \n",
       "6     \\n\\nOne of my all time favorites. Shawshank Re...  \n",
       "7     \\n\\nOne of the finest films made in recent yea...  \n",
       "8     \\nMisery and Stand By Me were the best adaptat...  \n",
       "9     \\n\\nThe Shawshank Redemption is without a doub...  \n",
       "10    \\nRather than concentrating on everything that...  \n",
       "11    \\n\\nThis is by far the best movie ever to give...  \n",
       "12    \\n\\nThe Godfather is one of the few films in w...  \n",
       "13    \\n\\n     This movie is strong, good script, gr...  \n",
       "14    \\n\\nThe Godfather is one of the very few films...  \n",
       "15    \\nThis is a masterpiece. A timeless masterpiec...  \n",
       "16    \\nThis must rank as the best film (along with ...  \n",
       "17    \\n'The Godfather' is the pinnacle of flawless ...  \n",
       "18    \\nI love this movie and all of the GF movies. ...  \n",
       "19    \\nThe godfather trilogy is an exclusive set of...  \n",
       "20    \\n\\nThis movie is way to be good to be labelle...  \n",
       "21    \\n\\nThe original Godfather is a brilliant work...  \n",
       "22    \\n\\nYou can count on one hand the movie sequel...  \n",
       "23    \\n\\nThe Godfather Part 2 is the finest sequel ...  \n",
       "24    \\nCoppola's masterpiece is rivaled only by \"Th...  \n",
       "25                       \\nThe Godfather Part II (1974)  \n",
       "26    \\nSeries note: It is almost unthinkable to wat...  \n",
       "27    \\n\\nAfter seeing The Godfather and improving i...  \n",
       "28    \\nThe Godfather Part Two is possibly the best ...  \n",
       "29    \\n\\nFrancis Coppola and Mario Puzo continue th...  \n",
       "...                                                 ...  \n",
       "980   \\nOhhh - after my 4th or 5th viewing, I think ...  \n",
       "981   \\n\\nWhat a wonderful way to spend an evening--...  \n",
       "982   \\nWritten by the great filmmaker Billy Wilder,...  \n",
       "983   \\n\\nBilly Wilder knew how to make a great movi...  \n",
       "984   \\n\\nAfter the first time I saw The Apartment, ...  \n",
       "985   \\nOne of the finest examples of smart, satiric...  \n",
       "986                         \\n\\nJack Lemmon is the man.  \n",
       "987   \\nIn the recent biography of Billy Wilder by E...  \n",
       "988   \\nBilly Wilder's \"The Apartment\" is a film whi...  \n",
       "989   \\nA struggling office worker in a giant insura...  \n",
       "990   \\n\\n'People forget the unpleasant things.  The...  \n",
       "991   \\nAkira Kurosawa was one of those directors, t...  \n",
       "992   \\n\"Rashomon\" was Akira Kurosawa's first nation...  \n",
       "993   \\nThis fabulous work was years and years ahead...  \n",
       "994   \\nTo have a film that holds the coveted title ...  \n",
       "995   \\n\"Rashomon\" tells a very simple tale in a ver...  \n",
       "996   \\nAs oppose to its commonplace plot, Rashomon ...  \n",
       "997   \\n\\nThe more I watch and re-watch Kurosawa's f...  \n",
       "998   \\n\"Rashomon\", Akira Kurosawa's 1950 film about...  \n",
       "999   \\n\\nRashomon by Akira is probably one of his v...  \n",
       "1000  \\nIndiana Jones, the man, the legend, the whip...  \n",
       "1001                         \\nRating: **** out of ****  \n",
       "1002  \\n\\nOne thing you gotta say for this series: i...  \n",
       "1003  \\nIndiana Jones And The Last Crusade was, in m...  \n",
       "1004  \\nEverything clicks in this action-packed clif...  \n",
       "1005  \\nWhen the two greatest filmmakers in the worl...  \n",
       "1006  \\nThe second sequel to Raiders of the Lost Ark...  \n",
       "1007  \\n\\n\"Indiana Jones and the Last Crusade\" was s...  \n",
       "1008  \\nIndiana Jones teams up with his father to tr...  \n",
       "1009  \\nAn ideal action-comedy/adventure if there ev...  \n",
       "\n",
       "[1010 rows x 3 columns]"
      ]
     },
     "execution_count": 283,
     "metadata": {},
     "output_type": "execute_result"
    }
   ],
   "source": [
    "reviews"
   ]
  },
  {
   "cell_type": "markdown",
   "metadata": {},
   "source": [
    "#### 4. Calculate the top 200 ngrams from the user reviews\n",
    "\n",
    "Use the `TfidfVectorizer` in sklearn.\n",
    "\n",
    "Recommended parameters:\n",
    "\n",
    "    ngram_range = (1, 2)\n",
    "    stop_words = 'english'\n",
    "    binary = False\n",
    "    max_features = 200"
   ]
  },
  {
   "cell_type": "code",
   "execution_count": 284,
   "metadata": {
    "collapsed": false
   },
   "outputs": [],
   "source": [
    "from sklearn.feature_extraction.text import TfidfVectorizer"
   ]
  },
  {
   "cell_type": "code",
   "execution_count": 285,
   "metadata": {
    "collapsed": true
   },
   "outputs": [],
   "source": [
    "review_corpus = \"\"\n",
    "\n",
    "for rev in reviews.Review:\n",
    "    review_corpus += rev"
   ]
  },
  {
   "cell_type": "code",
   "execution_count": 286,
   "metadata": {
    "collapsed": false
   },
   "outputs": [],
   "source": [
    "tfidf  = TfidfVectorizer( \n",
    "                ngram_range = (1, 2),\n",
    "                stop_words = 'english',\n",
    "                binary = False,\n",
    "                max_features = 200)"
   ]
  },
  {
   "cell_type": "code",
   "execution_count": 287,
   "metadata": {
    "collapsed": false
   },
   "outputs": [
    {
     "data": {
      "text/plain": [
       "<1010x200 sparse matrix of type '<type 'numpy.float64'>'\n",
       "\twith 13262 stored elements in Compressed Sparse Row format>"
      ]
     },
     "execution_count": 287,
     "metadata": {},
     "output_type": "execute_result"
    }
   ],
   "source": [
    "tfidf.fit_transform(reviews.Review)"
   ]
  },
  {
   "cell_type": "code",
   "execution_count": 288,
   "metadata": {
    "collapsed": false,
    "scrolled": true
   },
   "outputs": [
    {
     "name": "stdout",
     "output_type": "stream",
     "text": [
      "              0\n",
      "0          book\n",
      "1         seven\n",
      "2         fight\n",
      "3         space\n",
      "4         leone\n",
      "5         nolan\n",
      "6       michael\n",
      "7       western\n",
      "8         crime\n",
      "9     tarantino\n",
      "10    godfather\n",
      "11    star wars\n",
      "12        lives\n",
      "13    hitchcock\n",
      "14         city\n",
      "15         wars\n",
      "16       family\n",
      "17          guy\n",
      "18       robert\n",
      "19         jack\n",
      "20       moving\n",
      "21          men\n",
      "22         epic\n",
      "23      theater\n",
      "24       ending\n",
      "25     remember\n",
      "26     released\n",
      "27      trilogy\n",
      "28        drama\n",
      "29        close\n",
      "..          ...\n",
      "170   character\n",
      "171      acting\n",
      "172        know\n",
      "173         don\n",
      "174       world\n",
      "175        does\n",
      "176         say\n",
      "177         man\n",
      "178        make\n",
      "179       watch\n",
      "180          ve\n",
      "181       years\n",
      "182       think\n",
      "183  characters\n",
      "184      really\n",
      "185         way\n",
      "186      people\n",
      "187        life\n",
      "188        good\n",
      "189        seen\n",
      "190       films\n",
      "191       story\n",
      "192      movies\n",
      "193       great\n",
      "194        best\n",
      "195        like\n",
      "196        just\n",
      "197        time\n",
      "198       movie\n",
      "199        film\n",
      "\n",
      "[200 rows x 1 columns]\n"
     ]
    }
   ],
   "source": [
    "feature_names = tfidf.get_feature_names() \n",
    "\n",
    "indices = np.argsort(tfidf.idf_)[::-1]\n",
    "features = tfidf.get_feature_names()\n",
    "top_n = 200\n",
    "top_features = [features[i] for i in indices[:top_n]]\n",
    "print pd.DataFrame(top_features)"
   ]
  },
  {
   "cell_type": "markdown",
   "metadata": {},
   "source": [
    "#### 5. Merge the user reviews and ratings"
   ]
  },
  {
   "cell_type": "code",
   "execution_count": 289,
   "metadata": {
    "collapsed": false
   },
   "outputs": [
    {
     "data": {
      "text/plain": [
       "100"
      ]
     },
     "execution_count": 289,
     "metadata": {},
     "output_type": "execute_result"
    }
   ],
   "source": [
    "int(reviews.Ranking[0][0].replace('http://i.media-imdb.com/images/showtimes/', \n",
    "                              '').replace('.gif',''))"
   ]
  },
  {
   "cell_type": "code",
   "execution_count": 290,
   "metadata": {
    "collapsed": false
   },
   "outputs": [
    {
     "ename": "ValueError",
     "evalue": "Length of values does not match length of index",
     "output_type": "error",
     "traceback": [
      "\u001b[0;31m---------------------------------------------------------------------------\u001b[0m",
      "\u001b[0;31mValueError\u001b[0m                                Traceback (most recent call last)",
      "\u001b[0;32m<ipython-input-290-982b113d7280>\u001b[0m in \u001b[0;36m<module>\u001b[0;34m()\u001b[0m\n\u001b[1;32m      3\u001b[0m         \u001b[0mreviews\u001b[0m\u001b[0;34m.\u001b[0m\u001b[0mRanking\u001b[0m \u001b[0;34m=\u001b[0m \u001b[0mnp\u001b[0m\u001b[0;34m.\u001b[0m\u001b[0mNaN\u001b[0m\u001b[0;34m\u001b[0m\u001b[0m\n\u001b[1;32m      4\u001b[0m     \u001b[0;32melse\u001b[0m\u001b[0;34m:\u001b[0m\u001b[0;34m\u001b[0m\u001b[0m\n\u001b[0;32m----> 5\u001b[0;31m         \u001b[0mreviews\u001b[0m\u001b[0;34m.\u001b[0m\u001b[0mRanking\u001b[0m \u001b[0;34m=\u001b[0m \u001b[0mrev\u001b[0m\u001b[0;34m\u001b[0m\u001b[0m\n\u001b[0m",
      "\u001b[0;32m/Users/sebozek/anaconda/lib/python2.7/site-packages/pandas/core/generic.pyc\u001b[0m in \u001b[0;36m__setattr__\u001b[0;34m(self, name, value)\u001b[0m\n\u001b[1;32m   2696\u001b[0m                     \u001b[0mobject\u001b[0m\u001b[0;34m.\u001b[0m\u001b[0m__setattr__\u001b[0m\u001b[0;34m(\u001b[0m\u001b[0mself\u001b[0m\u001b[0;34m,\u001b[0m \u001b[0mname\u001b[0m\u001b[0;34m,\u001b[0m \u001b[0mvalue\u001b[0m\u001b[0;34m)\u001b[0m\u001b[0;34m\u001b[0m\u001b[0m\n\u001b[1;32m   2697\u001b[0m                 \u001b[0;32melif\u001b[0m \u001b[0mname\u001b[0m \u001b[0;32min\u001b[0m \u001b[0mself\u001b[0m\u001b[0;34m.\u001b[0m\u001b[0m_info_axis\u001b[0m\u001b[0;34m:\u001b[0m\u001b[0;34m\u001b[0m\u001b[0m\n\u001b[0;32m-> 2698\u001b[0;31m                     \u001b[0mself\u001b[0m\u001b[0;34m[\u001b[0m\u001b[0mname\u001b[0m\u001b[0;34m]\u001b[0m \u001b[0;34m=\u001b[0m \u001b[0mvalue\u001b[0m\u001b[0;34m\u001b[0m\u001b[0m\n\u001b[0m\u001b[1;32m   2699\u001b[0m                 \u001b[0;32melse\u001b[0m\u001b[0;34m:\u001b[0m\u001b[0;34m\u001b[0m\u001b[0m\n\u001b[1;32m   2700\u001b[0m                     \u001b[0mobject\u001b[0m\u001b[0;34m.\u001b[0m\u001b[0m__setattr__\u001b[0m\u001b[0;34m(\u001b[0m\u001b[0mself\u001b[0m\u001b[0;34m,\u001b[0m \u001b[0mname\u001b[0m\u001b[0;34m,\u001b[0m \u001b[0mvalue\u001b[0m\u001b[0;34m)\u001b[0m\u001b[0;34m\u001b[0m\u001b[0m\n",
      "\u001b[0;32m/Users/sebozek/anaconda/lib/python2.7/site-packages/pandas/core/frame.pyc\u001b[0m in \u001b[0;36m__setitem__\u001b[0;34m(self, key, value)\u001b[0m\n\u001b[1;32m   2346\u001b[0m         \u001b[0;32melse\u001b[0m\u001b[0;34m:\u001b[0m\u001b[0;34m\u001b[0m\u001b[0m\n\u001b[1;32m   2347\u001b[0m             \u001b[0;31m# set column\u001b[0m\u001b[0;34m\u001b[0m\u001b[0;34m\u001b[0m\u001b[0m\n\u001b[0;32m-> 2348\u001b[0;31m             \u001b[0mself\u001b[0m\u001b[0;34m.\u001b[0m\u001b[0m_set_item\u001b[0m\u001b[0;34m(\u001b[0m\u001b[0mkey\u001b[0m\u001b[0;34m,\u001b[0m \u001b[0mvalue\u001b[0m\u001b[0;34m)\u001b[0m\u001b[0;34m\u001b[0m\u001b[0m\n\u001b[0m\u001b[1;32m   2349\u001b[0m \u001b[0;34m\u001b[0m\u001b[0m\n\u001b[1;32m   2350\u001b[0m     \u001b[0;32mdef\u001b[0m \u001b[0m_setitem_slice\u001b[0m\u001b[0;34m(\u001b[0m\u001b[0mself\u001b[0m\u001b[0;34m,\u001b[0m \u001b[0mkey\u001b[0m\u001b[0;34m,\u001b[0m \u001b[0mvalue\u001b[0m\u001b[0;34m)\u001b[0m\u001b[0;34m:\u001b[0m\u001b[0;34m\u001b[0m\u001b[0m\n",
      "\u001b[0;32m/Users/sebozek/anaconda/lib/python2.7/site-packages/pandas/core/frame.pyc\u001b[0m in \u001b[0;36m_set_item\u001b[0;34m(self, key, value)\u001b[0m\n\u001b[1;32m   2412\u001b[0m \u001b[0;34m\u001b[0m\u001b[0m\n\u001b[1;32m   2413\u001b[0m         \u001b[0mself\u001b[0m\u001b[0;34m.\u001b[0m\u001b[0m_ensure_valid_index\u001b[0m\u001b[0;34m(\u001b[0m\u001b[0mvalue\u001b[0m\u001b[0;34m)\u001b[0m\u001b[0;34m\u001b[0m\u001b[0m\n\u001b[0;32m-> 2414\u001b[0;31m         \u001b[0mvalue\u001b[0m \u001b[0;34m=\u001b[0m \u001b[0mself\u001b[0m\u001b[0;34m.\u001b[0m\u001b[0m_sanitize_column\u001b[0m\u001b[0;34m(\u001b[0m\u001b[0mkey\u001b[0m\u001b[0;34m,\u001b[0m \u001b[0mvalue\u001b[0m\u001b[0;34m)\u001b[0m\u001b[0;34m\u001b[0m\u001b[0m\n\u001b[0m\u001b[1;32m   2415\u001b[0m         \u001b[0mNDFrame\u001b[0m\u001b[0;34m.\u001b[0m\u001b[0m_set_item\u001b[0m\u001b[0;34m(\u001b[0m\u001b[0mself\u001b[0m\u001b[0;34m,\u001b[0m \u001b[0mkey\u001b[0m\u001b[0;34m,\u001b[0m \u001b[0mvalue\u001b[0m\u001b[0;34m)\u001b[0m\u001b[0;34m\u001b[0m\u001b[0m\n\u001b[1;32m   2416\u001b[0m \u001b[0;34m\u001b[0m\u001b[0m\n",
      "\u001b[0;32m/Users/sebozek/anaconda/lib/python2.7/site-packages/pandas/core/frame.pyc\u001b[0m in \u001b[0;36m_sanitize_column\u001b[0;34m(self, key, value)\u001b[0m\n\u001b[1;32m   2570\u001b[0m \u001b[0;34m\u001b[0m\u001b[0m\n\u001b[1;32m   2571\u001b[0m             \u001b[0;31m# turn me into an ndarray\u001b[0m\u001b[0;34m\u001b[0m\u001b[0;34m\u001b[0m\u001b[0m\n\u001b[0;32m-> 2572\u001b[0;31m             \u001b[0mvalue\u001b[0m \u001b[0;34m=\u001b[0m \u001b[0m_sanitize_index\u001b[0m\u001b[0;34m(\u001b[0m\u001b[0mvalue\u001b[0m\u001b[0;34m,\u001b[0m \u001b[0mself\u001b[0m\u001b[0;34m.\u001b[0m\u001b[0mindex\u001b[0m\u001b[0;34m,\u001b[0m \u001b[0mcopy\u001b[0m\u001b[0;34m=\u001b[0m\u001b[0mFalse\u001b[0m\u001b[0;34m)\u001b[0m\u001b[0;34m\u001b[0m\u001b[0m\n\u001b[0m\u001b[1;32m   2573\u001b[0m             \u001b[0;32mif\u001b[0m \u001b[0;32mnot\u001b[0m \u001b[0misinstance\u001b[0m\u001b[0;34m(\u001b[0m\u001b[0mvalue\u001b[0m\u001b[0;34m,\u001b[0m \u001b[0;34m(\u001b[0m\u001b[0mnp\u001b[0m\u001b[0;34m.\u001b[0m\u001b[0mndarray\u001b[0m\u001b[0;34m,\u001b[0m \u001b[0mIndex\u001b[0m\u001b[0;34m)\u001b[0m\u001b[0;34m)\u001b[0m\u001b[0;34m:\u001b[0m\u001b[0;34m\u001b[0m\u001b[0m\n\u001b[1;32m   2574\u001b[0m                 \u001b[0;32mif\u001b[0m \u001b[0misinstance\u001b[0m\u001b[0;34m(\u001b[0m\u001b[0mvalue\u001b[0m\u001b[0;34m,\u001b[0m \u001b[0mlist\u001b[0m\u001b[0;34m)\u001b[0m \u001b[0;32mand\u001b[0m \u001b[0mlen\u001b[0m\u001b[0;34m(\u001b[0m\u001b[0mvalue\u001b[0m\u001b[0;34m)\u001b[0m \u001b[0;34m>\u001b[0m \u001b[0;36m0\u001b[0m\u001b[0;34m:\u001b[0m\u001b[0;34m\u001b[0m\u001b[0m\n",
      "\u001b[0;32m/Users/sebozek/anaconda/lib/python2.7/site-packages/pandas/core/series.pyc\u001b[0m in \u001b[0;36m_sanitize_index\u001b[0;34m(data, index, copy)\u001b[0m\n\u001b[1;32m   2819\u001b[0m \u001b[0;34m\u001b[0m\u001b[0m\n\u001b[1;32m   2820\u001b[0m     \u001b[0;32mif\u001b[0m \u001b[0mlen\u001b[0m\u001b[0;34m(\u001b[0m\u001b[0mdata\u001b[0m\u001b[0;34m)\u001b[0m \u001b[0;34m!=\u001b[0m \u001b[0mlen\u001b[0m\u001b[0;34m(\u001b[0m\u001b[0mindex\u001b[0m\u001b[0;34m)\u001b[0m\u001b[0;34m:\u001b[0m\u001b[0;34m\u001b[0m\u001b[0m\n\u001b[0;32m-> 2821\u001b[0;31m         \u001b[0;32mraise\u001b[0m \u001b[0mValueError\u001b[0m\u001b[0;34m(\u001b[0m\u001b[0;34m'Length of values does not match length of '\u001b[0m \u001b[0;34m'index'\u001b[0m\u001b[0;34m)\u001b[0m\u001b[0;34m\u001b[0m\u001b[0m\n\u001b[0m\u001b[1;32m   2822\u001b[0m \u001b[0;34m\u001b[0m\u001b[0m\n\u001b[1;32m   2823\u001b[0m     \u001b[0;32mif\u001b[0m \u001b[0misinstance\u001b[0m\u001b[0;34m(\u001b[0m\u001b[0mdata\u001b[0m\u001b[0;34m,\u001b[0m \u001b[0mPeriodIndex\u001b[0m\u001b[0;34m)\u001b[0m\u001b[0;34m:\u001b[0m\u001b[0;34m\u001b[0m\u001b[0m\n",
      "\u001b[0;31mValueError\u001b[0m: Length of values does not match length of index"
     ]
    }
   ],
   "source": [
    "reviews.apply(lambda x: x=np.NaN if reviews.Ranking)"
   ]
  },
  {
   "cell_type": "code",
   "execution_count": 291,
   "metadata": {
    "collapsed": false
   },
   "outputs": [
    {
     "data": {
      "text/html": [
       "<div>\n",
       "<table border=\"1\" class=\"dataframe\">\n",
       "  <thead>\n",
       "    <tr style=\"text-align: right;\">\n",
       "      <th></th>\n",
       "      <th>IMDB_Identifier</th>\n",
       "      <th>Ranking</th>\n",
       "      <th>Review</th>\n",
       "    </tr>\n",
       "  </thead>\n",
       "  <tbody>\n",
       "    <tr>\n",
       "      <th>0</th>\n",
       "      <td>tt0111161</td>\n",
       "      <td>[http://i.media-imdb.com/images/showtimes/100....</td>\n",
       "      <td>\\nWhy do I want to write the 234th comment on ...</td>\n",
       "    </tr>\n",
       "    <tr>\n",
       "      <th>1</th>\n",
       "      <td>tt0111161</td>\n",
       "      <td>[http://i.media-imdb.com/images/SF8104186305d9...</td>\n",
       "      <td>\\n\\nCan Hollywood, usually creating things for...</td>\n",
       "    </tr>\n",
       "    <tr>\n",
       "      <th>2</th>\n",
       "      <td>tt0111161</td>\n",
       "      <td>[http://i.media-imdb.com/images/showtimes/100....</td>\n",
       "      <td>\\n\\nI have never seen such an amazing film sin...</td>\n",
       "    </tr>\n",
       "    <tr>\n",
       "      <th>3</th>\n",
       "      <td>tt0111161</td>\n",
       "      <td>[]</td>\n",
       "      <td>\\nIn its Oscar year, Shawshank Redemption (wri...</td>\n",
       "    </tr>\n",
       "    <tr>\n",
       "      <th>4</th>\n",
       "      <td>tt0111161</td>\n",
       "      <td>[]</td>\n",
       "      <td>\\nThe reason I became a member of this databas...</td>\n",
       "    </tr>\n",
       "    <tr>\n",
       "      <th>5</th>\n",
       "      <td>tt0111161</td>\n",
       "      <td>[]</td>\n",
       "      <td>\\n\\nI believe that this film is the best story...</td>\n",
       "    </tr>\n",
       "    <tr>\n",
       "      <th>6</th>\n",
       "      <td>tt0111161</td>\n",
       "      <td>[http://i.media-imdb.com/images/showtimes/100....</td>\n",
       "      <td>\\n\\nOne of my all time favorites. Shawshank Re...</td>\n",
       "    </tr>\n",
       "    <tr>\n",
       "      <th>7</th>\n",
       "      <td>tt0111161</td>\n",
       "      <td>[]</td>\n",
       "      <td>\\n\\nOne of the finest films made in recent yea...</td>\n",
       "    </tr>\n",
       "    <tr>\n",
       "      <th>8</th>\n",
       "      <td>tt0111161</td>\n",
       "      <td>[]</td>\n",
       "      <td>\\nMisery and Stand By Me were the best adaptat...</td>\n",
       "    </tr>\n",
       "    <tr>\n",
       "      <th>9</th>\n",
       "      <td>tt0111161</td>\n",
       "      <td>[]</td>\n",
       "      <td>\\n\\nThe Shawshank Redemption is without a doub...</td>\n",
       "    </tr>\n",
       "    <tr>\n",
       "      <th>10</th>\n",
       "      <td>tt0068646</td>\n",
       "      <td>[http://i.media-imdb.com/images/showtimes/100....</td>\n",
       "      <td>\\nRather than concentrating on everything that...</td>\n",
       "    </tr>\n",
       "    <tr>\n",
       "      <th>11</th>\n",
       "      <td>tt0068646</td>\n",
       "      <td>[http://i.media-imdb.com/images/SF8104186305d9...</td>\n",
       "      <td>\\n\\nThis is by far the best movie ever to give...</td>\n",
       "    </tr>\n",
       "    <tr>\n",
       "      <th>12</th>\n",
       "      <td>tt0068646</td>\n",
       "      <td>[http://i.media-imdb.com/images/showtimes/100....</td>\n",
       "      <td>\\n\\nThe Godfather is one of the few films in w...</td>\n",
       "    </tr>\n",
       "    <tr>\n",
       "      <th>13</th>\n",
       "      <td>tt0068646</td>\n",
       "      <td>[]</td>\n",
       "      <td>\\n\\n     This movie is strong, good script, gr...</td>\n",
       "    </tr>\n",
       "    <tr>\n",
       "      <th>14</th>\n",
       "      <td>tt0068646</td>\n",
       "      <td>[http://i.media-imdb.com/images/showtimes/100....</td>\n",
       "      <td>\\n\\nThe Godfather is one of the very few films...</td>\n",
       "    </tr>\n",
       "    <tr>\n",
       "      <th>15</th>\n",
       "      <td>tt0068646</td>\n",
       "      <td>[]</td>\n",
       "      <td>\\nThis is a masterpiece. A timeless masterpiec...</td>\n",
       "    </tr>\n",
       "    <tr>\n",
       "      <th>16</th>\n",
       "      <td>tt0068646</td>\n",
       "      <td>[http://i.media-imdb.com/images/showtimes/100....</td>\n",
       "      <td>\\nThis must rank as the best film (along with ...</td>\n",
       "    </tr>\n",
       "    <tr>\n",
       "      <th>17</th>\n",
       "      <td>tt0068646</td>\n",
       "      <td>[]</td>\n",
       "      <td>\\n'The Godfather' is the pinnacle of flawless ...</td>\n",
       "    </tr>\n",
       "    <tr>\n",
       "      <th>18</th>\n",
       "      <td>tt0068646</td>\n",
       "      <td>[http://i.media-imdb.com/images/showtimes/90.gif]</td>\n",
       "      <td>\\nI love this movie and all of the GF movies. ...</td>\n",
       "    </tr>\n",
       "    <tr>\n",
       "      <th>19</th>\n",
       "      <td>tt0068646</td>\n",
       "      <td>[]</td>\n",
       "      <td>\\nThe godfather trilogy is an exclusive set of...</td>\n",
       "    </tr>\n",
       "    <tr>\n",
       "      <th>20</th>\n",
       "      <td>tt0071562</td>\n",
       "      <td>[http://i.media-imdb.com/images/showtimes/100....</td>\n",
       "      <td>\\n\\nThis movie is way to be good to be labelle...</td>\n",
       "    </tr>\n",
       "    <tr>\n",
       "      <th>21</th>\n",
       "      <td>tt0071562</td>\n",
       "      <td>[http://i.media-imdb.com/images/SF8104186305d9...</td>\n",
       "      <td>\\n\\nThe original Godfather is a brilliant work...</td>\n",
       "    </tr>\n",
       "    <tr>\n",
       "      <th>22</th>\n",
       "      <td>tt0071562</td>\n",
       "      <td>[http://i.media-imdb.com/images/showtimes/100....</td>\n",
       "      <td>\\n\\nYou can count on one hand the movie sequel...</td>\n",
       "    </tr>\n",
       "    <tr>\n",
       "      <th>23</th>\n",
       "      <td>tt0071562</td>\n",
       "      <td>[]</td>\n",
       "      <td>\\n\\nThe Godfather Part 2 is the finest sequel ...</td>\n",
       "    </tr>\n",
       "    <tr>\n",
       "      <th>24</th>\n",
       "      <td>tt0071562</td>\n",
       "      <td>[http://i.media-imdb.com/images/showtimes/100....</td>\n",
       "      <td>\\nCoppola's masterpiece is rivaled only by \"Th...</td>\n",
       "    </tr>\n",
       "    <tr>\n",
       "      <th>25</th>\n",
       "      <td>tt0071562</td>\n",
       "      <td>[]</td>\n",
       "      <td>\\nThe Godfather Part II (1974)</td>\n",
       "    </tr>\n",
       "    <tr>\n",
       "      <th>26</th>\n",
       "      <td>tt0071562</td>\n",
       "      <td>[http://i.media-imdb.com/images/showtimes/100....</td>\n",
       "      <td>\\nSeries note: It is almost unthinkable to wat...</td>\n",
       "    </tr>\n",
       "    <tr>\n",
       "      <th>27</th>\n",
       "      <td>tt0071562</td>\n",
       "      <td>[]</td>\n",
       "      <td>\\n\\nAfter seeing The Godfather and improving i...</td>\n",
       "    </tr>\n",
       "    <tr>\n",
       "      <th>28</th>\n",
       "      <td>tt0071562</td>\n",
       "      <td>[http://i.media-imdb.com/images/showtimes/100....</td>\n",
       "      <td>\\nThe Godfather Part Two is possibly the best ...</td>\n",
       "    </tr>\n",
       "    <tr>\n",
       "      <th>29</th>\n",
       "      <td>tt0071562</td>\n",
       "      <td>[]</td>\n",
       "      <td>\\n\\nFrancis Coppola and Mario Puzo continue th...</td>\n",
       "    </tr>\n",
       "    <tr>\n",
       "      <th>...</th>\n",
       "      <td>...</td>\n",
       "      <td>...</td>\n",
       "      <td>...</td>\n",
       "    </tr>\n",
       "    <tr>\n",
       "      <th>980</th>\n",
       "      <td>tt0053604</td>\n",
       "      <td>[http://i.media-imdb.com/images/showtimes/100....</td>\n",
       "      <td>\\nOhhh - after my 4th or 5th viewing, I think ...</td>\n",
       "    </tr>\n",
       "    <tr>\n",
       "      <th>981</th>\n",
       "      <td>tt0053604</td>\n",
       "      <td>[http://i.media-imdb.com/images/SF8104186305d9...</td>\n",
       "      <td>\\n\\nWhat a wonderful way to spend an evening--...</td>\n",
       "    </tr>\n",
       "    <tr>\n",
       "      <th>982</th>\n",
       "      <td>tt0053604</td>\n",
       "      <td>[http://i.media-imdb.com/images/showtimes/100....</td>\n",
       "      <td>\\nWritten by the great filmmaker Billy Wilder,...</td>\n",
       "    </tr>\n",
       "    <tr>\n",
       "      <th>983</th>\n",
       "      <td>tt0053604</td>\n",
       "      <td>[]</td>\n",
       "      <td>\\n\\nBilly Wilder knew how to make a great movi...</td>\n",
       "    </tr>\n",
       "    <tr>\n",
       "      <th>984</th>\n",
       "      <td>tt0053604</td>\n",
       "      <td>[http://i.media-imdb.com/images/showtimes/100....</td>\n",
       "      <td>\\n\\nAfter the first time I saw The Apartment, ...</td>\n",
       "    </tr>\n",
       "    <tr>\n",
       "      <th>985</th>\n",
       "      <td>tt0053604</td>\n",
       "      <td>[]</td>\n",
       "      <td>\\nOne of the finest examples of smart, satiric...</td>\n",
       "    </tr>\n",
       "    <tr>\n",
       "      <th>986</th>\n",
       "      <td>tt0053604</td>\n",
       "      <td>[http://i.media-imdb.com/images/showtimes/90.gif]</td>\n",
       "      <td>\\n\\nJack Lemmon is the man.</td>\n",
       "    </tr>\n",
       "    <tr>\n",
       "      <th>987</th>\n",
       "      <td>tt0053604</td>\n",
       "      <td>[]</td>\n",
       "      <td>\\nIn the recent biography of Billy Wilder by E...</td>\n",
       "    </tr>\n",
       "    <tr>\n",
       "      <th>988</th>\n",
       "      <td>tt0053604</td>\n",
       "      <td>[http://i.media-imdb.com/images/showtimes/100....</td>\n",
       "      <td>\\nBilly Wilder's \"The Apartment\" is a film whi...</td>\n",
       "    </tr>\n",
       "    <tr>\n",
       "      <th>989</th>\n",
       "      <td>tt0053604</td>\n",
       "      <td>[]</td>\n",
       "      <td>\\nA struggling office worker in a giant insura...</td>\n",
       "    </tr>\n",
       "    <tr>\n",
       "      <th>990</th>\n",
       "      <td>tt0042876</td>\n",
       "      <td>[/rd/?q=50703000000030a090f29616f226e276966600...</td>\n",
       "      <td>\\n\\n'People forget the unpleasant things.  The...</td>\n",
       "    </tr>\n",
       "    <tr>\n",
       "      <th>991</th>\n",
       "      <td>tt0042876</td>\n",
       "      <td>[http://i.media-imdb.com/images/SF8104186305d9...</td>\n",
       "      <td>\\nAkira Kurosawa was one of those directors, t...</td>\n",
       "    </tr>\n",
       "    <tr>\n",
       "      <th>992</th>\n",
       "      <td>tt0042876</td>\n",
       "      <td>[http://i.media-imdb.com/images/showtimes/100....</td>\n",
       "      <td>\\n\"Rashomon\" was Akira Kurosawa's first nation...</td>\n",
       "    </tr>\n",
       "    <tr>\n",
       "      <th>993</th>\n",
       "      <td>tt0042876</td>\n",
       "      <td>[]</td>\n",
       "      <td>\\nThis fabulous work was years and years ahead...</td>\n",
       "    </tr>\n",
       "    <tr>\n",
       "      <th>994</th>\n",
       "      <td>tt0042876</td>\n",
       "      <td>[http://i.media-imdb.com/images/showtimes/100....</td>\n",
       "      <td>\\nTo have a film that holds the coveted title ...</td>\n",
       "    </tr>\n",
       "    <tr>\n",
       "      <th>995</th>\n",
       "      <td>tt0042876</td>\n",
       "      <td>[]</td>\n",
       "      <td>\\n\"Rashomon\" tells a very simple tale in a ver...</td>\n",
       "    </tr>\n",
       "    <tr>\n",
       "      <th>996</th>\n",
       "      <td>tt0042876</td>\n",
       "      <td>[http://i.media-imdb.com/images/showtimes/90.gif]</td>\n",
       "      <td>\\nAs oppose to its commonplace plot, Rashomon ...</td>\n",
       "    </tr>\n",
       "    <tr>\n",
       "      <th>997</th>\n",
       "      <td>tt0042876</td>\n",
       "      <td>[]</td>\n",
       "      <td>\\n\\nThe more I watch and re-watch Kurosawa's f...</td>\n",
       "    </tr>\n",
       "    <tr>\n",
       "      <th>998</th>\n",
       "      <td>tt0042876</td>\n",
       "      <td>[http://i.media-imdb.com/images/showtimes/80.gif]</td>\n",
       "      <td>\\n\"Rashomon\", Akira Kurosawa's 1950 film about...</td>\n",
       "    </tr>\n",
       "    <tr>\n",
       "      <th>999</th>\n",
       "      <td>tt0042876</td>\n",
       "      <td>[]</td>\n",
       "      <td>\\n\\nRashomon by Akira is probably one of his v...</td>\n",
       "    </tr>\n",
       "    <tr>\n",
       "      <th>1000</th>\n",
       "      <td>tt0097576</td>\n",
       "      <td>[http://i.media-imdb.com/images/showtimes/100....</td>\n",
       "      <td>\\nIndiana Jones, the man, the legend, the whip...</td>\n",
       "    </tr>\n",
       "    <tr>\n",
       "      <th>1001</th>\n",
       "      <td>tt0097576</td>\n",
       "      <td>[http://i.media-imdb.com/images/SF8104186305d9...</td>\n",
       "      <td>\\nRating: **** out of ****</td>\n",
       "    </tr>\n",
       "    <tr>\n",
       "      <th>1002</th>\n",
       "      <td>tt0097576</td>\n",
       "      <td>[http://i.media-imdb.com/images/showtimes/100....</td>\n",
       "      <td>\\n\\nOne thing you gotta say for this series: i...</td>\n",
       "    </tr>\n",
       "    <tr>\n",
       "      <th>1003</th>\n",
       "      <td>tt0097576</td>\n",
       "      <td>[]</td>\n",
       "      <td>\\nIndiana Jones And The Last Crusade was, in m...</td>\n",
       "    </tr>\n",
       "    <tr>\n",
       "      <th>1004</th>\n",
       "      <td>tt0097576</td>\n",
       "      <td>[http://i.media-imdb.com/images/showtimes/100....</td>\n",
       "      <td>\\nEverything clicks in this action-packed clif...</td>\n",
       "    </tr>\n",
       "    <tr>\n",
       "      <th>1005</th>\n",
       "      <td>tt0097576</td>\n",
       "      <td>[]</td>\n",
       "      <td>\\nWhen the two greatest filmmakers in the worl...</td>\n",
       "    </tr>\n",
       "    <tr>\n",
       "      <th>1006</th>\n",
       "      <td>tt0097576</td>\n",
       "      <td>[]</td>\n",
       "      <td>\\nThe second sequel to Raiders of the Lost Ark...</td>\n",
       "    </tr>\n",
       "    <tr>\n",
       "      <th>1007</th>\n",
       "      <td>tt0097576</td>\n",
       "      <td>[]</td>\n",
       "      <td>\\n\\n\"Indiana Jones and the Last Crusade\" was s...</td>\n",
       "    </tr>\n",
       "    <tr>\n",
       "      <th>1008</th>\n",
       "      <td>tt0097576</td>\n",
       "      <td>[http://i.media-imdb.com/images/showtimes/100....</td>\n",
       "      <td>\\nIndiana Jones teams up with his father to tr...</td>\n",
       "    </tr>\n",
       "    <tr>\n",
       "      <th>1009</th>\n",
       "      <td>tt0097576</td>\n",
       "      <td>[]</td>\n",
       "      <td>\\nAn ideal action-comedy/adventure if there ev...</td>\n",
       "    </tr>\n",
       "  </tbody>\n",
       "</table>\n",
       "<p>1010 rows × 3 columns</p>\n",
       "</div>"
      ],
      "text/plain": [
       "     IMDB_Identifier                                            Ranking  \\\n",
       "0          tt0111161  [http://i.media-imdb.com/images/showtimes/100....   \n",
       "1          tt0111161  [http://i.media-imdb.com/images/SF8104186305d9...   \n",
       "2          tt0111161  [http://i.media-imdb.com/images/showtimes/100....   \n",
       "3          tt0111161                                                 []   \n",
       "4          tt0111161                                                 []   \n",
       "5          tt0111161                                                 []   \n",
       "6          tt0111161  [http://i.media-imdb.com/images/showtimes/100....   \n",
       "7          tt0111161                                                 []   \n",
       "8          tt0111161                                                 []   \n",
       "9          tt0111161                                                 []   \n",
       "10         tt0068646  [http://i.media-imdb.com/images/showtimes/100....   \n",
       "11         tt0068646  [http://i.media-imdb.com/images/SF8104186305d9...   \n",
       "12         tt0068646  [http://i.media-imdb.com/images/showtimes/100....   \n",
       "13         tt0068646                                                 []   \n",
       "14         tt0068646  [http://i.media-imdb.com/images/showtimes/100....   \n",
       "15         tt0068646                                                 []   \n",
       "16         tt0068646  [http://i.media-imdb.com/images/showtimes/100....   \n",
       "17         tt0068646                                                 []   \n",
       "18         tt0068646  [http://i.media-imdb.com/images/showtimes/90.gif]   \n",
       "19         tt0068646                                                 []   \n",
       "20         tt0071562  [http://i.media-imdb.com/images/showtimes/100....   \n",
       "21         tt0071562  [http://i.media-imdb.com/images/SF8104186305d9...   \n",
       "22         tt0071562  [http://i.media-imdb.com/images/showtimes/100....   \n",
       "23         tt0071562                                                 []   \n",
       "24         tt0071562  [http://i.media-imdb.com/images/showtimes/100....   \n",
       "25         tt0071562                                                 []   \n",
       "26         tt0071562  [http://i.media-imdb.com/images/showtimes/100....   \n",
       "27         tt0071562                                                 []   \n",
       "28         tt0071562  [http://i.media-imdb.com/images/showtimes/100....   \n",
       "29         tt0071562                                                 []   \n",
       "...              ...                                                ...   \n",
       "980        tt0053604  [http://i.media-imdb.com/images/showtimes/100....   \n",
       "981        tt0053604  [http://i.media-imdb.com/images/SF8104186305d9...   \n",
       "982        tt0053604  [http://i.media-imdb.com/images/showtimes/100....   \n",
       "983        tt0053604                                                 []   \n",
       "984        tt0053604  [http://i.media-imdb.com/images/showtimes/100....   \n",
       "985        tt0053604                                                 []   \n",
       "986        tt0053604  [http://i.media-imdb.com/images/showtimes/90.gif]   \n",
       "987        tt0053604                                                 []   \n",
       "988        tt0053604  [http://i.media-imdb.com/images/showtimes/100....   \n",
       "989        tt0053604                                                 []   \n",
       "990        tt0042876  [/rd/?q=50703000000030a090f29616f226e276966600...   \n",
       "991        tt0042876  [http://i.media-imdb.com/images/SF8104186305d9...   \n",
       "992        tt0042876  [http://i.media-imdb.com/images/showtimes/100....   \n",
       "993        tt0042876                                                 []   \n",
       "994        tt0042876  [http://i.media-imdb.com/images/showtimes/100....   \n",
       "995        tt0042876                                                 []   \n",
       "996        tt0042876  [http://i.media-imdb.com/images/showtimes/90.gif]   \n",
       "997        tt0042876                                                 []   \n",
       "998        tt0042876  [http://i.media-imdb.com/images/showtimes/80.gif]   \n",
       "999        tt0042876                                                 []   \n",
       "1000       tt0097576  [http://i.media-imdb.com/images/showtimes/100....   \n",
       "1001       tt0097576  [http://i.media-imdb.com/images/SF8104186305d9...   \n",
       "1002       tt0097576  [http://i.media-imdb.com/images/showtimes/100....   \n",
       "1003       tt0097576                                                 []   \n",
       "1004       tt0097576  [http://i.media-imdb.com/images/showtimes/100....   \n",
       "1005       tt0097576                                                 []   \n",
       "1006       tt0097576                                                 []   \n",
       "1007       tt0097576                                                 []   \n",
       "1008       tt0097576  [http://i.media-imdb.com/images/showtimes/100....   \n",
       "1009       tt0097576                                                 []   \n",
       "\n",
       "                                                 Review  \n",
       "0     \\nWhy do I want to write the 234th comment on ...  \n",
       "1     \\n\\nCan Hollywood, usually creating things for...  \n",
       "2     \\n\\nI have never seen such an amazing film sin...  \n",
       "3     \\nIn its Oscar year, Shawshank Redemption (wri...  \n",
       "4     \\nThe reason I became a member of this databas...  \n",
       "5     \\n\\nI believe that this film is the best story...  \n",
       "6     \\n\\nOne of my all time favorites. Shawshank Re...  \n",
       "7     \\n\\nOne of the finest films made in recent yea...  \n",
       "8     \\nMisery and Stand By Me were the best adaptat...  \n",
       "9     \\n\\nThe Shawshank Redemption is without a doub...  \n",
       "10    \\nRather than concentrating on everything that...  \n",
       "11    \\n\\nThis is by far the best movie ever to give...  \n",
       "12    \\n\\nThe Godfather is one of the few films in w...  \n",
       "13    \\n\\n     This movie is strong, good script, gr...  \n",
       "14    \\n\\nThe Godfather is one of the very few films...  \n",
       "15    \\nThis is a masterpiece. A timeless masterpiec...  \n",
       "16    \\nThis must rank as the best film (along with ...  \n",
       "17    \\n'The Godfather' is the pinnacle of flawless ...  \n",
       "18    \\nI love this movie and all of the GF movies. ...  \n",
       "19    \\nThe godfather trilogy is an exclusive set of...  \n",
       "20    \\n\\nThis movie is way to be good to be labelle...  \n",
       "21    \\n\\nThe original Godfather is a brilliant work...  \n",
       "22    \\n\\nYou can count on one hand the movie sequel...  \n",
       "23    \\n\\nThe Godfather Part 2 is the finest sequel ...  \n",
       "24    \\nCoppola's masterpiece is rivaled only by \"Th...  \n",
       "25                       \\nThe Godfather Part II (1974)  \n",
       "26    \\nSeries note: It is almost unthinkable to wat...  \n",
       "27    \\n\\nAfter seeing The Godfather and improving i...  \n",
       "28    \\nThe Godfather Part Two is possibly the best ...  \n",
       "29    \\n\\nFrancis Coppola and Mario Puzo continue th...  \n",
       "...                                                 ...  \n",
       "980   \\nOhhh - after my 4th or 5th viewing, I think ...  \n",
       "981   \\n\\nWhat a wonderful way to spend an evening--...  \n",
       "982   \\nWritten by the great filmmaker Billy Wilder,...  \n",
       "983   \\n\\nBilly Wilder knew how to make a great movi...  \n",
       "984   \\n\\nAfter the first time I saw The Apartment, ...  \n",
       "985   \\nOne of the finest examples of smart, satiric...  \n",
       "986                         \\n\\nJack Lemmon is the man.  \n",
       "987   \\nIn the recent biography of Billy Wilder by E...  \n",
       "988   \\nBilly Wilder's \"The Apartment\" is a film whi...  \n",
       "989   \\nA struggling office worker in a giant insura...  \n",
       "990   \\n\\n'People forget the unpleasant things.  The...  \n",
       "991   \\nAkira Kurosawa was one of those directors, t...  \n",
       "992   \\n\"Rashomon\" was Akira Kurosawa's first nation...  \n",
       "993   \\nThis fabulous work was years and years ahead...  \n",
       "994   \\nTo have a film that holds the coveted title ...  \n",
       "995   \\n\"Rashomon\" tells a very simple tale in a ver...  \n",
       "996   \\nAs oppose to its commonplace plot, Rashomon ...  \n",
       "997   \\n\\nThe more I watch and re-watch Kurosawa's f...  \n",
       "998   \\n\"Rashomon\", Akira Kurosawa's 1950 film about...  \n",
       "999   \\n\\nRashomon by Akira is probably one of his v...  \n",
       "1000  \\nIndiana Jones, the man, the legend, the whip...  \n",
       "1001                         \\nRating: **** out of ****  \n",
       "1002  \\n\\nOne thing you gotta say for this series: i...  \n",
       "1003  \\nIndiana Jones And The Last Crusade was, in m...  \n",
       "1004  \\nEverything clicks in this action-packed clif...  \n",
       "1005  \\nWhen the two greatest filmmakers in the worl...  \n",
       "1006  \\nThe second sequel to Raiders of the Lost Ark...  \n",
       "1007  \\n\\n\"Indiana Jones and the Last Crusade\" was s...  \n",
       "1008  \\nIndiana Jones teams up with his father to tr...  \n",
       "1009  \\nAn ideal action-comedy/adventure if there ev...  \n",
       "\n",
       "[1010 rows x 3 columns]"
      ]
     },
     "execution_count": 291,
     "metadata": {},
     "output_type": "execute_result"
    }
   ],
   "source": [
    "reviews"
   ]
  },
  {
   "cell_type": "code",
   "execution_count": 295,
   "metadata": {
    "collapsed": false
   },
   "outputs": [
    {
     "data": {
      "text/plain": [
       "0       [http://i.media-imdb.com/images/showtimes/100....\n",
       "1       [http://i.media-imdb.com/images/SF8104186305d9...\n",
       "2       [http://i.media-imdb.com/images/showtimes/100....\n",
       "3                                                     NaN\n",
       "4                                                     NaN\n",
       "5                                                     NaN\n",
       "6       [http://i.media-imdb.com/images/showtimes/100....\n",
       "7                                                     NaN\n",
       "8                                                     NaN\n",
       "9                                                     NaN\n",
       "10      [http://i.media-imdb.com/images/showtimes/100....\n",
       "11      [http://i.media-imdb.com/images/SF8104186305d9...\n",
       "12      [http://i.media-imdb.com/images/showtimes/100....\n",
       "13                                                    NaN\n",
       "14      [http://i.media-imdb.com/images/showtimes/100....\n",
       "15                                                    NaN\n",
       "16      [http://i.media-imdb.com/images/showtimes/100....\n",
       "17                                                    NaN\n",
       "18      [http://i.media-imdb.com/images/showtimes/90.gif]\n",
       "19                                                    NaN\n",
       "20      [http://i.media-imdb.com/images/showtimes/100....\n",
       "21      [http://i.media-imdb.com/images/SF8104186305d9...\n",
       "22      [http://i.media-imdb.com/images/showtimes/100....\n",
       "23                                                    NaN\n",
       "24      [http://i.media-imdb.com/images/showtimes/100....\n",
       "25                                                    NaN\n",
       "26      [http://i.media-imdb.com/images/showtimes/100....\n",
       "27                                                    NaN\n",
       "28      [http://i.media-imdb.com/images/showtimes/100....\n",
       "29                                                    NaN\n",
       "                              ...                        \n",
       "980     [http://i.media-imdb.com/images/showtimes/100....\n",
       "981     [http://i.media-imdb.com/images/SF8104186305d9...\n",
       "982     [http://i.media-imdb.com/images/showtimes/100....\n",
       "983                                                   NaN\n",
       "984     [http://i.media-imdb.com/images/showtimes/100....\n",
       "985                                                   NaN\n",
       "986     [http://i.media-imdb.com/images/showtimes/90.gif]\n",
       "987                                                   NaN\n",
       "988     [http://i.media-imdb.com/images/showtimes/100....\n",
       "989                                                   NaN\n",
       "990     [/rd/?q=50703000000030a090f29616f226e276966600...\n",
       "991     [http://i.media-imdb.com/images/SF8104186305d9...\n",
       "992     [http://i.media-imdb.com/images/showtimes/100....\n",
       "993                                                   NaN\n",
       "994     [http://i.media-imdb.com/images/showtimes/100....\n",
       "995                                                   NaN\n",
       "996     [http://i.media-imdb.com/images/showtimes/90.gif]\n",
       "997                                                   NaN\n",
       "998     [http://i.media-imdb.com/images/showtimes/80.gif]\n",
       "999                                                   NaN\n",
       "1000    [http://i.media-imdb.com/images/showtimes/100....\n",
       "1001    [http://i.media-imdb.com/images/SF8104186305d9...\n",
       "1002    [http://i.media-imdb.com/images/showtimes/100....\n",
       "1003                                                  NaN\n",
       "1004    [http://i.media-imdb.com/images/showtimes/100....\n",
       "1005                                                  NaN\n",
       "1006                                                  NaN\n",
       "1007                                                  NaN\n",
       "1008    [http://i.media-imdb.com/images/showtimes/100....\n",
       "1009                                                  NaN\n",
       "Name: Ranking, dtype: object"
      ]
     },
     "execution_count": 295,
     "metadata": {},
     "output_type": "execute_result"
    }
   ],
   "source": [
    "reviews.Ranking.apply(lambda x: np.NaN if len(x) == 0 else x)"
   ]
  },
  {
   "cell_type": "markdown",
   "metadata": {},
   "source": [
    "#### 6. Save this merged dataframe as a csv"
   ]
  },
  {
   "cell_type": "code",
   "execution_count": null,
   "metadata": {
    "collapsed": true
   },
   "outputs": [],
   "source": []
  },
  {
   "cell_type": "markdown",
   "metadata": {},
   "source": [
    "---\n",
    "\n",
    "## Part 3: Combine Tables in PostgreSQL"
   ]
  },
  {
   "cell_type": "markdown",
   "metadata": {},
   "source": [
    "#### 1. Import your two .csv data files into your Postgre Database as two different tables"
   ]
  },
  {
   "cell_type": "markdown",
   "metadata": {},
   "source": [
    "For ease, we can call these table1 and table2"
   ]
  },
  {
   "cell_type": "markdown",
   "metadata": {},
   "source": [
    "#### 2. Connect to database and query the joined set"
   ]
  },
  {
   "cell_type": "code",
   "execution_count": null,
   "metadata": {
    "collapsed": true
   },
   "outputs": [],
   "source": []
  },
  {
   "cell_type": "markdown",
   "metadata": {},
   "source": [
    "#### 3. Join the two tables "
   ]
  },
  {
   "cell_type": "code",
   "execution_count": null,
   "metadata": {
    "collapsed": true
   },
   "outputs": [],
   "source": []
  },
  {
   "cell_type": "markdown",
   "metadata": {},
   "source": [
    "#### 4. Select the newly joined table and save two copies of the into dataframes"
   ]
  },
  {
   "cell_type": "code",
   "execution_count": null,
   "metadata": {
    "collapsed": true
   },
   "outputs": [],
   "source": []
  },
  {
   "cell_type": "markdown",
   "metadata": {},
   "source": [
    "---\n",
    "\n",
    "## Part 4: Parsing and Exploratory Data Analysis"
   ]
  },
  {
   "cell_type": "markdown",
   "metadata": {},
   "source": [
    "#### 1. Rename any columns you think should be renamed for clarity"
   ]
  },
  {
   "cell_type": "code",
   "execution_count": null,
   "metadata": {
    "collapsed": true
   },
   "outputs": [],
   "source": []
  },
  {
   "cell_type": "markdown",
   "metadata": {},
   "source": [
    "#### 2. Describe anything interesting or suspicious about your data (quality assurance)"
   ]
  },
  {
   "cell_type": "code",
   "execution_count": null,
   "metadata": {
    "collapsed": true
   },
   "outputs": [],
   "source": []
  },
  {
   "cell_type": "markdown",
   "metadata": {
    "collapsed": true
   },
   "source": [
    "#### 3. Make four visualizations of interest to you using the data"
   ]
  },
  {
   "cell_type": "code",
   "execution_count": null,
   "metadata": {
    "collapsed": true
   },
   "outputs": [],
   "source": []
  },
  {
   "cell_type": "markdown",
   "metadata": {},
   "source": [
    "---\n",
    "\n",
    "## Part 5: Decision Tree Classifiers and Regressors"
   ]
  },
  {
   "cell_type": "markdown",
   "metadata": {
    "collapsed": true
   },
   "source": [
    "#### 1. What is our target attribute? \n",
    "\n",
    "Choose a target variable for the decision tree regressor and the classifier. "
   ]
  },
  {
   "cell_type": "markdown",
   "metadata": {},
   "source": []
  },
  {
   "cell_type": "markdown",
   "metadata": {},
   "source": [
    "#### 2. Prepare the X and Y matrices and preprocess data as you see fit"
   ]
  },
  {
   "cell_type": "code",
   "execution_count": null,
   "metadata": {
    "collapsed": false
   },
   "outputs": [],
   "source": []
  },
  {
   "cell_type": "markdown",
   "metadata": {},
   "source": [
    "#### 3. Build and cross-validate your decision tree classifier"
   ]
  },
  {
   "cell_type": "code",
   "execution_count": null,
   "metadata": {
    "collapsed": true
   },
   "outputs": [],
   "source": []
  },
  {
   "cell_type": "markdown",
   "metadata": {},
   "source": [
    "#### 4. Gridsearch optimal parameters for your classifier. Does the performance improve?"
   ]
  },
  {
   "cell_type": "code",
   "execution_count": null,
   "metadata": {
    "collapsed": true
   },
   "outputs": [],
   "source": []
  },
  {
   "cell_type": "markdown",
   "metadata": {},
   "source": [
    "#### 5. Build and cross-validate your decision tree regressor"
   ]
  },
  {
   "cell_type": "code",
   "execution_count": null,
   "metadata": {
    "collapsed": true
   },
   "outputs": [],
   "source": []
  },
  {
   "cell_type": "markdown",
   "metadata": {},
   "source": [
    "#### 6. Gridsearch the optimal parameters for your classifier. Does performance improve?"
   ]
  },
  {
   "cell_type": "code",
   "execution_count": null,
   "metadata": {
    "collapsed": true
   },
   "outputs": [],
   "source": []
  },
  {
   "cell_type": "markdown",
   "metadata": {},
   "source": [
    "---\n",
    "\n",
    "## Part 6: Elastic Net\n"
   ]
  },
  {
   "cell_type": "markdown",
   "metadata": {},
   "source": [
    "#### 1. Gridsearch optimal parameters for an ElasticNet using the regression target and predictors you used for the decision tree regressor.\n"
   ]
  },
  {
   "cell_type": "code",
   "execution_count": null,
   "metadata": {
    "collapsed": true
   },
   "outputs": [],
   "source": []
  },
  {
   "cell_type": "markdown",
   "metadata": {},
   "source": [
    "#### 2. Is cross-validated performance better or worse than with the decision trees? "
   ]
  },
  {
   "cell_type": "code",
   "execution_count": null,
   "metadata": {
    "collapsed": true
   },
   "outputs": [],
   "source": []
  },
  {
   "cell_type": "markdown",
   "metadata": {},
   "source": [
    "#### 3. Explain why the elastic net may have performed best at that particular l1_ratio and alpha"
   ]
  },
  {
   "cell_type": "code",
   "execution_count": null,
   "metadata": {
    "collapsed": true
   },
   "outputs": [],
   "source": []
  },
  {
   "cell_type": "markdown",
   "metadata": {},
   "source": [
    "---\n",
    "\n",
    "## Part 7: Bagging and Boosting: Random Forests, Extra Trees, and AdaBoost"
   ]
  },
  {
   "cell_type": "markdown",
   "metadata": {},
   "source": [
    "#### 1. Load the random forest regressor, extra trees regressor, and adaboost regressor from sklearn"
   ]
  },
  {
   "cell_type": "code",
   "execution_count": null,
   "metadata": {
    "collapsed": true
   },
   "outputs": [],
   "source": [
    "from sklearn import "
   ]
  },
  {
   "cell_type": "markdown",
   "metadata": {},
   "source": [
    "#### 2. Gridsearch optimal parameters for the three different ensemble methods."
   ]
  },
  {
   "cell_type": "code",
   "execution_count": null,
   "metadata": {
    "collapsed": true
   },
   "outputs": [],
   "source": []
  },
  {
   "cell_type": "markdown",
   "metadata": {},
   "source": [
    "#### 3. Evaluate the performance of the two bagging and one boosting model. Which performs best?"
   ]
  },
  {
   "cell_type": "code",
   "execution_count": null,
   "metadata": {
    "collapsed": true
   },
   "outputs": [],
   "source": []
  },
  {
   "cell_type": "markdown",
   "metadata": {},
   "source": [
    "#### 4. Extract the feature importances from the Random Forest regressor and make a DataFrame pairing variable names with their variable importances."
   ]
  },
  {
   "cell_type": "code",
   "execution_count": null,
   "metadata": {
    "collapsed": true
   },
   "outputs": [],
   "source": []
  },
  {
   "cell_type": "markdown",
   "metadata": {},
   "source": [
    "#### 5. Plot the ranked feature importances."
   ]
  },
  {
   "cell_type": "code",
   "execution_count": null,
   "metadata": {
    "collapsed": true
   },
   "outputs": [],
   "source": []
  },
  {
   "cell_type": "markdown",
   "metadata": {},
   "source": [
    "#### 6.1 [BONUS] Gridsearch an optimal Lasso model and use it for variable selection (make a new predictor matrix with only the variables not zeroed out by the Lasso). "
   ]
  },
  {
   "cell_type": "code",
   "execution_count": null,
   "metadata": {
    "collapsed": true
   },
   "outputs": [],
   "source": []
  },
  {
   "cell_type": "markdown",
   "metadata": {},
   "source": [
    "#### 6.2 [BONUS] Gridsearch your best performing bagging/boosting model from above with the features retained after the Lasso. Does the score improve?"
   ]
  },
  {
   "cell_type": "code",
   "execution_count": null,
   "metadata": {
    "collapsed": true
   },
   "outputs": [],
   "source": []
  },
  {
   "cell_type": "markdown",
   "metadata": {},
   "source": [
    "#### 7.1. [BONUS] Select a threshold for variable importance from your Random Forest regressor and use that to perform feature selection, creating a new subset predictor matrix."
   ]
  },
  {
   "cell_type": "code",
   "execution_count": null,
   "metadata": {
    "collapsed": true
   },
   "outputs": [],
   "source": []
  },
  {
   "cell_type": "markdown",
   "metadata": {},
   "source": [
    "#### 7.2 [BONUS] Using BaggingRegressor with a base estimator of your choice, test a model using the feature-selected dataset you made in 7.1"
   ]
  },
  {
   "cell_type": "code",
   "execution_count": null,
   "metadata": {
    "collapsed": true
   },
   "outputs": [],
   "source": []
  },
  {
   "cell_type": "markdown",
   "metadata": {},
   "source": [
    "---\n",
    "\n",
    "## [VERY BONUS] Part 8: PCA"
   ]
  },
  {
   "cell_type": "markdown",
   "metadata": {},
   "source": [
    "#### 1. Perform a PCA on your predictor matrix"
   ]
  },
  {
   "cell_type": "code",
   "execution_count": null,
   "metadata": {
    "collapsed": true
   },
   "outputs": [],
   "source": []
  },
  {
   "cell_type": "markdown",
   "metadata": {},
   "source": [
    "#### 2. Examine the variance explained and determine what components you want to keep based on them."
   ]
  },
  {
   "cell_type": "code",
   "execution_count": null,
   "metadata": {
    "collapsed": true
   },
   "outputs": [],
   "source": []
  },
  {
   "cell_type": "markdown",
   "metadata": {},
   "source": [
    "#### 3. Plot the cumulative variance explained by the ordered principal components."
   ]
  },
  {
   "cell_type": "code",
   "execution_count": null,
   "metadata": {
    "collapsed": true
   },
   "outputs": [],
   "source": []
  },
  {
   "cell_type": "markdown",
   "metadata": {},
   "source": [
    "#### 4. Gridsearch an elastic net using the principal components you selected as your predictors. Does this perform better than the elastic net you fit earlier?"
   ]
  },
  {
   "cell_type": "code",
   "execution_count": null,
   "metadata": {
    "collapsed": true
   },
   "outputs": [],
   "source": []
  },
  {
   "cell_type": "markdown",
   "metadata": {},
   "source": [
    "#### 5. Gridsearch a bagging ensemble estimator that you fit before, this time using the principal components as predictors. Does this perform better or worse than the original? "
   ]
  },
  {
   "cell_type": "code",
   "execution_count": null,
   "metadata": {
    "collapsed": true
   },
   "outputs": [],
   "source": []
  },
  {
   "cell_type": "markdown",
   "metadata": {},
   "source": [
    "#### 6. Look at the loadings of the original predictor columns on the first 3 principal components. Is there any kind of intuitive meaning here?\n",
    "\n",
    "Hint, you will probably want to sort by absolute value of magnitude of loading, and also only look at the obviously important (larger) ones!"
   ]
  },
  {
   "cell_type": "code",
   "execution_count": null,
   "metadata": {
    "collapsed": true
   },
   "outputs": [],
   "source": []
  },
  {
   "cell_type": "markdown",
   "metadata": {},
   "source": [
    "# [Extremely Bonus] Part 9:  Clustering\n",
    "\n",
    "![](https://snag.gy/jPSZ6U.jpg)\n",
    "\n",
    " ***Bonus Bonus:***\n",
    "This extended bonus question is asking to do something we never really talked about but would like for you to attempt based on the assumptions that we learned during this weeks clustering lesson(s)."
   ]
  },
  {
   "cell_type": "markdown",
   "metadata": {},
   "source": [
    "#### 1. Import your favorite clustering module"
   ]
  },
  {
   "cell_type": "code",
   "execution_count": null,
   "metadata": {
    "collapsed": true
   },
   "outputs": [],
   "source": []
  },
  {
   "cell_type": "markdown",
   "metadata": {},
   "source": [
    "#### 2. Encode categoricals"
   ]
  },
  {
   "cell_type": "code",
   "execution_count": null,
   "metadata": {
    "collapsed": true
   },
   "outputs": [],
   "source": []
  },
  {
   "cell_type": "markdown",
   "metadata": {},
   "source": [
    "#### 3. Evaluate cluster metics solely based on a range of K\n",
    "If K-Means:  SSE/Inertia vs Silhouette (ie: Elbow), silhouette average, etc"
   ]
  },
  {
   "cell_type": "code",
   "execution_count": null,
   "metadata": {
    "collapsed": true
   },
   "outputs": [],
   "source": []
  },
  {
   "cell_type": "markdown",
   "metadata": {},
   "source": [
    "#### 4.  Look at your data based on the subset of your predicted clusters.\n",
    "Assign the cluster predictions back to your dataframe in order to see them in context.  This is great to be able to group by cluster to get a sense of the data that clumped together."
   ]
  },
  {
   "cell_type": "code",
   "execution_count": null,
   "metadata": {
    "collapsed": true
   },
   "outputs": [],
   "source": []
  },
  {
   "cell_type": "markdown",
   "metadata": {},
   "source": [
    "#### 5. Describe your findings based on the predicted clusters \n",
    "_How well did it do?  What's good or bad?  How would you improve this? Does any of it make sense?_"
   ]
  },
  {
   "cell_type": "code",
   "execution_count": null,
   "metadata": {
    "collapsed": true
   },
   "outputs": [],
   "source": []
  }
 ],
 "metadata": {
  "kernelspec": {
   "display_name": "Python 2",
   "language": "python",
   "name": "python2"
  },
  "language_info": {
   "codemirror_mode": {
    "name": "ipython",
    "version": 2
   },
   "file_extension": ".py",
   "mimetype": "text/x-python",
   "name": "python",
   "nbconvert_exporter": "python",
   "pygments_lexer": "ipython2",
   "version": "2.7.11"
  },
  "widgets": {
   "state": {},
   "version": "1.1.0"
  }
 },
 "nbformat": 4,
 "nbformat_minor": 0
}
